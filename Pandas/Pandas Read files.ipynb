{
 "cells": [
  {
   "attachments": {},
   "cell_type": "markdown",
   "id": "167aa51b",
   "metadata": {},
   "source": [
    "# Pandas\n",
    "\n",
    "- only package for data activities\n",
    "- read and write the data\n",
    "- data manipulations (insert, delete, replace)\n",
    "- joins and concat\n",
    "- shape\n",
    "- names of columns\n",
    "- row names , index\n",
    "- slicing\n",
    "- query - filter\n",
    "- information and describe\n",
    "- na values"
   ]
  },
  {
   "cell_type": "markdown",
   "id": "016fa316",
   "metadata": {},
   "source": [
    "# read the dataset"
   ]
  },
  {
   "cell_type": "code",
   "execution_count": null,
   "id": "65db60d7",
   "metadata": {},
   "outputs": [],
   "source": []
  },
  {
   "cell_type": "code",
   "execution_count": 4,
   "id": "723c6a96",
   "metadata": {},
   "outputs": [
    {
     "name": "stdout",
     "output_type": "stream",
     "text": [
      "Squareroot -> 7.0710678118654755\n",
      "Log -> 3.912023005428146\n",
      "Sin -> -0.26237485370392877\n",
      "Squareroot -> 7.0710678118654755\n",
      "Log -> 3.912023005428146\n",
      "Sin -> -0.26237485370392877\n"
     ]
    }
   ],
   "source": [
    "import math\n",
    "\n",
    "num = 50\n",
    "print( f\"Squareroot -> {math.sqrt(num)}\" )\n",
    "print( f\"Log -> {math.log(num)}\" )\n",
    "print( f\"Sin -> {math.sin(num)}\" )\n",
    "\n",
    "import math as mm\n",
    "\n",
    "num = 50\n",
    "print( f\"Squareroot -> {mm.sqrt(num)}\" )\n",
    "print( f\"Log -> {mm.log(num)}\" )\n",
    "print( f\"Sin -> {mm.sin(num)}\" )\n",
    "\n",
    "\n"
   ]
  },
  {
   "cell_type": "code",
   "execution_count": 5,
   "id": "ab45e7d9",
   "metadata": {},
   "outputs": [],
   "source": [
    "import numpy as np\n",
    "import pandas as pd"
   ]
  },
  {
   "cell_type": "markdown",
   "id": "5d72606f",
   "metadata": {},
   "source": [
    "# \n",
    "\n",
    "Table = tabular data , dataframe , 2D structure having rows and columns\n",
    "\n",
    "Columns - verticals, features, measures, variables\n",
    "\n",
    "Rows - index, records, populations, samples, enteries\n"
   ]
  },
  {
   "cell_type": "markdown",
   "id": "a7811b81",
   "metadata": {},
   "source": [
    "## Dataframe (df, dfName) : \n",
    "- 2D structure having rows and columns\n",
    "\n",
    "    c1 c2 c3\n",
    "1   a   b  c\n",
    "2   d   e  f\n",
    "3   g   h  i\n",
    "\n",
    "\n",
    "    c1 c2 c3\n",
    "1   a   b  c\n",
    "3   g   h  i\n",
    "\n",
    "     c3\n",
    "1     c\n",
    "2     f\n",
    "3     i\n",
    "\n",
    "\n",
    "## Series (ss, sr, seriesName) : \n",
    "- 1D structure having either a row or a column\n",
    "- \n",
    "\n",
    "    c1 c2 c3\n",
    "1   a   b  c\n",
    "2   d   e  f\n",
    "3   g   h  i\n",
    "\n",
    "series : a b  c , b e h .... \n"
   ]
  },
  {
   "cell_type": "code",
   "execution_count": null,
   "id": "551e55c8",
   "metadata": {},
   "outputs": [],
   "source": []
  },
  {
   "cell_type": "code",
   "execution_count": null,
   "id": "5b8773c0",
   "metadata": {},
   "outputs": [],
   "source": []
  },
  {
   "cell_type": "code",
   "execution_count": null,
   "id": "2fdc7d56",
   "metadata": {},
   "outputs": [],
   "source": []
  },
  {
   "cell_type": "markdown",
   "id": "6ed6dd83",
   "metadata": {},
   "source": [
    "### Read the CSV files\n",
    "\n",
    "- flat files (don't support formatting) [csv, tsv, dsv , txt, .... ]\n",
    "- single sheet \n",
    "- seperation (comma(,), semicolon(;), slash(\\), tab(\\t), space( ), hiphen(-))\n",
    "- any file without extension or with some very different extrension\n"
   ]
  },
  {
   "cell_type": "code",
   "execution_count": 16,
   "id": "7648f706",
   "metadata": {},
   "outputs": [
    {
     "name": "stdout",
     "output_type": "stream",
     "text": [
      "Shape of the Dataset -> (105, 5)\n",
      "  experience  job_desig   location  salary  placement_count\n",
      "0    2-4 yrs  Analytics     Mumbai   6to10             4479\n",
      "1   5-10 yrs  Analytics  Delhi NCR   6to10             1969\n",
      "2    3-8 yrs     Growth     Mumbai  15to25             3319\n",
      "3    2-6 yrs  Analytics  Bengaluru   6to10              330\n",
      "4    6-8 yrs  Analytics  Delhi NCR  25to50             2665\n"
     ]
    }
   ],
   "source": [
    "# Read the csv file\n",
    "path = \"data.csv\"\n",
    "df_csv = pd.read_csv( path )\n",
    "print(f\"Shape of the Dataset -> {df_csv.shape}\")\n",
    "\n",
    "print( df_csv.head() ) #read thr top 5 records\n"
   ]
  },
  {
   "cell_type": "code",
   "execution_count": 10,
   "id": "d34a837f",
   "metadata": {},
   "outputs": [
    {
     "name": "stdout",
     "output_type": "stream",
     "text": [
      "   ProductID                                        ProductName ProductBrand\n",
      "0   10017413  DKNY Unisex Black & Grey Printed Medium Trolle...         DKNY\n",
      "1   10016283  EthnoVogue Women Beige & Grey Made to Measure ...   EthnoVogue\n",
      "2   10009781  SPYKAR Women Pink Alexa Super Skinny Fit High-...       SPYKAR\n",
      "3   10015921  Raymond Men Blue Self-Design Single-Breasted B...      Raymond\n",
      "4   10017833  Parx Men Brown & Off-White Slim Fit Printed Ca...         Parx\n"
     ]
    }
   ],
   "source": [
    "path = r\"C:\\Users\\Nitish\\Desktop\\PP\\product details.csv\"\n",
    "df_csv = pd.read_csv( path )\n",
    "print( df_csv.head() ) #read thr top 5 records\n"
   ]
  },
  {
   "cell_type": "code",
   "execution_count": null,
   "id": "34d43ae2",
   "metadata": {},
   "outputs": [],
   "source": []
  },
  {
   "cell_type": "code",
   "execution_count": 20,
   "id": "6ccf1818",
   "metadata": {},
   "outputs": [
    {
     "name": "stdout",
     "output_type": "stream",
     "text": [
      "Shape of the Dataset -> (105, 1)\n",
      "  experience,job_desig,location,salary,placement_count\n",
      "0                2-4 yrs,Analytics,Mumbai,6to10,4479  \n",
      "1            5-10 yrs,Analytics,Delhi NCR,6to10,1969  \n",
      "2                  3-8 yrs,Growth,Mumbai,15to25,3319  \n",
      "3              2-6 yrs,Analytics,Bengaluru,6to10,330  \n",
      "4            6-8 yrs,Analytics,Delhi NCR,25to50,2665  \n"
     ]
    }
   ],
   "source": [
    "# Read the csv file with seperator\n",
    "path = \"data.csv\"\n",
    "df_csv = pd.read_csv( path, sep = \";\" )\n",
    "print(f\"Shape of the Dataset -> {df_csv.shape}\")\n",
    "\n",
    "print( df_csv.head() ) #read thr top 5 records\n"
   ]
  },
  {
   "cell_type": "code",
   "execution_count": 21,
   "id": "b00f1e5c",
   "metadata": {},
   "outputs": [
    {
     "name": "stdout",
     "output_type": "stream",
     "text": [
      "Shape of the Dataset -> (105, 1)\n",
      "  experience,job_desig,location,salary,placement_count\n",
      "0                2-4 yrs,Analytics,Mumbai,6to10,4479  \n",
      "1            5-10 yrs,Analytics,Delhi NCR,6to10,1969  \n",
      "2                  3-8 yrs,Growth,Mumbai,15to25,3319  \n",
      "3              2-6 yrs,Analytics,Bengaluru,6to10,330  \n",
      "4            6-8 yrs,Analytics,Delhi NCR,25to50,2665  \n"
     ]
    }
   ],
   "source": [
    "# Read the csv file with seperator\n",
    "path = \"data.csv\"\n",
    "df_csv = pd.read_csv( path, sep = \"\\t\" )\n",
    "print(f\"Shape of the Dataset -> {df_csv.shape}\")\n",
    "\n",
    "print( df_csv.head() ) #read thr top 5 records\n"
   ]
  },
  {
   "cell_type": "code",
   "execution_count": 24,
   "id": "6a4b1723",
   "metadata": {},
   "outputs": [
    {
     "name": "stdout",
     "output_type": "stream",
     "text": [
      "Shape of the Dataset -> (105, 5)\n",
      "  experience  job_desig   location  salary  placement_count\n",
      "0    2-4 yrs  Analytics     Mumbai   6to10             4479\n",
      "1   5-10 yrs  Analytics  Delhi NCR   6to10             1969\n",
      "2    3-8 yrs     Growth     Mumbai  15to25             3319\n",
      "3    2-6 yrs  Analytics  Bengaluru   6to10              330\n",
      "4    6-8 yrs  Analytics  Delhi NCR  25to50             2665\n"
     ]
    }
   ],
   "source": [
    "# Read the csv file with seperator\n",
    "path = \"data.csv\"\n",
    "df_csv = pd.read_csv( path, sep = \",\" )\n",
    "print(f\"Shape of the Dataset -> {df_csv.shape}\")\n",
    "\n",
    "print( df_csv.head() ) #read thr top 5 records\n"
   ]
  },
  {
   "cell_type": "code",
   "execution_count": 32,
   "id": "b5bd1ec8",
   "metadata": {},
   "outputs": [
    {
     "name": "stdout",
     "output_type": "stream",
     "text": [
      "Shape of the Dataset -> (105, 5)\n",
      "  experience  job_desig   location  salary  placement_count\n",
      "0    2-4 yrs  Analytics     Mumbai   6to10             4479\n",
      "1   5-10 yrs  Analytics  Delhi NCR   6to10             1969\n",
      "2    3-8 yrs     Growth     Mumbai  15to25             3319\n",
      "3    2-6 yrs  Analytics  Bengaluru   6to10              330\n",
      "4    6-8 yrs  Analytics  Delhi NCR  25to50             2665\n"
     ]
    }
   ],
   "source": [
    "# Read the csv file with header\n",
    "# header - column name\n",
    "\n",
    "path = \"data.csv\"\n",
    "df_csv = pd.read_csv( path )\n",
    "print(f\"Shape of the Dataset -> {df_csv.shape}\")\n",
    "\n",
    "print( df_csv.head() ) #read thr top 5 records\n"
   ]
  },
  {
   "cell_type": "code",
   "execution_count": 35,
   "id": "02883609",
   "metadata": {},
   "outputs": [
    {
     "name": "stdout",
     "output_type": "stream",
     "text": [
      "Shape of the Dataset -> (106, 5)\n",
      "            A          B          X       T                Z\n",
      "0  experience  job_desig   location  salary  placement_count\n",
      "1     2-4 yrs  Analytics     Mumbai   6to10             4479\n",
      "2    5-10 yrs  Analytics  Delhi NCR   6to10             1969\n",
      "3     3-8 yrs     Growth     Mumbai  15to25             3319\n",
      "4     2-6 yrs  Analytics  Bengaluru   6to10              330\n"
     ]
    }
   ],
   "source": [
    "# Read the csv file with header\n",
    "# header - column name\n",
    "\n",
    "path = \"data.csv\"\n",
    "df_csv = pd.read_csv( path, names = [\"A\", \"B\", \"X\", \"T\", \"Z\"] )\n",
    "print(f\"Shape of the Dataset -> {df_csv.shape}\")\n",
    "\n",
    "print( df_csv.head() ) #read thr top 5 records\n"
   ]
  },
  {
   "cell_type": "code",
   "execution_count": 29,
   "id": "99b382e0",
   "metadata": {},
   "outputs": [
    {
     "name": "stdout",
     "output_type": "stream",
     "text": [
      "Shape of the Dataset -> (105, 5)\n",
      "          0          1          2       3     4\n",
      "0   2-4 yrs  Analytics     Mumbai   6to10  4479\n",
      "1  5-10 yrs  Analytics  Delhi NCR   6to10  1969\n",
      "2   3-8 yrs     Growth     Mumbai  15to25  3319\n",
      "3   2-6 yrs  Analytics  Bengaluru   6to10   330\n",
      "4   6-8 yrs  Analytics  Delhi NCR  25to50  2665\n"
     ]
    }
   ],
   "source": [
    "# Read the csv file without header\n",
    "# header - column name\n",
    "\n",
    "path = \"data_headerLess.csv\"\n",
    "df_csv = pd.read_csv( path, header=None )\n",
    "print(f\"Shape of the Dataset -> {df_csv.shape}\")\n",
    "\n",
    "print( df_csv.head() ) #read thr top 5 records\n"
   ]
  },
  {
   "cell_type": "code",
   "execution_count": 31,
   "id": "6e6f48a9",
   "metadata": {},
   "outputs": [
    {
     "name": "stdout",
     "output_type": "stream",
     "text": [
      "Shape of the Dataset -> (105, 5)\n",
      "          A          B          X       T     Z\n",
      "0   2-4 yrs  Analytics     Mumbai   6to10  4479\n",
      "1  5-10 yrs  Analytics  Delhi NCR   6to10  1969\n",
      "2   3-8 yrs     Growth     Mumbai  15to25  3319\n",
      "3   2-6 yrs  Analytics  Bengaluru   6to10   330\n",
      "4   6-8 yrs  Analytics  Delhi NCR  25to50  2665\n"
     ]
    }
   ],
   "source": [
    "# Read the csv file without header but with names given\n",
    "# header - column name\n",
    "\n",
    "path = \"data_headerLess.csv\"\n",
    "df_csv = pd.read_csv( path, header=None, names = [\"A\", \"B\", \"X\", \"T\", \"Z\"] )\n",
    "print(f\"Shape of the Dataset -> {df_csv.shape}\")\n",
    "\n",
    "print( df_csv.head() ) #read thr top 5 records\n"
   ]
  },
  {
   "cell_type": "code",
   "execution_count": null,
   "id": "37faf175",
   "metadata": {},
   "outputs": [],
   "source": []
  },
  {
   "cell_type": "code",
   "execution_count": 36,
   "id": "f59f847e",
   "metadata": {},
   "outputs": [
    {
     "name": "stdout",
     "output_type": "stream",
     "text": [
      "Shape of the Dataset -> (111, 5)\n",
      "      Naqme Unnamed: 1 Unnamed: 2 Unnamed: 3 Unnamed: 4\n",
      "0  Accoount        NaN        NaN        NaN        NaN\n",
      "1   Address        NaN        NaN        NaN        NaN\n",
      "2     Email        NaN        NaN        NaN        NaN\n",
      "3         .        NaN        NaN        NaN        NaN\n",
      "4         .        NaN        NaN        NaN        NaN\n"
     ]
    }
   ],
   "source": [
    "# Read the csv file with skip\n",
    "# skip the records\n",
    "\n",
    "path = \"data_skip.csv\"\n",
    "df_csv = pd.read_csv( path )\n",
    "print(f\"Shape of the Dataset -> {df_csv.shape}\")\n",
    "\n",
    "print( df_csv.head() ) #read thr top 5 records\n"
   ]
  },
  {
   "cell_type": "markdown",
   "id": "3d774d4e",
   "metadata": {},
   "source": [
    "Unnamed: 1 : There is no column name at position 1\n",
    "\n",
    "Unnamed: 4 : There is no column name at position 4\n"
   ]
  },
  {
   "cell_type": "code",
   "execution_count": 37,
   "id": "12de5145",
   "metadata": {},
   "outputs": [
    {
     "name": "stdout",
     "output_type": "stream",
     "text": [
      "Shape of the Dataset -> (105, 5)\n",
      "  experience  job_desig   location  salary  placement_count\n",
      "0    2-4 yrs  Analytics     Mumbai   6to10             4479\n",
      "1   5-10 yrs  Analytics  Delhi NCR   6to10             1969\n",
      "2    3-8 yrs     Growth     Mumbai  15to25             3319\n",
      "3    2-6 yrs  Analytics  Bengaluru   6to10              330\n",
      "4    6-8 yrs  Analytics  Delhi NCR  25to50             2665\n"
     ]
    }
   ],
   "source": [
    "# Read the csv file with skip\n",
    "# skip the records\n",
    "\n",
    "path = \"data_skip.csv\"\n",
    "df_csv = pd.read_csv( path, skiprows=6 )\n",
    "print(f\"Shape of the Dataset -> {df_csv.shape}\")\n",
    "\n",
    "print( df_csv.head() ) #read thr top 5 records\n"
   ]
  },
  {
   "cell_type": "code",
   "execution_count": null,
   "id": "2edd6dce",
   "metadata": {},
   "outputs": [],
   "source": []
  },
  {
   "cell_type": "code",
   "execution_count": 39,
   "id": "e190c7b8",
   "metadata": {},
   "outputs": [
    {
     "name": "stdout",
     "output_type": "stream",
     "text": [
      "Shape of the Dataset -> (107, 9)\n",
      "   experience  Unnamed: 1  Unnamed: 2  Unnamed: 3  Unnamed: 4  job_desig  \\\n",
      "0         NaN         NaN         NaN         NaN         NaN        NaN   \n",
      "1  experience         NaN         NaN         NaN         NaN  job_desig   \n",
      "2     2-4 yrs         NaN         NaN         NaN         NaN  Analytics   \n",
      "3    5-10 yrs         NaN         NaN         NaN         NaN  Analytics   \n",
      "4     3-8 yrs         NaN         NaN         NaN         NaN     Growth   \n",
      "\n",
      "    location  salary  placement_count  \n",
      "0        NaN     NaN              NaN  \n",
      "1   location  salary  placement_count  \n",
      "2     Mumbai   6to10             4479  \n",
      "3  Delhi NCR   6to10             1969  \n",
      "4     Mumbai  15to25             3319  \n"
     ]
    }
   ],
   "source": [
    "# Read the csv file with skip\n",
    "# skip the records\n",
    "\n",
    "path = \"data_skipcolumn.csv\"\n",
    "df_csv = pd.read_csv( path)\n",
    "print(f\"Shape of the Dataset -> {df_csv.shape}\")\n",
    "\n",
    "print( df_csv.head() ) #read thr top 5 records\n"
   ]
  },
  {
   "cell_type": "code",
   "execution_count": null,
   "id": "a524aee9",
   "metadata": {},
   "outputs": [],
   "source": []
  },
  {
   "cell_type": "code",
   "execution_count": 40,
   "id": "77d58234",
   "metadata": {},
   "outputs": [
    {
     "name": "stdout",
     "output_type": "stream",
     "text": [
      "Shape of the Dataset -> (105, 2)\n",
      "   job_desig   location\n",
      "0  Analytics     Mumbai\n",
      "1  Analytics  Delhi NCR\n",
      "2     Growth     Mumbai\n",
      "3  Analytics  Bengaluru\n",
      "4  Analytics  Delhi NCR\n"
     ]
    }
   ],
   "source": [
    "# reading the speicific Data (YOU KNOW WHAT WE NEED...)\n",
    "\n",
    "path = \"data.csv\"\n",
    "df_csv = pd.read_csv( path, usecols = [\"location\", \"job_desig\"])\n",
    "print(f\"Shape of the Dataset -> {df_csv.shape}\")\n",
    "\n",
    "print( df_csv.head() ) #read thr top 5 records\n",
    "\n"
   ]
  },
  {
   "cell_type": "code",
   "execution_count": null,
   "id": "1f392bd2",
   "metadata": {},
   "outputs": [],
   "source": []
  },
  {
   "cell_type": "code",
   "execution_count": 44,
   "id": "22470a83",
   "metadata": {},
   "outputs": [
    {
     "name": "stdout",
     "output_type": "stream",
     "text": [
      "['java', 'python', 'ruby', 'pool', 'happy', 'soap', 'delhi']\n",
      "-1\n",
      "0\n",
      "-1\n",
      "0\n",
      "2\n",
      "3\n",
      "-1\n"
     ]
    }
   ],
   "source": [
    "# find out the positions of \"p\" in word...\n",
    "\n",
    "stringName = \"java python ruby pool happy soap delhi\"\n",
    "\n",
    "res = stringName.split(' ')\n",
    "print(res)\n",
    "\n",
    "for word in res : \n",
    "    print( word.find('p') )\n",
    "\n"
   ]
  },
  {
   "cell_type": "code",
   "execution_count": 45,
   "id": "94efd8e7",
   "metadata": {},
   "outputs": [
    {
     "name": "stdout",
     "output_type": "stream",
     "text": [
      "['java', 'python', 'ruby', 'pool', 'happy', 'soap', 'delhi']\n",
      "0\n",
      "0\n",
      "2\n",
      "3\n"
     ]
    }
   ],
   "source": [
    "# find out the positions of \"p\" in word...\n",
    "\n",
    "stringName = \"java python ruby pool happy soap delhi\"\n",
    "\n",
    "res = stringName.split(' ')\n",
    "print(res)\n",
    "\n",
    "for word in res : \n",
    "    if \"p\" in word : \n",
    "        print( word.find('p') )\n",
    "\n"
   ]
  },
  {
   "cell_type": "code",
   "execution_count": null,
   "id": "33da53d2",
   "metadata": {},
   "outputs": [],
   "source": []
  },
  {
   "cell_type": "code",
   "execution_count": 47,
   "id": "7d11c9fe",
   "metadata": {},
   "outputs": [
    {
     "name": "stdout",
     "output_type": "stream",
     "text": [
      "Shape of the Dataset -> (105, 5)\n",
      "  experience  job_desig   location  salary  placement_count\n",
      "0    2-4 yrs  Analytics     Mumbai   6to10             4479\n",
      "1   5-10 yrs  Analytics  Delhi NCR   6to10             1969\n",
      "2    3-8 yrs     Growth     Mumbai  15to25             3319\n",
      "3    2-6 yrs  Analytics  Bengaluru   6to10              330\n",
      "4    6-8 yrs  Analytics  Delhi NCR  25to50             2665\n"
     ]
    }
   ],
   "source": [
    "# SOMETIMES, Encoding you need to check...\n",
    "\n",
    "path = \"data.csv\"\n",
    "df_csv = pd.read_csv( path, encoding=\"utf-8\")\n",
    "print(f\"Shape of the Dataset -> {df_csv.shape}\")\n",
    "\n",
    "print( df_csv.head() ) #read thr top 5 records\n",
    "\n"
   ]
  },
  {
   "cell_type": "code",
   "execution_count": 49,
   "id": "648f402d",
   "metadata": {},
   "outputs": [
    {
     "name": "stdout",
     "output_type": "stream",
     "text": [
      "Shape of the Dataset -> (105, 5)\n",
      "  experience  job_desig   location  salary  placement_count\n",
      "0    2-4 yrs  Analytics     Mumbai   6to10             4479\n",
      "1   5-10 yrs  Analytics  Delhi NCR   6to10             1969\n",
      "2    3-8 yrs     Growth     Mumbai  15to25             3319\n",
      "3    2-6 yrs  Analytics  Bengaluru   6to10              330\n",
      "4    6-8 yrs  Analytics  Delhi NCR  25to50             2665\n"
     ]
    }
   ],
   "source": [
    "# SOMETIMES, Encoding you need to check...\n",
    "\n",
    "path = \"data.csv\"\n",
    "df_csv = pd.read_csv( path, encoding=\"latin\")\n",
    "print(f\"Shape of the Dataset -> {df_csv.shape}\")\n",
    "\n",
    "print( df_csv.head() ) #read thr top 5 records\n",
    "\n"
   ]
  },
  {
   "cell_type": "code",
   "execution_count": null,
   "id": "8549e279",
   "metadata": {},
   "outputs": [],
   "source": []
  },
  {
   "attachments": {
    "Screenshot+2023-01-30+215119.png": {
     "image/png": "[encoded data removed]"
    }
   },
   "cell_type": "markdown",
   "id": "918b0535",
   "metadata": {},
   "source": [
    "![Screenshot+2023-01-30+215119.png](attachment:Screenshot+2023-01-30+215119.png)"
   ]
  },
  {
   "cell_type": "code",
   "execution_count": 50,
   "id": "eb2745bf",
   "metadata": {},
   "outputs": [
    {
     "ename": "UnicodeError",
     "evalue": "UTF-16 stream does not start with BOM",
     "output_type": "error",
     "traceback": [
      "\u001b[1;31m---------------------------------------------------------------------------\u001b[0m",
      "\u001b[1;31mUnicodeError\u001b[0m                              Traceback (most recent call last)",
      "Cell \u001b[1;32mIn[50], line 4\u001b[0m\n\u001b[0;32m      1\u001b[0m \u001b[38;5;66;03m# SOMETIMES, Encoding you need to check...\u001b[39;00m\n\u001b[0;32m      3\u001b[0m path \u001b[38;5;241m=\u001b[39m \u001b[38;5;124m\"\u001b[39m\u001b[38;5;124mdata.csv\u001b[39m\u001b[38;5;124m\"\u001b[39m\n\u001b[1;32m----> 4\u001b[0m df_csv \u001b[38;5;241m=\u001b[39m pd\u001b[38;5;241m.\u001b[39mread_csv( path, encoding\u001b[38;5;241m=\u001b[39m\u001b[38;5;124m\"\u001b[39m\u001b[38;5;124mutf-16\u001b[39m\u001b[38;5;124m\"\u001b[39m)\n\u001b[0;32m      5\u001b[0m \u001b[38;5;28mprint\u001b[39m(\u001b[38;5;124mf\u001b[39m\u001b[38;5;124m\"\u001b[39m\u001b[38;5;124mShape of the Dataset -> \u001b[39m\u001b[38;5;132;01m{\u001b[39;00mdf_csv\u001b[38;5;241m.\u001b[39mshape\u001b[38;5;132;01m}\u001b[39;00m\u001b[38;5;124m\"\u001b[39m)\n\u001b[0;32m      7\u001b[0m \u001b[38;5;28mprint\u001b[39m( df_csv\u001b[38;5;241m.\u001b[39mhead() )\n",
      "File \u001b[1;32mD:\\Programs\\Python\\anaconda\\Lib\\site-packages\\pandas\\io\\parsers\\readers.py:912\u001b[0m, in \u001b[0;36mread_csv\u001b[1;34m(filepath_or_buffer, sep, delimiter, header, names, index_col, usecols, dtype, engine, converters, true_values, false_values, skipinitialspace, skiprows, skipfooter, nrows, na_values, keep_default_na, na_filter, verbose, skip_blank_lines, parse_dates, infer_datetime_format, keep_date_col, date_parser, date_format, dayfirst, cache_dates, iterator, chunksize, compression, thousands, decimal, lineterminator, quotechar, quoting, doublequote, escapechar, comment, encoding, encoding_errors, dialect, on_bad_lines, delim_whitespace, low_memory, memory_map, float_precision, storage_options, dtype_backend)\u001b[0m\n\u001b[0;32m    899\u001b[0m kwds_defaults \u001b[38;5;241m=\u001b[39m _refine_defaults_read(\n\u001b[0;32m    900\u001b[0m     dialect,\n\u001b[0;32m    901\u001b[0m     delimiter,\n\u001b[1;32m   (...)\u001b[0m\n\u001b[0;32m    908\u001b[0m     dtype_backend\u001b[38;5;241m=\u001b[39mdtype_backend,\n\u001b[0;32m    909\u001b[0m )\n\u001b[0;32m    910\u001b[0m kwds\u001b[38;5;241m.\u001b[39mupdate(kwds_defaults)\n\u001b[1;32m--> 912\u001b[0m \u001b[38;5;28;01mreturn\u001b[39;00m _read(filepath_or_buffer, kwds)\n",
      "File \u001b[1;32mD:\\Programs\\Python\\anaconda\\Lib\\site-packages\\pandas\\io\\parsers\\readers.py:577\u001b[0m, in \u001b[0;36m_read\u001b[1;34m(filepath_or_buffer, kwds)\u001b[0m\n\u001b[0;32m    574\u001b[0m _validate_names(kwds\u001b[38;5;241m.\u001b[39mget(\u001b[38;5;124m\"\u001b[39m\u001b[38;5;124mnames\u001b[39m\u001b[38;5;124m\"\u001b[39m, \u001b[38;5;28;01mNone\u001b[39;00m))\n\u001b[0;32m    576\u001b[0m \u001b[38;5;66;03m# Create the parser.\u001b[39;00m\n\u001b[1;32m--> 577\u001b[0m parser \u001b[38;5;241m=\u001b[39m TextFileReader(filepath_or_buffer, \u001b[38;5;241m*\u001b[39m\u001b[38;5;241m*\u001b[39mkwds)\n\u001b[0;32m    579\u001b[0m \u001b[38;5;28;01mif\u001b[39;00m chunksize \u001b[38;5;129;01mor\u001b[39;00m iterator:\n\u001b[0;32m    580\u001b[0m     \u001b[38;5;28;01mreturn\u001b[39;00m parser\n",
      "File \u001b[1;32mD:\\Programs\\Python\\anaconda\\Lib\\site-packages\\pandas\\io\\parsers\\readers.py:1407\u001b[0m, in \u001b[0;36mTextFileReader.__init__\u001b[1;34m(self, f, engine, **kwds)\u001b[0m\n\u001b[0;32m   1404\u001b[0m     \u001b[38;5;28mself\u001b[39m\u001b[38;5;241m.\u001b[39moptions[\u001b[38;5;124m\"\u001b[39m\u001b[38;5;124mhas_index_names\u001b[39m\u001b[38;5;124m\"\u001b[39m] \u001b[38;5;241m=\u001b[39m kwds[\u001b[38;5;124m\"\u001b[39m\u001b[38;5;124mhas_index_names\u001b[39m\u001b[38;5;124m\"\u001b[39m]\n\u001b[0;32m   1406\u001b[0m \u001b[38;5;28mself\u001b[39m\u001b[38;5;241m.\u001b[39mhandles: IOHandles \u001b[38;5;241m|\u001b[39m \u001b[38;5;28;01mNone\u001b[39;00m \u001b[38;5;241m=\u001b[39m \u001b[38;5;28;01mNone\u001b[39;00m\n\u001b[1;32m-> 1407\u001b[0m \u001b[38;5;28mself\u001b[39m\u001b[38;5;241m.\u001b[39m_engine \u001b[38;5;241m=\u001b[39m \u001b[38;5;28mself\u001b[39m\u001b[38;5;241m.\u001b[39m_make_engine(f, \u001b[38;5;28mself\u001b[39m\u001b[38;5;241m.\u001b[39mengine)\n",
      "File \u001b[1;32mD:\\Programs\\Python\\anaconda\\Lib\\site-packages\\pandas\\io\\parsers\\readers.py:1679\u001b[0m, in \u001b[0;36mTextFileReader._make_engine\u001b[1;34m(self, f, engine)\u001b[0m\n\u001b[0;32m   1676\u001b[0m     \u001b[38;5;28;01mraise\u001b[39;00m \u001b[38;5;167;01mValueError\u001b[39;00m(msg)\n\u001b[0;32m   1678\u001b[0m \u001b[38;5;28;01mtry\u001b[39;00m:\n\u001b[1;32m-> 1679\u001b[0m     \u001b[38;5;28;01mreturn\u001b[39;00m mapping[engine](f, \u001b[38;5;241m*\u001b[39m\u001b[38;5;241m*\u001b[39m\u001b[38;5;28mself\u001b[39m\u001b[38;5;241m.\u001b[39moptions)\n\u001b[0;32m   1680\u001b[0m \u001b[38;5;28;01mexcept\u001b[39;00m \u001b[38;5;167;01mException\u001b[39;00m:\n\u001b[0;32m   1681\u001b[0m     \u001b[38;5;28;01mif\u001b[39;00m \u001b[38;5;28mself\u001b[39m\u001b[38;5;241m.\u001b[39mhandles \u001b[38;5;129;01mis\u001b[39;00m \u001b[38;5;129;01mnot\u001b[39;00m \u001b[38;5;28;01mNone\u001b[39;00m:\n",
      "File \u001b[1;32mD:\\Programs\\Python\\anaconda\\Lib\\site-packages\\pandas\\io\\parsers\\c_parser_wrapper.py:93\u001b[0m, in \u001b[0;36mCParserWrapper.__init__\u001b[1;34m(self, src, **kwds)\u001b[0m\n\u001b[0;32m     90\u001b[0m \u001b[38;5;28;01mif\u001b[39;00m kwds[\u001b[38;5;124m\"\u001b[39m\u001b[38;5;124mdtype_backend\u001b[39m\u001b[38;5;124m\"\u001b[39m] \u001b[38;5;241m==\u001b[39m \u001b[38;5;124m\"\u001b[39m\u001b[38;5;124mpyarrow\u001b[39m\u001b[38;5;124m\"\u001b[39m:\n\u001b[0;32m     91\u001b[0m     \u001b[38;5;66;03m# Fail here loudly instead of in cython after reading\u001b[39;00m\n\u001b[0;32m     92\u001b[0m     import_optional_dependency(\u001b[38;5;124m\"\u001b[39m\u001b[38;5;124mpyarrow\u001b[39m\u001b[38;5;124m\"\u001b[39m)\n\u001b[1;32m---> 93\u001b[0m \u001b[38;5;28mself\u001b[39m\u001b[38;5;241m.\u001b[39m_reader \u001b[38;5;241m=\u001b[39m parsers\u001b[38;5;241m.\u001b[39mTextReader(src, \u001b[38;5;241m*\u001b[39m\u001b[38;5;241m*\u001b[39mkwds)\n\u001b[0;32m     95\u001b[0m \u001b[38;5;28mself\u001b[39m\u001b[38;5;241m.\u001b[39munnamed_cols \u001b[38;5;241m=\u001b[39m \u001b[38;5;28mself\u001b[39m\u001b[38;5;241m.\u001b[39m_reader\u001b[38;5;241m.\u001b[39munnamed_cols\n\u001b[0;32m     97\u001b[0m \u001b[38;5;66;03m# error: Cannot determine type of 'names'\u001b[39;00m\n",
      "File \u001b[1;32mD:\\Programs\\Python\\anaconda\\Lib\\site-packages\\pandas\\_libs\\parsers.pyx:550\u001b[0m, in \u001b[0;36mpandas._libs.parsers.TextReader.__cinit__\u001b[1;34m()\u001b[0m\n",
      "File \u001b[1;32mD:\\Programs\\Python\\anaconda\\Lib\\site-packages\\pandas\\_libs\\parsers.pyx:639\u001b[0m, in \u001b[0;36mpandas._libs.parsers.TextReader._get_header\u001b[1;34m()\u001b[0m\n",
      "File \u001b[1;32mD:\\Programs\\Python\\anaconda\\Lib\\site-packages\\pandas\\_libs\\parsers.pyx:850\u001b[0m, in \u001b[0;36mpandas._libs.parsers.TextReader._tokenize_rows\u001b[1;34m()\u001b[0m\n",
      "File \u001b[1;32mD:\\Programs\\Python\\anaconda\\Lib\\site-packages\\pandas\\_libs\\parsers.pyx:861\u001b[0m, in \u001b[0;36mpandas._libs.parsers.TextReader._check_tokenize_status\u001b[1;34m()\u001b[0m\n",
      "File \u001b[1;32mD:\\Programs\\Python\\anaconda\\Lib\\site-packages\\pandas\\_libs\\parsers.pyx:2021\u001b[0m, in \u001b[0;36mpandas._libs.parsers.raise_parser_error\u001b[1;34m()\u001b[0m\n",
      "\u001b[1;31mUnicodeError\u001b[0m: UTF-16 stream does not start with BOM"
     ]
    }
   ],
   "source": [
    "# SOMETIMES, Encoding you need to check...\n",
    "\n",
    "# refer this link for details : https://docs.python.org/3/library/codecs.html#standard-encodings\n",
    "\n",
    "path = \"data.csv\"\n",
    "df_csv = pd.read_csv( path, encoding=\"utf-16\")\n",
    "print(f\"Shape of the Dataset -> {df_csv.shape}\")\n",
    "\n",
    "print( df_csv.head() ) #read thr top 5 records\n",
    "\n"
   ]
  },
  {
   "cell_type": "code",
   "execution_count": null,
   "id": "ed8c9748",
   "metadata": {},
   "outputs": [],
   "source": []
  },
  {
   "cell_type": "code",
   "execution_count": null,
   "id": "ed34c863",
   "metadata": {},
   "outputs": [],
   "source": []
  },
  {
   "cell_type": "code",
   "execution_count": 53,
   "id": "8c2f6965",
   "metadata": {},
   "outputs": [
    {
     "name": "stdout",
     "output_type": "stream",
     "text": [
      "Shape of the Dataset -> (10, 3)\n",
      "   job_desig   location  salary\n",
      "0  Analytics     Mumbai   6to10\n",
      "1  Analytics  Delhi NCR   6to10\n",
      "2     Growth     Mumbai  15to25\n",
      "3  Analytics  Bengaluru   6to10\n",
      "4  Analytics  Delhi NCR  25to50\n"
     ]
    }
   ],
   "source": [
    "# Read the text file\n",
    "path = \"data.txt\"\n",
    "df_text = pd.read_csv( path, sep = \"\\t\" )\n",
    "print(f\"Shape of the Dataset -> {df_text.shape}\")\n",
    "\n",
    "print( df_text.head() )\n"
   ]
  },
  {
   "cell_type": "code",
   "execution_count": null,
   "id": "e2d743cd",
   "metadata": {},
   "outputs": [],
   "source": []
  },
  {
   "cell_type": "code",
   "execution_count": null,
   "id": "beaf9607",
   "metadata": {},
   "outputs": [],
   "source": []
  },
  {
   "cell_type": "markdown",
   "id": "aad01911",
   "metadata": {},
   "source": [
    "### Read the EXCEL files\n",
    "\n",
    "- files that support formatting [ `xls`, `xlsx`, `xlsm`, `xlsb`, `odf`, `ods` and `odt` ]\n",
    "- multiple sheet \n"
   ]
  },
  {
   "cell_type": "code",
   "execution_count": 56,
   "id": "44b6fec1",
   "metadata": {},
   "outputs": [
    {
     "name": "stdout",
     "output_type": "stream",
     "text": [
      "Shape of the Dataset -> (100, 5)\n",
      "                   Speaker                                          Topic  \\\n",
      "0             Carin Bondar  The birds and the bees are just the beginning   \n",
      "1              Golan Levin                              Software (as) art   \n",
      "2  Roy Gould + Curtis Wong           A preview of the WorldWide Telescope   \n",
      "3             Willie Smits                    How to restore a rainforest   \n",
      "4   Guy-Philippe Goldstein     How cyberattacks threaten real-world peace   \n",
      "\n",
      "        Staged_At Video_Duration  Total_Views  \n",
      "0  TEDGlobal 2013        0:09:47    14.671158  \n",
      "1         TED2004        0:14:53    13.306525  \n",
      "2         TED2008        0:06:42    13.845529  \n",
      "3         TED2009        0:20:42    13.409185  \n",
      "4  TEDxParis 2010        0:09:24    13.048079  \n"
     ]
    }
   ],
   "source": [
    "# Read the excel file\n",
    "path = \"data.xlsx\"\n",
    "df_excel = pd.read_excel( path , sheet_name = \"Sheet1\")\n",
    "print(f\"Shape of the Dataset -> {df_excel.shape}\")\n",
    "\n",
    "print( df_excel.head() )\n"
   ]
  },
  {
   "cell_type": "code",
   "execution_count": 57,
   "id": "a049a680",
   "metadata": {},
   "outputs": [
    {
     "name": "stdout",
     "output_type": "stream",
     "text": [
      "Shape of the Dataset -> (100, 5)\n",
      "                   Speaker                                          Topic  \\\n",
      "0             Carin Bondar  The birds and the bees are just the beginning   \n",
      "1              Golan Levin                              Software (as) art   \n",
      "2  Roy Gould + Curtis Wong           A preview of the WorldWide Telescope   \n",
      "3             Willie Smits                    How to restore a rainforest   \n",
      "4   Guy-Philippe Goldstein     How cyberattacks threaten real-world peace   \n",
      "\n",
      "        Staged_At Video_Duration  Total_Views  \n",
      "0  TEDGlobal 2013        0:09:47    14.671158  \n",
      "1         TED2004        0:14:53    13.306525  \n",
      "2         TED2008        0:06:42    13.845529  \n",
      "3         TED2009        0:20:42    13.409185  \n",
      "4  TEDxParis 2010        0:09:24    13.048079  \n"
     ]
    }
   ],
   "source": [
    "# Read the excel file\n",
    "path = \"data.xlsx\"\n",
    "df_excel = pd.read_excel( path , sheet_name = 1)\n",
    "print(f\"Shape of the Dataset -> {df_excel.shape}\")\n",
    "\n",
    "print( df_excel.head() )\n"
   ]
  },
  {
   "cell_type": "code",
   "execution_count": 59,
   "id": "e4650de1",
   "metadata": {},
   "outputs": [
    {
     "name": "stdout",
     "output_type": "stream",
     "text": [
      "Shape of the Dataset in sheet 1 -> (0, 0)\n",
      "Shape of the Dataset in sheet 2 -> (100, 5)\n"
     ]
    }
   ],
   "source": [
    "# Read the excel file\n",
    "\n",
    "path = \"data.xlsx\"\n",
    "df_excel = pd.read_excel( path , sheet_name = \"Sheet1\")\n",
    "\n",
    "for sheets in range(2) :\n",
    "    df_excel = pd.read_excel( path , sheet_name = sheets)\n",
    "    print(f\"Shape of the Dataset in sheet {sheets + 1} -> {df_excel.shape}\")\n",
    "\n",
    "# print( df_excel.head() )\n"
   ]
  },
  {
   "cell_type": "code",
   "execution_count": null,
   "id": "48bc34ec",
   "metadata": {},
   "outputs": [],
   "source": []
  },
  {
   "cell_type": "code",
   "execution_count": 60,
   "id": "3dcb9d36",
   "metadata": {},
   "outputs": [
    {
     "name": "stdout",
     "output_type": "stream",
     "text": [
      "Shape of the Dataset -> (100, 5)\n",
      "                   Speaker                                          Topic  \\\n",
      "0             Carin Bondar  The birds and the bees are just the beginning   \n",
      "1              Golan Levin                              Software (as) art   \n",
      "2  Roy Gould + Curtis Wong           A preview of the WorldWide Telescope   \n",
      "3             Willie Smits                    How to restore a rainforest   \n",
      "4   Guy-Philippe Goldstein     How cyberattacks threaten real-world peace   \n",
      "\n",
      "        Staged_At Video_Duration  Total_Views  \n",
      "0  TEDGlobal 2013        0:09:47    14.671158  \n",
      "1         TED2004        0:14:53    13.306525  \n",
      "2         TED2008        0:06:42    13.845529  \n",
      "3         TED2009        0:20:42    13.409185  \n",
      "4  TEDxParis 2010        0:09:24    13.048079  \n"
     ]
    }
   ],
   "source": [
    "# Read the excel file\n",
    "path = \"data.xlsx\"\n",
    "df_excel = pd.read_excel( path , sheet_name = \"Sheet1\")\n",
    "print(f\"Shape of the Dataset -> {df_excel.shape}\")\n",
    "\n",
    "print( df_excel.head() )\n"
   ]
  },
  {
   "cell_type": "code",
   "execution_count": 64,
   "id": "24ca7f6f",
   "metadata": {},
   "outputs": [
    {
     "name": "stdout",
     "output_type": "stream",
     "text": [
      "Shape of the Dataset -> (100, 2)\n",
      "                   Speaker  Total_Views\n",
      "0             Carin Bondar    14.671158\n",
      "1              Golan Levin    13.306525\n",
      "2  Roy Gould + Curtis Wong    13.845529\n",
      "3             Willie Smits    13.409185\n",
      "4   Guy-Philippe Goldstein    13.048079\n"
     ]
    }
   ],
   "source": [
    "# Read the excel file\n",
    "path = \"data.xlsx\"\n",
    "df_excel = pd.read_excel( path , sheet_name = \"Sheet1\", \n",
    "                         usecols=  [\"Speaker\" , 'Total_Views'])\n",
    "print(f\"Shape of the Dataset -> {df_excel.shape}\")\n",
    "\n",
    "print( df_excel.head() )\n"
   ]
  },
  {
   "cell_type": "code",
   "execution_count": 66,
   "id": "008d3a92",
   "metadata": {},
   "outputs": [
    {
     "name": "stdout",
     "output_type": "stream",
     "text": [
      "Shape of the Dataset -> (30, 5)\n",
      "                   Speaker                                          Topic  \\\n",
      "0             Carin Bondar  The birds and the bees are just the beginning   \n",
      "1              Golan Levin                              Software (as) art   \n",
      "2  Roy Gould + Curtis Wong           A preview of the WorldWide Telescope   \n",
      "3             Willie Smits                    How to restore a rainforest   \n",
      "4   Guy-Philippe Goldstein     How cyberattacks threaten real-world peace   \n",
      "\n",
      "        Staged_At Video_Duration  Total_Views  \n",
      "0  TEDGlobal 2013        0:09:47    14.671158  \n",
      "1         TED2004        0:14:53    13.306525  \n",
      "2         TED2008        0:06:42    13.845529  \n",
      "3         TED2009        0:20:42    13.409185  \n",
      "4  TEDxParis 2010        0:09:24    13.048079  \n"
     ]
    }
   ],
   "source": [
    "# Read the excel file, with first 30\n",
    "path = \"data.xlsx\"\n",
    "df_excel = pd.read_excel( path , sheet_name = \"Sheet1\", \n",
    "                         nrows = 30)\n",
    "print(f\"Shape of the Dataset -> {df_excel.shape}\")\n",
    "\n",
    "print( df_excel.head() )\n"
   ]
  },
  {
   "cell_type": "code",
   "execution_count": 67,
   "id": "786561b3",
   "metadata": {},
   "outputs": [
    {
     "name": "stdout",
     "output_type": "stream",
     "text": [
      "Shape of the Dataset -> (30, 5)\n",
      "  Shilo Shiv Suleman       Using tech to enable dreaming  \\\n",
      "0        Frank Gehry  A master architect asks, Now what?   \n",
      "1     Jonathan Drori     The beautiful tricks of flowers   \n",
      "2  Caroline Phillips           Hurdy-gurdy for beginners   \n",
      "3        Vishal Vaid   Hypnotic South Asian improv music   \n",
      "4       Emma Teeling        The secret of the bat genome   \n",
      "\n",
      "                INK Conference  0:07:36  13.25994032572197  \n",
      "0                      TED2002  0:22:00          13.763936  \n",
      "1  TEDSalon London Spring 2011  0:13:48          13.742830  \n",
      "2               TEDGlobal 2010  0:05:41          13.354143  \n",
      "3                      TED2006  0:13:34          12.926978  \n",
      "4                   TEDxDublin  0:16:25          13.049926  \n"
     ]
    }
   ],
   "source": [
    "# Read the excel file, first 30 after skipping 20\n",
    "path = \"data.xlsx\"\n",
    "df_excel = pd.read_excel( path , sheet_name = \"Sheet1\", \n",
    "                         nrows = 30, skiprows=20)\n",
    "print(f\"Shape of the Dataset -> {df_excel.shape}\")\n",
    "\n",
    "print( df_excel.head() )\n"
   ]
  },
  {
   "cell_type": "code",
   "execution_count": null,
   "id": "affe6b47",
   "metadata": {},
   "outputs": [],
   "source": []
  },
  {
   "cell_type": "code",
   "execution_count": null,
   "id": "f5748820",
   "metadata": {},
   "outputs": [],
   "source": []
  },
  {
   "cell_type": "code",
   "execution_count": null,
   "id": "d9bab273",
   "metadata": {},
   "outputs": [],
   "source": []
  }
 ],
 "metadata": {
  "kernelspec": {
   "display_name": "Python 3 (ipykernel)",
   "language": "python",
   "name": "python3"
  },
  "language_info": {
   "codemirror_mode": {
    "name": "ipython",
    "version": 3
   },
   "file_extension": ".py",
   "mimetype": "text/x-python",
   "name": "python",
   "nbconvert_exporter": "python",
   "pygments_lexer": "ipython3",
   "version": "3.11.5"
  }
 },
 "nbformat": 4,
 "nbformat_minor": 5
}
