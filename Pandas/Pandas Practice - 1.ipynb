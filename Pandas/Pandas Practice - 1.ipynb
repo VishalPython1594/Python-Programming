{
 "cells": [
  {
   "cell_type": "code",
   "execution_count": 2,
   "id": "88db34e6",
   "metadata": {},
   "outputs": [
    {
     "name": "stdout",
     "output_type": "stream",
     "text": [
      "SHape of the data is (105, 5) ------- and first five entries are: \n",
      "\n",
      "  experience  job_desig   location  salary  placement_count\n",
      "0    2-4 yrs  Analytics     Mumbai   6to10             4479\n",
      "1   5-10 yrs  Analytics  Delhi NCR   6to10             1969\n",
      "2    3-8 yrs     Growth     Mumbai  15to25             3319\n",
      "3    2-6 yrs  Analytics  Bengaluru   6to10              330\n",
      "4    6-8 yrs  Analytics  Delhi NCR  25to50             2665\n"
     ]
    }
   ],
   "source": [
    "import pandas as pd\n",
    "\n",
    "df = pd.read_csv('data.csv')\n",
    "\n",
    "print(f'SHape of the data is {df.shape} ------- and first five entries are: \\n\\n{df.head()}')"
   ]
  },
  {
   "cell_type": "code",
   "execution_count": 12,
   "id": "9462b94a",
   "metadata": {},
   "outputs": [
    {
     "name": "stdout",
     "output_type": "stream",
     "text": [
      "SHape of the data is (105, 5) ------- and first five entries are: \n",
      "\n",
      "  experience  job_desig   location  salary  placement_count\n",
      "0    2-4 yrs  Analytics     Mumbai   6to10             4479\n",
      "1   5-10 yrs  Analytics  Delhi NCR   6to10             1969\n",
      "2    3-8 yrs     Growth     Mumbai  15to25             3319\n",
      "3    2-6 yrs  Analytics  Bengaluru   6to10              330\n",
      "4    6-8 yrs  Analytics  Delhi NCR  25to50             2665\n"
     ]
    }
   ],
   "source": [
    "df = pd.read_csv('data.csv', sep = ',')\n",
    "\n",
    "print(f'SHape of the data is {df.shape} ------- and first five entries are: \\n\\n{df.head()}')"
   ]
  },
  {
   "cell_type": "code",
   "execution_count": 13,
   "id": "b7a0571f",
   "metadata": {},
   "outputs": [
    {
     "name": "stdout",
     "output_type": "stream",
     "text": [
      "SHape of the data is (106, 5) ------- and first five entries are: \n",
      "\n",
      "            A          B          C       D                E\n",
      "0  experience  job_desig   location  salary  placement_count\n",
      "1     2-4 yrs  Analytics     Mumbai   6to10             4479\n",
      "2    5-10 yrs  Analytics  Delhi NCR   6to10             1969\n",
      "3     3-8 yrs     Growth     Mumbai  15to25             3319\n",
      "4     2-6 yrs  Analytics  Bengaluru   6to10              330\n"
     ]
    }
   ],
   "source": [
    "df = pd.read_csv('data.csv', sep = ',', names= ['A','B','C','D','E'])\n",
    "\n",
    "print(f'SHape of the data is {df.shape} ------- and first five entries are: \\n\\n{df.head()}')"
   ]
  },
  {
   "cell_type": "code",
   "execution_count": 15,
   "id": "562acb8d",
   "metadata": {},
   "outputs": [
    {
     "name": "stdout",
     "output_type": "stream",
     "text": [
      "SHape of the data is (106, 5) ------- and first five entries are: \n",
      "\n",
      "            A          B          C       D                E\n",
      "0  experience  job_desig   location  salary  placement_count\n",
      "1     2-4 yrs  Analytics     Mumbai   6to10             4479\n",
      "2    5-10 yrs  Analytics  Delhi NCR   6to10             1969\n",
      "3     3-8 yrs     Growth     Mumbai  15to25             3319\n",
      "4     2-6 yrs  Analytics  Bengaluru   6to10              330\n"
     ]
    }
   ],
   "source": [
    "df = pd.read_csv('data.csv', header= None, names= ['A','B','C','D','E'])\n",
    "\n",
    "print(f'SHape of the data is {df.shape} ------- and first five entries are: \\n\\n{df.head()}')"
   ]
  },
  {
   "cell_type": "code",
   "execution_count": 20,
   "id": "8c3e56b2",
   "metadata": {},
   "outputs": [
    {
     "name": "stdout",
     "output_type": "stream",
     "text": [
      "(105, 5)\n"
     ]
    },
    {
     "data": {
      "text/html": [
       "<div>\n",
       "<style scoped>\n",
       "    .dataframe tbody tr th:only-of-type {\n",
       "        vertical-align: middle;\n",
       "    }\n",
       "\n",
       "    .dataframe tbody tr th {\n",
       "        vertical-align: top;\n",
       "    }\n",
       "\n",
       "    .dataframe thead th {\n",
       "        text-align: right;\n",
       "    }\n",
       "</style>\n",
       "<table border=\"1\" class=\"dataframe\">\n",
       "  <thead>\n",
       "    <tr style=\"text-align: right;\">\n",
       "      <th></th>\n",
       "      <th>experience</th>\n",
       "      <th>job_desig</th>\n",
       "      <th>location</th>\n",
       "      <th>salary</th>\n",
       "      <th>placement_count</th>\n",
       "    </tr>\n",
       "  </thead>\n",
       "  <tbody>\n",
       "    <tr>\n",
       "      <th>0</th>\n",
       "      <td>2-4 yrs</td>\n",
       "      <td>Analytics</td>\n",
       "      <td>Mumbai</td>\n",
       "      <td>6to10</td>\n",
       "      <td>4479</td>\n",
       "    </tr>\n",
       "    <tr>\n",
       "      <th>1</th>\n",
       "      <td>5-10 yrs</td>\n",
       "      <td>Analytics</td>\n",
       "      <td>Delhi NCR</td>\n",
       "      <td>6to10</td>\n",
       "      <td>1969</td>\n",
       "    </tr>\n",
       "    <tr>\n",
       "      <th>2</th>\n",
       "      <td>3-8 yrs</td>\n",
       "      <td>Growth</td>\n",
       "      <td>Mumbai</td>\n",
       "      <td>15to25</td>\n",
       "      <td>3319</td>\n",
       "    </tr>\n",
       "    <tr>\n",
       "      <th>3</th>\n",
       "      <td>2-6 yrs</td>\n",
       "      <td>Analytics</td>\n",
       "      <td>Bengaluru</td>\n",
       "      <td>6to10</td>\n",
       "      <td>330</td>\n",
       "    </tr>\n",
       "    <tr>\n",
       "      <th>4</th>\n",
       "      <td>6-8 yrs</td>\n",
       "      <td>Analytics</td>\n",
       "      <td>Delhi NCR</td>\n",
       "      <td>25to50</td>\n",
       "      <td>2665</td>\n",
       "    </tr>\n",
       "  </tbody>\n",
       "</table>\n",
       "</div>"
      ],
      "text/plain": [
       "  experience  job_desig   location  salary  placement_count\n",
       "0    2-4 yrs  Analytics     Mumbai   6to10             4479\n",
       "1   5-10 yrs  Analytics  Delhi NCR   6to10             1969\n",
       "2    3-8 yrs     Growth     Mumbai  15to25             3319\n",
       "3    2-6 yrs  Analytics  Bengaluru   6to10              330\n",
       "4    6-8 yrs  Analytics  Delhi NCR  25to50             2665"
      ]
     },
     "execution_count": 20,
     "metadata": {},
     "output_type": "execute_result"
    }
   ],
   "source": [
    "df = pd.read_csv('data_skip.csv', skiprows=6)\n",
    "\n",
    "print(df.shape)\n",
    "\n",
    "df.head()"
   ]
  },
  {
   "cell_type": "code",
   "execution_count": 23,
   "id": "686a0b02",
   "metadata": {},
   "outputs": [
    {
     "name": "stdout",
     "output_type": "stream",
     "text": [
      "(107, 9)\n"
     ]
    },
    {
     "data": {
      "text/html": [
       "<div>\n",
       "<style scoped>\n",
       "    .dataframe tbody tr th:only-of-type {\n",
       "        vertical-align: middle;\n",
       "    }\n",
       "\n",
       "    .dataframe tbody tr th {\n",
       "        vertical-align: top;\n",
       "    }\n",
       "\n",
       "    .dataframe thead th {\n",
       "        text-align: right;\n",
       "    }\n",
       "</style>\n",
       "<table border=\"1\" class=\"dataframe\">\n",
       "  <thead>\n",
       "    <tr style=\"text-align: right;\">\n",
       "      <th></th>\n",
       "      <th>experience</th>\n",
       "      <th>Unnamed: 1</th>\n",
       "      <th>Unnamed: 2</th>\n",
       "      <th>Unnamed: 3</th>\n",
       "      <th>Unnamed: 4</th>\n",
       "      <th>job_desig</th>\n",
       "      <th>location</th>\n",
       "      <th>salary</th>\n",
       "      <th>placement_count</th>\n",
       "    </tr>\n",
       "  </thead>\n",
       "  <tbody>\n",
       "    <tr>\n",
       "      <th>0</th>\n",
       "      <td>NaN</td>\n",
       "      <td>NaN</td>\n",
       "      <td>NaN</td>\n",
       "      <td>NaN</td>\n",
       "      <td>NaN</td>\n",
       "      <td>NaN</td>\n",
       "      <td>NaN</td>\n",
       "      <td>NaN</td>\n",
       "      <td>NaN</td>\n",
       "    </tr>\n",
       "    <tr>\n",
       "      <th>1</th>\n",
       "      <td>experience</td>\n",
       "      <td>NaN</td>\n",
       "      <td>NaN</td>\n",
       "      <td>NaN</td>\n",
       "      <td>NaN</td>\n",
       "      <td>job_desig</td>\n",
       "      <td>location</td>\n",
       "      <td>salary</td>\n",
       "      <td>placement_count</td>\n",
       "    </tr>\n",
       "    <tr>\n",
       "      <th>2</th>\n",
       "      <td>2-4 yrs</td>\n",
       "      <td>NaN</td>\n",
       "      <td>NaN</td>\n",
       "      <td>NaN</td>\n",
       "      <td>NaN</td>\n",
       "      <td>Analytics</td>\n",
       "      <td>Mumbai</td>\n",
       "      <td>6to10</td>\n",
       "      <td>4479</td>\n",
       "    </tr>\n",
       "    <tr>\n",
       "      <th>3</th>\n",
       "      <td>5-10 yrs</td>\n",
       "      <td>NaN</td>\n",
       "      <td>NaN</td>\n",
       "      <td>NaN</td>\n",
       "      <td>NaN</td>\n",
       "      <td>Analytics</td>\n",
       "      <td>Delhi NCR</td>\n",
       "      <td>6to10</td>\n",
       "      <td>1969</td>\n",
       "    </tr>\n",
       "    <tr>\n",
       "      <th>4</th>\n",
       "      <td>3-8 yrs</td>\n",
       "      <td>NaN</td>\n",
       "      <td>NaN</td>\n",
       "      <td>NaN</td>\n",
       "      <td>NaN</td>\n",
       "      <td>Growth</td>\n",
       "      <td>Mumbai</td>\n",
       "      <td>15to25</td>\n",
       "      <td>3319</td>\n",
       "    </tr>\n",
       "  </tbody>\n",
       "</table>\n",
       "</div>"
      ],
      "text/plain": [
       "   experience  Unnamed: 1  Unnamed: 2  Unnamed: 3  Unnamed: 4  job_desig   location  salary  placement_count\n",
       "0         NaN         NaN         NaN         NaN         NaN        NaN        NaN     NaN              NaN\n",
       "1  experience         NaN         NaN         NaN         NaN  job_desig   location  salary  placement_count\n",
       "2     2-4 yrs         NaN         NaN         NaN         NaN  Analytics     Mumbai   6to10             4479\n",
       "3    5-10 yrs         NaN         NaN         NaN         NaN  Analytics  Delhi NCR   6to10             1969\n",
       "4     3-8 yrs         NaN         NaN         NaN         NaN     Growth     Mumbai  15to25             3319"
      ]
     },
     "execution_count": 23,
     "metadata": {},
     "output_type": "execute_result"
    }
   ],
   "source": [
    "df = pd.read_csv('data_skipcolumn.csv')\n",
    "\n",
    "print(df.shape)\n",
    "\n",
    "df.head()"
   ]
  },
  {
   "cell_type": "code",
   "execution_count": 27,
   "id": "f8763b7c",
   "metadata": {},
   "outputs": [
    {
     "name": "stdout",
     "output_type": "stream",
     "text": [
      "(107, 5)\n"
     ]
    },
    {
     "data": {
      "text/html": [
       "<div>\n",
       "<style scoped>\n",
       "    .dataframe tbody tr th:only-of-type {\n",
       "        vertical-align: middle;\n",
       "    }\n",
       "\n",
       "    .dataframe tbody tr th {\n",
       "        vertical-align: top;\n",
       "    }\n",
       "\n",
       "    .dataframe thead th {\n",
       "        text-align: right;\n",
       "    }\n",
       "</style>\n",
       "<table border=\"1\" class=\"dataframe\">\n",
       "  <thead>\n",
       "    <tr style=\"text-align: right;\">\n",
       "      <th></th>\n",
       "      <th>experience</th>\n",
       "      <th>job_desig</th>\n",
       "      <th>location</th>\n",
       "      <th>salary</th>\n",
       "      <th>placement_count</th>\n",
       "    </tr>\n",
       "  </thead>\n",
       "  <tbody>\n",
       "    <tr>\n",
       "      <th>0</th>\n",
       "      <td>NaN</td>\n",
       "      <td>NaN</td>\n",
       "      <td>NaN</td>\n",
       "      <td>NaN</td>\n",
       "      <td>NaN</td>\n",
       "    </tr>\n",
       "    <tr>\n",
       "      <th>1</th>\n",
       "      <td>experience</td>\n",
       "      <td>job_desig</td>\n",
       "      <td>location</td>\n",
       "      <td>salary</td>\n",
       "      <td>placement_count</td>\n",
       "    </tr>\n",
       "    <tr>\n",
       "      <th>2</th>\n",
       "      <td>2-4 yrs</td>\n",
       "      <td>Analytics</td>\n",
       "      <td>Mumbai</td>\n",
       "      <td>6to10</td>\n",
       "      <td>4479</td>\n",
       "    </tr>\n",
       "    <tr>\n",
       "      <th>3</th>\n",
       "      <td>5-10 yrs</td>\n",
       "      <td>Analytics</td>\n",
       "      <td>Delhi NCR</td>\n",
       "      <td>6to10</td>\n",
       "      <td>1969</td>\n",
       "    </tr>\n",
       "    <tr>\n",
       "      <th>4</th>\n",
       "      <td>3-8 yrs</td>\n",
       "      <td>Growth</td>\n",
       "      <td>Mumbai</td>\n",
       "      <td>15to25</td>\n",
       "      <td>3319</td>\n",
       "    </tr>\n",
       "  </tbody>\n",
       "</table>\n",
       "</div>"
      ],
      "text/plain": [
       "   experience  job_desig   location  salary  placement_count\n",
       "0         NaN        NaN        NaN     NaN              NaN\n",
       "1  experience  job_desig   location  salary  placement_count\n",
       "2     2-4 yrs  Analytics     Mumbai   6to10             4479\n",
       "3    5-10 yrs  Analytics  Delhi NCR   6to10             1969\n",
       "4     3-8 yrs     Growth     Mumbai  15to25             3319"
      ]
     },
     "execution_count": 27,
     "metadata": {},
     "output_type": "execute_result"
    }
   ],
   "source": [
    "df = df.loc[:, ~df.columns.str.contains('^Unnamed')]\n",
    "\n",
    "print(df.shape)\n",
    "\n",
    "df.head()"
   ]
  },
  {
   "cell_type": "code",
   "execution_count": 29,
   "id": "8c9523f0",
   "metadata": {},
   "outputs": [
    {
     "name": "stdout",
     "output_type": "stream",
     "text": [
      "(107, 5)\n"
     ]
    },
    {
     "data": {
      "text/html": [
       "<div>\n",
       "<style scoped>\n",
       "    .dataframe tbody tr th:only-of-type {\n",
       "        vertical-align: middle;\n",
       "    }\n",
       "\n",
       "    .dataframe tbody tr th {\n",
       "        vertical-align: top;\n",
       "    }\n",
       "\n",
       "    .dataframe thead th {\n",
       "        text-align: right;\n",
       "    }\n",
       "</style>\n",
       "<table border=\"1\" class=\"dataframe\">\n",
       "  <thead>\n",
       "    <tr style=\"text-align: right;\">\n",
       "      <th></th>\n",
       "      <th>experience</th>\n",
       "      <th>job_desig</th>\n",
       "      <th>location</th>\n",
       "      <th>salary</th>\n",
       "      <th>placement_count</th>\n",
       "    </tr>\n",
       "  </thead>\n",
       "  <tbody>\n",
       "    <tr>\n",
       "      <th>0</th>\n",
       "      <td>NaN</td>\n",
       "      <td>NaN</td>\n",
       "      <td>NaN</td>\n",
       "      <td>NaN</td>\n",
       "      <td>NaN</td>\n",
       "    </tr>\n",
       "    <tr>\n",
       "      <th>1</th>\n",
       "      <td>experience</td>\n",
       "      <td>job_desig</td>\n",
       "      <td>location</td>\n",
       "      <td>salary</td>\n",
       "      <td>placement_count</td>\n",
       "    </tr>\n",
       "    <tr>\n",
       "      <th>2</th>\n",
       "      <td>2-4 yrs</td>\n",
       "      <td>Analytics</td>\n",
       "      <td>Mumbai</td>\n",
       "      <td>6to10</td>\n",
       "      <td>4479</td>\n",
       "    </tr>\n",
       "    <tr>\n",
       "      <th>3</th>\n",
       "      <td>5-10 yrs</td>\n",
       "      <td>Analytics</td>\n",
       "      <td>Delhi NCR</td>\n",
       "      <td>6to10</td>\n",
       "      <td>1969</td>\n",
       "    </tr>\n",
       "    <tr>\n",
       "      <th>4</th>\n",
       "      <td>3-8 yrs</td>\n",
       "      <td>Growth</td>\n",
       "      <td>Mumbai</td>\n",
       "      <td>15to25</td>\n",
       "      <td>3319</td>\n",
       "    </tr>\n",
       "  </tbody>\n",
       "</table>\n",
       "</div>"
      ],
      "text/plain": [
       "   experience  job_desig   location  salary  placement_count\n",
       "0         NaN        NaN        NaN     NaN              NaN\n",
       "1  experience  job_desig   location  salary  placement_count\n",
       "2     2-4 yrs  Analytics     Mumbai   6to10             4479\n",
       "3    5-10 yrs  Analytics  Delhi NCR   6to10             1969\n",
       "4     3-8 yrs     Growth     Mumbai  15to25             3319"
      ]
     },
     "execution_count": 29,
     "metadata": {},
     "output_type": "execute_result"
    }
   ],
   "source": [
    "df = pd.read_csv('data_skipcolumn.csv',usecols= ['experience','job_desig','location','salary','placement_count'])\n",
    "\n",
    "print(df.shape)\n",
    "\n",
    "df.head()"
   ]
  },
  {
   "cell_type": "code",
   "execution_count": 46,
   "id": "0ddb84b7",
   "metadata": {},
   "outputs": [
    {
     "data": {
      "text/html": [
       "<div>\n",
       "<style scoped>\n",
       "    .dataframe tbody tr th:only-of-type {\n",
       "        vertical-align: middle;\n",
       "    }\n",
       "\n",
       "    .dataframe tbody tr th {\n",
       "        vertical-align: top;\n",
       "    }\n",
       "\n",
       "    .dataframe thead th {\n",
       "        text-align: right;\n",
       "    }\n",
       "</style>\n",
       "<table border=\"1\" class=\"dataframe\">\n",
       "  <thead>\n",
       "    <tr style=\"text-align: right;\">\n",
       "      <th></th>\n",
       "      <th>job_desig</th>\n",
       "      <th>location</th>\n",
       "      <th>salary</th>\n",
       "    </tr>\n",
       "  </thead>\n",
       "  <tbody>\n",
       "    <tr>\n",
       "      <th>0</th>\n",
       "      <td>Analytics</td>\n",
       "      <td>Mumbai</td>\n",
       "      <td>6to10</td>\n",
       "    </tr>\n",
       "    <tr>\n",
       "      <th>1</th>\n",
       "      <td>Analytics</td>\n",
       "      <td>Delhi NCR</td>\n",
       "      <td>6to10</td>\n",
       "    </tr>\n",
       "    <tr>\n",
       "      <th>2</th>\n",
       "      <td>Growth</td>\n",
       "      <td>Mumbai</td>\n",
       "      <td>15to25</td>\n",
       "    </tr>\n",
       "    <tr>\n",
       "      <th>3</th>\n",
       "      <td>Analytics</td>\n",
       "      <td>Bengaluru</td>\n",
       "      <td>6to10</td>\n",
       "    </tr>\n",
       "    <tr>\n",
       "      <th>4</th>\n",
       "      <td>Analytics</td>\n",
       "      <td>Delhi NCR</td>\n",
       "      <td>25to50</td>\n",
       "    </tr>\n",
       "  </tbody>\n",
       "</table>\n",
       "</div>"
      ],
      "text/plain": [
       "   job_desig   location  salary\n",
       "0  Analytics     Mumbai   6to10\n",
       "1  Analytics  Delhi NCR   6to10\n",
       "2     Growth     Mumbai  15to25\n",
       "3  Analytics  Bengaluru   6to10\n",
       "4  Analytics  Delhi NCR  25to50"
      ]
     },
     "execution_count": 46,
     "metadata": {},
     "output_type": "execute_result"
    }
   ],
   "source": [
    "df = pd.read_csv('data.txt',sep='\\t')\n",
    "df.shape\n",
    "df.head()"
   ]
  },
  {
   "cell_type": "code",
   "execution_count": 56,
   "id": "741ffdda",
   "metadata": {},
   "outputs": [
    {
     "name": "stdout",
     "output_type": "stream",
     "text": [
      "shape of the dataset 1 is (0, 0)\n",
      "shape of the dataset 2 is (100, 5)\n"
     ]
    }
   ],
   "source": [
    "df = pd.read_excel('data.xlsx',sheet_name=1)\n",
    "\n",
    "for sheets in range(2):\n",
    "    \n",
    "    df = pd.read_excel('data.xlsx',sheet_name=sheets)\n",
    "    print(f'shape of the dataset {sheets+1} is {df.shape}')\n"
   ]
  },
  {
   "cell_type": "code",
   "execution_count": 11,
   "id": "37f98e0d",
   "metadata": {},
   "outputs": [
    {
     "data": {
      "text/html": [
       "<div>\n",
       "<style scoped>\n",
       "    .dataframe tbody tr th:only-of-type {\n",
       "        vertical-align: middle;\n",
       "    }\n",
       "\n",
       "    .dataframe tbody tr th {\n",
       "        vertical-align: top;\n",
       "    }\n",
       "\n",
       "    .dataframe thead th {\n",
       "        text-align: right;\n",
       "    }\n",
       "</style>\n",
       "<table border=\"1\" class=\"dataframe\">\n",
       "  <thead>\n",
       "    <tr style=\"text-align: right;\">\n",
       "      <th></th>\n",
       "      <th>Topic</th>\n",
       "      <th>Staged_At</th>\n",
       "    </tr>\n",
       "  </thead>\n",
       "  <tbody>\n",
       "    <tr>\n",
       "      <th>0</th>\n",
       "      <td>The birds and the bees are just the beginning</td>\n",
       "      <td>TEDGlobal 2013</td>\n",
       "    </tr>\n",
       "    <tr>\n",
       "      <th>1</th>\n",
       "      <td>Software (as) art</td>\n",
       "      <td>TED2004</td>\n",
       "    </tr>\n",
       "    <tr>\n",
       "      <th>2</th>\n",
       "      <td>A preview of the WorldWide Telescope</td>\n",
       "      <td>TED2008</td>\n",
       "    </tr>\n",
       "    <tr>\n",
       "      <th>3</th>\n",
       "      <td>How to restore a rainforest</td>\n",
       "      <td>TED2009</td>\n",
       "    </tr>\n",
       "    <tr>\n",
       "      <th>4</th>\n",
       "      <td>How cyberattacks threaten real-world peace</td>\n",
       "      <td>TEDxParis 2010</td>\n",
       "    </tr>\n",
       "  </tbody>\n",
       "</table>\n",
       "</div>"
      ],
      "text/plain": [
       "                                           Topic       Staged_At\n",
       "0  The birds and the bees are just the beginning  TEDGlobal 2013\n",
       "1                              Software (as) art         TED2004\n",
       "2           A preview of the WorldWide Telescope         TED2008\n",
       "3                    How to restore a rainforest         TED2009\n",
       "4     How cyberattacks threaten real-world peace  TEDxParis 2010"
      ]
     },
     "execution_count": 11,
     "metadata": {},
     "output_type": "execute_result"
    }
   ],
   "source": [
    "import pandas as pd\n",
    "\n",
    "df = pd.read_excel('data.xlsx',usecols=['Topic','Staged_At'], sheet_name = 1, nrows=30)\n",
    "df.shape\n",
    "df.head()"
   ]
  },
  {
   "cell_type": "code",
   "execution_count": 13,
   "id": "cc885fa5",
   "metadata": {},
   "outputs": [
    {
     "data": {
      "text/html": [
       "<div>\n",
       "<style scoped>\n",
       "    .dataframe tbody tr th:only-of-type {\n",
       "        vertical-align: middle;\n",
       "    }\n",
       "\n",
       "    .dataframe tbody tr th {\n",
       "        vertical-align: top;\n",
       "    }\n",
       "\n",
       "    .dataframe thead th {\n",
       "        text-align: right;\n",
       "    }\n",
       "</style>\n",
       "<table border=\"1\" class=\"dataframe\">\n",
       "  <thead>\n",
       "    <tr style=\"text-align: right;\">\n",
       "      <th></th>\n",
       "      <th>21.1</th>\n",
       "      <th>21.2</th>\n",
       "      <th>21.3</th>\n",
       "      <th>21.4</th>\n",
       "      <th>21.5</th>\n",
       "    </tr>\n",
       "  </thead>\n",
       "  <tbody>\n",
       "    <tr>\n",
       "      <th>0</th>\n",
       "      <td>Shilo Shiv Suleman</td>\n",
       "      <td>Using tech to enable dreaming</td>\n",
       "      <td>INK Conference</td>\n",
       "      <td>0:07:36</td>\n",
       "      <td>13.259940</td>\n",
       "    </tr>\n",
       "    <tr>\n",
       "      <th>1</th>\n",
       "      <td>Frank Gehry</td>\n",
       "      <td>A master architect asks, Now what?</td>\n",
       "      <td>TED2002</td>\n",
       "      <td>0:22:00</td>\n",
       "      <td>13.763936</td>\n",
       "    </tr>\n",
       "    <tr>\n",
       "      <th>2</th>\n",
       "      <td>Jonathan Drori</td>\n",
       "      <td>The beautiful tricks of flowers</td>\n",
       "      <td>TEDSalon London Spring 2011</td>\n",
       "      <td>0:13:48</td>\n",
       "      <td>13.742830</td>\n",
       "    </tr>\n",
       "    <tr>\n",
       "      <th>3</th>\n",
       "      <td>Caroline Phillips</td>\n",
       "      <td>Hurdy-gurdy for beginners</td>\n",
       "      <td>TEDGlobal 2010</td>\n",
       "      <td>0:05:41</td>\n",
       "      <td>13.354143</td>\n",
       "    </tr>\n",
       "    <tr>\n",
       "      <th>4</th>\n",
       "      <td>Vishal Vaid</td>\n",
       "      <td>Hypnotic South Asian improv music</td>\n",
       "      <td>TED2006</td>\n",
       "      <td>0:13:34</td>\n",
       "      <td>12.926978</td>\n",
       "    </tr>\n",
       "  </tbody>\n",
       "</table>\n",
       "</div>"
      ],
      "text/plain": [
       "                 21.1                                21.2  \\\n",
       "0  Shilo Shiv Suleman       Using tech to enable dreaming   \n",
       "1         Frank Gehry  A master architect asks, Now what?   \n",
       "2      Jonathan Drori     The beautiful tricks of flowers   \n",
       "3   Caroline Phillips           Hurdy-gurdy for beginners   \n",
       "4         Vishal Vaid   Hypnotic South Asian improv music   \n",
       "\n",
       "                          21.3     21.4       21.5  \n",
       "0               INK Conference  0:07:36  13.259940  \n",
       "1                      TED2002  0:22:00  13.763936  \n",
       "2  TEDSalon London Spring 2011  0:13:48  13.742830  \n",
       "3               TEDGlobal 2010  0:05:41  13.354143  \n",
       "4                      TED2006  0:13:34  12.926978  "
      ]
     },
     "execution_count": 13,
     "metadata": {},
     "output_type": "execute_result"
    }
   ],
   "source": [
    "df = pd.read_excel('data.xlsx', sheet_name = 1,nrows=30,skiprows=20,header=None,names=['21.1','21.2','21.3','21.4','21.5'])\n",
    "df.shape\n",
    "df.head()"
   ]
  },
  {
   "cell_type": "code",
   "execution_count": 30,
   "id": "373a690a",
   "metadata": {},
   "outputs": [
    {
     "name": "stdout",
     "output_type": "stream",
     "text": [
      "(105, 5)\n",
      "Rows count ---> 105 and Column count ---> 5\n",
      "\n",
      "<class 'pandas.core.frame.DataFrame'>\n",
      "RangeIndex: 105 entries, 0 to 104\n",
      "Data columns (total 5 columns):\n",
      " #   Column           Non-Null Count  Dtype \n",
      "---  ------           --------------  ----- \n",
      " 0   experience       105 non-null    object\n",
      " 1   job_desig        105 non-null    object\n",
      " 2   location         105 non-null    object\n",
      " 3   salary           105 non-null    object\n",
      " 4   placement_count  105 non-null    int64 \n",
      "dtypes: int64(1), object(4)\n",
      "memory usage: 4.2+ KB\n",
      "None\n",
      "       placement_count\n",
      "count       105.000000\n",
      "mean       2183.628571\n",
      "std        1374.740222\n",
      "min          16.000000\n",
      "25%         921.000000\n",
      "50%        1989.000000\n",
      "75%        3319.000000\n",
      "max        5018.000000\n",
      "\n",
      "Index(['experience', 'job_desig', 'location', 'salary', 'placement_count'], dtype='object')\n"
     ]
    }
   ],
   "source": [
    "df = pd.read_excel('student_placement.xlsx')\n",
    "df.head()\n",
    "s = df.shape\n",
    "print(s)\n",
    "print(f'Rows count ---> {s[0]} and Column count ---> {s[1]}')\n",
    "print()\n",
    "\n",
    "print(df.info())\n",
    "print(df.describe())\n",
    "\n",
    "print()\n",
    "\n",
    "print(df.columns)"
   ]
  },
  {
   "cell_type": "code",
   "execution_count": 29,
   "id": "1ee8140a",
   "metadata": {},
   "outputs": [
    {
     "data": {
      "text/plain": [
       "experience         object\n",
       "job_desig          object\n",
       "location           object\n",
       "salary             object\n",
       "placement_count     int64\n",
       "dtype: object"
      ]
     },
     "execution_count": 29,
     "metadata": {},
     "output_type": "execute_result"
    }
   ],
   "source": [
    "df.dtypes"
   ]
  },
  {
   "cell_type": "code",
   "execution_count": 32,
   "id": "7cdce1f8",
   "metadata": {},
   "outputs": [
    {
     "data": {
      "text/html": [
       "<div>\n",
       "<style scoped>\n",
       "    .dataframe tbody tr th:only-of-type {\n",
       "        vertical-align: middle;\n",
       "    }\n",
       "\n",
       "    .dataframe tbody tr th {\n",
       "        vertical-align: top;\n",
       "    }\n",
       "\n",
       "    .dataframe thead th {\n",
       "        text-align: right;\n",
       "    }\n",
       "</style>\n",
       "<table border=\"1\" class=\"dataframe\">\n",
       "  <thead>\n",
       "    <tr style=\"text-align: right;\">\n",
       "      <th></th>\n",
       "      <th>experience</th>\n",
       "      <th>job_desig</th>\n",
       "      <th>location</th>\n",
       "      <th>salary</th>\n",
       "      <th>placement_count</th>\n",
       "    </tr>\n",
       "  </thead>\n",
       "  <tbody>\n",
       "    <tr>\n",
       "      <th>count</th>\n",
       "      <td>105</td>\n",
       "      <td>105</td>\n",
       "      <td>105</td>\n",
       "      <td>105</td>\n",
       "      <td>105.000000</td>\n",
       "    </tr>\n",
       "    <tr>\n",
       "      <th>unique</th>\n",
       "      <td>41</td>\n",
       "      <td>19</td>\n",
       "      <td>6</td>\n",
       "      <td>6</td>\n",
       "      <td>NaN</td>\n",
       "    </tr>\n",
       "    <tr>\n",
       "      <th>top</th>\n",
       "      <td>2-5 yrs</td>\n",
       "      <td>Analytics</td>\n",
       "      <td>Bengaluru</td>\n",
       "      <td>15to25</td>\n",
       "      <td>NaN</td>\n",
       "    </tr>\n",
       "    <tr>\n",
       "      <th>freq</th>\n",
       "      <td>11</td>\n",
       "      <td>54</td>\n",
       "      <td>33</td>\n",
       "      <td>24</td>\n",
       "      <td>NaN</td>\n",
       "    </tr>\n",
       "    <tr>\n",
       "      <th>mean</th>\n",
       "      <td>NaN</td>\n",
       "      <td>NaN</td>\n",
       "      <td>NaN</td>\n",
       "      <td>NaN</td>\n",
       "      <td>2183.628571</td>\n",
       "    </tr>\n",
       "    <tr>\n",
       "      <th>std</th>\n",
       "      <td>NaN</td>\n",
       "      <td>NaN</td>\n",
       "      <td>NaN</td>\n",
       "      <td>NaN</td>\n",
       "      <td>1374.740222</td>\n",
       "    </tr>\n",
       "    <tr>\n",
       "      <th>min</th>\n",
       "      <td>NaN</td>\n",
       "      <td>NaN</td>\n",
       "      <td>NaN</td>\n",
       "      <td>NaN</td>\n",
       "      <td>16.000000</td>\n",
       "    </tr>\n",
       "    <tr>\n",
       "      <th>25%</th>\n",
       "      <td>NaN</td>\n",
       "      <td>NaN</td>\n",
       "      <td>NaN</td>\n",
       "      <td>NaN</td>\n",
       "      <td>921.000000</td>\n",
       "    </tr>\n",
       "    <tr>\n",
       "      <th>50%</th>\n",
       "      <td>NaN</td>\n",
       "      <td>NaN</td>\n",
       "      <td>NaN</td>\n",
       "      <td>NaN</td>\n",
       "      <td>1989.000000</td>\n",
       "    </tr>\n",
       "    <tr>\n",
       "      <th>75%</th>\n",
       "      <td>NaN</td>\n",
       "      <td>NaN</td>\n",
       "      <td>NaN</td>\n",
       "      <td>NaN</td>\n",
       "      <td>3319.000000</td>\n",
       "    </tr>\n",
       "    <tr>\n",
       "      <th>max</th>\n",
       "      <td>NaN</td>\n",
       "      <td>NaN</td>\n",
       "      <td>NaN</td>\n",
       "      <td>NaN</td>\n",
       "      <td>5018.000000</td>\n",
       "    </tr>\n",
       "  </tbody>\n",
       "</table>\n",
       "</div>"
      ],
      "text/plain": [
       "       experience  job_desig   location  salary  placement_count\n",
       "count         105        105        105     105       105.000000\n",
       "unique         41         19          6       6              NaN\n",
       "top       2-5 yrs  Analytics  Bengaluru  15to25              NaN\n",
       "freq           11         54         33      24              NaN\n",
       "mean          NaN        NaN        NaN     NaN      2183.628571\n",
       "std           NaN        NaN        NaN     NaN      1374.740222\n",
       "min           NaN        NaN        NaN     NaN        16.000000\n",
       "25%           NaN        NaN        NaN     NaN       921.000000\n",
       "50%           NaN        NaN        NaN     NaN      1989.000000\n",
       "75%           NaN        NaN        NaN     NaN      3319.000000\n",
       "max           NaN        NaN        NaN     NaN      5018.000000"
      ]
     },
     "execution_count": 32,
     "metadata": {},
     "output_type": "execute_result"
    }
   ],
   "source": [
    "df.describe(include='all')"
   ]
  },
  {
   "cell_type": "code",
   "execution_count": 35,
   "id": "a89d1924",
   "metadata": {},
   "outputs": [
    {
     "name": "stdout",
     "output_type": "stream",
     "text": [
      "     job_desig\n",
      "0    Analytics\n",
      "1    Analytics\n",
      "2       Growth\n",
      "3    Analytics\n",
      "4    Analytics\n",
      "..         ...\n",
      "100       Data\n",
      "101  Analytics\n",
      "102  Analytics\n",
      "103     Senior\n",
      "104  Analytics\n",
      "\n",
      "[105 rows x 1 columns]\n",
      "<class 'pandas.core.frame.DataFrame'>\n"
     ]
    }
   ],
   "source": [
    "print(df[['job_desig']])\n",
    "print(type(df[['job_desig']]))"
   ]
  },
  {
   "cell_type": "code",
   "execution_count": 36,
   "id": "02456ee3",
   "metadata": {},
   "outputs": [
    {
     "name": "stdout",
     "output_type": "stream",
     "text": [
      "0      Analytics\n",
      "1      Analytics\n",
      "2         Growth\n",
      "3      Analytics\n",
      "4      Analytics\n",
      "         ...    \n",
      "100         Data\n",
      "101    Analytics\n",
      "102    Analytics\n",
      "103       Senior\n",
      "104    Analytics\n",
      "Name: job_desig, Length: 105, dtype: object\n"
     ]
    }
   ],
   "source": [
    "print(df['job_desig'])"
   ]
  },
  {
   "cell_type": "code",
   "execution_count": 38,
   "id": "3a599ae3",
   "metadata": {},
   "outputs": [
    {
     "name": "stdout",
     "output_type": "stream",
     "text": [
      "<class 'pandas.core.series.Series'>\n"
     ]
    }
   ],
   "source": [
    "print(type(df['job_desig']))"
   ]
  },
  {
   "cell_type": "code",
   "execution_count": 3,
   "id": "b98c63bc",
   "metadata": {},
   "outputs": [
    {
     "data": {
      "text/plain": [
       "<bound method NDFrame.head of     experience  salary\n",
       "0      2-4 yrs   6to10\n",
       "1     5-10 yrs   6to10\n",
       "2      3-8 yrs  15to25\n",
       "3      2-6 yrs   6to10\n",
       "4      6-8 yrs  25to50\n",
       "..         ...     ...\n",
       "100    6-9 yrs  15to25\n",
       "101    4-8 yrs    3to6\n",
       "102   8-13 yrs  25to50\n",
       "103    1-6 yrs  15to25\n",
       "104    1-3 yrs  10to15\n",
       "\n",
       "[105 rows x 2 columns]>"
      ]
     },
     "execution_count": 3,
     "metadata": {},
     "output_type": "execute_result"
    }
   ],
   "source": [
    "newco = ['experience','salary']\n",
    "\n",
    "df1 = df[newco]\n",
    "\n",
    "df1.head\n",
    "\n",
    "#print(type(df1))"
   ]
  },
  {
   "cell_type": "code",
   "execution_count": null,
   "id": "be1eb176",
   "metadata": {},
   "outputs": [],
   "source": []
  },
  {
   "cell_type": "code",
   "execution_count": null,
   "id": "e57626c1",
   "metadata": {},
   "outputs": [],
   "source": []
  },
  {
   "cell_type": "code",
   "execution_count": null,
   "id": "654eb4d2",
   "metadata": {},
   "outputs": [],
   "source": []
  }
 ],
 "metadata": {
  "kernelspec": {
   "display_name": "Python 3 (ipykernel)",
   "language": "python",
   "name": "python3"
  },
  "language_info": {
   "codemirror_mode": {
    "name": "ipython",
    "version": 3
   },
   "file_extension": ".py",
   "mimetype": "text/x-python",
   "name": "python",
   "nbconvert_exporter": "python",
   "pygments_lexer": "ipython3",
   "version": "3.12.4"
  }
 },
 "nbformat": 4,
 "nbformat_minor": 5
}
