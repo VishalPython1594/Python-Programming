{
 "cells": [
  {
   "cell_type": "markdown",
   "id": "3e2b6211",
   "metadata": {},
   "source": [
    "# Pandas Basic Operations\n",
    "\n",
    "- understand about the columns or rows\n",
    "- understand the nature of them...\n"
   ]
  },
  {
   "cell_type": "code",
   "execution_count": 2,
   "id": "3538b1a9",
   "metadata": {},
   "outputs": [],
   "source": [
    "import numpy as np\n",
    "import pandas as pd"
   ]
  },
  {
   "cell_type": "code",
   "execution_count": 3,
   "id": "31848f11",
   "metadata": {},
   "outputs": [],
   "source": [
    "# step 1 -> check if data is sucessfully reaad and if its in the some tabular format"
   ]
  },
  {
   "cell_type": "code",
   "execution_count": 6,
   "id": "b1bd052d",
   "metadata": {},
   "outputs": [
    {
     "name": "stdout",
     "output_type": "stream",
     "text": [
      "  experience  job_desig   location  salary  placement_count\n",
      "0    2-4 yrs  Analytics     Mumbai   6to10             4479\n",
      "1   5-10 yrs  Analytics  Delhi NCR   6to10             1969\n",
      "2    3-8 yrs     Growth     Mumbai  15to25             3319\n",
      "3    2-6 yrs  Analytics  Bengaluru   6to10              330\n",
      "4    6-8 yrs  Analytics  Delhi NCR  25to50             2665\n"
     ]
    }
   ],
   "source": [
    "# dataframe - df\n",
    "df = pd.read_excel('student_placement.xlsx')\n",
    "print( df.head() )"
   ]
  },
  {
   "cell_type": "code",
   "execution_count": null,
   "id": "046c98d4",
   "metadata": {},
   "outputs": [],
   "source": []
  },
  {
   "cell_type": "code",
   "execution_count": 8,
   "id": "688751e0",
   "metadata": {},
   "outputs": [
    {
     "name": "stdout",
     "output_type": "stream",
     "text": [
      "(105, 5)\n",
      "105\n",
      "5\n"
     ]
    }
   ],
   "source": [
    "# Shape of the dataset\n",
    "print( df.shape ) # rows and columns count\n",
    "\n",
    "print( df.shape[0] ) # rows count   - use loop\n",
    "print( df.shape[1] ) # columns count - use loop\n",
    "\n"
   ]
  },
  {
   "cell_type": "code",
   "execution_count": 13,
   "id": "0255a5e8",
   "metadata": {},
   "outputs": [
    {
     "name": "stdout",
     "output_type": "stream",
     "text": [
      "  experience  job_desig   location  salary  placement_count\n",
      "0    2-4 yrs  Analytics     Mumbai   6to10             4479\n",
      "1   5-10 yrs  Analytics  Delhi NCR   6to10             1969\n",
      "2    3-8 yrs     Growth     Mumbai  15to25             3319\n",
      "3    2-6 yrs  Analytics  Bengaluru   6to10              330\n",
      "4    6-8 yrs  Analytics  Delhi NCR  25to50             2665\n",
      "\n",
      "  experience  job_desig   location  salary  placement_count\n",
      "0    2-4 yrs  Analytics     Mumbai   6to10             4479\n",
      "1   5-10 yrs  Analytics  Delhi NCR   6to10             1969\n",
      "2    3-8 yrs     Growth     Mumbai  15to25             3319\n",
      "\n",
      "  experience   job_desig   location  salary  placement_count\n",
      "0    2-4 yrs   Analytics     Mumbai   6to10             4479\n",
      "1   5-10 yrs   Analytics  Delhi NCR   6to10             1969\n",
      "2    3-8 yrs      Growth     Mumbai  15to25             3319\n",
      "3    2-6 yrs   Analytics  Bengaluru   6to10              330\n",
      "4    6-8 yrs   Analytics  Delhi NCR  25to50             2665\n",
      "5    2-5 yrs  Consultant  Bengaluru    3to6              314\n",
      "6   5-10 yrs   Analytics    Chennai  10to15             3382\n",
      "7   8-13 yrs    Industry    Chennai  15to25             2922\n",
      "8   5-10 yrs        Data  Bengaluru  15to25             2807\n",
      "9   6-11 yrs        Data     Mumbai   6to10             1176\n"
     ]
    }
   ],
   "source": [
    "# head -> display the top records of the dataset\n",
    "# default is 5 \n",
    "# dfName.head(count)\n",
    "\n",
    "print( df.head() )\n",
    "print()\n",
    "print( df.head(3) )\n",
    "print()\n",
    "print( df.head(10) )\n"
   ]
  },
  {
   "cell_type": "code",
   "execution_count": 14,
   "id": "412009ec",
   "metadata": {},
   "outputs": [
    {
     "name": "stdout",
     "output_type": "stream",
     "text": [
      "    experience  job_desig   location  salary  placement_count\n",
      "100    6-9 yrs       Data  Bengaluru  15to25             3076\n",
      "101    4-8 yrs  Analytics     Mumbai    3to6             3767\n",
      "102   8-13 yrs  Analytics  Delhi NCR  25to50             2574\n",
      "103    1-6 yrs     Senior  Bengaluru  15to25             1217\n",
      "104    1-3 yrs  Analytics    Chennai  10to15              860\n",
      "\n",
      "    experience  job_desig   location  salary  placement_count\n",
      "102   8-13 yrs  Analytics  Delhi NCR  25to50             2574\n",
      "103    1-6 yrs     Senior  Bengaluru  15to25             1217\n",
      "104    1-3 yrs  Analytics    Chennai  10to15              860\n",
      "\n",
      "    experience  job_desig   location  salary  placement_count\n",
      "95     3-5 yrs       Data     Mumbai  10to15             4904\n",
      "96    7-11 yrs       Data  Ahmedabad  10to15             1301\n",
      "97   11-15 yrs   Business  Bengaluru  15to25              280\n",
      "98     4-9 yrs  Analytics     Mumbai  10to15             1863\n",
      "99     3-8 yrs     Growth     Mumbai  15to25             3319\n",
      "100    6-9 yrs       Data  Bengaluru  15to25             3076\n",
      "101    4-8 yrs  Analytics     Mumbai    3to6             3767\n",
      "102   8-13 yrs  Analytics  Delhi NCR  25to50             2574\n",
      "103    1-6 yrs     Senior  Bengaluru  15to25             1217\n",
      "104    1-3 yrs  Analytics    Chennai  10to15              860\n"
     ]
    }
   ],
   "source": [
    "# tail -> display the bottom records of the dataset\n",
    "# default is 5 \n",
    "# dfName.tail(count)\n",
    "\n",
    "print( df.tail() )\n",
    "print()\n",
    "print( df.tail(3) )\n",
    "print()\n",
    "print( df.tail(10) )\n"
   ]
  },
  {
   "cell_type": "code",
   "execution_count": null,
   "id": "d570affd",
   "metadata": {},
   "outputs": [],
   "source": []
  },
  {
   "cell_type": "code",
   "execution_count": 16,
   "id": "df8657fe",
   "metadata": {},
   "outputs": [
    {
     "name": "stdout",
     "output_type": "stream",
     "text": [
      "<class 'pandas.core.frame.DataFrame'>\n",
      "RangeIndex: 105 entries, 0 to 104\n",
      "Data columns (total 5 columns):\n",
      " #   Column           Non-Null Count  Dtype \n",
      "---  ------           --------------  ----- \n",
      " 0   experience       105 non-null    object\n",
      " 1   job_desig        105 non-null    object\n",
      " 2   location         105 non-null    object\n",
      " 3   salary           105 non-null    object\n",
      " 4   placement_count  105 non-null    int64 \n",
      "dtypes: int64(1), object(4)\n",
      "memory usage: 4.2+ KB\n"
     ]
    }
   ],
   "source": [
    "# info : define the structure of the dataset\n",
    "df.info()\n",
    "\n",
    "# datatype\n",
    "# count of columns and rows\n",
    "# column names\n",
    "# datatypes (int64 -> integer, object -> sring , float64 -> float, bool ...)\n",
    "# Memory Usage as per PVM\n"
   ]
  },
  {
   "cell_type": "code",
   "execution_count": null,
   "id": "d320caa5",
   "metadata": {},
   "outputs": [],
   "source": []
  },
  {
   "cell_type": "code",
   "execution_count": 17,
   "id": "9fd090e1",
   "metadata": {},
   "outputs": [
    {
     "data": {
      "text/plain": [
       "pandas.core.frame.DataFrame"
      ]
     },
     "execution_count": 17,
     "metadata": {},
     "output_type": "execute_result"
    }
   ],
   "source": [
    "# datatype\n",
    "type(df)"
   ]
  },
  {
   "cell_type": "code",
   "execution_count": null,
   "id": "6f663ab9",
   "metadata": {},
   "outputs": [],
   "source": []
  },
  {
   "cell_type": "code",
   "execution_count": 19,
   "id": "67fdd881",
   "metadata": {},
   "outputs": [
    {
     "name": "stdout",
     "output_type": "stream",
     "text": [
      "Index(['experience', 'job_desig', 'location', 'salary', 'placement_count'], dtype='object')\n"
     ]
    }
   ],
   "source": [
    "# column names\n",
    "print( df.columns )\n"
   ]
  },
  {
   "cell_type": "code",
   "execution_count": null,
   "id": "d25d2fb8",
   "metadata": {},
   "outputs": [],
   "source": []
  },
  {
   "cell_type": "code",
   "execution_count": 20,
   "id": "6c9934cc",
   "metadata": {},
   "outputs": [
    {
     "data": {
      "text/plain": [
       "experience         object\n",
       "job_desig          object\n",
       "location           object\n",
       "salary             object\n",
       "placement_count     int64\n",
       "dtype: object"
      ]
     },
     "execution_count": 20,
     "metadata": {},
     "output_type": "execute_result"
    }
   ],
   "source": [
    "# Datatypes\n",
    "\n",
    "df.dtypes"
   ]
  },
  {
   "cell_type": "code",
   "execution_count": null,
   "id": "92efe1f6",
   "metadata": {},
   "outputs": [],
   "source": []
  },
  {
   "cell_type": "code",
   "execution_count": 22,
   "id": "fd6bd398",
   "metadata": {},
   "outputs": [
    {
     "data": {
      "text/html": [
       "<div>\n",
       "<style scoped>\n",
       "    .dataframe tbody tr th:only-of-type {\n",
       "        vertical-align: middle;\n",
       "    }\n",
       "\n",
       "    .dataframe tbody tr th {\n",
       "        vertical-align: top;\n",
       "    }\n",
       "\n",
       "    .dataframe thead th {\n",
       "        text-align: right;\n",
       "    }\n",
       "</style>\n",
       "<table border=\"1\" class=\"dataframe\">\n",
       "  <thead>\n",
       "    <tr style=\"text-align: right;\">\n",
       "      <th></th>\n",
       "      <th>placement_count</th>\n",
       "    </tr>\n",
       "  </thead>\n",
       "  <tbody>\n",
       "    <tr>\n",
       "      <th>count</th>\n",
       "      <td>105.000000</td>\n",
       "    </tr>\n",
       "    <tr>\n",
       "      <th>mean</th>\n",
       "      <td>2183.628571</td>\n",
       "    </tr>\n",
       "    <tr>\n",
       "      <th>std</th>\n",
       "      <td>1374.740222</td>\n",
       "    </tr>\n",
       "    <tr>\n",
       "      <th>min</th>\n",
       "      <td>16.000000</td>\n",
       "    </tr>\n",
       "    <tr>\n",
       "      <th>25%</th>\n",
       "      <td>921.000000</td>\n",
       "    </tr>\n",
       "    <tr>\n",
       "      <th>50%</th>\n",
       "      <td>1989.000000</td>\n",
       "    </tr>\n",
       "    <tr>\n",
       "      <th>75%</th>\n",
       "      <td>3319.000000</td>\n",
       "    </tr>\n",
       "    <tr>\n",
       "      <th>max</th>\n",
       "      <td>5018.000000</td>\n",
       "    </tr>\n",
       "  </tbody>\n",
       "</table>\n",
       "</div>"
      ],
      "text/plain": [
       "       placement_count\n",
       "count       105.000000\n",
       "mean       2183.628571\n",
       "std        1374.740222\n",
       "min          16.000000\n",
       "25%         921.000000\n",
       "50%        1989.000000\n",
       "75%        3319.000000\n",
       "max        5018.000000"
      ]
     },
     "execution_count": 22,
     "metadata": {},
     "output_type": "execute_result"
    }
   ],
   "source": [
    "# describe - statistics of columns\n",
    "\n",
    "df.describe()"
   ]
  },
  {
   "cell_type": "code",
   "execution_count": 23,
   "id": "48f904fd",
   "metadata": {},
   "outputs": [
    {
     "data": {
      "text/html": [
       "<div>\n",
       "<style scoped>\n",
       "    .dataframe tbody tr th:only-of-type {\n",
       "        vertical-align: middle;\n",
       "    }\n",
       "\n",
       "    .dataframe tbody tr th {\n",
       "        vertical-align: top;\n",
       "    }\n",
       "\n",
       "    .dataframe thead th {\n",
       "        text-align: right;\n",
       "    }\n",
       "</style>\n",
       "<table border=\"1\" class=\"dataframe\">\n",
       "  <thead>\n",
       "    <tr style=\"text-align: right;\">\n",
       "      <th></th>\n",
       "      <th>experience</th>\n",
       "      <th>job_desig</th>\n",
       "      <th>location</th>\n",
       "      <th>salary</th>\n",
       "      <th>placement_count</th>\n",
       "    </tr>\n",
       "  </thead>\n",
       "  <tbody>\n",
       "    <tr>\n",
       "      <th>count</th>\n",
       "      <td>105</td>\n",
       "      <td>105</td>\n",
       "      <td>105</td>\n",
       "      <td>105</td>\n",
       "      <td>105.000000</td>\n",
       "    </tr>\n",
       "    <tr>\n",
       "      <th>unique</th>\n",
       "      <td>41</td>\n",
       "      <td>19</td>\n",
       "      <td>6</td>\n",
       "      <td>6</td>\n",
       "      <td>NaN</td>\n",
       "    </tr>\n",
       "    <tr>\n",
       "      <th>top</th>\n",
       "      <td>2-5 yrs</td>\n",
       "      <td>Analytics</td>\n",
       "      <td>Bengaluru</td>\n",
       "      <td>15to25</td>\n",
       "      <td>NaN</td>\n",
       "    </tr>\n",
       "    <tr>\n",
       "      <th>freq</th>\n",
       "      <td>11</td>\n",
       "      <td>54</td>\n",
       "      <td>33</td>\n",
       "      <td>24</td>\n",
       "      <td>NaN</td>\n",
       "    </tr>\n",
       "    <tr>\n",
       "      <th>mean</th>\n",
       "      <td>NaN</td>\n",
       "      <td>NaN</td>\n",
       "      <td>NaN</td>\n",
       "      <td>NaN</td>\n",
       "      <td>2183.628571</td>\n",
       "    </tr>\n",
       "    <tr>\n",
       "      <th>std</th>\n",
       "      <td>NaN</td>\n",
       "      <td>NaN</td>\n",
       "      <td>NaN</td>\n",
       "      <td>NaN</td>\n",
       "      <td>1374.740222</td>\n",
       "    </tr>\n",
       "    <tr>\n",
       "      <th>min</th>\n",
       "      <td>NaN</td>\n",
       "      <td>NaN</td>\n",
       "      <td>NaN</td>\n",
       "      <td>NaN</td>\n",
       "      <td>16.000000</td>\n",
       "    </tr>\n",
       "    <tr>\n",
       "      <th>25%</th>\n",
       "      <td>NaN</td>\n",
       "      <td>NaN</td>\n",
       "      <td>NaN</td>\n",
       "      <td>NaN</td>\n",
       "      <td>921.000000</td>\n",
       "    </tr>\n",
       "    <tr>\n",
       "      <th>50%</th>\n",
       "      <td>NaN</td>\n",
       "      <td>NaN</td>\n",
       "      <td>NaN</td>\n",
       "      <td>NaN</td>\n",
       "      <td>1989.000000</td>\n",
       "    </tr>\n",
       "    <tr>\n",
       "      <th>75%</th>\n",
       "      <td>NaN</td>\n",
       "      <td>NaN</td>\n",
       "      <td>NaN</td>\n",
       "      <td>NaN</td>\n",
       "      <td>3319.000000</td>\n",
       "    </tr>\n",
       "    <tr>\n",
       "      <th>max</th>\n",
       "      <td>NaN</td>\n",
       "      <td>NaN</td>\n",
       "      <td>NaN</td>\n",
       "      <td>NaN</td>\n",
       "      <td>5018.000000</td>\n",
       "    </tr>\n",
       "  </tbody>\n",
       "</table>\n",
       "</div>"
      ],
      "text/plain": [
       "       experience  job_desig   location  salary  placement_count\n",
       "count         105        105        105     105       105.000000\n",
       "unique         41         19          6       6              NaN\n",
       "top       2-5 yrs  Analytics  Bengaluru  15to25              NaN\n",
       "freq           11         54         33      24              NaN\n",
       "mean          NaN        NaN        NaN     NaN      2183.628571\n",
       "std           NaN        NaN        NaN     NaN      1374.740222\n",
       "min           NaN        NaN        NaN     NaN        16.000000\n",
       "25%           NaN        NaN        NaN     NaN       921.000000\n",
       "50%           NaN        NaN        NaN     NaN      1989.000000\n",
       "75%           NaN        NaN        NaN     NaN      3319.000000\n",
       "max           NaN        NaN        NaN     NaN      5018.000000"
      ]
     },
     "execution_count": 23,
     "metadata": {},
     "output_type": "execute_result"
    }
   ],
   "source": [
    "# describe - statistics of columns\n",
    "\n",
    "df.describe(include='all')"
   ]
  },
  {
   "cell_type": "code",
   "execution_count": null,
   "id": "05f24054",
   "metadata": {},
   "outputs": [],
   "source": []
  },
  {
   "cell_type": "code",
   "execution_count": 28,
   "id": "672494da",
   "metadata": {},
   "outputs": [
    {
     "name": "stdout",
     "output_type": "stream",
     "text": [
      "      location\n",
      "0       Mumbai\n",
      "1    Delhi NCR\n",
      "2       Mumbai\n",
      "3    Bengaluru\n",
      "4    Delhi NCR\n",
      "..         ...\n",
      "100  Bengaluru\n",
      "101     Mumbai\n",
      "102  Delhi NCR\n",
      "103  Bengaluru\n",
      "104    Chennai\n",
      "\n",
      "[105 rows x 1 columns]\n",
      "<class 'pandas.core.frame.DataFrame'>\n",
      "(105, 1)\n"
     ]
    }
   ],
   "source": [
    "# Read the column\n",
    "# dfName[[colname]]\n",
    "# dfName[[c1, c2 , ...]]\n",
    "\n",
    "selected_col = df[['location']]\n",
    "print( selected_col )\n",
    "print( type( selected_col ) )\n",
    "print( selected_col.shape )"
   ]
  },
  {
   "cell_type": "code",
   "execution_count": 30,
   "id": "01eafc25",
   "metadata": {},
   "outputs": [
    {
     "name": "stdout",
     "output_type": "stream",
     "text": [
      "      location experience\n",
      "0       Mumbai    2-4 yrs\n",
      "1    Delhi NCR   5-10 yrs\n",
      "2       Mumbai    3-8 yrs\n",
      "3    Bengaluru    2-6 yrs\n",
      "4    Delhi NCR    6-8 yrs\n",
      "..         ...        ...\n",
      "100  Bengaluru    6-9 yrs\n",
      "101     Mumbai    4-8 yrs\n",
      "102  Delhi NCR   8-13 yrs\n",
      "103  Bengaluru    1-6 yrs\n",
      "104    Chennai    1-3 yrs\n",
      "\n",
      "[105 rows x 2 columns]\n",
      "<class 'pandas.core.frame.DataFrame'>\n",
      "(105, 2)\n"
     ]
    }
   ],
   "source": [
    "# Read the column\n",
    "# dfName[[colname]]\n",
    "# dfName[[c1, c2 , ...]]\n",
    "\n",
    "selected_col = df[['location', \"experience\"]] # Can be used to rearrange the columns\n",
    "print( selected_col )\n",
    "print( type( selected_col ) )\n",
    "print( selected_col.shape )"
   ]
  },
  {
   "cell_type": "code",
   "execution_count": 33,
   "id": "1cf10ec5",
   "metadata": {},
   "outputs": [
    {
     "name": "stdout",
     "output_type": "stream",
     "text": [
      "    location experience  placement_count  job_desig\n",
      "0     Mumbai    2-4 yrs             4479  Analytics\n",
      "1  Delhi NCR   5-10 yrs             1969  Analytics\n",
      "2     Mumbai    3-8 yrs             3319     Growth\n",
      "3  Bengaluru    2-6 yrs              330  Analytics\n",
      "4  Delhi NCR    6-8 yrs             2665  Analytics\n",
      "<class 'pandas.core.frame.DataFrame'>\n",
      "(105, 4)\n"
     ]
    }
   ],
   "source": [
    "# Read the column\n",
    "# dfName[[colname]]\n",
    "# dfName[[c1, c2 , ...]]\n",
    "\n",
    "colNames = ['location', \"experience\", 'placement_count' , \"job_desig\"]\n",
    "newDf = df[colNames] # Can be used to rearrange the columns\n",
    "print( newDf.head() )\n",
    "print( type( selected_col ) )\n",
    "print( newDf.shape )"
   ]
  },
  {
   "cell_type": "code",
   "execution_count": null,
   "id": "7b533ed0",
   "metadata": {},
   "outputs": [],
   "source": []
  },
  {
   "cell_type": "code",
   "execution_count": 38,
   "id": "f1d49abe",
   "metadata": {},
   "outputs": [
    {
     "name": "stdout",
     "output_type": "stream",
     "text": [
      "0       Mumbai\n",
      "1    Delhi NCR\n",
      "2       Mumbai\n",
      "3    Bengaluru\n",
      "4    Delhi NCR\n",
      "Name: location, dtype: object\n",
      "<class 'pandas.core.series.Series'>\n",
      "(105,)\n"
     ]
    }
   ],
   "source": [
    "# Read SINGLE column as a series\n",
    "# dfName[colname]\n",
    "\n",
    "selected_col = df['location']\n",
    "print( selected_col.head() )\n",
    "print( type( selected_col ) )\n",
    "print( selected_col.shape )"
   ]
  },
  {
   "cell_type": "code",
   "execution_count": null,
   "id": "90ceeb67",
   "metadata": {},
   "outputs": [],
   "source": []
  },
  {
   "cell_type": "code",
   "execution_count": 39,
   "id": "292758df",
   "metadata": {},
   "outputs": [
    {
     "name": "stdout",
     "output_type": "stream",
     "text": [
      "['T', '_AXIS_LEN', '_AXIS_ORDERS', '_AXIS_TO_AXIS_NUMBER', '_HANDLED_TYPES', '__abs__', '__add__', '__and__', '__annotations__', '__array__', '__array_priority__', '__array_ufunc__', '__bool__', '__class__', '__contains__', '__copy__', '__dataframe__', '__deepcopy__', '__delattr__', '__delitem__', '__dict__', '__dir__', '__divmod__', '__doc__', '__eq__', '__finalize__', '__floordiv__', '__format__', '__ge__', '__getattr__', '__getattribute__', '__getitem__', '__getstate__', '__gt__', '__hash__', '__iadd__', '__iand__', '__ifloordiv__', '__imod__', '__imul__', '__init__', '__init_subclass__', '__invert__', '__ior__', '__ipow__', '__isub__', '__iter__', '__itruediv__', '__ixor__', '__le__', '__len__', '__lt__', '__matmul__', '__mod__', '__module__', '__mul__', '__ne__', '__neg__', '__new__', '__nonzero__', '__or__', '__pos__', '__pow__', '__radd__', '__rand__', '__rdivmod__', '__reduce__', '__reduce_ex__', '__repr__', '__rfloordiv__', '__rmatmul__', '__rmod__', '__rmul__', '__ror__', '__round__', '__rpow__', '__rsub__', '__rtruediv__', '__rxor__', '__setattr__', '__setitem__', '__setstate__', '__sizeof__', '__str__', '__sub__', '__subclasshook__', '__truediv__', '__weakref__', '__xor__', '_accessors', '_accum_func', '_add_numeric_operations', '_agg_examples_doc', '_agg_summary_and_see_also_doc', '_align_frame', '_align_series', '_append', '_arith_method', '_as_manager', '_attrs', '_box_col_values', '_can_fast_transpose', '_check_inplace_and_allows_duplicate_labels', '_check_inplace_setting', '_check_is_chained_assignment_possible', '_check_label_or_level_ambiguity', '_check_setitem_copy', '_clear_item_cache', '_clip_with_one_bound', '_clip_with_scalar', '_cmp_method', '_combine_frame', '_consolidate', '_consolidate_inplace', '_construct_axes_dict', '_construct_result', '_constructor', '_constructor_sliced', '_create_data_for_split_and_tight_to_dict', '_data', '_dir_additions', '_dir_deletions', '_dispatch_frame_op', '_drop_axis', '_drop_labels_or_levels', '_ensure_valid_index', '_find_valid_index', '_flags', '_from_arrays', '_get_agg_axis', '_get_axis', '_get_axis_name', '_get_axis_number', '_get_axis_resolvers', '_get_block_manager_axis', '_get_bool_data', '_get_cleaned_column_resolvers', '_get_column_array', '_get_index_resolvers', '_get_item_cache', '_get_label_or_level_values', '_get_numeric_data', '_get_value', '_getitem_bool_array', '_getitem_multilevel', '_getitem_nocopy', '_gotitem', '_hidden_attrs', '_indexed_same', '_info_axis', '_info_axis_name', '_info_axis_number', '_info_repr', '_init_mgr', '_inplace_method', '_internal_names', '_internal_names_set', '_is_copy', '_is_homogeneous_type', '_is_label_or_level_reference', '_is_label_reference', '_is_level_reference', '_is_mixed_type', '_is_view', '_iset_item', '_iset_item_mgr', '_iset_not_inplace', '_item_cache', '_iter_column_arrays', '_ixs', '_join_compat', '_logical_func', '_logical_method', '_maybe_cache_changed', '_maybe_update_cacher', '_metadata', '_mgr', '_min_count_stat_function', '_needs_reindex_multi', '_protect_consolidate', '_reduce', '_reduce_axis1', '_reindex_axes', '_reindex_columns', '_reindex_index', '_reindex_multi', '_reindex_with_indexers', '_rename', '_replace_columnwise', '_repr_data_resource_', '_repr_fits_horizontal_', '_repr_fits_vertical_', '_repr_html_', '_repr_latex_', '_reset_cache', '_reset_cacher', '_sanitize_column', '_series', '_set_axis', '_set_axis_name', '_set_axis_nocheck', '_set_is_copy', '_set_item', '_set_item_frame_value', '_set_item_mgr', '_set_value', '_setitem_array', '_setitem_frame', '_setitem_slice', '_slice', '_stat_axis', '_stat_axis_name', '_stat_axis_number', '_stat_function', '_stat_function_ddof', '_take', '_take_with_is_copy', '_to_dict_of_blocks', '_to_latex_via_styler', '_typ', '_update_inplace', '_validate_dtype', '_values', '_where', 'abs', 'add', 'add_prefix', 'add_suffix', 'agg', 'aggregate', 'align', 'all', 'any', 'apply', 'applymap', 'asfreq', 'asof', 'assign', 'astype', 'at', 'at_time', 'attrs', 'axes', 'backfill', 'between_time', 'bfill', 'bool', 'boxplot', 'clip', 'columns', 'combine', 'combine_first', 'compare', 'convert_dtypes', 'copy', 'corr', 'corrwith', 'count', 'cov', 'cummax', 'cummin', 'cumprod', 'cumsum', 'describe', 'diff', 'div', 'divide', 'dot', 'drop', 'drop_duplicates', 'droplevel', 'dropna', 'dtypes', 'duplicated', 'empty', 'eq', 'equals', 'eval', 'ewm', 'expanding', 'experience', 'explode', 'ffill', 'fillna', 'filter', 'first', 'first_valid_index', 'flags', 'floordiv', 'from_dict', 'from_records', 'ge', 'get', 'groupby', 'gt', 'head', 'hist', 'iat', 'idxmax', 'idxmin', 'iloc', 'index', 'infer_objects', 'info', 'insert', 'interpolate', 'isetitem', 'isin', 'isna', 'isnull', 'items', 'iterrows', 'itertuples', 'job_desig', 'join', 'keys', 'kurt', 'kurtosis', 'last', 'last_valid_index', 'le', 'loc', 'location', 'lt', 'mask', 'max', 'mean', 'median', 'melt', 'memory_usage', 'merge', 'min', 'mod', 'mode', 'mul', 'multiply', 'ndim', 'ne', 'nlargest', 'notna', 'notnull', 'nsmallest', 'nunique', 'pad', 'pct_change', 'pipe', 'pivot', 'pivot_table', 'placement_count', 'plot', 'pop', 'pow', 'prod', 'product', 'quantile', 'query', 'radd', 'rank', 'rdiv', 'reindex', 'reindex_like', 'rename', 'rename_axis', 'reorder_levels', 'replace', 'resample', 'reset_index', 'rfloordiv', 'rmod', 'rmul', 'rolling', 'round', 'rpow', 'rsub', 'rtruediv', 'salary', 'sample', 'select_dtypes', 'sem', 'set_axis', 'set_flags', 'set_index', 'shape', 'shift', 'size', 'skew', 'sort_index', 'sort_values', 'squeeze', 'stack', 'std', 'style', 'sub', 'subtract', 'sum', 'swapaxes', 'swaplevel', 'tail', 'take', 'to_clipboard', 'to_csv', 'to_dict', 'to_excel', 'to_feather', 'to_gbq', 'to_hdf', 'to_html', 'to_json', 'to_latex', 'to_markdown', 'to_numpy', 'to_orc', 'to_parquet', 'to_period', 'to_pickle', 'to_records', 'to_sql', 'to_stata', 'to_string', 'to_timestamp', 'to_xarray', 'to_xml', 'transform', 'transpose', 'truediv', 'truncate', 'tz_convert', 'tz_localize', 'unstack', 'update', 'value_counts', 'values', 'var', 'where', 'xs']\n"
     ]
    }
   ],
   "source": [
    "print( dir(df) )"
   ]
  },
  {
   "cell_type": "code",
   "execution_count": null,
   "id": "e1941cae",
   "metadata": {},
   "outputs": [],
   "source": []
  },
  {
   "cell_type": "code",
   "execution_count": null,
   "id": "87b7ae43",
   "metadata": {},
   "outputs": [],
   "source": []
  },
  {
   "cell_type": "code",
   "execution_count": null,
   "id": "e1b372df",
   "metadata": {},
   "outputs": [],
   "source": []
  },
  {
   "cell_type": "code",
   "execution_count": null,
   "id": "97c0de65",
   "metadata": {},
   "outputs": [],
   "source": []
  },
  {
   "cell_type": "code",
   "execution_count": 24,
   "id": "56dad91e",
   "metadata": {},
   "outputs": [],
   "source": [
    "# Unique Values"
   ]
  },
  {
   "cell_type": "code",
   "execution_count": null,
   "id": "aa00800a",
   "metadata": {},
   "outputs": [],
   "source": []
  },
  {
   "cell_type": "code",
   "execution_count": null,
   "id": "2287209f",
   "metadata": {},
   "outputs": [],
   "source": [
    "# Stats Values\n",
    "\n",
    "\n"
   ]
  },
  {
   "cell_type": "code",
   "execution_count": null,
   "id": "f082f475",
   "metadata": {},
   "outputs": [],
   "source": []
  },
  {
   "cell_type": "code",
   "execution_count": null,
   "id": "fa49665f",
   "metadata": {},
   "outputs": [],
   "source": []
  },
  {
   "cell_type": "code",
   "execution_count": null,
   "id": "387bc246",
   "metadata": {},
   "outputs": [],
   "source": []
  },
  {
   "cell_type": "code",
   "execution_count": null,
   "id": "29fe0830",
   "metadata": {},
   "outputs": [],
   "source": []
  },
  {
   "cell_type": "code",
   "execution_count": null,
   "id": "baa9cc4d",
   "metadata": {},
   "outputs": [],
   "source": []
  },
  {
   "cell_type": "code",
   "execution_count": null,
   "id": "4483ba2b",
   "metadata": {},
   "outputs": [],
   "source": []
  },
  {
   "cell_type": "code",
   "execution_count": null,
   "id": "7da5bdac",
   "metadata": {},
   "outputs": [],
   "source": []
  },
  {
   "cell_type": "code",
   "execution_count": null,
   "id": "b2768ec1",
   "metadata": {},
   "outputs": [],
   "source": []
  },
  {
   "cell_type": "code",
   "execution_count": null,
   "id": "d02d6521",
   "metadata": {},
   "outputs": [],
   "source": []
  }
 ],
 "metadata": {
  "kernelspec": {
   "display_name": "Python 3 (ipykernel)",
   "language": "python",
   "name": "python3"
  },
  "language_info": {
   "codemirror_mode": {
    "name": "ipython",
    "version": 3
   },
   "file_extension": ".py",
   "mimetype": "text/x-python",
   "name": "python",
   "nbconvert_exporter": "python",
   "pygments_lexer": "ipython3",
   "version": "3.11.5"
  }
 },
 "nbformat": 4,
 "nbformat_minor": 5
}
