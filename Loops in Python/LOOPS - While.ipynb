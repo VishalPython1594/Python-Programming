{
 "cells": [
  {
   "cell_type": "markdown",
   "id": "af3e5bae",
   "metadata": {},
   "source": [
    "# Loops\n",
    "\n",
    "- helps to repeat something\n",
    "- helps to iterate (read every character)  over the sequence\n",
    "\n",
    "- 2 types of loop\n",
    "    - for loop\n",
    "    - while loop\n"
   ]
  },
  {
   "cell_type": "markdown",
   "id": "f7e36273",
   "metadata": {},
   "source": [
    "### For Loop\n",
    "\n",
    "**Syntax**\n",
    "\n",
    "- helps to repeat something\n",
    "for iterator in range( start, end, step ) : \n",
    "    statements\n",
    "    statements\n",
    "    statements\n",
    "    statements\n",
    "\n",
    "\n",
    "\n",
    "\n",
    "- helps to iterate (read every character)  over the sequence\n",
    "- With Respect to Positions. This will help you in EACH USE CASE\n",
    "for iterator in range( start, end, step ) : \n",
    "    statements\n",
    "    statements\n",
    "    statements\n",
    "    statements\n",
    "    sequence[iterator]\n",
    "\n",
    "end - len of the sequence"
   ]
  },
  {
   "cell_type": "markdown",
   "id": "b70db93e",
   "metadata": {},
   "source": [
    "### While Loop\n",
    "\n",
    "**Syntax**\n",
    "\n",
    "- helps to repeat something\n",
    "iterator = \n",
    "end = \n",
    "\n",
    "while EXPRESSION  :    /// Linked to start and end range of the iterator \n",
    "    statements\n",
    "    statements\n",
    "    statements\n",
    "    statements\n",
    "    \n",
    "    iterator  = iterator +- 1  //// LOGIC\n",
    "\n",
    "\n",
    "\n",
    "\n",
    "- helps to iterate (read every character)  over the sequence\n",
    "- With Respect to Positions. This will help you in EACH USE CASE\n",
    "for iterator in range( start, end, step ) : \n",
    "    statements\n",
    "    statements\n",
    "    statements\n",
    "    statements\n",
    "    sequence[iterator]\n",
    "\n",
    "end - len of the sequence"
   ]
  },
  {
   "cell_type": "code",
   "execution_count": null,
   "id": "afe4868b",
   "metadata": {},
   "outputs": [],
   "source": []
  },
  {
   "cell_type": "code",
   "execution_count": 1,
   "id": "8bc27d4d",
   "metadata": {},
   "outputs": [
    {
     "name": "stdout",
     "output_type": "stream",
     "text": [
      "0 hello\n",
      "1 hello\n",
      "2 hello\n",
      "3 hello\n",
      "4 hello\n"
     ]
    }
   ],
   "source": [
    "# - helps to repeat something\n",
    "# Q. Repeat \"hello\" 5 times\n",
    "\n",
    "for i in range(0 , 5, 1) : # 0 1 2 3 4\n",
    "    print(i , \"hello\") # i is incremented at the end line inside the for loop"
   ]
  },
  {
   "cell_type": "code",
   "execution_count": 4,
   "id": "f109bc08",
   "metadata": {},
   "outputs": [
    {
     "name": "stdout",
     "output_type": "stream",
     "text": [
      "0 hello\n",
      "1 hello\n",
      "2 hello\n",
      "3 hello\n",
      "4 hello\n"
     ]
    }
   ],
   "source": [
    "iterator = 0\n",
    "end = 5\n",
    "\n",
    "while iterator < end : \n",
    "    print(iterator, 'hello')\n",
    "    iterator = iterator + 1\n"
   ]
  },
  {
   "cell_type": "code",
   "execution_count": 5,
   "id": "88c0cce2",
   "metadata": {},
   "outputs": [
    {
     "name": "stdout",
     "output_type": "stream",
     "text": [
      "1 hello\n",
      "2 hello\n",
      "3 hello\n",
      "4 hello\n",
      "5 hello\n"
     ]
    }
   ],
   "source": [
    "iterator = 1\n",
    "end = 5\n",
    "\n",
    "while iterator <= end : \n",
    "    print(iterator, 'hello')\n",
    "    iterator = iterator + 1\n"
   ]
  },
  {
   "cell_type": "code",
   "execution_count": 6,
   "id": "43a7461a",
   "metadata": {},
   "outputs": [
    {
     "name": "stdout",
     "output_type": "stream",
     "text": [
      "hello\n",
      "hello\n",
      "hello\n",
      "hello\n",
      "hello\n"
     ]
    }
   ],
   "source": [
    "for i in range(0 , 5, 1) : # 0 1 2 3 4\n",
    "    print(\"hello\")"
   ]
  },
  {
   "cell_type": "code",
   "execution_count": 8,
   "id": "ebe13923",
   "metadata": {},
   "outputs": [
    {
     "name": "stdout",
     "output_type": "stream",
     "text": [
      "5 hello\n",
      "4 hello\n",
      "3 hello\n",
      "2 hello\n",
      "1 hello\n"
     ]
    }
   ],
   "source": [
    "iterator = 5\n",
    "end = 0\n",
    "\n",
    "while iterator > end : \n",
    "    print(iterator, 'hello')\n",
    "    iterator = iterator - 1\n"
   ]
  },
  {
   "cell_type": "code",
   "execution_count": 9,
   "id": "4f916a3a",
   "metadata": {},
   "outputs": [
    {
     "name": "stdout",
     "output_type": "stream",
     "text": [
      "5 hello\n",
      "4 hello\n",
      "3 hello\n",
      "2 hello\n",
      "1 hello\n"
     ]
    }
   ],
   "source": [
    "iterator = 5\n",
    "end = 1\n",
    "\n",
    "while iterator >= end : \n",
    "    print(iterator, 'hello')\n",
    "    iterator = iterator - 1\n"
   ]
  },
  {
   "cell_type": "code",
   "execution_count": null,
   "id": "e787caeb",
   "metadata": {},
   "outputs": [],
   "source": []
  },
  {
   "cell_type": "code",
   "execution_count": 10,
   "id": "bec95cd8",
   "metadata": {},
   "outputs": [
    {
     "name": "stdout",
     "output_type": "stream",
     "text": [
      "Name : Nitish\n",
      "Employee Name -->  Nitish\n",
      "Name : Ram\n",
      "Employee Name -->  Ram\n",
      "Name : Kishan\n",
      "Employee Name -->  Kishan\n"
     ]
    }
   ],
   "source": [
    "# Q. take 3 employee names from the user\n",
    "\n",
    "for i in range(0 , 3) : \n",
    "    empName = input('Name : ')\n",
    "    print(\"Employee Name --> \", empName)"
   ]
  },
  {
   "cell_type": "code",
   "execution_count": 12,
   "id": "fe243964",
   "metadata": {},
   "outputs": [
    {
     "name": "stdout",
     "output_type": "stream",
     "text": [
      "Name : Nitish\n",
      "Employee Name -->  Nitish\n",
      "Name : Ram\n",
      "Employee Name -->  Ram\n",
      "Name : Kis\\han\n",
      "Employee Name -->  Kis\\han\n"
     ]
    }
   ],
   "source": [
    "# Q. take 3 employee names from the user\n",
    "i = 0\n",
    "while i < 3 : # 0 1 2 \n",
    "    empName = input('Name : ')\n",
    "    print(\"Employee Name --> \", empName)\n",
    "    i = i + 1"
   ]
  },
  {
   "cell_type": "code",
   "execution_count": 16,
   "id": "e9a7d982",
   "metadata": {},
   "outputs": [],
   "source": [
    "# # Q. take 3 employee names from the user\n",
    "# i = 0\n",
    "# while i < 3 : # 0 1 2 \n",
    "#     print('x')   # Interrrupt by using Ctrl + C\n",
    "    "
   ]
  },
  {
   "cell_type": "code",
   "execution_count": 17,
   "id": "32050dfa",
   "metadata": {},
   "outputs": [],
   "source": [
    "# # Q. take 3 employee names from the user\n",
    "# i = 0\n",
    "# while i < 3 : # 0 1 2 \n",
    "#     empName = input('Name : ')\n",
    "#     print(\"Employee Name --> \", empName) \n",
    "    "
   ]
  },
  {
   "cell_type": "code",
   "execution_count": null,
   "id": "913077c4",
   "metadata": {},
   "outputs": [],
   "source": []
  },
  {
   "cell_type": "code",
   "execution_count": null,
   "id": "41dbe01d",
   "metadata": {},
   "outputs": [],
   "source": []
  },
  {
   "cell_type": "code",
   "execution_count": 19,
   "id": "3f339b1a",
   "metadata": {},
   "outputs": [
    {
     "name": "stdout",
     "output_type": "stream",
     "text": [
      "0 p\n",
      "1 y\n",
      "2 t\n",
      "3 h\n",
      "4 o\n",
      "5 n\n",
      "6  \n",
      "7 p\n",
      "8 r\n",
      "9 o\n",
      "10 g\n",
      "11 r\n",
      "12 a\n",
      "13 m\n"
     ]
    }
   ],
   "source": [
    "# Iterate over the string...\n",
    "# reading all the character wrt POSITION\n",
    "\n",
    "stringName = 'python program'\n",
    "\n",
    "for pos in range( 0, len(stringName) ) : \n",
    "    print(pos, stringName[pos])\n"
   ]
  },
  {
   "cell_type": "code",
   "execution_count": 21,
   "id": "39454ddc",
   "metadata": {},
   "outputs": [
    {
     "name": "stdout",
     "output_type": "stream",
     "text": [
      "0 p\n",
      "1 y\n",
      "2 t\n",
      "3 h\n",
      "4 o\n",
      "5 n\n",
      "6  \n",
      "7 p\n",
      "8 r\n",
      "9 o\n",
      "10 g\n",
      "11 r\n",
      "12 a\n",
      "13 m\n"
     ]
    }
   ],
   "source": [
    "# Iterate over the string...\n",
    "# reading all the character wrt POSITION\n",
    "\n",
    "stringName = 'python program'\n",
    "\n",
    "pos = 0\n",
    "while pos < len(stringName) : \n",
    "    print( pos, stringName[pos] )\n",
    "    pos = pos + 1\n",
    "\n"
   ]
  },
  {
   "cell_type": "code",
   "execution_count": null,
   "id": "5854023d",
   "metadata": {},
   "outputs": [],
   "source": []
  },
  {
   "cell_type": "markdown",
   "id": "e5e4750d",
   "metadata": {},
   "source": [
    "**Repeat the same activity for While LOOP for below FOR Task**"
   ]
  },
  {
   "cell_type": "code",
   "execution_count": null,
   "id": "95305ca1",
   "metadata": {},
   "outputs": [],
   "source": []
  },
  {
   "cell_type": "code",
   "execution_count": null,
   "id": "201fb114",
   "metadata": {},
   "outputs": [],
   "source": [
    "# Q. take 3 employee names from the user\n",
    "\n",
    "# Q. Take a number from the user and display its CUBE. repeat it 6 times\n",
    "\n",
    "# Q. take 5 mobile numbers  from the user and tell if it is Valid or Not (len = 10)\n",
    "\n",
    "# Q. Take email addres from the user and tell if its VALID. Repeat it 3 times\n",
    "\n"
   ]
  },
  {
   "cell_type": "code",
   "execution_count": 20,
   "id": "a05da73b",
   "metadata": {},
   "outputs": [
    {
     "name": "stdout",
     "output_type": "stream",
     "text": [
      "Email :                     nitish@com              \n",
      "Valid Email Address\n"
     ]
    }
   ],
   "source": [
    "\n",
    "# Q. Take email addres from the user and tell if its VALID. Repeat it for all emails inside the list\n",
    "# emails = ['    nitish@g.com   ' , 'satya@@g.com' , '    gagan@h.com' ,\"  gagan khanna\" , \"hemant@h@g\"]\n",
    "\n",
    "\n",
    "# Q. Take email addres from the user and tell if its VALID. Repeat it 3 times\n",
    "# Email : \"........@......\"\n",
    "\n",
    "email = input(\"Email : \")\n",
    "if \"@\" in email.lower().strip() and email.lower().strip().count(\"@\") == 1: # More ROBUST\n",
    "    print(\"Valid Email Address\")\n",
    "else : \n",
    "    print(\"..INVALID...\")\n",
    "\n"
   ]
  },
  {
   "cell_type": "code",
   "execution_count": 21,
   "id": "dba42d41",
   "metadata": {},
   "outputs": [
    {
     "name": "stdout",
     "output_type": "stream",
     "text": [
      "Email :    nitish@g.com   \n",
      "Valid Email Address\n",
      "------------------------------------------------------------\n",
      "0\n",
      "Email : satya@@g.com\n",
      "..INVALID...\n",
      "------------------------------------------------------------\n",
      "1\n",
      "Email :    gagan@h.com\n",
      "Valid Email Address\n",
      "------------------------------------------------------------\n",
      "2\n"
     ]
    }
   ],
   "source": [
    "for i in range(3) :  # range(0 , 3) -> 0 1 2\n",
    "    email = input(\"Email : \")\n",
    "    if \"@\" in email.lower().strip() and email.lower().strip().count(\"@\") == 1: # More ROBUST\n",
    "        print(\"Valid Email Address\")\n",
    "    else : \n",
    "        print(\"..INVALID...\")\n",
    "    print(\"--\" * 30)\n",
    "    print(i)"
   ]
  },
  {
   "cell_type": "code",
   "execution_count": null,
   "id": "0c405250",
   "metadata": {},
   "outputs": [],
   "source": []
  },
  {
   "cell_type": "code",
   "execution_count": 23,
   "id": "2f7e01f2",
   "metadata": {},
   "outputs": [
    {
     "name": "stdout",
     "output_type": "stream",
     "text": [
      "0 hello\n",
      "1 hello\n",
      "2 hello\n",
      "3 hello\n",
      "4 hello\n"
     ]
    }
   ],
   "source": [
    "# - helps to repeat something\n",
    "\n",
    "# Q. Repeat \"hello\" 5 times\n",
    "\n",
    "for nitish in range(0 , 5, 1) : # 0 1 2 3 4\n",
    "    print(nitish , \"hello\") # i is incremented at the end line inside the for loop\n",
    "\n"
   ]
  },
  {
   "cell_type": "code",
   "execution_count": 24,
   "id": "70d8bdc7",
   "metadata": {},
   "outputs": [
    {
     "name": "stdout",
     "output_type": "stream",
     "text": [
      "0 hello\n",
      "1 hello\n",
      "2 hello\n",
      "3 hello\n",
      "4 hello\n"
     ]
    }
   ],
   "source": [
    "# - helps to repeat something\n",
    "\n",
    "# Q. Repeat \"hello\" 5 times\n",
    "\n",
    "for nitish_vig in range(0 , 5, 1) : # 0 1 2 3 4\n",
    "    print(nitish_vig , \"hello\") # i is incremented at the end line inside the for loop\n",
    "\n"
   ]
  },
  {
   "cell_type": "code",
   "execution_count": 25,
   "id": "6360fc12",
   "metadata": {},
   "outputs": [
    {
     "name": "stdout",
     "output_type": "stream",
     "text": [
      "0 hello\n",
      "1 hello\n",
      "2 hello\n",
      "3 hello\n",
      "4 hello\n"
     ]
    }
   ],
   "source": [
    "# - helps to repeat something\n",
    "\n",
    "# Q. Repeat \"hello\" 5 times\n",
    "\n",
    "for nitish99 in range(0 , 5, 1) : # 0 1 2 3 4\n",
    "    print(nitish99 , \"hello\") # i is incremented at the end line inside the for loop\n",
    "\n"
   ]
  },
  {
   "cell_type": "code",
   "execution_count": null,
   "id": "9ecf6a0a",
   "metadata": {},
   "outputs": [],
   "source": []
  },
  {
   "cell_type": "code",
   "execution_count": 28,
   "id": "9ea065cb",
   "metadata": {},
   "outputs": [
    {
     "name": "stdout",
     "output_type": "stream",
     "text": [
      "0 p\n",
      "1 y\n",
      "2 t\n",
      "3 h\n",
      "4 o\n",
      "5 n\n",
      "6  \n",
      "7 p\n",
      "8 r\n",
      "9 o\n",
      "10 g\n",
      "11 r\n",
      "12 a\n",
      "13 m\n"
     ]
    }
   ],
   "source": [
    "# Iterate over the string...\n",
    "# reading all the character wrt POSITION\n",
    "\n",
    "stringName = 'python program'\n",
    "\n",
    "for pos in range( 0, len(stringName) ) : \n",
    "    print(pos, stringName[pos])\n"
   ]
  },
  {
   "cell_type": "code",
   "execution_count": 31,
   "id": "bd62120f",
   "metadata": {},
   "outputs": [
    {
     "name": "stdout",
     "output_type": "stream",
     "text": [
      "p\n",
      "y\n",
      "t\n",
      "h\n",
      "o\n",
      "n\n",
      " \n",
      "p\n",
      "r\n",
      "o\n",
      "g\n",
      "r\n",
      "a\n",
      "m\n"
     ]
    }
   ],
   "source": [
    "for pos in range( 0, len(stringName) ) : \n",
    "    print(stringName[pos], end = \"\\n\")\n"
   ]
  },
  {
   "cell_type": "code",
   "execution_count": 37,
   "id": "e365f1b6",
   "metadata": {},
   "outputs": [
    {
     "name": "stdout",
     "output_type": "stream",
     "text": [
      "0-p 1-y 2-t 3-h 4-o 5-n 6-  7-p 8-r 9-o 10-g 11-r 12-a 13-m "
     ]
    }
   ],
   "source": [
    "for pos in range( 0, len(stringName) ) : \n",
    "    print(f\"{pos}-{stringName[pos]}\", end = \" \")\n"
   ]
  },
  {
   "cell_type": "code",
   "execution_count": 40,
   "id": "f4bbfc6e",
   "metadata": {},
   "outputs": [
    {
     "name": "stdout",
     "output_type": "stream",
     "text": [
      "0 p\n",
      "New Value of c ->  1\n",
      "1 y\n",
      "2 t\n",
      "3 h\n",
      "4 o\n",
      "5 n\n",
      "6  \n",
      "7 p\n",
      "New Value of c ->  2\n",
      "8 r\n",
      "9 o\n",
      "10 g\n",
      "11 r\n",
      "12 a\n",
      "13 m\n",
      "Total Count ->  2\n"
     ]
    }
   ],
   "source": [
    "# count how many \"p\" are present. dont use COUNT method??\n",
    "\n",
    "stringName = 'python program'\n",
    "\n",
    "c = 0 # store the values\n",
    "\n",
    "for pos in range( 0, len(stringName) ) : \n",
    "    print(pos, stringName[pos])\n",
    "    if stringName[pos] == \"p\" : \n",
    "        c = c + 1\n",
    "        print(\"New Value of c -> \", c)\n",
    "    \n",
    "    \n",
    "print(\"Total Count -> \", c)"
   ]
  },
  {
   "cell_type": "code",
   "execution_count": 42,
   "id": "55fe8fea",
   "metadata": {},
   "outputs": [
    {
     "name": "stdout",
     "output_type": "stream",
     "text": [
      "Spaces :  8\n"
     ]
    }
   ],
   "source": [
    "# Display len of the string without LEN function of the string\n",
    "# Count SPACES also ...?\n",
    "\n",
    "\n",
    "stringName = '    python program   '\n",
    "count_space = 0 # store the values\n",
    "\n",
    "for pos in range( 0 , len(stringName) ) : \n",
    "    if stringName[pos] == \" \" : \n",
    "        count_space = count_space + 1\n",
    "        \n",
    "        \n",
    "print(\"Spaces : \", count_space)\n",
    "\n"
   ]
  },
  {
   "cell_type": "code",
   "execution_count": null,
   "id": "55db0007",
   "metadata": {},
   "outputs": [],
   "source": []
  },
  {
   "cell_type": "code",
   "execution_count": 43,
   "id": "6f6b28c3",
   "metadata": {},
   "outputs": [
    {
     "name": "stdout",
     "output_type": "stream",
     "text": [
      "0 p\n",
      "1 y\n",
      "2 t\n",
      "3 h\n",
      "4 o\n",
      "5 n\n",
      "6  \n",
      "7 p\n",
      "8 r\n",
      "9 o\n",
      "10 g\n",
      "11 r\n",
      "12 a\n",
      "13 m\n"
     ]
    }
   ],
   "source": [
    "# Iterate over the string...\n",
    "# reading all the character wrt POSITION\n",
    "\n",
    "stringName = 'python program'\n",
    "\n",
    "for pos in range( 0, len(stringName) ) : \n",
    "    print(pos, stringName[pos])  # Use String INDEXING...\n"
   ]
  },
  {
   "cell_type": "code",
   "execution_count": 44,
   "id": "a51f8c87",
   "metadata": {},
   "outputs": [
    {
     "name": "stdout",
     "output_type": "stream",
     "text": [
      "p\n",
      "y\n",
      "t\n",
      "h\n",
      "o\n",
      "n\n",
      " \n",
      "p\n",
      "r\n",
      "o\n",
      "g\n",
      "r\n",
      "a\n",
      "m\n"
     ]
    }
   ],
   "source": [
    "# Iterate over the string...\n",
    "# reading all the character wrt VALUES\n",
    "\n",
    "stringName = 'python program'\n",
    "\n",
    "for char in stringName : \n",
    "    print(char)\n"
   ]
  },
  {
   "cell_type": "code",
   "execution_count": null,
   "id": "91af4ec5",
   "metadata": {},
   "outputs": [],
   "source": []
  },
  {
   "cell_type": "code",
   "execution_count": 47,
   "id": "e709a523",
   "metadata": {},
   "outputs": [
    {
     "name": "stdout",
     "output_type": "stream",
     "text": [
      "Position ==>  0\n",
      "Position ==>  7\n",
      "0\n"
     ]
    }
   ],
   "source": [
    "# Find all the positons of p\n",
    "# stringName.find(\"p\") # return 1st occurence\n",
    "\n",
    "stringName = 'python program'\n",
    "\n",
    "for pos in range( 0, len(stringName) ) : \n",
    "#     print(pos, stringName[pos])\n",
    "    if stringName[pos] == \"p\" :\n",
    "        print(\"Position ==> \", pos)\n",
    "\n",
    "\n",
    "\n",
    "print(stringName.find('p'))\n",
    "# [0 , 7 , 11]"
   ]
  },
  {
   "cell_type": "code",
   "execution_count": 48,
   "id": "dc68c530",
   "metadata": {},
   "outputs": [
    {
     "name": "stdout",
     "output_type": "stream",
     "text": [
      "Spaces :  8\n"
     ]
    }
   ],
   "source": [
    "# Display len of the string without LEN function of the string\n",
    "# Count SPACES also ...?\n",
    "\n",
    "\n",
    "stringName = '    python program   '\n",
    "count_space = 0 # store the values\n",
    "\n",
    "for char in stringName : \n",
    "    if char == \" \" : \n",
    "        count_space = count_space + 1\n",
    "                \n",
    "print(\"Spaces : \", count_space)\n",
    "\n"
   ]
  },
  {
   "cell_type": "code",
   "execution_count": null,
   "id": "2f55ec76",
   "metadata": {},
   "outputs": [],
   "source": []
  },
  {
   "cell_type": "code",
   "execution_count": null,
   "id": "6eea811f",
   "metadata": {},
   "outputs": [],
   "source": []
  },
  {
   "cell_type": "markdown",
   "id": "fd0c9855",
   "metadata": {},
   "source": [
    "# Break\n",
    "\n",
    "- it will stop the loop if CONDITION is TRUE\n",
    "- it will come out of the loop\n",
    "- no statement written after break is executed"
   ]
  },
  {
   "cell_type": "code",
   "execution_count": null,
   "id": "d6bb92d7",
   "metadata": {},
   "outputs": [],
   "source": []
  },
  {
   "cell_type": "code",
   "execution_count": 4,
   "id": "6974ed6c",
   "metadata": {},
   "outputs": [
    {
     "name": "stdout",
     "output_type": "stream",
     "text": [
      "p\n",
      "y\n",
      "t\n",
      "h\n",
      "o\n",
      "n\n",
      " \n",
      "p\n",
      "r\n",
      "o\n",
      "g\n",
      "r\n",
      "a\n",
      "m\n"
     ]
    }
   ],
   "source": [
    "# Iterate over the string...\n",
    "# reading all the character wrt VALUES\n",
    "\n",
    "stringName = 'python program'\n",
    "\n",
    "for char in stringName : \n",
    "    print(char)\n"
   ]
  },
  {
   "cell_type": "code",
   "execution_count": 6,
   "id": "1174fbce",
   "metadata": {},
   "outputs": [
    {
     "name": "stdout",
     "output_type": "stream",
     "text": [
      "p\n",
      "y\n",
      "t\n",
      "h\n",
      "o\n",
      "********************\n"
     ]
    }
   ],
   "source": [
    "# Iterate over the string, but if character is \"n\" then STOP the loop...\n",
    "\n",
    "stringName = 'python program'\n",
    "\n",
    "for char in stringName : \n",
    "    if char == \"n\" : \n",
    "        print(\"********************\")\n",
    "        break\n",
    "        print(\"...............................\")\n",
    "    else : \n",
    "        print(char)\n"
   ]
  },
  {
   "cell_type": "code",
   "execution_count": null,
   "id": "aa1009ed",
   "metadata": {},
   "outputs": [],
   "source": []
  },
  {
   "cell_type": "markdown",
   "id": "dedf94ea",
   "metadata": {},
   "source": [
    "# Continue\n",
    "\n",
    "- it will NOT stop the loop if CONDITION is TRUE\n",
    "- it will SKIP the CONDITION WHere it is TRUE\n",
    "- no statement written after break is executed"
   ]
  },
  {
   "cell_type": "code",
   "execution_count": null,
   "id": "ab6e883e",
   "metadata": {},
   "outputs": [],
   "source": []
  },
  {
   "cell_type": "code",
   "execution_count": 4,
   "id": "ce293a95",
   "metadata": {},
   "outputs": [
    {
     "name": "stdout",
     "output_type": "stream",
     "text": [
      "p\n",
      "y\n",
      "t\n",
      "h\n",
      "o\n",
      "n\n",
      " \n",
      "p\n",
      "r\n",
      "o\n",
      "g\n",
      "r\n",
      "a\n",
      "m\n"
     ]
    }
   ],
   "source": [
    "# Iterate over the string...\n",
    "# reading all the character wrt VALUES\n",
    "\n",
    "stringName = 'python program'\n",
    "\n",
    "for char in stringName : \n",
    "    print(char)\n"
   ]
  },
  {
   "cell_type": "code",
   "execution_count": 7,
   "id": "001582d7",
   "metadata": {},
   "outputs": [
    {
     "name": "stdout",
     "output_type": "stream",
     "text": [
      "********************\n",
      "y\n",
      "t\n",
      "h\n",
      "o\n",
      "n\n",
      " \n",
      "********************\n",
      "r\n",
      "o\n",
      "g\n",
      "r\n",
      "a\n",
      "m\n"
     ]
    }
   ],
   "source": [
    "# Iterate over the string, but if character is \"p\" then just SKIP IT (I DON'T NEED ANY ACTION here)...\n",
    "\n",
    "stringName = 'python program'\n",
    "\n",
    "for char in stringName : \n",
    "    if char == \"p\" : \n",
    "        print(\"********************\")\n",
    "        continue\n",
    "        print(\"...............................\")\n",
    "    else : \n",
    "        print(char)\n"
   ]
  },
  {
   "cell_type": "code",
   "execution_count": null,
   "id": "d95676fb",
   "metadata": {},
   "outputs": [],
   "source": []
  },
  {
   "cell_type": "code",
   "execution_count": null,
   "id": "d413611d",
   "metadata": {},
   "outputs": [],
   "source": []
  },
  {
   "cell_type": "code",
   "execution_count": null,
   "id": "7694b416",
   "metadata": {},
   "outputs": [],
   "source": []
  },
  {
   "cell_type": "code",
   "execution_count": null,
   "id": "ac6af87c",
   "metadata": {},
   "outputs": [],
   "source": []
  },
  {
   "cell_type": "code",
   "execution_count": null,
   "id": "2233bb66",
   "metadata": {},
   "outputs": [],
   "source": []
  }
 ],
 "metadata": {
  "kernelspec": {
   "display_name": "Python 3 (ipykernel)",
   "language": "python",
   "name": "python3"
  },
  "language_info": {
   "codemirror_mode": {
    "name": "ipython",
    "version": 3
   },
   "file_extension": ".py",
   "mimetype": "text/x-python",
   "name": "python",
   "nbconvert_exporter": "python",
   "pygments_lexer": "ipython3",
   "version": "3.11.5"
  }
 },
 "nbformat": 4,
 "nbformat_minor": 5
}
