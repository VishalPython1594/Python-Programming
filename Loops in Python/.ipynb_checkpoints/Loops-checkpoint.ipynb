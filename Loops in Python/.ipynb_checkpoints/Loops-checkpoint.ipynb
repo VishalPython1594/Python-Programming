{
 "cells": [
  {
   "cell_type": "markdown",
   "id": "af3e5bae",
   "metadata": {},
   "source": [
    "# Loops\n",
    "\n",
    "- helps to repeat something\n",
    "- helps to iterate (read every character)  over the sequence\n",
    "\n",
    "- 2 types of loop\n",
    "    - for loop\n",
    "    - while loop\n"
   ]
  },
  {
   "cell_type": "markdown",
   "id": "f7e36273",
   "metadata": {},
   "source": [
    "### For Loop\n",
    "\n",
    "**Syntax**\n",
    "\n",
    "- helps to repeat something\n",
    "for iterator in range( start, end, step ) : \n",
    "    statements\n",
    "    statements\n",
    "    statements\n",
    "    statements\n",
    "\n",
    "\n",
    "\n",
    "\n",
    "- helps to iterate (read every character)  over the sequence\n",
    "- With Respect to Positions. This will help you in EACH USE CASE\n",
    "for iterator in range( start, end, step ) : \n",
    "    statements\n",
    "    statements\n",
    "    statements\n",
    "    statements\n",
    "    sequence[iterator]\n",
    "\n",
    "end - len of the sequence\n",
    "\n",
    "\n",
    "- helps to iterate (read every character)  over the sequence\n",
    "- With Respect to Values insides Sequence. Specific USE CASE\n",
    "for iterator in sequence : \n",
    "    statements\n",
    "    statements\n",
    "    statements\n",
    "    statements\n",
    "    iterator\n",
    "\n",
    "end - len of the sequence\n",
    "\n",
    "\n",
    "\n",
    "- iterator is changed at the end line inside the for loop\n",
    "- doesnot help you to go INDEFINITELY"
   ]
  },
  {
   "cell_type": "code",
   "execution_count": null,
   "id": "969efdb0",
   "metadata": {},
   "outputs": [],
   "source": []
  },
  {
   "cell_type": "code",
   "execution_count": null,
   "id": "ecb4e248",
   "metadata": {},
   "outputs": [],
   "source": [
    "# range -> in built function that provides a NUMBER sequence\n",
    "# default start : 0 \n",
    "# default end : len - 1\n",
    "# default step : 1\n"
   ]
  },
  {
   "cell_type": "code",
   "execution_count": 4,
   "id": "8073e21a",
   "metadata": {},
   "outputs": [
    {
     "name": "stdout",
     "output_type": "stream",
     "text": [
      "[0, 1, 2, 3, 4, 5, 6, 7, 8, 9]\n",
      "[0, 1, 2, 3, 4, 5, 6, 7, 8, 9]\n",
      "[0, 1, 2, 3, 4, 5, 6, 7, 8, 9]\n",
      "[0, 2, 4, 6, 8]\n",
      "[0, 3, 6, 9]\n"
     ]
    }
   ],
   "source": [
    "range(0, 10)  # 0 1 2 3 4 5 6 7 8 9\n",
    "print( list( range(0, 10) ) )\n",
    "print( list( range(10) ) )\n",
    "print( list( range(0, 10 , 1) ) )\n",
    "print( list( range(0, 10 , 2) ) )\n",
    "print( list( range(0, 10 , 3) ) )\n"
   ]
  },
  {
   "cell_type": "code",
   "execution_count": 5,
   "id": "db263243",
   "metadata": {},
   "outputs": [
    {
     "name": "stdout",
     "output_type": "stream",
     "text": [
      "[10, 9, 8, 7, 6, 5, 4, 3, 2, 1]\n"
     ]
    }
   ],
   "source": [
    "print( list( range(10 , 0 , -1) ) )\n",
    "\n",
    "\n",
    "# 10 , 10 - 1 = 9, 9 - 1 = 8 .....\n"
   ]
  },
  {
   "cell_type": "code",
   "execution_count": null,
   "id": "d935cfc5",
   "metadata": {},
   "outputs": [],
   "source": []
  },
  {
   "cell_type": "code",
   "execution_count": null,
   "id": "ff97833c",
   "metadata": {},
   "outputs": [],
   "source": []
  },
  {
   "cell_type": "code",
   "execution_count": 8,
   "id": "45531017",
   "metadata": {},
   "outputs": [
    {
     "name": "stdout",
     "output_type": "stream",
     "text": [
      "0 hello\n",
      "1 hello\n",
      "2 hello\n",
      "3 hello\n",
      "4 hello\n"
     ]
    }
   ],
   "source": [
    "# - helps to repeat something\n",
    "\n",
    "# Q. Repeat \"hello\" 5 times\n",
    "\n",
    "for i in range(0 , 5, 1) : # 0 1 2 3 4\n",
    "    print(i , \"hello\") # i is incremented at the end line inside the for loop\n",
    "\n"
   ]
  },
  {
   "cell_type": "code",
   "execution_count": 9,
   "id": "e8b32d76",
   "metadata": {},
   "outputs": [
    {
     "name": "stdout",
     "output_type": "stream",
     "text": [
      "10 hello\n",
      "20 hello\n",
      "30 hello\n",
      "40 hello\n",
      "50 hello\n"
     ]
    }
   ],
   "source": [
    "for i in range(10 , 60, 10) : # 10 20 30 40 50\n",
    "    print(i , \"hello\") # i is incremented at the end line inside the for loop\n"
   ]
  },
  {
   "cell_type": "code",
   "execution_count": 10,
   "id": "9b9dc259",
   "metadata": {},
   "outputs": [
    {
     "name": "stdout",
     "output_type": "stream",
     "text": [
      "-1 hello\n",
      "-2 hello\n",
      "-3 hello\n",
      "-4 hello\n",
      "-5 hello\n"
     ]
    }
   ],
   "source": [
    "for i in range(-1 , -6 , -1) :  # -1 , -1 - 1 = -2 , -3 , -4, -5 \n",
    "    print(i , \"hello\") # i is incremented at the end line inside the for loop\n"
   ]
  },
  {
   "cell_type": "code",
   "execution_count": 11,
   "id": "6ff8d905",
   "metadata": {},
   "outputs": [
    {
     "name": "stdout",
     "output_type": "stream",
     "text": [
      "hello\n",
      "hello\n",
      "hello\n",
      "hello\n",
      "hello\n"
     ]
    }
   ],
   "source": [
    "for i in range(0 , 5, 1) : # 0 1 2 3 4\n",
    "    print(\"hello\")"
   ]
  },
  {
   "cell_type": "code",
   "execution_count": 14,
   "id": "5538339f",
   "metadata": {},
   "outputs": [
    {
     "name": "stdout",
     "output_type": "stream",
     "text": [
      "60--6.666666666666667\n"
     ]
    }
   ],
   "source": [
    "print(10 * 6, end = \"--\") # end = \"\\n\"\n",
    "print(60 / 9)"
   ]
  },
  {
   "cell_type": "code",
   "execution_count": null,
   "id": "e1100cb3",
   "metadata": {},
   "outputs": [],
   "source": []
  },
  {
   "cell_type": "code",
   "execution_count": null,
   "id": "201fb114",
   "metadata": {},
   "outputs": [],
   "source": [
    "# Q. take 3 employee names from the user\n",
    "\n",
    "# Q. Take a number from the user and display its CUBE. repeat it 6 times\n",
    "\n",
    "# Q. take 5 mobile numbers  from the user and tell if it is Valid or Not (len = 10)\n",
    "\n",
    "# Q. Take email addres from the user and tell if its VALID. Repeat it 3 times\n",
    "\n"
   ]
  },
  {
   "cell_type": "code",
   "execution_count": 1,
   "id": "ad29df64-d221-4072-91a9-f57365a5324e",
   "metadata": {},
   "outputs": [],
   "source": [
    "def cube(n):\n",
    "    return n**3"
   ]
  },
  {
   "cell_type": "code",
   "execution_count": 4,
   "id": "ed41051c-d2e8-48ca-b5af-8a220fd91d5e",
   "metadata": {},
   "outputs": [
    {
     "name": "stdin",
     "output_type": "stream",
     "text": [
      "enter the number:  5\n"
     ]
    },
    {
     "name": "stdout",
     "output_type": "stream",
     "text": [
      "125\n"
     ]
    },
    {
     "name": "stdin",
     "output_type": "stream",
     "text": [
      "enter the number:  4\n"
     ]
    },
    {
     "name": "stdout",
     "output_type": "stream",
     "text": [
      "64\n"
     ]
    },
    {
     "name": "stdin",
     "output_type": "stream",
     "text": [
      "enter the number:  6\n"
     ]
    },
    {
     "name": "stdout",
     "output_type": "stream",
     "text": [
      "216\n"
     ]
    },
    {
     "name": "stdin",
     "output_type": "stream",
     "text": [
      "enter the number:  8\n"
     ]
    },
    {
     "name": "stdout",
     "output_type": "stream",
     "text": [
      "512\n"
     ]
    },
    {
     "name": "stdin",
     "output_type": "stream",
     "text": [
      "enter the number:  7\n"
     ]
    },
    {
     "name": "stdout",
     "output_type": "stream",
     "text": [
      "343\n"
     ]
    },
    {
     "name": "stdin",
     "output_type": "stream",
     "text": [
      "enter the number:  1\n"
     ]
    },
    {
     "name": "stdout",
     "output_type": "stream",
     "text": [
      "1\n"
     ]
    }
   ],
   "source": [
    "if __name__ == '__main__':\n",
    "    for i in range(6):\n",
    "        num = int(input('enter the number: '))\n",
    "        print(cube(num))"
   ]
  },
  {
   "cell_type": "code",
   "execution_count": 20,
   "id": "a05da73b",
   "metadata": {},
   "outputs": [
    {
     "name": "stdout",
     "output_type": "stream",
     "text": [
      "Email :                     nitish@com              \n",
      "Valid Email Address\n"
     ]
    }
   ],
   "source": [
    "\n",
    "# Q. Take email addres from the user and tell if its VALID. Repeat it for all emails inside the list\n",
    "# emails = ['    nitish@g.com   ' , 'satya@@g.com' , '    gagan@h.com' ,\"  gagan khanna\" , \"hemant@h@g\"]\n",
    "\n",
    "\n",
    "# Q. Take email addres from the user and tell if its VALID. Repeat it 3 times\n",
    "# Email : \"........@......\"\n",
    "\n",
    "email = input(\"Email : \")\n",
    "if \"@\" in email.lower().strip() and email.lower().strip().count(\"@\") == 1: # More ROBUST\n",
    "    print(\"Valid Email Address\")\n",
    "else : \n",
    "    print(\"..INVALID...\")\n",
    "\n"
   ]
  },
  {
   "cell_type": "code",
   "execution_count": 21,
   "id": "dba42d41",
   "metadata": {},
   "outputs": [
    {
     "name": "stdout",
     "output_type": "stream",
     "text": [
      "Email :    nitish@g.com   \n",
      "Valid Email Address\n",
      "------------------------------------------------------------\n",
      "0\n",
      "Email : satya@@g.com\n",
      "..INVALID...\n",
      "------------------------------------------------------------\n",
      "1\n",
      "Email :    gagan@h.com\n",
      "Valid Email Address\n",
      "------------------------------------------------------------\n",
      "2\n"
     ]
    }
   ],
   "source": [
    "for i in range(3) :  # range(0 , 3) -> 0 1 2\n",
    "    email = input(\"Email : \")\n",
    "    if \"@\" in email.lower().strip() and email.lower().strip().count(\"@\") == 1: # More ROBUST\n",
    "        print(\"Valid Email Address\")\n",
    "    else : \n",
    "        print(\"..INVALID...\")\n",
    "    print(\"--\" * 30)\n",
    "    print(i)"
   ]
  },
  {
   "cell_type": "code",
   "execution_count": null,
   "id": "0c405250",
   "metadata": {},
   "outputs": [],
   "source": []
  },
  {
   "cell_type": "code",
   "execution_count": 23,
   "id": "2f7e01f2",
   "metadata": {},
   "outputs": [
    {
     "name": "stdout",
     "output_type": "stream",
     "text": [
      "0 hello\n",
      "1 hello\n",
      "2 hello\n",
      "3 hello\n",
      "4 hello\n"
     ]
    }
   ],
   "source": [
    "# - helps to repeat something\n",
    "\n",
    "# Q. Repeat \"hello\" 5 times\n",
    "\n",
    "for nitish in range(0 , 5, 1) : # 0 1 2 3 4\n",
    "    print(nitish , \"hello\") # i is incremented at the end line inside the for loop\n",
    "\n"
   ]
  },
  {
   "cell_type": "code",
   "execution_count": 24,
   "id": "70d8bdc7",
   "metadata": {},
   "outputs": [
    {
     "name": "stdout",
     "output_type": "stream",
     "text": [
      "0 hello\n",
      "1 hello\n",
      "2 hello\n",
      "3 hello\n",
      "4 hello\n"
     ]
    }
   ],
   "source": [
    "# - helps to repeat something\n",
    "\n",
    "# Q. Repeat \"hello\" 5 times\n",
    "\n",
    "for nitish_vig in range(0 , 5, 1) : # 0 1 2 3 4\n",
    "    print(nitish_vig , \"hello\") # i is incremented at the end line inside the for loop\n",
    "\n"
   ]
  },
  {
   "cell_type": "code",
   "execution_count": 25,
   "id": "6360fc12",
   "metadata": {},
   "outputs": [
    {
     "name": "stdout",
     "output_type": "stream",
     "text": [
      "0 hello\n",
      "1 hello\n",
      "2 hello\n",
      "3 hello\n",
      "4 hello\n"
     ]
    }
   ],
   "source": [
    "# - helps to repeat something\n",
    "\n",
    "# Q. Repeat \"hello\" 5 times\n",
    "\n",
    "for nitish99 in range(0 , 5, 1) : # 0 1 2 3 4\n",
    "    print(nitish99 , \"hello\") # i is incremented at the end line inside the for loop\n",
    "\n"
   ]
  },
  {
   "cell_type": "code",
   "execution_count": null,
   "id": "9ecf6a0a",
   "metadata": {},
   "outputs": [],
   "source": []
  },
  {
   "cell_type": "code",
   "execution_count": 28,
   "id": "9ea065cb",
   "metadata": {},
   "outputs": [
    {
     "name": "stdout",
     "output_type": "stream",
     "text": [
      "0 p\n",
      "1 y\n",
      "2 t\n",
      "3 h\n",
      "4 o\n",
      "5 n\n",
      "6  \n",
      "7 p\n",
      "8 r\n",
      "9 o\n",
      "10 g\n",
      "11 r\n",
      "12 a\n",
      "13 m\n"
     ]
    }
   ],
   "source": [
    "# Iterate over the string...\n",
    "# reading all the character wrt POSITION\n",
    "\n",
    "stringName = 'python program'\n",
    "\n",
    "for pos in range( 0, len(stringName) ) : \n",
    "    print(pos, stringName[pos])\n"
   ]
  },
  {
   "cell_type": "code",
   "execution_count": 31,
   "id": "bd62120f",
   "metadata": {},
   "outputs": [
    {
     "name": "stdout",
     "output_type": "stream",
     "text": [
      "p\n",
      "y\n",
      "t\n",
      "h\n",
      "o\n",
      "n\n",
      " \n",
      "p\n",
      "r\n",
      "o\n",
      "g\n",
      "r\n",
      "a\n",
      "m\n"
     ]
    }
   ],
   "source": [
    "for pos in range( 0, len(stringName) ) : \n",
    "    print(stringName[pos], end = \"\\n\")\n"
   ]
  },
  {
   "cell_type": "code",
   "execution_count": 37,
   "id": "e365f1b6",
   "metadata": {},
   "outputs": [
    {
     "name": "stdout",
     "output_type": "stream",
     "text": [
      "0-p 1-y 2-t 3-h 4-o 5-n 6-  7-p 8-r 9-o 10-g 11-r 12-a 13-m "
     ]
    }
   ],
   "source": [
    "for pos in range( 0, len(stringName) ) : \n",
    "    print(f\"{pos}-{stringName[pos]}\", end = \" \")\n"
   ]
  },
  {
   "cell_type": "code",
   "execution_count": 40,
   "id": "f4bbfc6e",
   "metadata": {},
   "outputs": [
    {
     "name": "stdout",
     "output_type": "stream",
     "text": [
      "0 p\n",
      "New Value of c ->  1\n",
      "1 y\n",
      "2 t\n",
      "3 h\n",
      "4 o\n",
      "5 n\n",
      "6  \n",
      "7 p\n",
      "New Value of c ->  2\n",
      "8 r\n",
      "9 o\n",
      "10 g\n",
      "11 r\n",
      "12 a\n",
      "13 m\n",
      "Total Count ->  2\n"
     ]
    }
   ],
   "source": [
    "# count how many \"p\" are present. dont use COUNT method??\n",
    "\n",
    "stringName = 'python program'\n",
    "\n",
    "c = 0 # store the values\n",
    "\n",
    "for pos in range( 0, len(stringName) ) : \n",
    "    print(pos, stringName[pos])\n",
    "    if stringName[pos] == \"p\" : \n",
    "        c = c + 1\n",
    "        print(\"New Value of c -> \", c)\n",
    "    \n",
    "    \n",
    "print(\"Total Count -> \", c)"
   ]
  },
  {
   "cell_type": "code",
   "execution_count": 42,
   "id": "55fe8fea",
   "metadata": {},
   "outputs": [
    {
     "name": "stdout",
     "output_type": "stream",
     "text": [
      "Spaces :  8\n"
     ]
    }
   ],
   "source": [
    "# Display len of the string without LEN function of the string\n",
    "# Count SPACES also ...?\n",
    "\n",
    "\n",
    "stringName = '    python program   '\n",
    "count_space = 0 # store the values\n",
    "\n",
    "for pos in range( 0 , len(stringName) ) : \n",
    "    if stringName[pos] == \" \" : \n",
    "        count_space = count_space + 1\n",
    "        \n",
    "        \n",
    "print(\"Spaces : \", count_space)\n",
    "\n"
   ]
  },
  {
   "cell_type": "code",
   "execution_count": 5,
   "id": "55db0007",
   "metadata": {},
   "outputs": [
    {
     "name": "stdout",
     "output_type": "stream",
     "text": [
      "21\n"
     ]
    }
   ],
   "source": [
    "stringName = '    python program   '\n",
    "c = 0\n",
    "for i in stringName:\n",
    "    if i or i == ' ':\n",
    "        c +=1\n",
    "print(c)"
   ]
  },
  {
   "cell_type": "code",
   "execution_count": null,
   "id": "161bbc73-81ed-4d11-8fad-024b9c7936c2",
   "metadata": {},
   "outputs": [],
   "source": []
  },
  {
   "cell_type": "code",
   "execution_count": null,
   "id": "c213bc6f-f650-4fe2-8aa5-dc0c810e40f2",
   "metadata": {},
   "outputs": [],
   "source": []
  },
  {
   "cell_type": "code",
   "execution_count": 43,
   "id": "6f6b28c3",
   "metadata": {},
   "outputs": [
    {
     "name": "stdout",
     "output_type": "stream",
     "text": [
      "0 p\n",
      "1 y\n",
      "2 t\n",
      "3 h\n",
      "4 o\n",
      "5 n\n",
      "6  \n",
      "7 p\n",
      "8 r\n",
      "9 o\n",
      "10 g\n",
      "11 r\n",
      "12 a\n",
      "13 m\n"
     ]
    }
   ],
   "source": [
    "# Iterate over the string...\n",
    "# reading all the character wrt POSITION\n",
    "\n",
    "stringName = 'python program'\n",
    "\n",
    "for pos in range( 0, len(stringName) ) : \n",
    "    print(pos, stringName[pos])  # Use String INDEXING...\n"
   ]
  },
  {
   "cell_type": "code",
   "execution_count": 44,
   "id": "a51f8c87",
   "metadata": {},
   "outputs": [
    {
     "name": "stdout",
     "output_type": "stream",
     "text": [
      "p\n",
      "y\n",
      "t\n",
      "h\n",
      "o\n",
      "n\n",
      " \n",
      "p\n",
      "r\n",
      "o\n",
      "g\n",
      "r\n",
      "a\n",
      "m\n"
     ]
    }
   ],
   "source": [
    "# Iterate over the string...\n",
    "# reading all the character wrt VALUES\n",
    "\n",
    "stringName = 'python program'\n",
    "\n",
    "for char in stringName : \n",
    "    print(char)\n"
   ]
  },
  {
   "cell_type": "code",
   "execution_count": null,
   "id": "91af4ec5",
   "metadata": {},
   "outputs": [],
   "source": []
  },
  {
   "cell_type": "code",
   "execution_count": 47,
   "id": "e709a523",
   "metadata": {},
   "outputs": [
    {
     "name": "stdout",
     "output_type": "stream",
     "text": [
      "Position ==>  0\n",
      "Position ==>  7\n",
      "0\n"
     ]
    }
   ],
   "source": [
    "# Find all the positons of p\n",
    "# stringName.find(\"p\") # return 1st occurence\n",
    "\n",
    "stringName = 'python program'\n",
    "\n",
    "for pos in range( 0, len(stringName) ) : \n",
    "#     print(pos, stringName[pos])\n",
    "    if stringName[pos] == \"p\" :\n",
    "        print(\"Position ==> \", pos)\n",
    "\n",
    "\n",
    "\n",
    "print(stringName.find('p'))\n",
    "# [0 , 7 , 11]"
   ]
  },
  {
   "cell_type": "code",
   "execution_count": 48,
   "id": "dc68c530",
   "metadata": {},
   "outputs": [
    {
     "name": "stdout",
     "output_type": "stream",
     "text": [
      "Spaces :  8\n"
     ]
    }
   ],
   "source": [
    "# Display len of the string without LEN function of the string\n",
    "# Count SPACES also ...?\n",
    "\n",
    "\n",
    "stringName = '    python program   '\n",
    "count_space = 0 # store the values\n",
    "\n",
    "for char in stringName : \n",
    "    if char == \" \" : \n",
    "        count_space = count_space + 1\n",
    "                \n",
    "print(\"Spaces : \", count_space)\n",
    "\n"
   ]
  },
  {
   "cell_type": "code",
   "execution_count": null,
   "id": "2f55ec76",
   "metadata": {},
   "outputs": [],
   "source": []
  },
  {
   "cell_type": "code",
   "execution_count": null,
   "id": "6eea811f",
   "metadata": {},
   "outputs": [],
   "source": []
  },
  {
   "cell_type": "markdown",
   "id": "fd0c9855",
   "metadata": {},
   "source": [
    "# Break\n",
    "\n",
    "- it will stop the loop if CONDITION is TRUE\n",
    "- it will come out of the loop\n",
    "- no statement written after break is executed"
   ]
  },
  {
   "cell_type": "code",
   "execution_count": null,
   "id": "d6bb92d7",
   "metadata": {},
   "outputs": [],
   "source": []
  },
  {
   "cell_type": "code",
   "execution_count": 4,
   "id": "6974ed6c",
   "metadata": {},
   "outputs": [
    {
     "name": "stdout",
     "output_type": "stream",
     "text": [
      "p\n",
      "y\n",
      "t\n",
      "h\n",
      "o\n",
      "n\n",
      " \n",
      "p\n",
      "r\n",
      "o\n",
      "g\n",
      "r\n",
      "a\n",
      "m\n"
     ]
    }
   ],
   "source": [
    "# Iterate over the string...\n",
    "# reading all the character wrt VALUES\n",
    "\n",
    "stringName = 'python program'\n",
    "\n",
    "for char in stringName : \n",
    "    print(char)\n"
   ]
  },
  {
   "cell_type": "code",
   "execution_count": 6,
   "id": "1174fbce",
   "metadata": {},
   "outputs": [
    {
     "name": "stdout",
     "output_type": "stream",
     "text": [
      "p\n",
      "y\n",
      "t\n",
      "h\n",
      "o\n",
      "********************\n"
     ]
    }
   ],
   "source": [
    "# Iterate over the string, but if character is \"n\" then STOP the loop...\n",
    "\n",
    "stringName = 'python program'\n",
    "\n",
    "for char in stringName : \n",
    "    if char == \"n\" : \n",
    "        print(\"********************\")\n",
    "        break\n",
    "        print(\"...............................\")\n",
    "    else : \n",
    "        print(char)\n"
   ]
  },
  {
   "cell_type": "code",
   "execution_count": null,
   "id": "aa1009ed",
   "metadata": {},
   "outputs": [],
   "source": []
  },
  {
   "cell_type": "markdown",
   "id": "dedf94ea",
   "metadata": {},
   "source": [
    "# Continue\n",
    "\n",
    "- it will NOT stop the loop if CONDITION is TRUE\n",
    "- it will SKIP the CONDITION WHere it is TRUE\n",
    "- no statement written after break is executed"
   ]
  },
  {
   "cell_type": "code",
   "execution_count": null,
   "id": "ab6e883e",
   "metadata": {},
   "outputs": [],
   "source": []
  },
  {
   "cell_type": "code",
   "execution_count": 4,
   "id": "ce293a95",
   "metadata": {},
   "outputs": [
    {
     "name": "stdout",
     "output_type": "stream",
     "text": [
      "p\n",
      "y\n",
      "t\n",
      "h\n",
      "o\n",
      "n\n",
      " \n",
      "p\n",
      "r\n",
      "o\n",
      "g\n",
      "r\n",
      "a\n",
      "m\n"
     ]
    }
   ],
   "source": [
    "# Iterate over the string...\n",
    "# reading all the character wrt VALUES\n",
    "\n",
    "stringName = 'python program'\n",
    "\n",
    "for char in stringName : \n",
    "    print(char)\n"
   ]
  },
  {
   "cell_type": "code",
   "execution_count": 7,
   "id": "001582d7",
   "metadata": {},
   "outputs": [
    {
     "name": "stdout",
     "output_type": "stream",
     "text": [
      "********************\n",
      "y\n",
      "t\n",
      "h\n",
      "o\n",
      "n\n",
      " \n",
      "********************\n",
      "r\n",
      "o\n",
      "g\n",
      "r\n",
      "a\n",
      "m\n"
     ]
    }
   ],
   "source": [
    "# Iterate over the string, but if character is \"p\" then just SKIP IT (I DON'T NEED ANY ACTION here)...\n",
    "\n",
    "stringName = 'python program'\n",
    "\n",
    "for char in stringName : \n",
    "    if char == \"p\" : \n",
    "        print(\"********************\")\n",
    "        continue\n",
    "        print(\"...............................\")\n",
    "    else : \n",
    "        print(char)\n"
   ]
  },
  {
   "cell_type": "code",
   "execution_count": null,
   "id": "d95676fb",
   "metadata": {},
   "outputs": [],
   "source": []
  },
  {
   "cell_type": "code",
   "execution_count": null,
   "id": "135a11b9",
   "metadata": {},
   "outputs": [],
   "source": []
  },
  {
   "cell_type": "code",
   "execution_count": null,
   "id": "7d13ad8c",
   "metadata": {},
   "outputs": [],
   "source": []
  },
  {
   "cell_type": "code",
   "execution_count": null,
   "id": "9f7aaada",
   "metadata": {},
   "outputs": [],
   "source": []
  },
  {
   "cell_type": "code",
   "execution_count": null,
   "id": "3be384cf",
   "metadata": {},
   "outputs": [],
   "source": []
  }
 ],
 "metadata": {
  "kernelspec": {
   "display_name": "Python 3 (ipykernel)",
   "language": "python",
   "name": "python3"
  },
  "language_info": {
   "codemirror_mode": {
    "name": "ipython",
    "version": 3
   },
   "file_extension": ".py",
   "mimetype": "text/x-python",
   "name": "python",
   "nbconvert_exporter": "python",
   "pygments_lexer": "ipython3",
   "version": "3.12.4"
  }
 },
 "nbformat": 4,
 "nbformat_minor": 5
}
