{
 "cells": [
  {
   "cell_type": "code",
   "execution_count": 3,
   "id": "6c80aa39",
   "metadata": {},
   "outputs": [],
   "source": [
    "# INDENTATION >> spacing wrt LEFT Margin\n",
    "\n",
    "a = 100\n",
    "b = 200\n",
    "c = 300\n"
   ]
  },
  {
   "cell_type": "code",
   "execution_count": null,
   "id": "535e6ce6",
   "metadata": {},
   "outputs": [],
   "source": []
  },
  {
   "cell_type": "code",
   "execution_count": null,
   "id": "37162cd1",
   "metadata": {},
   "outputs": [],
   "source": []
  },
  {
   "cell_type": "markdown",
   "id": "ae67be0f",
   "metadata": {},
   "source": [
    "# IF ELSE\n",
    "\n",
    "**SYNTAX : **\n",
    "\n",
    "if condition :                # Number 1\n",
    "    statement\n",
    "    statement\n",
    "    statement\n",
    "    \n",
    "elif condition : \n",
    "    statement\n",
    "    statement\n",
    "    statement\n",
    "    \n",
    "else : \n",
    "    statement\n",
    "    statement\n",
    "    statement\n",
    "    statement\n",
    "\n",
    "\n",
    "if .....  # Number 2  :: this means start of another block, this is independent of any block written above\n",
    "\n"
   ]
  },
  {
   "cell_type": "markdown",
   "id": "e19ff415",
   "metadata": {},
   "source": [
    "- this is a conditional statement\n",
    "- BLOCK : all such code lines shall be inside the Block with proper INDENTATION\n",
    "\n",
    "- IF block is executed if the condition is TRUE\n",
    "- if block can be executed without else and elif.\n",
    "- there can be mutlitple if's\n",
    "\n",
    "- else is the default block that is executed if the IF BLOCK condition is FALSE\n",
    "- else block is related to immediate if block it is written against\n",
    "- there can be a single else only for a block\n",
    "- else block cannot exist without if\n",
    "\n",
    "\n",
    "- in the if-elif-else block if single exprssion stands TRUE then it will execute it and come out of the ENTIRE blocks\n",
    "- there can be multiple elif's\n",
    "- elif cannot execute without another if block..."
   ]
  },
  {
   "cell_type": "code",
   "execution_count": null,
   "id": "7bab7a8e",
   "metadata": {},
   "outputs": [],
   "source": []
  },
  {
   "cell_type": "code",
   "execution_count": 9,
   "id": "a6e469d6",
   "metadata": {},
   "outputs": [
    {
     "name": "stdout",
     "output_type": "stream",
     "text": [
      "Blue\n"
     ]
    }
   ],
   "source": [
    "option = 1\n",
    "\n",
    "# Python will check all if blocks at lines 5 , 10 , 14 , 18. they are all independent\n",
    "\n",
    "if option == 0 :   # Is it TRUE\n",
    "    print(\"No Color COde\")\n",
    "    print()\n",
    "\n",
    "\n",
    "if option == 1 :  # Is it TRUE\n",
    "    print(\"Blue\")\n",
    "\n",
    "    \n",
    "if option == 2 :  # Is it TRUE\n",
    "    print(\"Green\")\n",
    "\n",
    "    \n",
    "if option == 3 :  # Is it TRUE\n",
    "    print(\"Red\")\n",
    "\n",
    "    "
   ]
  },
  {
   "cell_type": "code",
   "execution_count": null,
   "id": "ff2fb531",
   "metadata": {},
   "outputs": [],
   "source": []
  },
  {
   "cell_type": "code",
   "execution_count": 10,
   "id": "7b208243",
   "metadata": {},
   "outputs": [
    {
     "name": "stdout",
     "output_type": "stream",
     "text": [
      "Blue\n",
      "No Color COde\n",
      "\n"
     ]
    }
   ],
   "source": [
    "option = 1\n",
    "\n",
    "# Python will check all if blocks at lines 5 , 9 , 13/15. they are all independent\n",
    "\n",
    "if option == 1 :  # Is it TRUE\n",
    "    print(\"Blue\")\n",
    "\n",
    "    \n",
    "if option == 2 :  # Is it TRUE\n",
    "    print(\"Green\")\n",
    "\n",
    "    \n",
    "if option == 3 :  # Is it TRUE\n",
    "    print(\"Red\")\n",
    "else :   # Is it TRUE\n",
    "    print(\"No Color COde\")\n",
    "    print()\n",
    "\n",
    "    "
   ]
  },
  {
   "cell_type": "code",
   "execution_count": 11,
   "id": "76104397",
   "metadata": {},
   "outputs": [
    {
     "name": "stdout",
     "output_type": "stream",
     "text": [
      "Red\n"
     ]
    }
   ],
   "source": [
    "option = 3\n",
    "\n",
    "# Python will check all if blocks at lines 5 , 9 , 13/15. they are all independent\n",
    "\n",
    "if option == 1 :  # Is it TRUE\n",
    "    print(\"Blue\")\n",
    "\n",
    "    \n",
    "if option == 2 :  # Is it TRUE\n",
    "    print(\"Green\")\n",
    "\n",
    "    \n",
    "if option == 3 :  # Is it TRUE\n",
    "    print(\"Red\")\n",
    "else :   # Is it TRUE\n",
    "    print(\"No Color COde\")\n",
    "    print()\n",
    "\n",
    "    "
   ]
  },
  {
   "cell_type": "code",
   "execution_count": 15,
   "id": "5ceaf116",
   "metadata": {},
   "outputs": [
    {
     "ename": "SyntaxError",
     "evalue": "invalid syntax (3257570223.py, line 18)",
     "output_type": "error",
     "traceback": [
      "\u001b[1;36m  File \u001b[1;32m\"C:\\Users\\Nitish\\AppData\\Local\\Temp\\ipykernel_27544\\3257570223.py\"\u001b[1;36m, line \u001b[1;32m18\u001b[0m\n\u001b[1;33m    else :\u001b[0m\n\u001b[1;37m    ^\u001b[0m\n\u001b[1;31mSyntaxError\u001b[0m\u001b[1;31m:\u001b[0m invalid syntax\n"
     ]
    }
   ],
   "source": [
    "option = 4\n",
    "\n",
    "# Python will check all if blocks at lines 5 , 9 , 13/15. they are all independent\n",
    "\n",
    "if option == 1 :  # Is it TRUE\n",
    "    print(\"Blue\")\n",
    "\n",
    "    \n",
    "if option == 2 :  # Is it TRUE\n",
    "    print(\"Green\")\n",
    "\n",
    "    \n",
    "if option == 3 :  # Is it TRUE\n",
    "    print(\"Red\")\n",
    "else :   # Is it TRUE\n",
    "    print(\"No Color COde\")\n",
    "    print()\n",
    "# else : \n",
    "#     print()\n",
    "    "
   ]
  },
  {
   "cell_type": "code",
   "execution_count": 16,
   "id": "bf2dc138",
   "metadata": {},
   "outputs": [
    {
     "ename": "SyntaxError",
     "evalue": "invalid syntax (106225769.py, line 3)",
     "output_type": "error",
     "traceback": [
      "\u001b[1;36m  File \u001b[1;32m\"C:\\Users\\Nitish\\AppData\\Local\\Temp\\ipykernel_27544\\106225769.py\"\u001b[1;36m, line \u001b[1;32m3\u001b[0m\n\u001b[1;33m    else :\u001b[0m\n\u001b[1;37m    ^\u001b[0m\n\u001b[1;31mSyntaxError\u001b[0m\u001b[1;31m:\u001b[0m invalid syntax\n"
     ]
    }
   ],
   "source": [
    "option = 4\n",
    "\n",
    "else : \n",
    "    print()\n",
    "    "
   ]
  },
  {
   "cell_type": "code",
   "execution_count": null,
   "id": "9db232cf",
   "metadata": {},
   "outputs": [],
   "source": []
  },
  {
   "cell_type": "code",
   "execution_count": null,
   "id": "40a71e29",
   "metadata": {},
   "outputs": [],
   "source": []
  },
  {
   "cell_type": "code",
   "execution_count": null,
   "id": "9bc0b871",
   "metadata": {},
   "outputs": [],
   "source": []
  },
  {
   "cell_type": "code",
   "execution_count": null,
   "id": "4e4b9268",
   "metadata": {},
   "outputs": [],
   "source": []
  },
  {
   "cell_type": "code",
   "execution_count": null,
   "id": "9934ddc1",
   "metadata": {},
   "outputs": [],
   "source": []
  },
  {
   "cell_type": "code",
   "execution_count": 21,
   "id": "2f9d7550",
   "metadata": {},
   "outputs": [
    {
     "name": "stdout",
     "output_type": "stream",
     "text": [
      "Green\n"
     ]
    }
   ],
   "source": [
    "option = 2\n",
    "\n",
    "# It shall be a single code. python will look at 5 and then based on expression it will jump to another code\n",
    "\n",
    "if option == 1 :  # Is it TRUE\n",
    "    print(\"Blue\")\n",
    "\n",
    "elif option == 2 :  # Is it TRUE\n",
    "    print(\"Green\")\n",
    "\n",
    "    \n",
    "elif option == 3 :  # Is it TRUE\n",
    "    print(\"Red\")\n",
    "\n",
    "else :   # if no block above is true\n",
    "    print(\"No Color COde\")\n",
    "    print()\n",
    "  "
   ]
  },
  {
   "cell_type": "code",
   "execution_count": null,
   "id": "c9b5bf49",
   "metadata": {},
   "outputs": [],
   "source": []
  },
  {
   "cell_type": "code",
   "execution_count": 23,
   "id": "09ec1f9d",
   "metadata": {},
   "outputs": [
    {
     "name": "stdout",
     "output_type": "stream",
     "text": [
      "Red\n"
     ]
    }
   ],
   "source": [
    "option = 2\n",
    "\n",
    "# It shall be a single code. python will look at 5 and then based on expression it will jump to another code\n",
    "\n",
    "if option == 1 :  # FALSE\n",
    "    print(\"Blue\")\n",
    "\n",
    "\n",
    "elif option == int(2.5555) :  # TRUE\n",
    "    print(\"Red\")\n",
    "\n",
    "elif option == 2 :  # TRUE\n",
    "    print(\"Green\")\n",
    "\n",
    "    \n",
    "else :   # if no block above is true\n",
    "    print(\"No Color COde\")\n",
    "    print()\n",
    "  "
   ]
  },
  {
   "cell_type": "code",
   "execution_count": null,
   "id": "c266544e",
   "metadata": {},
   "outputs": [],
   "source": []
  },
  {
   "cell_type": "code",
   "execution_count": 24,
   "id": "05d0cce9",
   "metadata": {},
   "outputs": [
    {
     "ename": "SyntaxError",
     "evalue": "invalid syntax (2151673089.py, line 3)",
     "output_type": "error",
     "traceback": [
      "\u001b[1;36m  File \u001b[1;32m\"C:\\Users\\Nitish\\AppData\\Local\\Temp\\ipykernel_27544\\2151673089.py\"\u001b[1;36m, line \u001b[1;32m3\u001b[0m\n\u001b[1;33m    elif option == 2 :  # TRUE\u001b[0m\n\u001b[1;37m    ^\u001b[0m\n\u001b[1;31mSyntaxError\u001b[0m\u001b[1;31m:\u001b[0m invalid syntax\n"
     ]
    }
   ],
   "source": [
    "option = 2\n",
    "\n",
    "elif option == 2 :  # TRUE\n",
    "    print(\"Green\")\n",
    "\n",
    "  "
   ]
  },
  {
   "cell_type": "code",
   "execution_count": null,
   "id": "0d1ac8e5",
   "metadata": {},
   "outputs": [],
   "source": []
  },
  {
   "cell_type": "code",
   "execution_count": null,
   "id": "f3e8fd85",
   "metadata": {},
   "outputs": [],
   "source": []
  },
  {
   "cell_type": "markdown",
   "id": "4bfc314e",
   "metadata": {},
   "source": [
    "## Understadning True False in if - else block and BOOLEAN logic"
   ]
  },
  {
   "cell_type": "code",
   "execution_count": 2,
   "id": "ac6b49e8",
   "metadata": {},
   "outputs": [
    {
     "name": "stdout",
     "output_type": "stream",
     "text": [
      "Play\n"
     ]
    }
   ],
   "source": [
    "op = 10\n",
    "\n",
    "if op == 10 :   # If TRUE  \n",
    "    print(\"Play\")\n",
    "else : \n",
    "    print('END')"
   ]
  },
  {
   "cell_type": "code",
   "execution_count": 3,
   "id": "a3a62d67",
   "metadata": {},
   "outputs": [
    {
     "name": "stdout",
     "output_type": "stream",
     "text": [
      "END\n"
     ]
    }
   ],
   "source": [
    "op = 1\n",
    "\n",
    "if op == 10 :   # If TRUE\n",
    "    print(\"Play\")\n",
    "else : \n",
    "    print('END')"
   ]
  },
  {
   "cell_type": "code",
   "execution_count": 6,
   "id": "d88655cd",
   "metadata": {},
   "outputs": [
    {
     "name": "stdout",
     "output_type": "stream",
     "text": [
      "Play\n"
     ]
    }
   ],
   "source": [
    "if True : \n",
    "    print(\"Play\")\n",
    "else : \n",
    "    print('END')"
   ]
  },
  {
   "cell_type": "code",
   "execution_count": 7,
   "id": "a8503bfb",
   "metadata": {},
   "outputs": [
    {
     "name": "stdout",
     "output_type": "stream",
     "text": [
      "Play\n"
     ]
    }
   ],
   "source": [
    "if 1 : \n",
    "    print(\"Play\")\n",
    "else : \n",
    "    print('END')"
   ]
  },
  {
   "cell_type": "code",
   "execution_count": 5,
   "id": "0c1e21f2",
   "metadata": {},
   "outputs": [
    {
     "name": "stdout",
     "output_type": "stream",
     "text": [
      "END\n"
     ]
    }
   ],
   "source": [
    "if False : \n",
    "    print(\"Play\")\n",
    "else : \n",
    "    print('END')"
   ]
  },
  {
   "cell_type": "code",
   "execution_count": 8,
   "id": "001cf9d1",
   "metadata": {},
   "outputs": [
    {
     "name": "stdout",
     "output_type": "stream",
     "text": [
      "END\n"
     ]
    }
   ],
   "source": [
    "if 0 : \n",
    "    print(\"Play\")\n",
    "else : \n",
    "    print('END')"
   ]
  },
  {
   "cell_type": "code",
   "execution_count": null,
   "id": "a191ff0f",
   "metadata": {},
   "outputs": [],
   "source": []
  },
  {
   "cell_type": "code",
   "execution_count": 9,
   "id": "b4a02e23",
   "metadata": {},
   "outputs": [
    {
     "name": "stdout",
     "output_type": "stream",
     "text": [
      "Play\n"
     ]
    }
   ],
   "source": [
    "value = 50\n",
    "\n",
    "if value : \n",
    "    print(\"Play\")\n",
    "else : \n",
    "    print('END')"
   ]
  },
  {
   "cell_type": "code",
   "execution_count": 10,
   "id": "2e758977",
   "metadata": {},
   "outputs": [
    {
     "name": "stdout",
     "output_type": "stream",
     "text": [
      "Play\n"
     ]
    }
   ],
   "source": [
    "value = \"Hello\"\n",
    "\n",
    "if value : \n",
    "    print(\"Play\")\n",
    "else : \n",
    "    print('END')"
   ]
  },
  {
   "cell_type": "code",
   "execution_count": 11,
   "id": "835e2b21",
   "metadata": {},
   "outputs": [
    {
     "name": "stdout",
     "output_type": "stream",
     "text": [
      "Play\n"
     ]
    }
   ],
   "source": [
    "value = [50 , 'Hello' ] \n",
    "\n",
    "if value : \n",
    "    print(\"Play\")\n",
    "else : \n",
    "    print('END')"
   ]
  },
  {
   "cell_type": "code",
   "execution_count": null,
   "id": "36f74a68",
   "metadata": {},
   "outputs": [],
   "source": []
  },
  {
   "cell_type": "code",
   "execution_count": 12,
   "id": "63eda0c7",
   "metadata": {},
   "outputs": [
    {
     "name": "stdout",
     "output_type": "stream",
     "text": [
      "END\n"
     ]
    }
   ],
   "source": [
    "value = 0\n",
    "\n",
    "if value : \n",
    "    print(\"Play\")\n",
    "else : \n",
    "    print('END')"
   ]
  },
  {
   "cell_type": "code",
   "execution_count": 13,
   "id": "be1d52f9",
   "metadata": {},
   "outputs": [
    {
     "name": "stdout",
     "output_type": "stream",
     "text": [
      "END\n"
     ]
    }
   ],
   "source": [
    "value = \"\"\n",
    "\n",
    "if value : \n",
    "    print(\"Play\")\n",
    "else : \n",
    "    print('END')"
   ]
  },
  {
   "cell_type": "code",
   "execution_count": 14,
   "id": "a4a74e56",
   "metadata": {},
   "outputs": [
    {
     "name": "stdout",
     "output_type": "stream",
     "text": [
      "END\n"
     ]
    }
   ],
   "source": [
    "value = [] \n",
    "\n",
    "if value : \n",
    "    print(\"Play\")\n",
    "else : \n",
    "    print('END')"
   ]
  },
  {
   "cell_type": "code",
   "execution_count": null,
   "id": "c0f301ef",
   "metadata": {},
   "outputs": [],
   "source": [
    "# read some uRL or API ??\n",
    "# weatheer something is returned nor not???"
   ]
  },
  {
   "cell_type": "code",
   "execution_count": null,
   "id": "d95b5561",
   "metadata": {},
   "outputs": [],
   "source": []
  },
  {
   "cell_type": "code",
   "execution_count": 15,
   "id": "5c596726",
   "metadata": {},
   "outputs": [
    {
     "data": {
      "text/plain": [
       "True"
      ]
     },
     "execution_count": 15,
     "metadata": {},
     "output_type": "execute_result"
    }
   ],
   "source": [
    "value = 50\n",
    "bool(value)"
   ]
  },
  {
   "cell_type": "code",
   "execution_count": 16,
   "id": "ffd43d99",
   "metadata": {},
   "outputs": [
    {
     "data": {
      "text/plain": [
       "True"
      ]
     },
     "execution_count": 16,
     "metadata": {},
     "output_type": "execute_result"
    }
   ],
   "source": [
    "value = \"Ehllo\"\n",
    "bool(value)"
   ]
  },
  {
   "cell_type": "code",
   "execution_count": 17,
   "id": "e944fccd",
   "metadata": {},
   "outputs": [
    {
     "data": {
      "text/plain": [
       "False"
      ]
     },
     "execution_count": 17,
     "metadata": {},
     "output_type": "execute_result"
    }
   ],
   "source": [
    "value = 0\n",
    "bool(value)"
   ]
  },
  {
   "cell_type": "code",
   "execution_count": 18,
   "id": "c0f96071",
   "metadata": {},
   "outputs": [
    {
     "data": {
      "text/plain": [
       "False"
      ]
     },
     "execution_count": 18,
     "metadata": {},
     "output_type": "execute_result"
    }
   ],
   "source": [
    "value = \"\"\n",
    "bool(value)"
   ]
  },
  {
   "cell_type": "code",
   "execution_count": null,
   "id": "d5ec21bd",
   "metadata": {},
   "outputs": [],
   "source": []
  },
  {
   "cell_type": "code",
   "execution_count": null,
   "id": "f652a98d",
   "metadata": {},
   "outputs": [],
   "source": []
  },
  {
   "cell_type": "code",
   "execution_count": null,
   "id": "9d5643a1",
   "metadata": {},
   "outputs": [],
   "source": []
  },
  {
   "cell_type": "code",
   "execution_count": null,
   "id": "1e583a68",
   "metadata": {},
   "outputs": [],
   "source": []
  },
  {
   "cell_type": "code",
   "execution_count": null,
   "id": "0d3c5f49",
   "metadata": {},
   "outputs": [],
   "source": []
  }
 ],
 "metadata": {
  "kernelspec": {
   "display_name": "Python 3 (ipykernel)",
   "language": "python",
   "name": "python3"
  },
  "language_info": {
   "codemirror_mode": {
    "name": "ipython",
    "version": 3
   },
   "file_extension": ".py",
   "mimetype": "text/x-python",
   "name": "python",
   "nbconvert_exporter": "python",
   "pygments_lexer": "ipython3",
   "version": "3.12.4"
  }
 },
 "nbformat": 4,
 "nbformat_minor": 5
}
