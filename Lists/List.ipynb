{
 "cells": [
  {
   "cell_type": "markdown",
   "id": "2e3620a3",
   "metadata": {},
   "source": [
    "# List \n",
    "\n",
    "- Store the values\n",
    "- collection of heterogeneous (different datatypes) elements\n",
    "- represented in python by []\n",
    "- Ordered datatype : Output will be not changed wrt position\n",
    "- Mutable Object : Any element at any position can be modified (inset, remove, replace)"
   ]
  },
  {
   "cell_type": "code",
   "execution_count": 3,
   "id": "c4374d51",
   "metadata": {},
   "outputs": [],
   "source": [
    "# import pandas\n",
    "\n",
    "# dt = {\"C1\" : [10 , False, 6.5] , \n",
    "#      \"C2\" : [-8 , \"Nitish\" , 43j]}\n",
    "\n",
    "# df = pandas.DataFrame(dt)\n",
    "# df\n"
   ]
  },
  {
   "cell_type": "code",
   "execution_count": 5,
   "id": "05555a60",
   "metadata": {},
   "outputs": [
    {
     "name": "stdout",
     "output_type": "stream",
     "text": [
      "[]\n",
      "<class 'list'>\n"
     ]
    }
   ],
   "source": [
    "listName = []\n",
    "\n",
    "print( listName )\n",
    "print( type( listName ) )\n"
   ]
  },
  {
   "cell_type": "code",
   "execution_count": 4,
   "id": "4c1c3978",
   "metadata": {},
   "outputs": [
    {
     "name": "stdout",
     "output_type": "stream",
     "text": [
      "['python', 'JAVA', False, 72, 3.5, 4j]\n",
      "<class 'list'>\n"
     ]
    }
   ],
   "source": [
    "listName = ['python' , \"JAVA\" , False, 72 , 3.5 , 4j]\n",
    "\n",
    "print( listName )\n",
    "print( type( listName ) )\n"
   ]
  },
  {
   "cell_type": "code",
   "execution_count": null,
   "id": "ab57cb6b",
   "metadata": {},
   "outputs": [],
   "source": []
  },
  {
   "cell_type": "markdown",
   "id": "94f8c630",
   "metadata": {},
   "source": [
    "# List Basic Operations"
   ]
  },
  {
   "cell_type": "code",
   "execution_count": 6,
   "id": "a82b8a34",
   "metadata": {},
   "outputs": [
    {
     "name": "stdout",
     "output_type": "stream",
     "text": [
      "['python', 'JAVA', False, 72, 3.5, 4j]\n",
      "6\n"
     ]
    }
   ],
   "source": [
    "#1. len : return total elements inside the list\n",
    "\n",
    "listName = ['python' , \"JAVA\" , False, 72 , 3.5 , 4j]\n",
    "\n",
    "print( listName )\n",
    "print( len( listName ) )\n"
   ]
  },
  {
   "cell_type": "code",
   "execution_count": null,
   "id": "34c9db12",
   "metadata": {},
   "outputs": [],
   "source": []
  },
  {
   "cell_type": "code",
   "execution_count": 10,
   "id": "0a998854",
   "metadata": {},
   "outputs": [],
   "source": [
    "# 2. Indexing: reading the element wrt POSITION\n",
    "# listName[position]\n",
    "# From LEft to Right : Start : 0 and end is len-1\n",
    "# From Right to Left : Start : -1 and end is -len"
   ]
  },
  {
   "attachments": {
    "image.png": {
     "image/png": "[encoded data removed]"
    }
   },
   "cell_type": "markdown",
   "id": "50eae4ea",
   "metadata": {},
   "source": [
    "![image.png](attachment:image.png)"
   ]
  },
  {
   "cell_type": "code",
   "execution_count": 12,
   "id": "352627fe",
   "metadata": {},
   "outputs": [
    {
     "name": "stdout",
     "output_type": "stream",
     "text": [
      "['python', 'JAVA', False, 72, 3.5, 4j]\n",
      "JAVA\n",
      "3.5\n",
      "3.5\n"
     ]
    }
   ],
   "source": [
    "listName = ['python' , \"JAVA\" , False, 72 , 3.5 , 4j]\n",
    "\n",
    "print( listName )\n",
    "print( listName[1] ) # java\n",
    "print( listName[4] ) # 3.5\n",
    "print( listName[-2] ) # 3.5\n"
   ]
  },
  {
   "cell_type": "code",
   "execution_count": null,
   "id": "92153652",
   "metadata": {},
   "outputs": [],
   "source": [
    "# 3. Slicing : reading more than 1 ELEMENT at a time\n",
    "# syntax : listName[start : end : step]\n",
    "# In Python, index starts from 0\n",
    "\n",
    "\n",
    "# From LEft to Right\n",
    "# start : # default : 0\n",
    "# end :  default : len(stringName) - 1\n",
    "# step : 1\n"
   ]
  },
  {
   "attachments": {
    "image.png": {
     "image/png": "[encoded data removed]"
    }
   },
   "cell_type": "markdown",
   "id": "7817345a",
   "metadata": {},
   "source": [
    "![image.png](attachment:image.png)"
   ]
  },
  {
   "cell_type": "code",
   "execution_count": 15,
   "id": "c4e5aaf2",
   "metadata": {},
   "outputs": [
    {
     "name": "stdout",
     "output_type": "stream",
     "text": [
      "['JAVA', False, 72]\n",
      "['JAVA', 72]\n",
      "['python', False, 3.5]\n"
     ]
    }
   ],
   "source": [
    "listName = ['python' , \"JAVA\" , False, 72 , 3.5 , 4j]\n",
    "\n",
    "print( listName[1 : 4] )\n",
    "print( listName[1 : 4 : 2] ) # 1 , 1 + 2 = 3 , XXX3 + 2 = 5 XXX\n",
    "\n",
    "print( listName[ : : 2] ) # 0 , 0 + 2 = 2, 2 + 2 = 4 , XXXXXXX 4 + 2 = 6"
   ]
  },
  {
   "cell_type": "code",
   "execution_count": 16,
   "id": "691dea4b",
   "metadata": {},
   "outputs": [
    {
     "name": "stdout",
     "output_type": "stream",
     "text": [
      "['python', 'JAVA', False, 72, 3.5, 4j]\n"
     ]
    }
   ],
   "source": [
    "print( listName[ :  : ] )"
   ]
  },
  {
   "cell_type": "code",
   "execution_count": 17,
   "id": "42a3632f",
   "metadata": {},
   "outputs": [
    {
     "name": "stdout",
     "output_type": "stream",
     "text": [
      "['python', 'JAVA', False, 72, 3.5, 4j]\n"
     ]
    }
   ],
   "source": [
    "print( listName[0 : : ] )"
   ]
  },
  {
   "cell_type": "code",
   "execution_count": 18,
   "id": "cbc7edbb",
   "metadata": {},
   "outputs": [
    {
     "name": "stdout",
     "output_type": "stream",
     "text": [
      "[4j, 3.5, 72, False, 'JAVA', 'python']\n"
     ]
    }
   ],
   "source": [
    "print( listName[ : : -1] )"
   ]
  },
  {
   "cell_type": "code",
   "execution_count": null,
   "id": "4e9112c7",
   "metadata": {},
   "outputs": [],
   "source": []
  },
  {
   "cell_type": "code",
   "execution_count": 19,
   "id": "770afd26",
   "metadata": {},
   "outputs": [
    {
     "name": "stdout",
     "output_type": "stream",
     "text": [
      "[10, -6, 1, 1]\n"
     ]
    }
   ],
   "source": [
    "# 4. concatenation (+)\n",
    "# merging 2 or more list to create a single LIST\n",
    "\n",
    "a = [10 , -6]\n",
    "b = [1 , 1]\n",
    "print(a + b)"
   ]
  },
  {
   "cell_type": "markdown",
   "id": "ab9574d8",
   "metadata": {},
   "source": [
    "[11, -5]\n",
    "[[10 , -6], [1 , 1] ]\n",
    "[10 , -6, 1 , 1 ]\n",
    "[10 , -6][1 , 1] "
   ]
  },
  {
   "cell_type": "code",
   "execution_count": null,
   "id": "06b882ed",
   "metadata": {},
   "outputs": [],
   "source": []
  },
  {
   "cell_type": "code",
   "execution_count": 22,
   "id": "157ecafe",
   "metadata": {},
   "outputs": [
    {
     "ename": "TypeError",
     "evalue": "can only concatenate str (not \"list\") to str",
     "output_type": "error",
     "traceback": [
      "\u001b[1;31m---------------------------------------------------------------------------\u001b[0m",
      "\u001b[1;31mTypeError\u001b[0m                                 Traceback (most recent call last)",
      "\u001b[1;32m~\\AppData\\Local\\Temp\\ipykernel_4612\\145072614.py\u001b[0m in \u001b[0;36m<module>\u001b[1;34m\u001b[0m\n\u001b[0;32m      1\u001b[0m \u001b[0mlistName\u001b[0m \u001b[1;33m=\u001b[0m \u001b[1;33m[\u001b[0m\u001b[1;34m'python'\u001b[0m \u001b[1;33m,\u001b[0m \u001b[1;34m\"JAVA\"\u001b[0m \u001b[1;33m,\u001b[0m \u001b[1;32mFalse\u001b[0m\u001b[1;33m,\u001b[0m \u001b[1;36m72\u001b[0m \u001b[1;33m,\u001b[0m \u001b[1;36m3.5\u001b[0m \u001b[1;33m,\u001b[0m \u001b[1;36m4j\u001b[0m\u001b[1;33m]\u001b[0m\u001b[1;33m\u001b[0m\u001b[1;33m\u001b[0m\u001b[0m\n\u001b[0;32m      2\u001b[0m \u001b[1;33m\u001b[0m\u001b[0m\n\u001b[1;32m----> 3\u001b[1;33m \u001b[0mlistName\u001b[0m\u001b[1;33m[\u001b[0m\u001b[1;36m1\u001b[0m\u001b[1;33m]\u001b[0m \u001b[1;33m+\u001b[0m \u001b[1;33m[\u001b[0m\u001b[1;36m1\u001b[0m \u001b[1;33m,\u001b[0m \u001b[1;36m1\u001b[0m\u001b[1;33m]\u001b[0m\u001b[1;33m\u001b[0m\u001b[1;33m\u001b[0m\u001b[0m\n\u001b[0m",
      "\u001b[1;31mTypeError\u001b[0m: can only concatenate str (not \"list\") to str"
     ]
    }
   ],
   "source": [
    "listName = ['python' , \"JAVA\" , False, 72 , 3.5 , 4j]\n",
    "\n",
    "listName[1] + [1 , 1]\n"
   ]
  },
  {
   "cell_type": "code",
   "execution_count": 21,
   "id": "db3fb2b2",
   "metadata": {},
   "outputs": [
    {
     "data": {
      "text/plain": [
       "'JAVA'"
      ]
     },
     "execution_count": 21,
     "metadata": {},
     "output_type": "execute_result"
    }
   ],
   "source": [
    "listName[1] "
   ]
  },
  {
   "cell_type": "code",
   "execution_count": 23,
   "id": "017c7d20",
   "metadata": {},
   "outputs": [
    {
     "data": {
      "text/plain": [
       "['JAVA', False, 72, 1, 1]"
      ]
     },
     "execution_count": 23,
     "metadata": {},
     "output_type": "execute_result"
    }
   ],
   "source": [
    "listName = ['python' , \"JAVA\" , False, 72 , 3.5 , 4j]\n",
    "\n",
    "listName[1 : 4] + [1 , 1]\n"
   ]
  },
  {
   "cell_type": "code",
   "execution_count": null,
   "id": "d52f6843",
   "metadata": {},
   "outputs": [],
   "source": []
  },
  {
   "cell_type": "code",
   "execution_count": 24,
   "id": "b7629edb",
   "metadata": {},
   "outputs": [],
   "source": [
    "# 5. repeat (*)\n",
    "# repeat the list n times to create a SINGLE LIST\n",
    "# listName * n"
   ]
  },
  {
   "cell_type": "code",
   "execution_count": 26,
   "id": "ce8b1e6b",
   "metadata": {},
   "outputs": [
    {
     "data": {
      "text/plain": [
       "['python', 'JAVA', False, 72, 3.5, 4j, 'python', 'JAVA', False, 72, 3.5, 4j]"
      ]
     },
     "execution_count": 26,
     "metadata": {},
     "output_type": "execute_result"
    }
   ],
   "source": [
    "listName = ['python' , \"JAVA\" , False, 72 , 3.5 , 4j]\n",
    "\n",
    "listName * 2"
   ]
  },
  {
   "cell_type": "code",
   "execution_count": 28,
   "id": "bf45328e",
   "metadata": {},
   "outputs": [
    {
     "data": {
      "text/plain": [
       "['python', 72, 'python', 72]"
      ]
     },
     "execution_count": 28,
     "metadata": {},
     "output_type": "execute_result"
    }
   ],
   "source": [
    "listName[ : : 3] * 2"
   ]
  },
  {
   "cell_type": "code",
   "execution_count": 27,
   "id": "40ea4ffc",
   "metadata": {},
   "outputs": [
    {
     "data": {
      "text/plain": [
       "['python', 72]"
      ]
     },
     "execution_count": 27,
     "metadata": {},
     "output_type": "execute_result"
    }
   ],
   "source": [
    "listName[ : : 3]"
   ]
  },
  {
   "cell_type": "code",
   "execution_count": 30,
   "id": "af525a7b",
   "metadata": {},
   "outputs": [
    {
     "data": {
      "text/plain": [
       "[72, 72, 72, 72, 72, 72, 72, 72, 72, 72]"
      ]
     },
     "execution_count": 30,
     "metadata": {},
     "output_type": "execute_result"
    }
   ],
   "source": [
    "listName[ 3 : : 5] * 10"
   ]
  },
  {
   "attachments": {
    "image.png": {
     "image/png": "[encoded data removed]"
    }
   },
   "cell_type": "markdown",
   "id": "3eb095e7",
   "metadata": {},
   "source": [
    "![image.png](attachment:image.png)"
   ]
  },
  {
   "cell_type": "code",
   "execution_count": 31,
   "id": "ab573455",
   "metadata": {},
   "outputs": [
    {
     "data": {
      "text/plain": [
       "[72]"
      ]
     },
     "execution_count": 31,
     "metadata": {},
     "output_type": "execute_result"
    }
   ],
   "source": [
    "listName[ 3 : : 5]"
   ]
  },
  {
   "cell_type": "code",
   "execution_count": 32,
   "id": "26793f75",
   "metadata": {},
   "outputs": [
    {
     "data": {
      "text/plain": [
       "72"
      ]
     },
     "execution_count": 32,
     "metadata": {},
     "output_type": "execute_result"
    }
   ],
   "source": [
    "listName[ 3 ]"
   ]
  },
  {
   "cell_type": "code",
   "execution_count": 33,
   "id": "b9f71b0d",
   "metadata": {},
   "outputs": [
    {
     "data": {
      "text/plain": [
       "720"
      ]
     },
     "execution_count": 33,
     "metadata": {},
     "output_type": "execute_result"
    }
   ],
   "source": [
    "listName[ 3 ] * 10"
   ]
  },
  {
   "cell_type": "code",
   "execution_count": 34,
   "id": "72d446a5",
   "metadata": {},
   "outputs": [
    {
     "data": {
      "text/plain": [
       "'pythonpythonpython'"
      ]
     },
     "execution_count": 34,
     "metadata": {},
     "output_type": "execute_result"
    }
   ],
   "source": [
    "listName[ 0 ] * 3"
   ]
  },
  {
   "cell_type": "code",
   "execution_count": null,
   "id": "6397f1a6",
   "metadata": {},
   "outputs": [],
   "source": []
  },
  {
   "cell_type": "code",
   "execution_count": 37,
   "id": "bdc809cb",
   "metadata": {},
   "outputs": [
    {
     "name": "stdout",
     "output_type": "stream",
     "text": [
      "['python', 'JAVA', False, 72, [10, 20, 30], 3.5, 4j]\n",
      "[10, 20, 30]\n",
      "[10, 20, 30]\n"
     ]
    }
   ],
   "source": [
    "listName = ['python' , \"JAVA\" , False, 72 , [10 , 20 , 30] , 3.5 , 4j]\n",
    "\n",
    "print( listName )\n",
    "print( listName[4] )# [10, 20, 30]\n",
    "print( listName[-3] )# [10, 20, 30]\n",
    "\n"
   ]
  },
  {
   "cell_type": "code",
   "execution_count": 43,
   "id": "b0631136",
   "metadata": {},
   "outputs": [
    {
     "name": "stdout",
     "output_type": "stream",
     "text": [
      "[10, 20, 30]\n",
      "20\n"
     ]
    }
   ],
   "source": [
    "# Extract 20 out of it ???\n",
    "print( listName[4] )\n",
    "print( listName[4][1] )\n"
   ]
  },
  {
   "cell_type": "code",
   "execution_count": 42,
   "id": "4e20e4af",
   "metadata": {},
   "outputs": [
    {
     "name": "stdout",
     "output_type": "stream",
     "text": [
      "JAVA\n",
      "J\n"
     ]
    }
   ],
   "source": [
    "# Extract J out of it ???\n",
    "print( listName[1] )\n",
    "print( listName[1][0] )\n"
   ]
  },
  {
   "cell_type": "code",
   "execution_count": null,
   "id": "f071a994",
   "metadata": {},
   "outputs": [],
   "source": []
  },
  {
   "cell_type": "code",
   "execution_count": 46,
   "id": "74f47383",
   "metadata": {},
   "outputs": [
    {
     "name": "stdout",
     "output_type": "stream",
     "text": [
      "True\n",
      "False\n",
      "False\n",
      "True\n"
     ]
    }
   ],
   "source": [
    "# 6. Membership (in, not in)\n",
    "\n",
    "# in : return TRUE if element is present inside the LIST.\n",
    "# not in : return FALSE if element is present inside the LIST.\n",
    "\n",
    "listName = ['python' , \"JAVA\" , False, 72 , [10 , 20 , 30] , 3.5 , 4j]\n",
    "print( \"python\" in listName )\n",
    "print( \"java\" in listName )\n",
    "\n",
    "print( 20 in listName )\n",
    "print( 0 in listName )\n",
    "\n",
    "\n"
   ]
  },
  {
   "cell_type": "code",
   "execution_count": null,
   "id": "ea20ed15",
   "metadata": {},
   "outputs": [],
   "source": []
  },
  {
   "cell_type": "markdown",
   "id": "002886af",
   "metadata": {},
   "source": [
    "# List Methods"
   ]
  },
  {
   "cell_type": "code",
   "execution_count": 47,
   "id": "1038da98",
   "metadata": {},
   "outputs": [
    {
     "name": "stdout",
     "output_type": "stream",
     "text": [
      "['__add__', '__class__', '__class_getitem__', '__contains__', '__delattr__', '__delitem__', '__dir__', '__doc__', '__eq__', '__format__', '__ge__', '__getattribute__', '__getitem__', '__gt__', '__hash__', '__iadd__', '__imul__', '__init__', '__init_subclass__', '__iter__', '__le__', '__len__', '__lt__', '__mul__', '__ne__', '__new__', '__reduce__', '__reduce_ex__', '__repr__', '__reversed__', '__rmul__', '__setattr__', '__setitem__', '__sizeof__', '__str__', '__subclasshook__', 'append', 'clear', 'copy', 'count', 'extend', 'index', 'insert', 'pop', 'remove', 'reverse', 'sort']\n"
     ]
    }
   ],
   "source": [
    "print( dir( list ) )"
   ]
  },
  {
   "cell_type": "markdown",
   "id": "77857707",
   "metadata": {},
   "source": [
    "'append', 'clear', 'copy', 'count', 'extend', 'index', 'insert', 'pop', 'remove', 'reverse', 'sort'"
   ]
  },
  {
   "cell_type": "markdown",
   "id": "6b66db46",
   "metadata": {},
   "source": [
    "-- Delete from here ---\n",
    "\n",
    "'append', '', 'copy', '', '', '', 'insert', '', '', '', ''"
   ]
  },
  {
   "cell_type": "code",
   "execution_count": 48,
   "id": "60ed7801",
   "metadata": {},
   "outputs": [],
   "source": [
    "# - Mutable Object : Any element at any position can be modified (inset, remove, replace)"
   ]
  },
  {
   "cell_type": "markdown",
   "id": "545751bf",
   "metadata": {},
   "source": [
    "### 1. Replace\n",
    "- listName[position] = newValue\n"
   ]
  },
  {
   "cell_type": "code",
   "execution_count": 50,
   "id": "3e4cdf4a",
   "metadata": {},
   "outputs": [
    {
     "data": {
      "text/plain": [
       "['python', 'JAVA', False, 72, [10, 20, 30], 100, 4j]"
      ]
     },
     "execution_count": 50,
     "metadata": {},
     "output_type": "execute_result"
    }
   ],
   "source": [
    "listName = ['python' , \"JAVA\" , False, 72 , [10 , 20 , 30] , 3.5 , 4j]\n",
    "\n",
    "# replace 3.5 by 100\n",
    "listName[-2] = 100\n",
    "listName"
   ]
  },
  {
   "cell_type": "code",
   "execution_count": null,
   "id": "3b368eb1",
   "metadata": {},
   "outputs": [],
   "source": []
  },
  {
   "cell_type": "markdown",
   "id": "df04040b",
   "metadata": {},
   "source": [
    "### 2. index : return position for the value\n",
    "- listName.index(value) \n"
   ]
  },
  {
   "cell_type": "code",
   "execution_count": null,
   "id": "27c4ca2e",
   "metadata": {},
   "outputs": [],
   "source": []
  },
  {
   "cell_type": "code",
   "execution_count": 53,
   "id": "16405718",
   "metadata": {},
   "outputs": [
    {
     "name": "stdout",
     "output_type": "stream",
     "text": [
      "5\n"
     ]
    },
    {
     "data": {
      "text/plain": [
       "['python', 'JAVA', False, 72, [10, 20, 30], 100, 4j]"
      ]
     },
     "execution_count": 53,
     "metadata": {},
     "output_type": "execute_result"
    }
   ],
   "source": [
    "listName = ['python' , \"JAVA\" , False, 72 , [10 , 20 , 30] , 3.5 , 4j]\n",
    "\n",
    "# replace 3.5 by 100. I don't know the position\n",
    "pos = listName.index(3.5)\n",
    "print(pos)\n",
    "listName[pos] = 100\n",
    "listName"
   ]
  },
  {
   "cell_type": "code",
   "execution_count": 56,
   "id": "903a4c44",
   "metadata": {},
   "outputs": [
    {
     "data": {
      "text/plain": [
       "['python', 'JAVA', False, 72, [10, 20, 30], 100, 4j]"
      ]
     },
     "execution_count": 56,
     "metadata": {},
     "output_type": "execute_result"
    }
   ],
   "source": [
    "listName = ['python' , \"JAVA\" , False, 72 , [10 , 20 , 30] , 3.5 , 4j]\n",
    "\n",
    "# replace 3.5 by 100. I don't know the position\n",
    "old_value = 3.5\n",
    "new_value = 100\n",
    "\n",
    "if old_value in listName : # if PRESENT...\n",
    "    pos = listName.index(old_value)\n",
    "#     print(pos)\n",
    "    listName[pos] = new_value\n",
    "\n",
    "listName"
   ]
  },
  {
   "cell_type": "code",
   "execution_count": null,
   "id": "2e392158",
   "metadata": {},
   "outputs": [],
   "source": []
  },
  {
   "cell_type": "markdown",
   "id": "6d539ff1",
   "metadata": {},
   "source": [
    "### 3. count : return occurence of the value\n",
    "- listName.count(value) \n"
   ]
  },
  {
   "cell_type": "code",
   "execution_count": 59,
   "id": "318edca2",
   "metadata": {},
   "outputs": [
    {
     "name": "stdout",
     "output_type": "stream",
     "text": [
      "1\n",
      "3\n",
      "1\n"
     ]
    }
   ],
   "source": [
    "listName = ['python' , \"JAVA\" , False, 72 , [10 , 20 , 30] , 3.5 , 4j , \"python\" , 20, \"python\"]\n",
    "print( listName.count(False) )\n",
    "print( listName.count('python') )\n",
    "print( listName.count(20) )\n"
   ]
  },
  {
   "cell_type": "code",
   "execution_count": null,
   "id": "e55d7c4e",
   "metadata": {},
   "outputs": [],
   "source": []
  },
  {
   "cell_type": "markdown",
   "id": "a0b6af32",
   "metadata": {},
   "source": [
    "### 4. clear : remove all the elements from the list\n",
    "- listName.clear() \n"
   ]
  },
  {
   "cell_type": "code",
   "execution_count": 60,
   "id": "c5fcc006",
   "metadata": {},
   "outputs": [
    {
     "data": {
      "text/plain": [
       "[]"
      ]
     },
     "execution_count": 60,
     "metadata": {},
     "output_type": "execute_result"
    }
   ],
   "source": [
    "listName = ['python' , \"JAVA\" , False, 72 , [10 , 20 , 30] , 3.5 , 4j]\n",
    "listName.clear()\n",
    "listName\n"
   ]
  },
  {
   "cell_type": "code",
   "execution_count": null,
   "id": "dc96fd7b",
   "metadata": {},
   "outputs": [],
   "source": []
  },
  {
   "cell_type": "markdown",
   "id": "48801140",
   "metadata": {},
   "source": [
    "### 5. extend : \n",
    "- it insets all the elements of the 2nd list to 1st one"
   ]
  },
  {
   "cell_type": "code",
   "execution_count": 66,
   "id": "e651c633",
   "metadata": {},
   "outputs": [
    {
     "name": "stdout",
     "output_type": "stream",
     "text": [
      "[10, 20, 1, 1]\n",
      "[10, 20, 1, 1]\n"
     ]
    }
   ],
   "source": [
    "a = [10 , 20]\n",
    "b = [1 , 1]\n",
    "print(a + b)\n",
    "\n",
    "a = a + b\n",
    "print(a)"
   ]
  },
  {
   "cell_type": "code",
   "execution_count": 68,
   "id": "6dc189f5",
   "metadata": {},
   "outputs": [
    {
     "name": "stdout",
     "output_type": "stream",
     "text": [
      "[10, 20, 1, 1]\n"
     ]
    }
   ],
   "source": [
    "a = [10 , 20]\n",
    "b = [1 , 1]\n",
    "\n",
    "a.extend(b) # a = a + b\n",
    "print(a)"
   ]
  },
  {
   "cell_type": "code",
   "execution_count": null,
   "id": "71771f7d",
   "metadata": {},
   "outputs": [],
   "source": []
  },
  {
   "cell_type": "code",
   "execution_count": null,
   "id": "1a0f094a",
   "metadata": {},
   "outputs": [],
   "source": []
  },
  {
   "cell_type": "markdown",
   "id": "6b911188",
   "metadata": {},
   "source": [
    "### 6. reverse : reverse the list permanently\n"
   ]
  },
  {
   "cell_type": "code",
   "execution_count": 63,
   "id": "05d0190c",
   "metadata": {},
   "outputs": [
    {
     "name": "stdout",
     "output_type": "stream",
     "text": [
      "[4j, 3.5, [10, 20, 30], 72, False, 'JAVA', 'python']\n",
      "[4j, 3.5, [10, 20, 30], 72, False, 'JAVA', 'python']\n"
     ]
    }
   ],
   "source": [
    "listName = ['python' , \"JAVA\" , False, 72 , [10 , 20 , 30] , 3.5 , 4j]\n",
    "print( listName[ : : -1] )\n",
    "\n",
    "listName = listName[ : : -1]\n",
    "print( listName )\n"
   ]
  },
  {
   "cell_type": "code",
   "execution_count": 64,
   "id": "6cd96ac3",
   "metadata": {},
   "outputs": [
    {
     "name": "stdout",
     "output_type": "stream",
     "text": [
      "[4j, 3.5, [10, 20, 30], 72, False, 'JAVA', 'python']\n"
     ]
    }
   ],
   "source": [
    "listName = ['python' , \"JAVA\" , False, 72 , [10 , 20 , 30] , 3.5 , 4j]\n",
    "listName.reverse()\n",
    "print( listName )\n"
   ]
  },
  {
   "cell_type": "code",
   "execution_count": null,
   "id": "64654e43",
   "metadata": {},
   "outputs": [],
   "source": []
  },
  {
   "cell_type": "markdown",
   "id": "a22d6d8a",
   "metadata": {},
   "source": [
    "### 7. sort : re-arrange the elements on the basis of their values\n",
    "- Make sure LIST is same datatype\n"
   ]
  },
  {
   "cell_type": "code",
   "execution_count": 69,
   "id": "bde0d300",
   "metadata": {},
   "outputs": [
    {
     "ename": "TypeError",
     "evalue": "'<' not supported between instances of 'bool' and 'str'",
     "output_type": "error",
     "traceback": [
      "\u001b[1;31m---------------------------------------------------------------------------\u001b[0m",
      "\u001b[1;31mTypeError\u001b[0m                                 Traceback (most recent call last)",
      "\u001b[1;32m~\\AppData\\Local\\Temp\\ipykernel_4612\\1785485666.py\u001b[0m in \u001b[0;36m<module>\u001b[1;34m\u001b[0m\n\u001b[0;32m      1\u001b[0m \u001b[0mlistName\u001b[0m \u001b[1;33m=\u001b[0m \u001b[1;33m[\u001b[0m\u001b[1;34m'python'\u001b[0m \u001b[1;33m,\u001b[0m \u001b[1;34m\"JAVA\"\u001b[0m \u001b[1;33m,\u001b[0m \u001b[1;32mFalse\u001b[0m\u001b[1;33m,\u001b[0m \u001b[1;36m72\u001b[0m \u001b[1;33m,\u001b[0m \u001b[1;33m[\u001b[0m\u001b[1;36m10\u001b[0m \u001b[1;33m,\u001b[0m \u001b[1;36m20\u001b[0m \u001b[1;33m,\u001b[0m \u001b[1;36m30\u001b[0m\u001b[1;33m]\u001b[0m \u001b[1;33m,\u001b[0m \u001b[1;36m3.5\u001b[0m \u001b[1;33m,\u001b[0m \u001b[1;36m4j\u001b[0m\u001b[1;33m]\u001b[0m\u001b[1;33m\u001b[0m\u001b[1;33m\u001b[0m\u001b[0m\n\u001b[0;32m      2\u001b[0m \u001b[1;33m\u001b[0m\u001b[0m\n\u001b[1;32m----> 3\u001b[1;33m \u001b[0mlistName\u001b[0m\u001b[1;33m.\u001b[0m\u001b[0msort\u001b[0m\u001b[1;33m(\u001b[0m\u001b[1;33m)\u001b[0m\u001b[1;33m\u001b[0m\u001b[1;33m\u001b[0m\u001b[0m\n\u001b[0m\u001b[0;32m      4\u001b[0m \u001b[0mprint\u001b[0m\u001b[1;33m(\u001b[0m \u001b[0mlistName\u001b[0m \u001b[1;33m)\u001b[0m\u001b[1;33m\u001b[0m\u001b[1;33m\u001b[0m\u001b[0m\n",
      "\u001b[1;31mTypeError\u001b[0m: '<' not supported between instances of 'bool' and 'str'"
     ]
    }
   ],
   "source": [
    "listName = ['python' , \"JAVA\" , False, 72 , [10 , 20 , 30] , 3.5 , 4j]\n",
    "\n",
    "listName.sort()\n",
    "print( listName )\n"
   ]
  },
  {
   "cell_type": "code",
   "execution_count": 75,
   "id": "eed76489",
   "metadata": {},
   "outputs": [
    {
     "name": "stdout",
     "output_type": "stream",
     "text": [
      "['JAVA', 'Jython']\n"
     ]
    }
   ],
   "source": [
    "listName = ['python' , \"JAVA\" ] # Based on ASCII VALUES (LINK : http://sticksandstones.kstrom.com/appen.html)\n",
    "\n",
    "listName.sort()\n",
    "print( listName )\n"
   ]
  },
  {
   "cell_type": "code",
   "execution_count": 76,
   "id": "48556dd6",
   "metadata": {},
   "outputs": [
    {
     "data": {
      "text/plain": [
       "74"
      ]
     },
     "execution_count": 76,
     "metadata": {},
     "output_type": "execute_result"
    }
   ],
   "source": [
    "ord(\"J\") # ASCII Value with Python"
   ]
  },
  {
   "cell_type": "code",
   "execution_count": 77,
   "id": "af300d00",
   "metadata": {},
   "outputs": [
    {
     "data": {
      "text/plain": [
       "112"
      ]
     },
     "execution_count": 77,
     "metadata": {},
     "output_type": "execute_result"
    }
   ],
   "source": [
    "ord(\"p\") # ASCII Value with Python"
   ]
  },
  {
   "cell_type": "code",
   "execution_count": 78,
   "id": "2d9dd836",
   "metadata": {},
   "outputs": [
    {
     "name": "stdout",
     "output_type": "stream",
     "text": [
      "['pyorg', 'python']\n"
     ]
    }
   ],
   "source": [
    "listName = ['python' , \"pyorg\" ] # Based on ASCII VALUES (LINK : http://sticksandstones.kstrom.com/appen.html)\n",
    "\n",
    "listName.sort()\n",
    "print( listName )\n"
   ]
  },
  {
   "cell_type": "code",
   "execution_count": 79,
   "id": "423e23c9",
   "metadata": {},
   "outputs": [
    {
     "name": "stdout",
     "output_type": "stream",
     "text": [
      "[3.5, 10, 20, 30, 72]\n"
     ]
    }
   ],
   "source": [
    "listName = [72 , 10 , 20 , 30 , 3.5 ] \n",
    "\n",
    "listName.sort()\n",
    "print( listName )\n"
   ]
  },
  {
   "cell_type": "code",
   "execution_count": null,
   "id": "17c7e361",
   "metadata": {},
   "outputs": [],
   "source": []
  },
  {
   "cell_type": "code",
   "execution_count": null,
   "id": "7894fc30",
   "metadata": {},
   "outputs": [],
   "source": []
  },
  {
   "cell_type": "markdown",
   "id": "033aac3d",
   "metadata": {},
   "source": [
    "### 8. remove  : remove the element by taking its value\n",
    "- it removes just FIRST VAlue"
   ]
  },
  {
   "cell_type": "code",
   "execution_count": 81,
   "id": "083e4d85",
   "metadata": {},
   "outputs": [
    {
     "name": "stdout",
     "output_type": "stream",
     "text": [
      "['python', 'JAVA', False, [10, 20, 30], 3.5, 4j]\n"
     ]
    }
   ],
   "source": [
    "listName = ['python' , \"JAVA\" , False, 72 , [10 , 20 , 30] , 3.5 , 4j]\n",
    "\n",
    "listName.remove(72)\n",
    "print( listName )\n"
   ]
  },
  {
   "cell_type": "code",
   "execution_count": 82,
   "id": "526d4ae8",
   "metadata": {},
   "outputs": [
    {
     "name": "stdout",
     "output_type": "stream",
     "text": [
      "['JAVA', False, 72, [10, 20, 30], 3.5, 4j, 'python', 20, 'python']\n"
     ]
    }
   ],
   "source": [
    "listName = ['python' , \"JAVA\" , False, 72 , [10 , 20 , 30] , 3.5 , 4j , \"python\" , 20, \"python\"]\n",
    "\n",
    "listName.remove('python')\n",
    "print( listName )\n"
   ]
  },
  {
   "cell_type": "code",
   "execution_count": null,
   "id": "892002c9",
   "metadata": {},
   "outputs": [],
   "source": [
    "# Q. remove all the values..\n",
    "# for + membership + remove"
   ]
  },
  {
   "cell_type": "code",
   "execution_count": null,
   "id": "42136610",
   "metadata": {},
   "outputs": [],
   "source": []
  },
  {
   "cell_type": "code",
   "execution_count": null,
   "id": "0e624152",
   "metadata": {},
   "outputs": [],
   "source": []
  },
  {
   "cell_type": "markdown",
   "id": "c9fb1f22",
   "metadata": {},
   "source": [
    "### 9. pop  : remove the element by POSITION\n",
    "- default it returns last element and removes the last element"
   ]
  },
  {
   "cell_type": "code",
   "execution_count": 86,
   "id": "8626f56c",
   "metadata": {},
   "outputs": [
    {
     "name": "stdout",
     "output_type": "stream",
     "text": [
      "4j\n",
      "['python', 'JAVA', False, 72, [10, 20, 30], 3.5]\n",
      "3.5\n",
      "['python', 'JAVA', False, 72, [10, 20, 30]]\n",
      "[10, 20, 30]\n",
      "['python', 'JAVA', False, 72]\n",
      "72\n",
      "['python', 'JAVA', False]\n",
      "False\n",
      "['python', 'JAVA']\n"
     ]
    }
   ],
   "source": [
    "listName = ['python' , \"JAVA\" , False, 72 , [10 , 20 , 30] , 3.5 , 4j]\n",
    "\n",
    "returnedValue = listName.pop()\n",
    "print(returnedValue)\n",
    "print( listName )\n",
    "\n",
    "\n",
    "returnedValue = listName.pop()\n",
    "print(returnedValue)\n",
    "print( listName )\n",
    "\n",
    "\n",
    "returnedValue = listName.pop()\n",
    "print(returnedValue)\n",
    "print( listName )\n",
    "\n",
    "\n",
    "returnedValue = listName.pop()\n",
    "print(returnedValue)\n",
    "print( listName )\n",
    "\n",
    "\n",
    "returnedValue = listName.pop()\n",
    "print(returnedValue)\n",
    "print( listName )\n"
   ]
  },
  {
   "cell_type": "code",
   "execution_count": 87,
   "id": "a9f8ff9b",
   "metadata": {},
   "outputs": [
    {
     "name": "stdout",
     "output_type": "stream",
     "text": [
      "JAVA\n",
      "['python', False, 72, [10, 20, 30], 3.5, 4j]\n"
     ]
    }
   ],
   "source": [
    "listName = ['python' , \"JAVA\" , False, 72 , [10 , 20 , 30] , 3.5 , 4j]\n",
    "\n",
    "returnedValue = listName.pop(1)\n",
    "print(returnedValue)\n",
    "print( listName )\n"
   ]
  },
  {
   "cell_type": "code",
   "execution_count": null,
   "id": "cdd4a434",
   "metadata": {},
   "outputs": [],
   "source": []
  },
  {
   "cell_type": "code",
   "execution_count": null,
   "id": "978696f5",
   "metadata": {},
   "outputs": [],
   "source": []
  },
  {
   "cell_type": "markdown",
   "id": "c70a0f22",
   "metadata": {},
   "source": [
    "### 10. append : default insert the element at the end of the list"
   ]
  },
  {
   "cell_type": "code",
   "execution_count": 88,
   "id": "5ddcb799",
   "metadata": {},
   "outputs": [
    {
     "name": "stdout",
     "output_type": "stream",
     "text": [
      "['python', 'JAVA', False, 72, [10, 20, 30], 3.5, 4j, 99]\n"
     ]
    }
   ],
   "source": [
    "listName = ['python' , \"JAVA\" , False, 72 , [10 , 20 , 30] , 3.5 , 4j]\n",
    "\n",
    "listName.append(99)\n",
    "print( listName )\n"
   ]
  },
  {
   "cell_type": "code",
   "execution_count": 90,
   "id": "eabee9bf",
   "metadata": {},
   "outputs": [
    {
     "name": "stdout",
     "output_type": "stream",
     "text": [
      "['python', 'JAVA', False, 72, [10, 20, 30], 3.5, 4j, 99, True, [-6, -8], 848454125412541541]\n"
     ]
    }
   ],
   "source": [
    "listName = ['python' , \"JAVA\" , False, 72 , [10 , 20 , 30] , 3.5 , 4j]\n",
    "\n",
    "listName.append(99)\n",
    "listName.append(True)\n",
    "listName.append([-6 , -8])\n",
    "listName.append(848454125412541541)\n",
    "\n",
    "\n",
    "print( listName )\n"
   ]
  },
  {
   "cell_type": "code",
   "execution_count": null,
   "id": "b9d3464c",
   "metadata": {},
   "outputs": [],
   "source": []
  },
  {
   "cell_type": "markdown",
   "id": "132bcde3",
   "metadata": {},
   "source": [
    "### 11. insert : insert the element at ANY POSITION of the list\n",
    "\n",
    "- SYntax : listName.insert(position, element)"
   ]
  },
  {
   "cell_type": "code",
   "execution_count": 91,
   "id": "d9ae4ea1",
   "metadata": {},
   "outputs": [
    {
     "name": "stdout",
     "output_type": "stream",
     "text": [
      "['python', 999, 'JAVA', False, 72, [10, 20, 30], 3.5, 4j]\n"
     ]
    }
   ],
   "source": [
    "listName = ['python' , \"JAVA\" , False, 72 , [10 , 20 , 30] , 3.5 , 4j]\n",
    "\n",
    "listName.insert(1, 999)\n",
    "print( listName )\n"
   ]
  },
  {
   "cell_type": "code",
   "execution_count": 92,
   "id": "6876ca6c",
   "metadata": {},
   "outputs": [
    {
     "name": "stdout",
     "output_type": "stream",
     "text": [
      "['python', 'JAVA', False, 72, 7777777, [10, 20, 30], 3.5, 4j]\n"
     ]
    }
   ],
   "source": [
    "listName = ['python' , \"JAVA\" , False, 72 , [10 , 20 , 30] , 3.5 , 4j]\n",
    "\n",
    "listName.insert(4, 7777777)# If LEft to Right, then after that Position its inserted\n",
    "print( listName )\n"
   ]
  },
  {
   "cell_type": "code",
   "execution_count": 93,
   "id": "0fd521e7",
   "metadata": {},
   "outputs": [
    {
     "name": "stdout",
     "output_type": "stream",
     "text": [
      "['python', 'JAVA', False, 72, [10, 20, 30], 7777777, 3.5, 4j]\n"
     ]
    }
   ],
   "source": [
    "listName = ['python' , \"JAVA\" , False, 72 , [10 , 20 , 30] , 3.5 , 4j]\n",
    "\n",
    "listName.insert(-2, 7777777) # If Right to LEft, then before that Position its inserted\n",
    "print( listName )\n"
   ]
  },
  {
   "cell_type": "code",
   "execution_count": null,
   "id": "e3c464cf",
   "metadata": {},
   "outputs": [],
   "source": []
  },
  {
   "cell_type": "code",
   "execution_count": 4,
   "id": "c15b886e",
   "metadata": {},
   "outputs": [],
   "source": [
    "listName = ['python' , \"JAVA\" , False, 72 , [10 , 20 , 30] , 3.5 , 4j]\n",
    "\n",
    "listName.insert(-1, 25)"
   ]
  },
  {
   "cell_type": "code",
   "execution_count": 6,
   "id": "c5a64185",
   "metadata": {},
   "outputs": [],
   "source": [
    "listName.insert(0, 25)"
   ]
  },
  {
   "cell_type": "code",
   "execution_count": 7,
   "id": "612e949a-87c4-4cff-8587-9ea3909a71d9",
   "metadata": {},
   "outputs": [
    {
     "data": {
      "text/plain": [
       "[25, 'python', 'JAVA', False, 72, [10, 20, 30], 3.5, 25, 4j]"
      ]
     },
     "execution_count": 7,
     "metadata": {},
     "output_type": "execute_result"
    }
   ],
   "source": [
    "listName"
   ]
  },
  {
   "cell_type": "code",
   "execution_count": null,
   "id": "a534d763-213d-4cd7-90b5-e44b2e79530c",
   "metadata": {},
   "outputs": [],
   "source": []
  }
 ],
 "metadata": {
  "kernelspec": {
   "display_name": "Python 3 (ipykernel)",
   "language": "python",
   "name": "python3"
  },
  "language_info": {
   "codemirror_mode": {
    "name": "ipython",
    "version": 3
   },
   "file_extension": ".py",
   "mimetype": "text/x-python",
   "name": "python",
   "nbconvert_exporter": "python",
   "pygments_lexer": "ipython3",
   "version": "3.12.4"
  }
 },
 "nbformat": 4,
 "nbformat_minor": 5
}
