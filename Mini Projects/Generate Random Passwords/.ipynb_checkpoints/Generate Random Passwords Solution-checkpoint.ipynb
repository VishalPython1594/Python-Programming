{
 "cells": [
  {
   "cell_type": "code",
   "execution_count": null,
   "metadata": {},
   "outputs": [],
   "source": [
    "####  Generate Random Passwords Solution\n",
    "\n",
    "# __________________Tasks_________________\n",
    "\n",
    "'''\n",
    "Create a program to generate passwords for you.\n",
    "\n",
    "You have to create a Program that asks user total passwords he needed and the length of them.\n",
    "\n",
    "Sample Shown in Folder\n",
    "\n",
    "'''\n"
   ]
  },
  {
   "cell_type": "code",
   "execution_count": 3,
   "metadata": {},
   "outputs": [
    {
     "name": "stdout",
     "output_type": "stream",
     "text": [
      "Enter total passwords needed: 10\n",
      "Enter the lenth of each password needed: 5\n",
      "H8Sk3\n",
      "G&5vM\n",
      "jk_L-\n",
      "/X2QT\n",
      "f\\}*S\n",
      "9.Q&:\n",
      "LiE9n\n",
      "iWX0-\n",
      "{Xa;n\n",
      "GrQu2\n"
     ]
    }
   ],
   "source": [
    "import random\n",
    "import string\n",
    "\n",
    "total_passwords = int(input(\"Enter total passwords needed: \"))\n",
    "length = int(input(\"Enter the lenth of each password needed: \"))\n",
    "\n",
    "characters = list(string.ascii_letters + string.digits + string.punctuation)\n",
    "random.shuffle(characters)\n",
    "\n",
    "password = []\n",
    "y = []\n",
    "\n",
    "for i in range(total_passwords):\n",
    "    for j in range(length):\n",
    "        x = random.choice(characters)\n",
    "        y.append(x)\n",
    "    string = \"\".join(y)\n",
    "    y = []\n",
    "    password.append(string)\n",
    "    \n",
    "\n",
    "for p in password :     \n",
    "    print(p)\n",
    "\n"
   ]
  },
  {
   "cell_type": "code",
   "execution_count": 5,
   "metadata": {},
   "outputs": [
    {
     "name": "stdout",
     "output_type": "stream",
     "text": [
      "Enter total passwords needed: 10\n",
      "Enter the lenth of each password needed: 5\n",
      "#0~So\n",
      "!Z;8U\n",
      "Kip(F\n",
      ")IFq@\n",
      "h21\\)\n",
      "d$~\"+\n",
      "ai(Qs\n",
      "g|O%N\n",
      "EhqK(\n",
      "~E-YV\n"
     ]
    }
   ],
   "source": [
    "import random\n",
    "import string\n",
    "\n",
    "total_passwords = int(input(\"Enter total passwords needed: \"))\n",
    "length = int(input(\"Enter the lenth of each password needed: \"))\n",
    "\n",
    "characters = string.ascii_letters + string.digits + string.punctuation\n",
    "\n",
    "password = []\n",
    "\n",
    "for i in range(total_passwords):\n",
    "    stringName = random.sample(characters, length)\n",
    "    stringName = \"\".join(stringName)\n",
    "    password.append(stringName)\n",
    "    \n",
    "\n",
    "for p in password :     \n",
    "    print(p)\n",
    "\n"
   ]
  },
  {
   "cell_type": "code",
   "execution_count": null,
   "metadata": {},
   "outputs": [],
   "source": []
  }
 ],
 "metadata": {
  "kernelspec": {
   "display_name": "Python 3",
   "language": "python",
   "name": "python3"
  },
  "language_info": {
   "codemirror_mode": {
    "name": "ipython",
    "version": 3
   },
   "file_extension": ".py",
   "mimetype": "text/x-python",
   "name": "python",
   "nbconvert_exporter": "python",
   "pygments_lexer": "ipython3",
   "version": "3.8.3"
  }
 },
 "nbformat": 4,
 "nbformat_minor": 4
}
