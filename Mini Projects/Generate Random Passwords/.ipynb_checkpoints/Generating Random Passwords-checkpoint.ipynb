{
 "cells": [
  {
   "cell_type": "code",
   "execution_count": 9,
   "id": "576bdea7-5f45-4795-9885-f19365864425",
   "metadata": {},
   "outputs": [],
   "source": [
    "chr_list = [chr(i) for i in range(33,127)]"
   ]
  },
  {
   "cell_type": "code",
   "execution_count": 19,
   "id": "3650e1c4-cf4e-442b-b672-073064ed6b2a",
   "metadata": {},
   "outputs": [
    {
     "name": "stdin",
     "output_type": "stream",
     "text": [
      "Enter the number of passowrds you need 10\n"
     ]
    },
    {
     "name": "stdout",
     "output_type": "stream",
     "text": [
      "LCN6}|o@aV\n",
      "_$(@/c0=g'\n",
      "L7%{&(sRy.\n",
      "}qC=ogJ4\\O\n",
      "P1}.[dY$eM\n",
      "5p(Ed-fPZ8\n",
      "4NkDXa*%-x\n",
      "AP1#K=eRNj\n",
      "_!$FiVo|Sd\n",
      "9?dsT^OiM3\n"
     ]
    }
   ],
   "source": [
    "n = int(input('Enter the number of passowrds you need'))\n",
    "k = 0\n",
    "import random\n",
    "while k < n:\n",
    "    pw = ''\n",
    "    for i in random.sample(chr_list,10):\n",
    "        pw = pw + i\n",
    "    print(pw)\n",
    "    k += 1"
   ]
  },
  {
   "cell_type": "code",
   "execution_count": null,
   "id": "98779b07-42d6-4092-8c1d-792b04651203",
   "metadata": {},
   "outputs": [],
   "source": []
  },
  {
   "cell_type": "code",
   "execution_count": null,
   "id": "8f95cf6f-393e-400d-91e2-4388f602efa5",
   "metadata": {},
   "outputs": [],
   "source": []
  }
 ],
 "metadata": {
  "kernelspec": {
   "display_name": "Python 3 (ipykernel)",
   "language": "python",
   "name": "python3"
  },
  "language_info": {
   "codemirror_mode": {
    "name": "ipython",
    "version": 3
   },
   "file_extension": ".py",
   "mimetype": "text/x-python",
   "name": "python",
   "nbconvert_exporter": "python",
   "pygments_lexer": "ipython3",
   "version": "3.12.4"
  }
 },
 "nbformat": 4,
 "nbformat_minor": 5
}
