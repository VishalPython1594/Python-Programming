{
 "cells": [
  {
   "cell_type": "code",
   "execution_count": 26,
   "id": "15716b4f-9782-4b08-812f-921d916e0b53",
   "metadata": {},
   "outputs": [
    {
     "name": "stdin",
     "output_type": "stream",
     "text": [
      "Write the Associated Tag -->  QUOTE\n"
     ]
    },
    {
     "name": "stdout",
     "output_type": "stream",
     "text": [
      "\n",
      "Filter Results for 'QUOTE':\n",
      "title <--> Coffee Mug\n",
      "description <--> Ceramic mug with a funny quote\n",
      "tags <--> ['kitchen', 'drinkware', 'quote']\n"
     ]
    }
   ],
   "source": [
    "'''\n",
    "Build a search engine for an online store based on product titles, descriptions, and tags.\n",
    "Allow users to search for specific keywords or filter by categories and other attributes.\n",
    "\n",
    "Implement efficient search algorithms and filters to provide relevant product\n",
    "results for user queries.\n",
    "\n",
    "products = [\n",
    "    {\"title\": \"T-Shirt\", \"description\": \"Cotton T-shirt with your favorite band logo\", \"tags\": [\"clothing\", \"band\", \"t-shirt\"]},\n",
    "    {\"title\": \"Coffee Mug\", \"description\": \"Ceramic mug with a funny quote\", \"tags\": [\"kitchen\", \"drinkware\", \"quote\"]},\n",
    "    {\"title\": \"Notebook\", \"description\": \"Lined notebook with a stylish cover\", \"tags\": [\"office\", \"writing\", \"stationery\"]},\n",
    "]\n",
    "\n",
    "'''\n",
    "\n",
    "\n",
    "def filter_by_attribute(products , attribute):\n",
    "    results = []\n",
    "    for product in products:\n",
    "        if attribute.lower() in product['tags']:\n",
    "            results.append(product)\n",
    "    \n",
    "    return results\n",
    "\n",
    "# Dummy Data\n",
    "products = [\n",
    "    {\"title\": \"T-Shirt\", \"description\": \"Cotton T-shirt with your favorite band logo\", \"tags\": [\"clothing\", \"band\", \"t-shirt\"]},\n",
    "    {\"title\": \"Coffee Mug\", \"description\": \"Ceramic mug with a funny quote\", \"tags\": [\"kitchen\", \"drinkware\", \"quote\"]},\n",
    "    {\"title\": \"Notebook\", \"description\": \"Lined notebook with a stylish cover\", \"tags\": [\"office\", \"writing\", \"stationery\"]},\n",
    "]\n",
    "tag = input('Write the Associated Tag --> ')\n",
    "\n",
    "attribute_results = filter_by_attribute(products, tag)\n",
    "\n",
    "if attribute_results:\n",
    "    \n",
    "    attribute_results = filter_by_attribute(products, tag)[0]\n",
    "\n",
    "\n",
    "    print(f\"\\nFilter Results for '{tag}':\")\n",
    "    for pair in attribute_results.items() :\n",
    "        print(f\"{pair[0]} <--> {pair[1]}\")\n",
    "\n",
    "else:\n",
    "\n",
    "    print('No Matching Item Found!')\n"
   ]
  },
  {
   "cell_type": "code",
   "execution_count": null,
   "id": "d648f5dd-e412-4768-9672-c6d78bf0a27a",
   "metadata": {},
   "outputs": [],
   "source": []
  }
 ],
 "metadata": {
  "kernelspec": {
   "display_name": "Python 3 (ipykernel)",
   "language": "python",
   "name": "python3"
  },
  "language_info": {
   "codemirror_mode": {
    "name": "ipython",
    "version": 3
   },
   "file_extension": ".py",
   "mimetype": "text/x-python",
   "name": "python",
   "nbconvert_exporter": "python",
   "pygments_lexer": "ipython3",
   "version": "3.12.4"
  }
 },
 "nbformat": 4,
 "nbformat_minor": 5
}
