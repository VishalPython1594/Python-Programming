{
 "cells": [
  {
   "cell_type": "code",
   "execution_count": 10,
   "id": "2fc4139f-2de0-4aa8-836f-048fc57a3d01",
   "metadata": {},
   "outputs": [
    {
     "name": "stdout",
     "output_type": "stream",
     "text": [
      "What is the capital of France?\n",
      "A. Paris\n",
      "B. London\n",
      "C. Rome\n"
     ]
    },
    {
     "name": "stdin",
     "output_type": "stream",
     "text": [
      "Enter your answer (A, B, or C):  1\n"
     ]
    },
    {
     "name": "stdout",
     "output_type": "stream",
     "text": [
      "Correct!, The answer is -- A\n",
      "\n",
      "What is the largest planet in our solar system?\n",
      "A. Earth\n",
      "B. Jupiter\n",
      "C. Mars\n"
     ]
    },
    {
     "name": "stdin",
     "output_type": "stream",
     "text": [
      "Enter your answer (A, B, or C):  2\n"
     ]
    },
    {
     "name": "stdout",
     "output_type": "stream",
     "text": [
      "Correct!, The answer is -- B\n",
      "\n",
      "What is the chemical symbol for water?\n",
      "A. H2O\n",
      "B. CO2\n",
      "C. NaCl\n"
     ]
    },
    {
     "name": "stdin",
     "output_type": "stream",
     "text": [
      "Enter your answer (A, B, or C):  6\n"
     ]
    },
    {
     "name": "stdout",
     "output_type": "stream",
     "text": [
      "Incorrect. The correct answer is A\n",
      "\n",
      "What is the highest mountain in the world?\n",
      "A. Mount Everest\n",
      "B. K2\n",
      "C. Kilimanjaro\n"
     ]
    },
    {
     "name": "stdin",
     "output_type": "stream",
     "text": [
      "Enter your answer (A, B, or C):  4\n"
     ]
    },
    {
     "name": "stdout",
     "output_type": "stream",
     "text": [
      "Incorrect. The correct answer is A\n",
      "\n",
      "What is the name of the current president of the United States?\n",
      "A. Joe Biden\n",
      "B. Donald Trump\n",
      "C. Barack Obama\n"
     ]
    },
    {
     "name": "stdin",
     "output_type": "stream",
     "text": [
      "Enter your answer (A, B, or C):  4\n"
     ]
    },
    {
     "name": "stdout",
     "output_type": "stream",
     "text": [
      "Incorrect. The correct answer is A\n",
      "\n",
      "What is the smallest country in the world?\n",
      "A. Vatican City\n",
      "B. Monaco\n",
      "C. Nauru\n"
     ]
    },
    {
     "name": "stdin",
     "output_type": "stream",
     "text": [
      "Enter your answer (A, B, or C):  4\n"
     ]
    },
    {
     "name": "stdout",
     "output_type": "stream",
     "text": [
      "Incorrect. The correct answer is A\n",
      "\n",
      "What is the fastest land animal?\n",
      "A. Cheetah\n",
      "B. Lion\n",
      "C. Pronghorn antelope\n"
     ]
    },
    {
     "name": "stdin",
     "output_type": "stream",
     "text": [
      "Enter your answer (A, B, or C):  4\n"
     ]
    },
    {
     "name": "stdout",
     "output_type": "stream",
     "text": [
      "Incorrect. The correct answer is A\n",
      "\n",
      "What is the largest ocean in the world?\n",
      "A. Pacific Ocean\n",
      "B. Atlantic Ocean\n",
      "C. Indian Ocean\n"
     ]
    },
    {
     "name": "stdin",
     "output_type": "stream",
     "text": [
      "Enter your answer (A, B, or C):  4\n"
     ]
    },
    {
     "name": "stdout",
     "output_type": "stream",
     "text": [
      "Incorrect. The correct answer is A\n",
      "\n",
      "What is the most abundant element in the Earth's atmosphere?\n",
      "A. Nitrogen\n",
      "B. Oxygen\n",
      "C. Carbon dioxide\n"
     ]
    },
    {
     "name": "stdin",
     "output_type": "stream",
     "text": [
      "Enter your answer (A, B, or C):  4\n"
     ]
    },
    {
     "name": "stdout",
     "output_type": "stream",
     "text": [
      "Incorrect. The correct answer is A\n",
      "\n",
      "What is the name of the first person to walk on the moon?\n",
      "A. Neil Armstrong\n",
      "B. Buzz Aldrin\n",
      "C. Yuri Gagarin\n"
     ]
    },
    {
     "name": "stdin",
     "output_type": "stream",
     "text": [
      "Enter your answer (A, B, or C):  4\n"
     ]
    },
    {
     "name": "stdout",
     "output_type": "stream",
     "text": [
      "Incorrect. The correct answer is A\n",
      "\n",
      "\n",
      "Your final score is 2 out of 10\n"
     ]
    }
   ],
   "source": [
    "'''\n",
    "\n",
    "Quiz Application: \n",
    "Create a quiz with multiple-choice questions and keep track of the user's score. Display feedback based on their answers.\n",
    "\n",
    "\n",
    "You can also take to next level by working on below :\n",
    " - Shuffle Questions: Use the random library to randomize the order of questions.\n",
    " - Track Number of Attempts: Allow multiple attempts per question and track the total number of attempts.\n",
    "'''\n",
    "\n",
    "\n",
    "questions = [\n",
    "    (\"What is the capital of France?\", \"A. Paris\", \"B. London\", \"C. Rome\", \"A\"),\n",
    "    (\"What is the largest planet in our solar system?\", \"A. Earth\", \"B. Jupiter\", \"C. Mars\", \"B\"),\n",
    "    (\"What is the chemical symbol for water?\", \"A. H2O\", \"B. CO2\", \"C. NaCl\", \"A\"),\n",
    "    (\"What is the highest mountain in the world?\", \"A. Mount Everest\", \"B. K2\", \"C. Kilimanjaro\", \"A\"),\n",
    "    (\"What is the name of the current president of the United States?\", \"A. Joe Biden\", \"B. Donald Trump\", \"C. Barack Obama\", \"A\"),\n",
    "    (\"What is the smallest country in the world?\", \"A. Vatican City\", \"B. Monaco\", \"C. Nauru\", \"A\"),\n",
    "    (\"What is the fastest land animal?\", \"A. Cheetah\", \"B. Lion\", \"C. Pronghorn antelope\", \"A\"),\n",
    "    (\"What is the largest ocean in the world?\", \"A. Pacific Ocean\", \"B. Atlantic Ocean\", \"C. Indian Ocean\", \"A\"),\n",
    "    (\"What is the most abundant element in the Earth's atmosphere?\", \"A. Nitrogen\", \"B. Oxygen\", \"C. Carbon dioxide\", \"A\"),\n",
    "    (\"What is the name of the first person to walk on the moon?\", \"A. Neil Armstrong\", \"B. Buzz Aldrin\", \"C. Yuri Gagarin\", \"A\")\n",
    "]\n",
    "\n",
    "\n",
    "score = 0\n",
    "total_questions = len(questions)\n",
    "\n",
    "ans_dic = {'A' : '1',\n",
    "           'B' : '2',\n",
    "           'c' : '3'}\n",
    "\n",
    "for question, option1, option2, option3, correct_answer in questions:\n",
    "    print(question)\n",
    "    print(option1)\n",
    "    print(option2)\n",
    "    print(option3)\n",
    "\n",
    "\n",
    "\n",
    "    user_answer = input(\"Enter your answer (A, B, or C): \")\n",
    "    \n",
    "    if user_answer.upper() == correct_answer or user_answer == ans_dic[correct_answer]:\n",
    "        print(f\"Correct!, The answer is -- {correct_answer}\")\n",
    "        score += 1\n",
    "    else:\n",
    "        print(\"Incorrect. The correct answer is\", correct_answer)\n",
    "\n",
    "    print()\n",
    "    \n",
    "    \n",
    "print(\"\\nYour final score is\", score, \"out of\", total_questions)\n"
   ]
  },
  {
   "cell_type": "markdown",
   "id": "0a8367be-e489-428b-a8ba-d9482ef3e123",
   "metadata": {},
   "source": []
  },
  {
   "cell_type": "code",
   "execution_count": 23,
   "id": "6c50aa71-8cdd-4e1e-937a-f1c64f426b0e",
   "metadata": {},
   "outputs": [
    {
     "name": "stdout",
     "output_type": "stream",
     "text": [
      "What is the smallest country in the world?\n",
      "A. Vatican City\n",
      "B. Monaco\n",
      "C. Nauru\n"
     ]
    },
    {
     "name": "stdin",
     "output_type": "stream",
     "text": [
      "Enter your answer (A, B, or C):  4\n"
     ]
    },
    {
     "name": "stdout",
     "output_type": "stream",
     "text": [
      "Try Again or enter \"quit\" to exit\n"
     ]
    },
    {
     "name": "stdin",
     "output_type": "stream",
     "text": [
      "Enter your answer (A, B, or C):  1\n"
     ]
    },
    {
     "name": "stdout",
     "output_type": "stream",
     "text": [
      "Correct!, The answer is -- A\n",
      "\n",
      "What is the name of the first person to walk on the moon?\n",
      "A. Neil Armstrong\n",
      "B. Buzz Aldrin\n",
      "C. Yuri Gagarin\n"
     ]
    },
    {
     "name": "stdin",
     "output_type": "stream",
     "text": [
      "Enter your answer (A, B, or C):  2\n"
     ]
    },
    {
     "name": "stdout",
     "output_type": "stream",
     "text": [
      "Try Again or enter \"quit\" to exit\n"
     ]
    },
    {
     "name": "stdin",
     "output_type": "stream",
     "text": [
      "Enter your answer (A, B, or C):  1\n"
     ]
    },
    {
     "name": "stdout",
     "output_type": "stream",
     "text": [
      "Correct!, The answer is -- A\n",
      "\n",
      "What is the most abundant element in the Earth's atmosphere?\n",
      "A. Nitrogen\n",
      "B. Oxygen\n",
      "C. Carbon dioxide\n"
     ]
    },
    {
     "name": "stdin",
     "output_type": "stream",
     "text": [
      "Enter your answer (A, B, or C):  1\n"
     ]
    },
    {
     "name": "stdout",
     "output_type": "stream",
     "text": [
      "Correct!, The answer is -- A\n",
      "\n",
      "What is the name of the current president of the United States?\n",
      "A. Joe Biden\n",
      "B. Donald Trump\n",
      "C. Barack Obama\n"
     ]
    },
    {
     "name": "stdin",
     "output_type": "stream",
     "text": [
      "Enter your answer (A, B, or C):  1\n"
     ]
    },
    {
     "name": "stdout",
     "output_type": "stream",
     "text": [
      "Correct!, The answer is -- A\n",
      "\n",
      "What is the chemical symbol for water?\n",
      "A. H2O\n",
      "B. CO2\n",
      "C. NaCl\n"
     ]
    },
    {
     "name": "stdin",
     "output_type": "stream",
     "text": [
      "Enter your answer (A, B, or C):  1\n"
     ]
    },
    {
     "name": "stdout",
     "output_type": "stream",
     "text": [
      "Correct!, The answer is -- A\n",
      "\n",
      "What is the capital of France?\n",
      "A. Paris\n",
      "B. London\n",
      "C. Rome\n"
     ]
    },
    {
     "name": "stdin",
     "output_type": "stream",
     "text": [
      "Enter your answer (A, B, or C):  1\n"
     ]
    },
    {
     "name": "stdout",
     "output_type": "stream",
     "text": [
      "Correct!, The answer is -- A\n",
      "\n",
      "What is the largest ocean in the world?\n",
      "A. Pacific Ocean\n",
      "B. Atlantic Ocean\n",
      "C. Indian Ocean\n"
     ]
    },
    {
     "name": "stdin",
     "output_type": "stream",
     "text": [
      "Enter your answer (A, B, or C):  1\n"
     ]
    },
    {
     "name": "stdout",
     "output_type": "stream",
     "text": [
      "Correct!, The answer is -- A\n",
      "\n",
      "What is the highest mountain in the world?\n",
      "A. Mount Everest\n",
      "B. K2\n",
      "C. Kilimanjaro\n"
     ]
    },
    {
     "name": "stdin",
     "output_type": "stream",
     "text": [
      "Enter your answer (A, B, or C):  1\n"
     ]
    },
    {
     "name": "stdout",
     "output_type": "stream",
     "text": [
      "Correct!, The answer is -- A\n",
      "\n",
      "What is the fastest land animal?\n",
      "A. Cheetah\n",
      "B. Lion\n",
      "C. Pronghorn antelope\n"
     ]
    },
    {
     "name": "stdin",
     "output_type": "stream",
     "text": [
      "Enter your answer (A, B, or C):  1\n"
     ]
    },
    {
     "name": "stdout",
     "output_type": "stream",
     "text": [
      "Correct!, The answer is -- A\n",
      "\n",
      "What is the largest planet in our solar system?\n",
      "A. Earth\n",
      "B. Jupiter\n",
      "C. Mars\n"
     ]
    },
    {
     "name": "stdin",
     "output_type": "stream",
     "text": [
      "Enter your answer (A, B, or C):  1\n"
     ]
    },
    {
     "name": "stdout",
     "output_type": "stream",
     "text": [
      "Try Again or enter \"quit\" to exit\n"
     ]
    },
    {
     "name": "stdin",
     "output_type": "stream",
     "text": [
      "Enter your answer (A, B, or C):  1\n"
     ]
    },
    {
     "name": "stdout",
     "output_type": "stream",
     "text": [
      "Incorrect. The correct answer is B\n",
      "\n",
      "You have used extra tries\n",
      "\n",
      "Your final score is 9 out of 10\n"
     ]
    }
   ],
   "source": [
    "'''\n",
    "\n",
    "Quiz Application: \n",
    "Create a quiz with multiple-choice questions and keep track of the user's score. Display feedback based on their answers.\n",
    "\n",
    "\n",
    "You can also take to next level by working on below :\n",
    " - Shuffle Questions: Use the random library to randomize the order of questions.\n",
    " - Track Number of Attempts: Allow multiple attempts per question and track the total number of attempts.\n",
    "'''\n",
    "\n",
    "\n",
    "questions = [\n",
    "    (\"What is the capital of France?\", \"A. Paris\", \"B. London\", \"C. Rome\", \"A\"),\n",
    "    (\"What is the largest planet in our solar system?\", \"A. Earth\", \"B. Jupiter\", \"C. Mars\", \"B\"),\n",
    "    (\"What is the chemical symbol for water?\", \"A. H2O\", \"B. CO2\", \"C. NaCl\", \"A\"),\n",
    "    (\"What is the highest mountain in the world?\", \"A. Mount Everest\", \"B. K2\", \"C. Kilimanjaro\", \"A\"),\n",
    "    (\"What is the name of the current president of the United States?\", \"A. Joe Biden\", \"B. Donald Trump\", \"C. Barack Obama\", \"A\"),\n",
    "    (\"What is the smallest country in the world?\", \"A. Vatican City\", \"B. Monaco\", \"C. Nauru\", \"A\"),\n",
    "    (\"What is the fastest land animal?\", \"A. Cheetah\", \"B. Lion\", \"C. Pronghorn antelope\", \"A\"),\n",
    "    (\"What is the largest ocean in the world?\", \"A. Pacific Ocean\", \"B. Atlantic Ocean\", \"C. Indian Ocean\", \"A\"),\n",
    "    (\"What is the most abundant element in the Earth's atmosphere?\", \"A. Nitrogen\", \"B. Oxygen\", \"C. Carbon dioxide\", \"A\"),\n",
    "    (\"What is the name of the first person to walk on the moon?\", \"A. Neil Armstrong\", \"B. Buzz Aldrin\", \"C. Yuri Gagarin\", \"A\")\n",
    "]\n",
    "\n",
    "import random\n",
    "\n",
    "score = 0\n",
    "total_questions = len(questions)\n",
    "\n",
    "ans_dic = {'A' : '1',\n",
    "           'B' : '2',\n",
    "           'c' : '3'}\n",
    "\n",
    "\n",
    "random.shuffle(questions)\n",
    "\n",
    "quit_flag = False\n",
    "tries_flag  = False\n",
    "\n",
    "for question, option1, option2, option3, correct_answer in questions:\n",
    "    print(question)\n",
    "    print(option1)\n",
    "    print(option2)\n",
    "    print(option3)\n",
    "    tries = 0\n",
    "\n",
    "\n",
    "\n",
    "    user_answer = input(\"Enter your answer (A, B, or C): \")\n",
    "\n",
    "   \n",
    "    if user_answer.lower().strip() == 'quit':\n",
    "        quit_flag = True\n",
    "        break\n",
    "\n",
    "    \n",
    "    while tries < 2:\n",
    "\n",
    "        \n",
    "        if user_answer.lower().strip() == 'quit':\n",
    "            quit_flag = True\n",
    "            break\n",
    "\n",
    "        \n",
    "        if user_answer.upper() == correct_answer or user_answer == ans_dic.get(correct_answer, 'Invalid input'):\n",
    "            print(f\"Correct!, The answer is -- {correct_answer}\")\n",
    "            score += 1\n",
    "            break\n",
    "            \n",
    "        else:\n",
    "            tries += 1\n",
    "            if tries < 2:\n",
    "                print('Try Again or enter \"quit\" to exit')\n",
    "                user_answer = input(\"Enter your answer (A, B, or C): \")\n",
    "\n",
    "                if user_answer.strip().lower() == 'quit':\n",
    "                    quit_flag = True\n",
    "                    break\n",
    "\n",
    "            \n",
    "            else:\n",
    "                print(\"Incorrect. The correct answer is\", correct_answer)\n",
    "                tries_flag = True\n",
    "\n",
    "    \n",
    "    print()\n",
    "\n",
    "    if quit_flag:\n",
    "        break\n",
    "    \n",
    "\n",
    "if not quit_flag:\n",
    "    \n",
    "    if not tries_flag:\n",
    "        print(\"Great! You didn't took any extra tries\")\n",
    "    else:\n",
    "        print('You have used extra tries')\n",
    "\n",
    "    \n",
    "\n",
    "print(\"\\nYour final score is\", score, \"out of\", total_questions)\n",
    "\n"
   ]
  },
  {
   "cell_type": "code",
   "execution_count": null,
   "id": "4c79f226-15f9-49b8-a37c-a1c500bc4e15",
   "metadata": {},
   "outputs": [],
   "source": []
  },
  {
   "cell_type": "code",
   "execution_count": null,
   "id": "98f47d33-b98a-4798-bd7a-37196328281e",
   "metadata": {},
   "outputs": [],
   "source": []
  },
  {
   "cell_type": "code",
   "execution_count": null,
   "id": "5d83a7fb-a6b4-400a-9e74-8dca6b1d643e",
   "metadata": {},
   "outputs": [],
   "source": []
  }
 ],
 "metadata": {
  "kernelspec": {
   "display_name": "Python 3 (ipykernel)",
   "language": "python",
   "name": "python3"
  },
  "language_info": {
   "codemirror_mode": {
    "name": "ipython",
    "version": 3
   },
   "file_extension": ".py",
   "mimetype": "text/x-python",
   "name": "python",
   "nbconvert_exporter": "python",
   "pygments_lexer": "ipython3",
   "version": "3.12.4"
  }
 },
 "nbformat": 4,
 "nbformat_minor": 5
}
