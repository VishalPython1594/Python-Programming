{
 "cells": [
  {
   "cell_type": "code",
   "execution_count": null,
   "id": "c2f76dce",
   "metadata": {},
   "outputs": [],
   "source": [
    "# 8. String Formatting\n",
    "# this helps to insert some information  inside the string\n",
    "# methodS  -->  %   , format  , f"
   ]
  },
  {
   "cell_type": "code",
   "execution_count": 12,
   "id": "f132ad26",
   "metadata": {},
   "outputs": [
    {
     "name": "stdout",
     "output_type": "stream",
     "text": [
      "\n",
      "Dear Salman Khan\n",
      "\n",
      "Thank you for signing up.\n",
      "We will now communicate all details to your registered:\n",
      "Mobile : 9654789652\n",
      "Email : salman.khan@gmail.com\n",
      "\n",
      "\n",
      "Thanks\n",
      "ABC\n",
      "\n",
      "\n",
      "\n",
      "------------------------------------------------------------\n",
      "\n",
      "\n",
      "Dear Salman Khan\n",
      "\n",
      "Thank you for signing up.\n",
      "We will now communicate all details to your registered:\n",
      "Mobile : 9654789652\n",
      "Email : salman.khan@gmail.com\n",
      "\n",
      "\n",
      "Thanks\n",
      "ABC\n",
      "\n",
      "\n",
      "\n",
      "------------------------------------------------------------\n",
      "\n",
      "\n",
      "Dear Salman Khan\n",
      "\n",
      "Thank you for signing up.\n",
      "We will now communicate all details to your registered:\n",
      "Mobile : 9654789652\n",
      "Email : salman.khan@gmail.com\n",
      "\n",
      "\n",
      "Thanks\n",
      "ABC\n",
      "\n",
      "\n"
     ]
    }
   ],
   "source": [
    "# New registraytion on website\n",
    "\n",
    "user = \"Salman Khan\"\n",
    "mobile = 9654789652\n",
    "email = 'salman.khan@gmail.com'\n",
    "\n",
    "\n",
    "display_message = \"\"\"\n",
    "Dear {user}\n",
    "\n",
    "Thank you for signing up.\n",
    "We will now communicate all details to your registered:\n",
    "Mobile : {mobile}\n",
    "Email : {Email}\n",
    "\n",
    "\n",
    "Thanks\n",
    "ABC\n",
    "\n",
    "\"\"\"\n",
    "\n",
    "print(\"\"\"\n",
    "Dear %s\n",
    "\n",
    "Thank you for signing up.\n",
    "We will now communicate all details to your registered:\n",
    "Mobile : %d\n",
    "Email : %s\n",
    "\n",
    "\n",
    "Thanks\n",
    "ABC\n",
    "\n",
    "\"\"\"%(user, mobile,email ))\n",
    "\n",
    "print()\n",
    "print(\"--\" * 30)\n",
    "print()\n",
    "\n",
    "\n",
    "print(\"\"\"\n",
    "Dear {0}\n",
    "\n",
    "Thank you for signing up.\n",
    "We will now communicate all details to your registered:\n",
    "Mobile : {1}\n",
    "Email : {2}\n",
    "\n",
    "\n",
    "Thanks\n",
    "ABC\n",
    "\n",
    "\"\"\".format(user, mobile,email ))\n",
    "\n",
    "\n",
    "print()\n",
    "print(\"--\" * 30)\n",
    "print()\n",
    "\n",
    "\n",
    "print(f\"\"\"\n",
    "Dear {user}\n",
    "\n",
    "Thank you for signing up.\n",
    "We will now communicate all details to your registered:\n",
    "Mobile : {mobile}\n",
    "Email : {email}\n",
    "\n",
    "\n",
    "Thanks\n",
    "ABC\n",
    "\n",
    "\"\"\")"
   ]
  },
  {
   "cell_type": "code",
   "execution_count": 13,
   "id": "12e97cca",
   "metadata": {},
   "outputs": [
    {
     "name": "stdout",
     "output_type": "stream",
     "text": [
      "30\n",
      "\n",
      "100\n"
     ]
    }
   ],
   "source": [
    "print(10 * 3)\n",
    "print()\n",
    "print(100)"
   ]
  },
  {
   "cell_type": "code",
   "execution_count": null,
   "id": "b87e8a6e",
   "metadata": {},
   "outputs": [],
   "source": []
  },
  {
   "cell_type": "code",
   "execution_count": 14,
   "id": "aaf920ea",
   "metadata": {},
   "outputs": [
    {
     "name": "stdout",
     "output_type": "stream",
     "text": [
      "-------python-------\n",
      "20\n",
      "python--------------\n",
      "20\n",
      "--------------python\n",
      "20\n"
     ]
    }
   ],
   "source": [
    "# More towards beatufication : \n",
    "# center, ljust and rjust\n",
    "\n",
    "\n",
    "word = 'python'  # 6 letter\n",
    "print( word.center( 20 , \"-\" ) )\n",
    "print( len(word.center( 20 , \"-\" )) )\n",
    "\n",
    "\n",
    "print( word.ljust( 20 , \"-\" ) )\n",
    "print( len(word.ljust( 20 , \"-\" )) )\n",
    "\n",
    "\n",
    "print( word.rjust( 20 , \"-\" ) )\n",
    "print( len(word.rjust( 20 , \"-\" )) )"
   ]
  },
  {
   "cell_type": "code",
   "execution_count": null,
   "id": "1d71ba6a",
   "metadata": {},
   "outputs": [],
   "source": [
    "\"-----python-----\"  # 5 + 6 + 5"
   ]
  },
  {
   "cell_type": "code",
   "execution_count": 17,
   "id": "74a4546b",
   "metadata": {},
   "outputs": [
    {
     "name": "stdout",
     "output_type": "stream",
     "text": [
      "**python**\n",
      "10\n",
      "python\n",
      "6\n",
      "python\n",
      "6\n"
     ]
    }
   ],
   "source": [
    "\n",
    "word = 'python'  # 6 letter\n",
    "print( word.center( 10 , \"*\" ) )\n",
    "print( len(word.center( 10 , \"*\" )) )\n",
    "\n",
    "\n",
    "print( word.ljust( 2 , \"-\" ) )\n",
    "print( len(word.ljust( 2 , \"-\" )) )\n",
    "\n",
    "\n",
    "print( word.rjust( 2 , \"-\" ) )\n",
    "print( len(word.rjust( 2 , \"-\" )) )"
   ]
  },
  {
   "cell_type": "code",
   "execution_count": 18,
   "id": "7618c3c2",
   "metadata": {},
   "outputs": [
    {
     "name": "stdout",
     "output_type": "stream",
     "text": [
      "00000000000000python\n",
      "20\n"
     ]
    }
   ],
   "source": [
    "print( word.zfill( 20 ) )\n",
    "print( len(word.zfill( 20)) )  # zero fill"
   ]
  },
  {
   "cell_type": "markdown",
   "id": "94ed5e5f",
   "metadata": {},
   "source": [
    "### 9. String Test Cases\n",
    "\n",
    "- return True if condition is True\n",
    "\n",
    "- kya ye....\n"
   ]
  },
  {
   "cell_type": "code",
   "execution_count": 37,
   "id": "eb81359c",
   "metadata": {},
   "outputs": [
    {
     "name": "stdout",
     "output_type": "stream",
     "text": [
      "True\n",
      "False\n",
      "False\n",
      "True\n",
      "False\n",
      "True\n"
     ]
    }
   ],
   "source": [
    "word = \"python\"\n",
    "\n",
    "print( word.islower() )  # Is all the ALPHABETS in lower case\n",
    "print( word.isupper() )  # Is all the ALPHABETS in upper case\n",
    "print( word.istitle() )  # Is all the ALPHABETS in title case\n",
    "\n",
    "\n",
    "print( word.isalpha() )  # Is all the CHARACTERS inside the String is APLHABETS\n",
    "print( word.isnumeric() ) # Is all the CHARACTERS inside the String is NUMBERS\n",
    "print( word.isalnum() ) # Is all the CHARACTERS inside the String is Either APLHABETS or NUMBERS or thier CON+MBINATIONS\n",
    "\n",
    "\n"
   ]
  },
  {
   "cell_type": "code",
   "execution_count": 38,
   "id": "ef380a61",
   "metadata": {},
   "outputs": [
    {
     "name": "stdout",
     "output_type": "stream",
     "text": [
      "False\n",
      "False\n",
      "False\n",
      "False\n",
      "False\n",
      "False\n"
     ]
    }
   ],
   "source": [
    "word = \"python PROGRAMMING\"\n",
    "\n",
    "print( word.islower() )  # Is all the ALPHABETS in lower case\n",
    "print( word.isupper() )  # Is all the ALPHABETS in upper case\n",
    "print( word.istitle() )  # Is all the ALPHABETS in title case\n",
    "\n",
    "print( word.isalpha() )  # Is all the CHARACTERS inside the String is APLHABETS\n",
    "\n",
    "print( word.isnumeric() ) # Is all the CHARACTERS inside the String is NUMBERS\n",
    "\n",
    "print( word.isalnum() ) # Is all the CHARACTERS inside the String is Either APLHABETS or NUMBERS or thier CON+MBINATIONS\n"
   ]
  },
  {
   "cell_type": "code",
   "execution_count": 39,
   "id": "9af95a13",
   "metadata": {},
   "outputs": [
    {
     "name": "stdout",
     "output_type": "stream",
     "text": [
      "False\n",
      "False\n",
      "True\n",
      "False\n",
      "False\n",
      "False\n"
     ]
    }
   ],
   "source": [
    "word = \"Python Programming\"\n",
    "\n",
    "print( word.islower() )  # Is all the ALPHABETS in lower case\n",
    "print( word.isupper() )  # Is all the ALPHABETS in upper case\n",
    "print( word.istitle() )  # Is all the ALPHABETS in title case\n",
    "\n",
    "print( word.isalpha() )  # Is all the CHARACTERS inside the String is APLHABETS\n",
    "print( word.isnumeric() ) # Is all the CHARACTERS inside the String is NUMBERS\n",
    "print( word.isalnum() ) # Is all the CHARACTERS inside the String is Either APLHABETS or NUMBERS or thier CON+MBINATIONS\n"
   ]
  },
  {
   "cell_type": "code",
   "execution_count": 40,
   "id": "5e695f8f",
   "metadata": {},
   "outputs": [
    {
     "name": "stdout",
     "output_type": "stream",
     "text": [
      "False\n",
      "False\n",
      "False\n",
      "False\n",
      "True\n",
      "True\n"
     ]
    }
   ],
   "source": [
    "word = \"6258\"\n",
    "\n",
    "print( word.islower() )  # Is all the ALPHABETS in lower case\n",
    "print( word.isupper() )  # Is all the ALPHABETS in upper case\n",
    "print( word.istitle() )  # Is all the ALPHABETS in title case\n",
    "\n",
    "print( word.isalpha() )  # Is all the CHARACTERS inside the String is APLHABETS\n",
    "print( word.isnumeric() ) # Is all the CHARACTERS inside the String is NUMBERS\n",
    "print( word.isalnum() ) # Is all the CHARACTERS inside the String is Either APLHABETS or NUMBERS or thier CON+MBINATIONS\n"
   ]
  },
  {
   "cell_type": "code",
   "execution_count": 41,
   "id": "559a0f88",
   "metadata": {},
   "outputs": [
    {
     "name": "stdout",
     "output_type": "stream",
     "text": [
      "False\n",
      "False\n",
      "True\n",
      "False\n",
      "False\n",
      "False\n"
     ]
    }
   ],
   "source": [
    "word = \"Python 2023\"\n",
    "\n",
    "print( word.islower() )  # Is all the ALPHABETS in lower case\n",
    "print( word.isupper() )  # Is all the ALPHABETS in upper case\n",
    "print( word.istitle() )  # Is all the ALPHABETS in title case\n",
    "\n",
    "print( word.isalpha() )  # Is all the CHARACTERS inside the String is APLHABETS\n",
    "print( word.isnumeric() ) # Is all the CHARACTERS inside the String is NUMBERS\n",
    "print( word.isalnum() ) # Is all the CHARACTERS inside the String is Either APLHABETS or NUMBERS or thier CON+MBINATIONS\n"
   ]
  },
  {
   "cell_type": "code",
   "execution_count": 42,
   "id": "629668a2",
   "metadata": {},
   "outputs": [
    {
     "name": "stdout",
     "output_type": "stream",
     "text": [
      "True\n",
      "False\n",
      "False\n",
      "False\n",
      "False\n",
      "True\n"
     ]
    }
   ],
   "source": [
    "word = \"100python\"\n",
    "\n",
    "print( word.islower() )  # Is all the ALPHABETS in lower case\n",
    "print( word.isupper() )  # Is all the ALPHABETS in upper case\n",
    "print( word.istitle() )  # Is all the ALPHABETS in title case\n",
    "\n",
    "print( word.isalpha() )  # Is all the CHARACTERS inside the String is APLHABETS\n",
    "print( word.isnumeric() ) # Is all the CHARACTERS inside the String is NUMBERS\n",
    "print( word.isalnum() ) # Is all the CHARACTERS inside the String is Either APLHABETS or NUMBERS or thier CON+MBINATIONS\n"
   ]
  },
  {
   "cell_type": "code",
   "execution_count": 43,
   "id": "2b862b12",
   "metadata": {},
   "outputs": [
    {
     "name": "stdout",
     "output_type": "stream",
     "text": [
      "False\n",
      "False\n",
      "False\n",
      "False\n",
      "False\n",
      "False\n",
      "True\n"
     ]
    }
   ],
   "source": [
    "word = \"                           \"\n",
    "# remove \" \" by \"\"\n",
    "# check for len .. if len == 0\n",
    "\n",
    "print( word.islower() )  # Is all the ALPHABETS in lower case\n",
    "print( word.isupper() )  # Is all the ALPHABETS in upper case\n",
    "print( word.istitle() )  # Is all the ALPHABETS in title case\n",
    "\n",
    "print( word.isalpha() )  # Is all the CHARACTERS inside the String is APLHABETS\n",
    "print( word.isnumeric() ) # Is all the CHARACTERS inside the String is NUMBERS\n",
    "print( word.isalnum() ) # Is all the CHARACTERS inside the String is Either APLHABETS or NUMBERS or thier CON+MBINATIONS\n",
    "\n",
    "print(word.isspace())  #Check if string is Empty or not\n"
   ]
  },
  {
   "cell_type": "code",
   "execution_count": 44,
   "id": "b31ec29f",
   "metadata": {},
   "outputs": [
    {
     "name": "stdout",
     "output_type": "stream",
     "text": [
      "False\n",
      "False\n",
      "False\n",
      "False\n",
      "False\n",
      "False\n",
      "False\n"
     ]
    }
   ],
   "source": [
    "word = \"\"\n",
    "# remove \" \" by \"\"\n",
    "# check for len .. if len == 0\n",
    "\n",
    "print( word.islower() )  # Is all the ALPHABETS in lower case\n",
    "print( word.isupper() )  # Is all the ALPHABETS in upper case\n",
    "print( word.istitle() )  # Is all the ALPHABETS in title case\n",
    "\n",
    "print( word.isalpha() )  # Is all the CHARACTERS inside the String is APLHABETS\n",
    "print( word.isnumeric() ) # Is all the CHARACTERS inside the String is NUMBERS\n",
    "print( word.isalnum() ) # Is all the CHARACTERS inside the String is Either APLHABETS or NUMBERS or thier CON+MBINATIONS\n",
    "\n",
    "print(word.isspace())  #Check if string is Empty or not\n"
   ]
  },
  {
   "cell_type": "code",
   "execution_count": null,
   "id": "6ecb9124",
   "metadata": {},
   "outputs": [],
   "source": []
  },
  {
   "cell_type": "code",
   "execution_count": 45,
   "id": "4134c1aa",
   "metadata": {},
   "outputs": [
    {
     "name": "stdout",
     "output_type": "stream",
     "text": [
      "True\n",
      "True\n",
      "True\n"
     ]
    }
   ],
   "source": [
    "word = \"6258\"\n",
    "\n",
    "print( word.isnumeric() ) # Is all the CHARACTERS inside the String is NUMBERS\n",
    "print( word.isdigit() ) # Is all the CHARACTERS inside the String is NUMBERS\n",
    "print( word.isdecimal() ) # Is all the CHARACTERS inside the String is NUMBERS\n"
   ]
  },
  {
   "cell_type": "code",
   "execution_count": null,
   "id": "518fa245",
   "metadata": {},
   "outputs": [],
   "source": [
    "# isidentifier() return TRUE if characters can be used as variable names.."
   ]
  },
  {
   "cell_type": "code",
   "execution_count": 46,
   "id": "071fe496",
   "metadata": {},
   "outputs": [
    {
     "name": "stdout",
     "output_type": "stream",
     "text": [
      "True\n"
     ]
    }
   ],
   "source": [
    "word = \"place\"\n",
    "\n",
    "print( word.isidentifier() )  \n"
   ]
  },
  {
   "cell_type": "code",
   "execution_count": 47,
   "id": "67fe2f0b",
   "metadata": {},
   "outputs": [
    {
     "name": "stdout",
     "output_type": "stream",
     "text": [
      "False\n"
     ]
    }
   ],
   "source": [
    "word = \"23425\"\n",
    "\n",
    "print( word.isidentifier() )\n"
   ]
  },
  {
   "cell_type": "code",
   "execution_count": 48,
   "id": "bb2337c7",
   "metadata": {},
   "outputs": [
    {
     "name": "stdout",
     "output_type": "stream",
     "text": [
      "False\n"
     ]
    }
   ],
   "source": [
    "word = \"100place\"\n",
    "\n",
    "print( word.isidentifier() )\n"
   ]
  },
  {
   "cell_type": "code",
   "execution_count": 49,
   "id": "62a894a9",
   "metadata": {},
   "outputs": [
    {
     "name": "stdout",
     "output_type": "stream",
     "text": [
      "True\n"
     ]
    }
   ],
   "source": [
    "word = \"_place\"\n",
    "\n",
    "print( word.isidentifier() )\n"
   ]
  },
  {
   "cell_type": "code",
   "execution_count": 53,
   "id": "a797afab",
   "metadata": {},
   "outputs": [
    {
     "ename": "SyntaxError",
     "evalue": "invalid syntax (3549193579.py, line 2)",
     "output_type": "error",
     "traceback": [
      "\u001b[1;36m  File \u001b[1;32m\"C:\\Users\\Nitish\\AppData\\Local\\Temp\\ipykernel_31724\\3549193579.py\"\u001b[1;36m, line \u001b[1;32m2\u001b[0m\n\u001b[1;33m    break = 24\u001b[0m\n\u001b[1;37m          ^\u001b[0m\n\u001b[1;31mSyntaxError\u001b[0m\u001b[1;31m:\u001b[0m invalid syntax\n"
     ]
    }
   ],
   "source": [
    "word = \"break\"\n",
    "# break = 24\n",
    "print( word.isidentifier() )\n"
   ]
  },
  {
   "cell_type": "code",
   "execution_count": 51,
   "id": "1a4db75f",
   "metadata": {},
   "outputs": [
    {
     "name": "stdout",
     "output_type": "stream",
     "text": [
      "False\n"
     ]
    }
   ],
   "source": [
    "word = \"new place\"\n",
    "\n",
    "print( word.isidentifier() )\n"
   ]
  },
  {
   "cell_type": "code",
   "execution_count": null,
   "id": "4c3fd06d",
   "metadata": {},
   "outputs": [],
   "source": []
  },
  {
   "cell_type": "code",
   "execution_count": null,
   "id": "b16749c6",
   "metadata": {},
   "outputs": [],
   "source": [
    "# isprintable -> return TRUE if string is SIngle Line else False"
   ]
  },
  {
   "cell_type": "code",
   "execution_count": 54,
   "id": "994d4971",
   "metadata": {},
   "outputs": [
    {
     "name": "stdout",
     "output_type": "stream",
     "text": [
      "True\n"
     ]
    }
   ],
   "source": [
    "msg = \"hello\"\n",
    "print( msg.isprintable() )"
   ]
  },
  {
   "cell_type": "code",
   "execution_count": 55,
   "id": "44510a51",
   "metadata": {},
   "outputs": [
    {
     "name": "stdout",
     "output_type": "stream",
     "text": [
      "True\n"
     ]
    }
   ],
   "source": [
    "msg = \"\"\"  hello \"\"\"\n",
    "print( msg.isprintable() )"
   ]
  },
  {
   "cell_type": "code",
   "execution_count": 56,
   "id": "ee935b18",
   "metadata": {},
   "outputs": [
    {
     "name": "stdout",
     "output_type": "stream",
     "text": [
      "False\n"
     ]
    }
   ],
   "source": [
    "msg = \"\"\"  \n",
    "hello \"\"\"\n",
    "print( msg.isprintable() )"
   ]
  },
  {
   "cell_type": "code",
   "execution_count": null,
   "id": "3838845b",
   "metadata": {},
   "outputs": [],
   "source": []
  },
  {
   "cell_type": "code",
   "execution_count": null,
   "id": "8769a4e2",
   "metadata": {},
   "outputs": [],
   "source": []
  },
  {
   "cell_type": "code",
   "execution_count": null,
   "id": "a2604e36",
   "metadata": {},
   "outputs": [],
   "source": []
  },
  {
   "cell_type": "code",
   "execution_count": null,
   "id": "45a4395b",
   "metadata": {},
   "outputs": [],
   "source": []
  },
  {
   "cell_type": "code",
   "execution_count": null,
   "id": "5269fa86",
   "metadata": {},
   "outputs": [],
   "source": []
  },
  {
   "cell_type": "code",
   "execution_count": null,
   "id": "d37be5e0",
   "metadata": {},
   "outputs": [],
   "source": []
  }
 ],
 "metadata": {
  "kernelspec": {
   "display_name": "Python 3 (ipykernel)",
   "language": "python",
   "name": "python3"
  },
  "language_info": {
   "codemirror_mode": {
    "name": "ipython",
    "version": 3
   },
   "file_extension": ".py",
   "mimetype": "text/x-python",
   "name": "python",
   "nbconvert_exporter": "python",
   "pygments_lexer": "ipython3",
   "version": "3.11.5"
  }
 },
 "nbformat": 4,
 "nbformat_minor": 5
}
