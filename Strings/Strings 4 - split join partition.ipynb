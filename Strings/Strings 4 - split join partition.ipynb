{
 "cells": [
  {
   "cell_type": "markdown",
   "id": "643bf0b1",
   "metadata": {},
   "source": [
    "## split\n",
    "\n",
    "- split the string on the basis of pattern\n",
    "- if pattern does not exist then lenght of the list will be 1\n",
    "- returns the LIST\n",
    "\n",
    "**Syntax : stringName.split(pattern)**\n",
    "\n",
    "\"   \"  -> SPLIT  -> [  ]"
   ]
  },
  {
   "cell_type": "code",
   "execution_count": 3,
   "id": "ff6c9526",
   "metadata": {},
   "outputs": [
    {
     "name": "stdout",
     "output_type": "stream",
     "text": [
      "['this', 'is', 'python', 'batch', 'november', '2023']\n",
      "<class 'list'>\n"
     ]
    }
   ],
   "source": [
    "myString = 'this is python batch november 2023'\n",
    "\n",
    "res = myString.split(\" \")\n",
    "print( res )\n",
    "print( type(res) )\n"
   ]
  },
  {
   "cell_type": "code",
   "execution_count": 5,
   "id": "797f4399",
   "metadata": {},
   "outputs": [
    {
     "name": "stdout",
     "output_type": "stream",
     "text": [
      "['th', ' ', ' python batch november 2023']\n",
      "<class 'list'>\n",
      "3\n"
     ]
    }
   ],
   "source": [
    "myString = 'this is python batch november 2023'\n",
    "\n",
    "res = myString.split(\"is\") # 'th', \" \", \" python ....\"\n",
    "print( res )\n",
    "print( type(res) )\n",
    "print( len(res) )\n"
   ]
  },
  {
   "cell_type": "code",
   "execution_count": 6,
   "id": "3bc41eb0",
   "metadata": {},
   "outputs": [
    {
     "name": "stdout",
     "output_type": "stream",
     "text": [
      "['this ', 'is python', ' batch november', ' 2023']\n",
      "<class 'list'>\n",
      "4\n"
     ]
    }
   ],
   "source": [
    "myString = 'this @is python@ batch november@ 2023'\n",
    "\n",
    "res = myString.split(\"@\") # 'this ', \"is python\", \" batch november\", \" 2023\"\n",
    "print( res )\n",
    "print( type(res) )\n",
    "print( len(res) )\n"
   ]
  },
  {
   "cell_type": "code",
   "execution_count": 7,
   "id": "74deb975",
   "metadata": {},
   "outputs": [
    {
     "name": "stdout",
     "output_type": "stream",
     "text": [
      "['this @is python@ batch november@ 2023']\n",
      "<class 'list'>\n",
      "1\n"
     ]
    }
   ],
   "source": [
    "myString = 'this @is python@ batch november@ 2023'\n",
    "\n",
    "res = myString.split(\"##\") \n",
    "print( res )\n",
    "print( type(res) )\n",
    "print( len(res) )\n"
   ]
  },
  {
   "cell_type": "code",
   "execution_count": null,
   "id": "fc10575b",
   "metadata": {},
   "outputs": [],
   "source": []
  },
  {
   "cell_type": "markdown",
   "id": "7de01364",
   "metadata": {},
   "source": [
    "## JOIN\n",
    "\n",
    "- Reverse the SPLIT action\n",
    "- combine the elements of the list to form the string\n",
    "\n",
    "**Syntax : stringName.split(pattern)**\n",
    "**Syntax : pattern.join(listName)**\n",
    "\n",
    "[  ]  -> JOIN -> \"   \""
   ]
  },
  {
   "cell_type": "code",
   "execution_count": 8,
   "id": "56c6a1f2",
   "metadata": {},
   "outputs": [
    {
     "name": "stdout",
     "output_type": "stream",
     "text": [
      "python java ruby php\n",
      "<class 'str'>\n",
      "20\n"
     ]
    }
   ],
   "source": [
    "myList = [\"python\" , \"java\" , 'ruby' , 'php']\n",
    "\n",
    "res = \" \".join(myList)\n",
    "print( res )\n",
    "print( type(res) )\n",
    "print( len(res) )"
   ]
  },
  {
   "cell_type": "code",
   "execution_count": 9,
   "id": "ece88cba",
   "metadata": {},
   "outputs": [
    {
     "name": "stdout",
     "output_type": "stream",
     "text": [
      "python-java-ruby-php\n",
      "<class 'str'>\n",
      "20\n"
     ]
    }
   ],
   "source": [
    "myList = [\"python\" , \"java\" , 'ruby' , 'php']\n",
    "\n",
    "res = \"-\".join(myList)\n",
    "print( res )\n",
    "print( type(res) )\n",
    "print( len(res) )"
   ]
  },
  {
   "cell_type": "code",
   "execution_count": null,
   "id": "5d27aefa",
   "metadata": {},
   "outputs": [],
   "source": []
  },
  {
   "cell_type": "code",
   "execution_count": 11,
   "id": "466f9893",
   "metadata": {},
   "outputs": [
    {
     "name": "stdout",
     "output_type": "stream",
     "text": [
      "['this ', 'is python', ' batch november', ' 2023']\n",
      "<class 'list'>\n",
      "4\n",
      "this @is python@ batch november@ 2023\n"
     ]
    }
   ],
   "source": [
    "myString = 'this @is python@ batch november@ 2023'\n",
    "\n",
    "res = myString.split(\"@\") # 'this ', \"is python\", \" batch november\", \" 2023\"\n",
    "print( res )\n",
    "print( type(res) )\n",
    "print( len(res) )\n",
    "\n",
    "\n",
    "finalString = \"@\".join(res)\n",
    "print(finalString)\n"
   ]
  },
  {
   "cell_type": "code",
   "execution_count": null,
   "id": "4dfdac4d",
   "metadata": {},
   "outputs": [],
   "source": []
  },
  {
   "cell_type": "code",
   "execution_count": null,
   "id": "4921a536",
   "metadata": {},
   "outputs": [],
   "source": []
  },
  {
   "cell_type": "markdown",
   "id": "6aa363ab",
   "metadata": {},
   "source": [
    "## partition\n",
    "\n",
    "- split the string on the basis of FIRST pattern\n",
    "- if pattern does not exist then lenght of the list will be 1, else size will be always 3\n",
    "- It includes the PATTERN also in the output\n",
    "- returns the TUPLE\n",
    "\n",
    "**Syntax : stringName.partition(pattern)**\n",
    "\n",
    "\"   \"  -> PARTITION  -> (  )"
   ]
  },
  {
   "cell_type": "code",
   "execution_count": 12,
   "id": "02832120",
   "metadata": {},
   "outputs": [
    {
     "name": "stdout",
     "output_type": "stream",
     "text": [
      " --------  SPLIT ---------- \n",
      "['this', 'is', 'python', 'batch', 'november', '2023']\n",
      "<class 'list'>\n"
     ]
    }
   ],
   "source": [
    "myString = 'this is python batch november 2023'\n",
    "\n",
    "res = myString.split(\" \")\n",
    "\n",
    "print(\" --------  SPLIT ---------- \")\n",
    "print( res )\n",
    "print( type(res) )\n"
   ]
  },
  {
   "cell_type": "code",
   "execution_count": 13,
   "id": "a6198098",
   "metadata": {},
   "outputs": [
    {
     "name": "stdout",
     "output_type": "stream",
     "text": [
      " --------  PARTITION ---------- \n",
      "('this', ' ', 'is python batch november 2023')\n",
      "<class 'tuple'>\n"
     ]
    }
   ],
   "source": [
    "myString = 'this is python batch november 2023'\n",
    "\n",
    "res = myString.partition(\" \")\n",
    "\n",
    "print(\" --------  PARTITION ---------- \")\n",
    "print( res )\n",
    "print( type(res) )\n"
   ]
  },
  {
   "cell_type": "code",
   "execution_count": null,
   "id": "ca501183",
   "metadata": {},
   "outputs": [],
   "source": []
  },
  {
   "cell_type": "code",
   "execution_count": 14,
   "id": "d9680079",
   "metadata": {},
   "outputs": [
    {
     "name": "stdout",
     "output_type": "stream",
     "text": [
      " --------  SPLIT ---------- \n",
      "['this ', 'is python', ' batch november', ' 2023']\n",
      "<class 'list'>\n",
      "4\n",
      " --------  PARTITION ---------- \n",
      "('this ', '@', 'is python@ batch november@ 2023')\n",
      "<class 'tuple'>\n",
      "3\n"
     ]
    }
   ],
   "source": [
    "myString = 'this @is python@ batch november@ 2023'\n",
    "\n",
    "res = myString.split(\"@\") \n",
    "print(\" --------  SPLIT ---------- \")\n",
    "print( res )\n",
    "print( type(res) )\n",
    "print( len(res) )\n",
    "\n",
    "res = myString.partition(\"@\") \n",
    "print(\" --------  PARTITION ---------- \")\n",
    "print( res )\n",
    "print( type(res) )\n",
    "print( len(res) )\n"
   ]
  },
  {
   "cell_type": "code",
   "execution_count": null,
   "id": "a4c0800a",
   "metadata": {},
   "outputs": [],
   "source": []
  },
  {
   "cell_type": "code",
   "execution_count": 15,
   "id": "40dc16d7",
   "metadata": {},
   "outputs": [
    {
     "ename": "TypeError",
     "evalue": "sequence item 4: expected str instance, int found",
     "output_type": "error",
     "traceback": [
      "\u001b[1;31m---------------------------------------------------------------------------\u001b[0m",
      "\u001b[1;31mTypeError\u001b[0m                                 Traceback (most recent call last)",
      "\u001b[1;32m~\\AppData\\Local\\Temp\\ipykernel_2124\\4282901176.py\u001b[0m in \u001b[0;36m<module>\u001b[1;34m\u001b[0m\n\u001b[0;32m      2\u001b[0m \u001b[0mmyList\u001b[0m \u001b[1;33m=\u001b[0m \u001b[1;33m[\u001b[0m\u001b[1;34m\"python\"\u001b[0m \u001b[1;33m,\u001b[0m \u001b[1;34m\"java\"\u001b[0m \u001b[1;33m,\u001b[0m \u001b[1;34m'ruby'\u001b[0m \u001b[1;33m,\u001b[0m \u001b[1;34m'php'\u001b[0m \u001b[1;33m,\u001b[0m \u001b[1;36m3\u001b[0m \u001b[1;33m,\u001b[0m \u001b[1;36m4\u001b[0m \u001b[1;33m,\u001b[0m \u001b[1;36m10.3\u001b[0m \u001b[1;33m,\u001b[0m \u001b[1;32mFalse\u001b[0m\u001b[1;33m]\u001b[0m\u001b[1;33m\u001b[0m\u001b[1;33m\u001b[0m\u001b[0m\n\u001b[0;32m      3\u001b[0m \u001b[1;33m\u001b[0m\u001b[0m\n\u001b[1;32m----> 4\u001b[1;33m \u001b[0mres\u001b[0m \u001b[1;33m=\u001b[0m \u001b[1;34m\" \"\u001b[0m\u001b[1;33m.\u001b[0m\u001b[0mjoin\u001b[0m\u001b[1;33m(\u001b[0m\u001b[0mmyList\u001b[0m\u001b[1;33m)\u001b[0m\u001b[1;33m\u001b[0m\u001b[1;33m\u001b[0m\u001b[0m\n\u001b[0m\u001b[0;32m      5\u001b[0m \u001b[0mprint\u001b[0m\u001b[1;33m(\u001b[0m \u001b[0mres\u001b[0m \u001b[1;33m)\u001b[0m\u001b[1;33m\u001b[0m\u001b[1;33m\u001b[0m\u001b[0m\n\u001b[0;32m      6\u001b[0m \u001b[0mprint\u001b[0m\u001b[1;33m(\u001b[0m \u001b[0mtype\u001b[0m\u001b[1;33m(\u001b[0m\u001b[0mres\u001b[0m\u001b[1;33m)\u001b[0m \u001b[1;33m)\u001b[0m\u001b[1;33m\u001b[0m\u001b[1;33m\u001b[0m\u001b[0m\n",
      "\u001b[1;31mTypeError\u001b[0m: sequence item 4: expected str instance, int found"
     ]
    }
   ],
   "source": [
    "# How will you make the string for them???\n",
    "myList = [\"python\" , \"java\" , 'ruby' , 'php' , 3 , 4 , 10.3 , False]\n",
    "\n",
    "res = \" \".join(myList)\n",
    "print( res )\n",
    "print( type(res) )\n",
    "print( len(res) )"
   ]
  },
  {
   "cell_type": "code",
   "execution_count": 24,
   "id": "067c3d58",
   "metadata": {},
   "outputs": [
    {
     "name": "stdout",
     "output_type": "stream",
     "text": [
      "New List ->  ['python', 'java', 'ruby', 'php', '3', '4', '10.3', 'False']\n",
      "python java ruby php 3 4 10.3 False\n",
      "<class 'str'>\n",
      "35\n"
     ]
    }
   ],
   "source": [
    "myList = [\"python\" , \"java\" , 'ruby' , 'php' , 3 , 4 , 10.3 , False]\n",
    "\n",
    "newList = []\n",
    "\n",
    "for element in myList : \n",
    "#     print(element, type(element))\n",
    "    newList.append( str(element) )\n",
    "\n",
    "print(\"New List -> \", newList)\n",
    "res = \" \".join(newList)\n",
    "print( res )\n",
    "print( type(res) )\n",
    "print( len(res) )"
   ]
  },
  {
   "cell_type": "code",
   "execution_count": 25,
   "id": "819f5d52",
   "metadata": {},
   "outputs": [
    {
     "name": "stdout",
     "output_type": "stream",
     "text": [
      "New List ->  ['python', 'java', 'ruby', 'php', '3', '4', '10.3', 'False']\n",
      "python java ruby php 3 4 10.3 False\n",
      "<class 'str'>\n",
      "35\n"
     ]
    }
   ],
   "source": [
    "myList = [\"python\" , \"java\" , 'ruby' , 'php' , 3 , 4 , 10.3 , False]\n",
    "\n",
    "newList = []\n",
    "\n",
    "for pos in range(0 , len(myList)) : \n",
    "#     print(pos, myList[pos], type(myList[pos]))\n",
    "    newList.append( str(myList[pos]) )\n",
    "\n",
    "print(\"New List -> \", newList)\n",
    "res = \" \".join(newList)\n",
    "print( res )\n",
    "print( type(res) )\n",
    "print( len(res) )"
   ]
  },
  {
   "cell_type": "code",
   "execution_count": null,
   "id": "a3cfc58b",
   "metadata": {},
   "outputs": [],
   "source": []
  },
  {
   "cell_type": "code",
   "execution_count": null,
   "id": "186c0f10",
   "metadata": {},
   "outputs": [],
   "source": []
  },
  {
   "cell_type": "code",
   "execution_count": null,
   "id": "aafa389b",
   "metadata": {},
   "outputs": [],
   "source": [
    "*\n",
    "**\n",
    "***"
   ]
  },
  {
   "cell_type": "code",
   "execution_count": 26,
   "id": "eddfec9e",
   "metadata": {},
   "outputs": [
    {
     "name": "stdout",
     "output_type": "stream",
     "text": [
      "*\n",
      "**\n",
      "***\n"
     ]
    }
   ],
   "source": [
    "print(\"*\")\n",
    "print(\"**\")\n",
    "print(\"***\")"
   ]
  },
  {
   "cell_type": "code",
   "execution_count": 27,
   "id": "f20a338c",
   "metadata": {},
   "outputs": [
    {
     "name": "stdout",
     "output_type": "stream",
     "text": [
      "*\n",
      "**\n",
      "***\n"
     ]
    }
   ],
   "source": [
    "print(\"*\" * 1)\n",
    "print(\"*\" * 2)\n",
    "print(\"*\" * 3)"
   ]
  },
  {
   "cell_type": "code",
   "execution_count": 32,
   "id": "06657a69",
   "metadata": {},
   "outputs": [
    {
     "name": "stdout",
     "output_type": "stream",
     "text": [
      "0 *\n",
      "1 **\n",
      "2 ***\n"
     ]
    }
   ],
   "source": [
    "for i in range(3) : # 0 1 2\n",
    "    print(i, \"*\" * (i+1)  )\n",
    "    "
   ]
  },
  {
   "cell_type": "code",
   "execution_count": null,
   "id": "251b7e75",
   "metadata": {},
   "outputs": [],
   "source": []
  },
  {
   "cell_type": "code",
   "execution_count": 36,
   "id": "5a85fe25",
   "metadata": {},
   "outputs": [
    {
     "name": "stdout",
     "output_type": "stream",
     "text": [
      "*\n",
      "**\n",
      "***\n"
     ]
    }
   ],
   "source": [
    "for i in range(1, 4) : # 1 2 3\n",
    "    print(\"*\" * i)"
   ]
  },
  {
   "cell_type": "code",
   "execution_count": null,
   "id": "12f70c29",
   "metadata": {},
   "outputs": [],
   "source": []
  },
  {
   "cell_type": "code",
   "execution_count": null,
   "id": "9f69789e",
   "metadata": {},
   "outputs": [],
   "source": []
  },
  {
   "cell_type": "code",
   "execution_count": null,
   "id": "4d31146d",
   "metadata": {},
   "outputs": [],
   "source": [
    "*** \n",
    "**\n",
    "*"
   ]
  },
  {
   "cell_type": "code",
   "execution_count": 35,
   "id": "bc0908b6",
   "metadata": {},
   "outputs": [
    {
     "name": "stdout",
     "output_type": "stream",
     "text": [
      "***\n",
      "**\n",
      "*\n"
     ]
    }
   ],
   "source": [
    "for i in range(3, 0 , -1) : \n",
    "    print(i * \"*\")"
   ]
  },
  {
   "cell_type": "code",
   "execution_count": null,
   "id": "46e4304c",
   "metadata": {},
   "outputs": [],
   "source": []
  },
  {
   "cell_type": "code",
   "execution_count": null,
   "id": "b5932fd6",
   "metadata": {},
   "outputs": [],
   "source": [
    "1\n",
    "22\n",
    "333\n",
    "4444\n",
    "55555\n",
    "666666"
   ]
  },
  {
   "cell_type": "code",
   "execution_count": 39,
   "id": "91a04806",
   "metadata": {},
   "outputs": [
    {
     "name": "stdout",
     "output_type": "stream",
     "text": [
      "1\n",
      "22\n",
      "333\n",
      "4444\n",
      "55555\n",
      "666666\n"
     ]
    }
   ],
   "source": [
    "for i in range(1 , 7) : \n",
    "    print(i * str(i)  )"
   ]
  },
  {
   "cell_type": "code",
   "execution_count": null,
   "id": "48eca030",
   "metadata": {},
   "outputs": [],
   "source": []
  },
  {
   "cell_type": "code",
   "execution_count": null,
   "id": "6828d513",
   "metadata": {},
   "outputs": [],
   "source": [
    "j\n",
    "aa\n",
    "vvv\n",
    "aaaa"
   ]
  },
  {
   "cell_type": "code",
   "execution_count": 44,
   "id": "19a83bc0",
   "metadata": {},
   "outputs": [
    {
     "name": "stdout",
     "output_type": "stream",
     "text": [
      "0 j\n",
      "1 a\n",
      "2 v\n",
      "3 a\n"
     ]
    }
   ],
   "source": [
    "word = \"java\"\n",
    "for pos in range(0 , len(word)) : \n",
    "    print( pos, word[pos] )\n"
   ]
  },
  {
   "cell_type": "code",
   "execution_count": 47,
   "id": "5e521439",
   "metadata": {},
   "outputs": [
    {
     "name": "stdout",
     "output_type": "stream",
     "text": [
      "j\n",
      "aa\n",
      "vvv\n",
      "aaaa\n"
     ]
    }
   ],
   "source": [
    "word = \"java\"\n",
    "for pos in range(0 , len(word)) : \n",
    "    print( (pos+1) * word[pos])"
   ]
  },
  {
   "cell_type": "code",
   "execution_count": null,
   "id": "507072f0",
   "metadata": {},
   "outputs": [],
   "source": []
  },
  {
   "cell_type": "code",
   "execution_count": null,
   "id": "1df02eed",
   "metadata": {},
   "outputs": [],
   "source": []
  },
  {
   "cell_type": "code",
   "execution_count": null,
   "id": "2854a339",
   "metadata": {},
   "outputs": [],
   "source": []
  },
  {
   "cell_type": "code",
   "execution_count": null,
   "id": "f8cc9964",
   "metadata": {},
   "outputs": [],
   "source": []
  }
 ],
 "metadata": {
  "kernelspec": {
   "display_name": "Python 3 (ipykernel)",
   "language": "python",
   "name": "python3"
  },
  "language_info": {
   "codemirror_mode": {
    "name": "ipython",
    "version": 3
   },
   "file_extension": ".py",
   "mimetype": "text/x-python",
   "name": "python",
   "nbconvert_exporter": "python",
   "pygments_lexer": "ipython3",
   "version": "3.11.5"
  }
 },
 "nbformat": 4,
 "nbformat_minor": 5
}
