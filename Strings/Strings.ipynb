{
 "cells": [
  {
   "cell_type": "markdown",
   "id": "da22ebd2",
   "metadata": {},
   "source": [
    "# Strings\n",
    "\n",
    "- collection of charachters\n",
    "- enclosed in ' ' or \" \" or ''' ''' or \"\"\" \"\"\"\n",
    "- Ordered Datatype : Output will be not changed wrt position\n",
    "- Immutable"
   ]
  },
  {
   "cell_type": "markdown",
   "id": "711506dc",
   "metadata": {},
   "source": [
    "## basic Operaions"
   ]
  },
  {
   "cell_type": "code",
   "execution_count": 7,
   "id": "5585a9e9",
   "metadata": {},
   "outputs": [
    {
     "name": "stdout",
     "output_type": "stream",
     "text": [
      "stringName :  Python >>> Length :  6\n",
      "stringName :  java vs ruby >>> Length :  12\n"
     ]
    }
   ],
   "source": [
    "# 1. len : calculate the total characcters\n",
    "\n",
    "stringName = 'Python'\n",
    "print( \"stringName : \" , stringName, \">>> Length : \", len(stringName) )\n",
    "\n",
    "stringName = 'java vs ruby'\n",
    "print( \"stringName : \" , stringName, \">>> Length : \", len(stringName) )"
   ]
  },
  {
   "cell_type": "code",
   "execution_count": null,
   "id": "c1c4fccc",
   "metadata": {},
   "outputs": [],
   "source": []
  },
  {
   "cell_type": "code",
   "execution_count": null,
   "id": "0de55e7e",
   "metadata": {},
   "outputs": [],
   "source": [
    "# 2. Indexing : reading A CHARACTER at a time\n",
    "# syntax : stringName[position]\n",
    "# In Python, index starts from 0\n",
    "\n",
    "# If you read from left to right then, start is 0 and end is len-1\n",
    "# If you read from right to left then, start is -len and end is -1\n",
    "\n"
   ]
  },
  {
   "attachments": {
    "image.png": {
     "image/png": "[encoded data removed]"
    }
   },
   "cell_type": "markdown",
   "id": "b4061c6f",
   "metadata": {},
   "source": [
    "![image.png](attachment:image.png)"
   ]
  },
  {
   "cell_type": "code",
   "execution_count": 12,
   "id": "5164d036",
   "metadata": {},
   "outputs": [
    {
     "name": "stdout",
     "output_type": "stream",
     "text": [
      "p\n",
      "p\n",
      "n\n",
      "n\n",
      "n\n"
     ]
    }
   ],
   "source": [
    "stringName = 'python'\n",
    "\n",
    "# p y t h o n\n",
    "# 0 1 2 3 4 5\n",
    "\n",
    "print(stringName[0]) # first char\n",
    "print(stringName[ -len(stringName) ]) # first char\n",
    "\n",
    "print(stringName[5]) #last char\n",
    "\n",
    "print(stringName[ len(stringName) - 1 ]) #last char\n",
    "print(stringName[ -1 ]) #last char\n"
   ]
  },
  {
   "cell_type": "code",
   "execution_count": null,
   "id": "608966bf",
   "metadata": {},
   "outputs": [],
   "source": []
  },
  {
   "cell_type": "code",
   "execution_count": null,
   "id": "5f548277",
   "metadata": {},
   "outputs": [],
   "source": [
    "# 3. Slicing : reading more than 1 CHARACTER at a time\n",
    "# syntax : stringName[start : end : step]\n",
    "# In Python, index starts from 0\n",
    "\n",
    "\n",
    "## Depending on the step size, it will change the direction of reading it....\n",
    "\n",
    "# From LEft to Right\n",
    "\n",
    "# start : \n",
    "# default : -1\n",
    "\n",
    "# end : \n",
    "# default : -len(stringName) - 1\n",
    "\n",
    "# step : -1\n",
    "\n",
    "\n"
   ]
  },
  {
   "cell_type": "code",
   "execution_count": 13,
   "id": "5ecf6bd5",
   "metadata": {},
   "outputs": [
    {
     "name": "stdout",
     "output_type": "stream",
     "text": [
      "stringName :  java vs ruby >>> Length :  12\n"
     ]
    }
   ],
   "source": [
    "# j a v a   v s    r u b  y \n",
    "# 0 1 2 3 4 5 6  7 8 9 10 11\n",
    "\n",
    "stringName = 'java vs ruby'\n",
    "print( \"stringName : \" , stringName, \">>> Length : \", len(stringName) )"
   ]
  },
  {
   "cell_type": "code",
   "execution_count": 14,
   "id": "49696a68",
   "metadata": {},
   "outputs": [
    {
     "name": "stdout",
     "output_type": "stream",
     "text": [
      "s\n"
     ]
    }
   ],
   "source": [
    "# display \"s\"\n",
    "print( stringName[6] )"
   ]
  },
  {
   "cell_type": "code",
   "execution_count": 18,
   "id": "c87b8481",
   "metadata": {},
   "outputs": [
    {
     "name": "stdout",
     "output_type": "stream",
     "text": [
      "jav\n",
      "java\n",
      "jv\n",
      "j\n"
     ]
    }
   ],
   "source": [
    "# display \"java\"\n",
    "print( stringName[0 : 3 : 1] )\n",
    "print( stringName[0 : 4 : 1] ) # 0 , 0+1 = 1, 1+1 = 2 , 2+1 = 3, XXX 3+1 = 4 XXXX\n",
    "print( stringName[0 : 4 : 2] ) # 0 , 0+2 = 2, xxx 2+2 = 4 xxx\n",
    "\n",
    "\n",
    "print( stringName[0 : 4 : 2000] ) # 0 , 0+2000 = 2000\n"
   ]
  },
  {
   "cell_type": "code",
   "execution_count": 30,
   "id": "e1325aae",
   "metadata": {},
   "outputs": [
    {
     "name": "stdout",
     "output_type": "stream",
     "text": [
      "java vs ruby\n",
      "java vs ruby\n",
      "java vs ruby\n",
      "java vs ruby\n",
      "java vs ruby\n",
      "java vs ruby\n",
      "java vs ruby\n",
      "java vs ruby\n"
     ]
    }
   ],
   "source": [
    "# display the entire string using slicing\n",
    "\n",
    "# j a v a   v s    r u b  y \n",
    "# 0 1 2 3 4 5 6  7 8 9 10 11\n",
    "\n",
    "print( stringName)\n",
    "print( stringName[0 : 12 : 1])\n",
    "print( stringName[0 : len(stringName) : 1])\n",
    "\n",
    "print( stringName[0 : len(stringName)])\n",
    "print( stringName[0 : len(stringName) : ])\n",
    "\n",
    "print( stringName[0 : : ])\n",
    "print( stringName[ : : ])\n",
    "print( stringName[           :                ])\n"
   ]
  },
  {
   "cell_type": "code",
   "execution_count": null,
   "id": "42a19eb9",
   "metadata": {},
   "outputs": [],
   "source": []
  },
  {
   "cell_type": "code",
   "execution_count": 65,
   "id": "d0c7e65d",
   "metadata": {},
   "outputs": [
    {
     "name": "stdout",
     "output_type": "stream",
     "text": [
      "java vs ruby\n",
      "ybur sv avaj\n",
      "ybur sv avaj\n"
     ]
    }
   ],
   "source": [
    "# display the REVERSE entire string using slicing\n",
    "\n",
    "# j a v a   v s    r u b  y \n",
    "# 0 1 2 3 4 5 6  7 8 9 10 11\n",
    "# -12 -2 -3                -1\n",
    "# -13...........\n",
    "\n",
    "\n",
    "stringName = 'java vs ruby'\n",
    "print( stringName[ : : 1] )\n",
    "print( stringName[ : : -1] )\n",
    "\n",
    "print( stringName[ -1 : -( len(stringName)  ) - 1 : -1] )\n",
    "# -1 \n",
    "# -1 - 1 = -2\n",
    "# -2 - 1 = -3\n",
    "\n"
   ]
  },
  {
   "cell_type": "code",
   "execution_count": 64,
   "id": "faf440c3",
   "metadata": {},
   "outputs": [
    {
     "name": "stdout",
     "output_type": "stream",
     "text": [
      "\n"
     ]
    }
   ],
   "source": [
    "print( stringName[ -1 : -( len(stringName)  ) - 1 : 1] )\n",
    "# -1 +1 = 0\n",
    "# 0 + 1 = 2\n"
   ]
  },
  {
   "cell_type": "code",
   "execution_count": 63,
   "id": "dfec8668",
   "metadata": {},
   "outputs": [
    {
     "name": "stdout",
     "output_type": "stream",
     "text": [
      "ybur sv avaj\n"
     ]
    }
   ],
   "source": [
    "# j a v a   v s    r u b  y   (len 12)\n",
    "# 0 1 2 3 4 5 6  7 8 9 10 11\n",
    "# -12 -11...           -2 -1\n",
    "# -13.....\n",
    "\n",
    "print( stringName[-1 : -len(stringName) - 1 : -1 ] )\n",
    "# -1\n",
    "# -1 -1 = -2\n",
    "# -2 -1 = -3\n"
   ]
  },
  {
   "cell_type": "code",
   "execution_count": null,
   "id": "c23aefec",
   "metadata": {},
   "outputs": [],
   "source": []
  },
  {
   "cell_type": "code",
   "execution_count": 68,
   "id": "94e0df76",
   "metadata": {},
   "outputs": [
    {
     "name": "stdout",
     "output_type": "stream",
     "text": [
      "Harry Porter\n",
      "Harry Porter 99\n"
     ]
    }
   ],
   "source": [
    "# 4. concatenation (+)\n",
    "# merging 2 or more strings to create a single string\n",
    "\n",
    "firstName = \"Harry\"\n",
    "lastName = \"Porter\"\n",
    "\n",
    "fullName = firstName + \" \" + lastName\n",
    "print(fullName)\n",
    "\n",
    "fullName = firstName + \" \" + lastName + \" \" + str( 99 )\n",
    "print(fullName)\n",
    "\n"
   ]
  },
  {
   "cell_type": "code",
   "execution_count": null,
   "id": "a4fba50f",
   "metadata": {},
   "outputs": [],
   "source": []
  },
  {
   "cell_type": "code",
   "execution_count": 72,
   "id": "a4ff6cbf",
   "metadata": {},
   "outputs": [
    {
     "name": "stdout",
     "output_type": "stream",
     "text": [
      "pythonpythonpython\n",
      "ppp\n",
      "ytytyt\n",
      "pythonpythonpython\n"
     ]
    }
   ],
   "source": [
    "# 5. repeat (*)\n",
    "# repeat the characters n times\n",
    "# stringName * n\n",
    "\n",
    "coding = 'python'\n",
    "print( coding * 3 )\n",
    "print( coding[0] * 3 )\n",
    "print( coding[1 : 3] * 3 )\n",
    "\n",
    "print(  3 * coding )\n"
   ]
  },
  {
   "cell_type": "code",
   "execution_count": null,
   "id": "78fdc64f",
   "metadata": {},
   "outputs": [],
   "source": [
    "# a * b = b * a"
   ]
  },
  {
   "cell_type": "code",
   "execution_count": null,
   "id": "72e57e88",
   "metadata": {},
   "outputs": [],
   "source": []
  },
  {
   "cell_type": "code",
   "execution_count": 75,
   "id": "a75c435c",
   "metadata": {},
   "outputs": [
    {
     "name": "stdout",
     "output_type": "stream",
     "text": [
      "True\n",
      "False\n",
      "True\n"
     ]
    }
   ],
   "source": [
    "# 6. Membership (in, not in)\n",
    "\n",
    "# in : return TRUE if character is present inside the string.\n",
    "# not in : return FALSE if character is present inside the string.\n",
    "\n",
    "print( \"p\" in \"python\" )\n",
    "print( \"T\" in \"python\" )\n",
    "print( \"T\" not in \"python\" )\n",
    "\n",
    "\n"
   ]
  },
  {
   "cell_type": "code",
   "execution_count": null,
   "id": "df0b99c7",
   "metadata": {},
   "outputs": [],
   "source": []
  },
  {
   "cell_type": "code",
   "execution_count": null,
   "id": "fb3611db",
   "metadata": {},
   "outputs": [],
   "source": []
  },
  {
   "cell_type": "code",
   "execution_count": null,
   "id": "25ec5b3a",
   "metadata": {},
   "outputs": [],
   "source": [
    "check if word is a palindrome or not\n",
    "\n",
    "left to right = right to left\n",
    "madam <==> madam : palindrome\n",
    "mAdam <==> madAm : not a palindrome\n",
    "\n",
    "\n",
    "*****\n"
   ]
  },
  {
   "cell_type": "code",
   "execution_count": null,
   "id": "fe16029a",
   "metadata": {},
   "outputs": [],
   "source": [
    "Played crosswords / Puzzles\n",
    "Given some question : HINT is Anagram\n",
    "\n",
    "Anargams\n",
    "silent and listen\n",
    "eat and ate\n",
    "pool and loop\n",
    "\n",
    "Not Anargams\n",
    "silent and listens\n",
    "eat and two\n",
    "pool and pooling\n",
    "\n",
    "\n",
    "# *****"
   ]
  },
  {
   "cell_type": "code",
   "execution_count": null,
   "id": "831d820c",
   "metadata": {},
   "outputs": [],
   "source": []
  },
  {
   "cell_type": "code",
   "execution_count": null,
   "id": "1038df36",
   "metadata": {},
   "outputs": [],
   "source": [
    "find out the email from the message\n",
    "find out the otp from the message\n",
    "\n",
    "message = \"We have shared an OTP 5246 on your mail abc@gmail.com too\"\n",
    "\n"
   ]
  },
  {
   "cell_type": "code",
   "execution_count": 4,
   "id": "1f84a92c",
   "metadata": {},
   "outputs": [
    {
     "name": "stdout",
     "output_type": "stream",
     "text": [
      "5246\n"
     ]
    }
   ],
   "source": [
    "message = \"We have shared an OTP 5246 on your mail abc@gmail.com too\"\n",
    "\n",
    "for i in message.split(' '):\n",
    "    if i.isdigit():\n",
    "        print(i)\n",
    "    else:\n",
    "        continue"
   ]
  },
  {
   "cell_type": "code",
   "execution_count": null,
   "id": "adb64f56",
   "metadata": {},
   "outputs": [],
   "source": []
  },
  {
   "cell_type": "code",
   "execution_count": null,
   "id": "253f4656",
   "metadata": {},
   "outputs": [],
   "source": []
  },
  {
   "cell_type": "code",
   "execution_count": null,
   "id": "d2296f9a",
   "metadata": {},
   "outputs": [],
   "source": []
  },
  {
   "cell_type": "code",
   "execution_count": null,
   "id": "d0d414e6",
   "metadata": {},
   "outputs": [],
   "source": []
  },
  {
   "cell_type": "markdown",
   "id": "e6afb182",
   "metadata": {},
   "source": [
    "## String Methods"
   ]
  },
  {
   "cell_type": "code",
   "execution_count": 1,
   "id": "c795fceb",
   "metadata": {},
   "outputs": [
    {
     "data": {
      "text/plain": [
       "'PYTHON'"
      ]
     },
     "execution_count": 1,
     "metadata": {},
     "output_type": "execute_result"
    }
   ],
   "source": [
    "stringName = 'Python'\n",
    "stringName.upper()"
   ]
  },
  {
   "cell_type": "code",
   "execution_count": 2,
   "id": "ed7483b8",
   "metadata": {},
   "outputs": [
    {
     "data": {
      "text/plain": [
       "1"
      ]
     },
     "execution_count": 2,
     "metadata": {},
     "output_type": "execute_result"
    }
   ],
   "source": [
    "num = 120\n",
    "num.denominator # 120 / 1"
   ]
  },
  {
   "cell_type": "code",
   "execution_count": null,
   "id": "7e80f01a",
   "metadata": {},
   "outputs": [],
   "source": []
  },
  {
   "cell_type": "code",
   "execution_count": null,
   "id": "d14d8ddb",
   "metadata": {},
   "outputs": [],
   "source": []
  },
  {
   "cell_type": "code",
   "execution_count": null,
   "id": "51ded3d6",
   "metadata": {},
   "outputs": [],
   "source": []
  }
 ],
 "metadata": {
  "kernelspec": {
   "display_name": "Python 3 (ipykernel)",
   "language": "python",
   "name": "python3"
  },
  "language_info": {
   "codemirror_mode": {
    "name": "ipython",
    "version": 3
   },
   "file_extension": ".py",
   "mimetype": "text/x-python",
   "name": "python",
   "nbconvert_exporter": "python",
   "pygments_lexer": "ipython3",
   "version": "3.12.4"
  }
 },
 "nbformat": 4,
 "nbformat_minor": 5
}
