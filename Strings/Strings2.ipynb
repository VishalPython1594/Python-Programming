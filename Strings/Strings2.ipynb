{
 "cells": [
  {
   "cell_type": "code",
   "execution_count": null,
   "id": "e6d7d3dd",
   "metadata": {},
   "outputs": [],
   "source": [
    "how to write for loop ???"
   ]
  },
  {
   "cell_type": "markdown",
   "id": "7765229e",
   "metadata": {},
   "source": [
    "# Strings Methods"
   ]
  },
  {
   "cell_type": "code",
   "execution_count": null,
   "id": "49d77c80",
   "metadata": {},
   "outputs": [],
   "source": [
    "# Start on NEw Topic: Understand how it works (basic ops) + what can be done (Methods)"
   ]
  },
  {
   "cell_type": "code",
   "execution_count": 2,
   "id": "1c4b4662",
   "metadata": {},
   "outputs": [
    {
     "data": {
      "text/plain": [
       "'PYTHON'"
      ]
     },
     "execution_count": 2,
     "metadata": {},
     "output_type": "execute_result"
    }
   ],
   "source": [
    "stringName = \"python\"\n",
    "stringName.upper()"
   ]
  },
  {
   "cell_type": "code",
   "execution_count": 4,
   "id": "6c749531",
   "metadata": {},
   "outputs": [
    {
     "data": {
      "text/plain": [
       "str"
      ]
     },
     "execution_count": 4,
     "metadata": {},
     "output_type": "execute_result"
    }
   ],
   "source": [
    "type(stringName)"
   ]
  },
  {
   "cell_type": "code",
   "execution_count": 5,
   "id": "c14eed2f",
   "metadata": {},
   "outputs": [
    {
     "name": "stdout",
     "output_type": "stream",
     "text": [
      "['__add__', '__class__', '__contains__', '__delattr__', '__dir__', '__doc__', '__eq__', '__format__', '__ge__', '__getattribute__', '__getitem__', '__getnewargs__', '__gt__', '__hash__', '__init__', '__init_subclass__', '__iter__', '__le__', '__len__', '__lt__', '__mod__', '__mul__', '__ne__', '__new__', '__reduce__', '__reduce_ex__', '__repr__', '__rmod__', '__rmul__', '__setattr__', '__sizeof__', '__str__', '__subclasshook__', 'capitalize', 'casefold', 'center', 'count', 'encode', 'endswith', 'expandtabs', 'find', 'format', 'format_map', 'index', 'isalnum', 'isalpha', 'isascii', 'isdecimal', 'isdigit', 'isidentifier', 'islower', 'isnumeric', 'isprintable', 'isspace', 'istitle', 'isupper', 'join', 'ljust', 'lower', 'lstrip', 'maketrans', 'partition', 'removeprefix', 'removesuffix', 'replace', 'rfind', 'rindex', 'rjust', 'rpartition', 'rsplit', 'rstrip', 'split', 'splitlines', 'startswith', 'strip', 'swapcase', 'title', 'translate', 'upper', 'zfill']\n"
     ]
    }
   ],
   "source": [
    "# In  built fundtion that can tell you what all methods are available????\n",
    "\n",
    "# methods written in '__'. they are for python interpreter only\n",
    "\n",
    "# dir( variableName )\n",
    "# dir( datatype )\n",
    "\n",
    "print( dir(stringName.) )\n"
   ]
  },
  {
   "cell_type": "code",
   "execution_count": 6,
   "id": "5db8111e",
   "metadata": {},
   "outputs": [
    {
     "name": "stdout",
     "output_type": "stream",
     "text": [
      "['__add__', '__class__', '__contains__', '__delattr__', '__dir__', '__doc__', '__eq__', '__format__', '__ge__', '__getattribute__', '__getitem__', '__getnewargs__', '__gt__', '__hash__', '__init__', '__init_subclass__', '__iter__', '__le__', '__len__', '__lt__', '__mod__', '__mul__', '__ne__', '__new__', '__reduce__', '__reduce_ex__', '__repr__', '__rmod__', '__rmul__', '__setattr__', '__sizeof__', '__str__', '__subclasshook__', 'capitalize', 'casefold', 'center', 'count', 'encode', 'endswith', 'expandtabs', 'find', 'format', 'format_map', 'index', 'isalnum', 'isalpha', 'isascii', 'isdecimal', 'isdigit', 'isidentifier', 'islower', 'isnumeric', 'isprintable', 'isspace', 'istitle', 'isupper', 'join', 'ljust', 'lower', 'lstrip', 'maketrans', 'partition', 'removeprefix', 'removesuffix', 'replace', 'rfind', 'rindex', 'rjust', 'rpartition', 'rsplit', 'rstrip', 'split', 'splitlines', 'startswith', 'strip', 'swapcase', 'title', 'translate', 'upper', 'zfill']\n"
     ]
    }
   ],
   "source": [
    "print( dir(str) )\n"
   ]
  },
  {
   "cell_type": "markdown",
   "id": "50c88cea",
   "metadata": {},
   "source": [
    "'capitalize', 'casefold', 'center', 'count', 'encode', 'endswith', 'expandtabs', 'find', 'format', 'format_map', 'index', 'isalnum', 'isalpha', 'isascii', 'isdecimal', 'isdigit', 'isidentifier', 'islower', 'isnumeric', 'isprintable', 'isspace', 'istitle', 'isupper', 'join', 'ljust', 'lower', 'lstrip', 'maketrans', 'partition', 'removeprefix', 'removesuffix', 'replace', 'rfind', 'rindex', 'rjust', 'rpartition', 'rsplit', 'rstrip', 'split', 'splitlines', 'startswith', 'strip', 'swapcase', 'title', 'translate', 'upper', 'zfill'"
   ]
  },
  {
   "cell_type": "markdown",
   "id": "1a1f9372",
   "metadata": {},
   "source": [
    "'capitalize', 'center', 'count', 'endswith',  'find', 'format',  'index', 'isalnum', 'isalpha', 'isascii', 'isdecimal', 'isdigit', 'isidentifier', 'islower', 'isnumeric', 'isprintable', 'isspace', 'istitle', 'isupper', 'join', 'ljust', 'lower', 'lstrip', 'partition',  'replace', 'rfind', 'rindex', 'rjust', 'rpartition', 'rsplit', 'rstrip', 'split', ' 'startswith', 'strip', 'swapcase', 'title',  'upper', 'zfill'"
   ]
  },
  {
   "cell_type": "markdown",
   "id": "6b6f35e5",
   "metadata": {},
   "source": [
    "-- Foucs ---\n",
    "\n",
    "'capitalize', 'center', 'count', 'endswith',  'find', 'format',  'index', 'isalnum', 'isalpha', 'isascii', 'isdecimal', 'isdigit', 'isidentifier', 'islower', 'isnumeric', 'isprintable', 'isspace', 'istitle', 'isupper', 'join', 'ljust', 'lower', 'lstrip', 'partition',  'replace', 'rfind', 'rindex', 'rjust', 'rpartition', 'rsplit', 'rstrip', 'split', ' 'startswith', 'strip', 'swapcase', 'title',  'upper', 'zfill'"
   ]
  },
  {
   "cell_type": "markdown",
   "id": "e0c33310",
   "metadata": {},
   "source": [
    "-- Delete ---\n",
    "\n",
    "'', '', '', '',  '', '',  '', '', '', '', '', '', '', '', '', '', '', '', '', '', '', '', '', '',  '', '', '', '', '', '', '', '', ' '', '', '', '',  '', ''"
   ]
  },
  {
   "cell_type": "markdown",
   "id": "3f832926",
   "metadata": {},
   "source": [
    "After List --> split and parition and join"
   ]
  },
  {
   "cell_type": "code",
   "execution_count": null,
   "id": "c4530045",
   "metadata": {},
   "outputs": [],
   "source": []
  },
  {
   "cell_type": "code",
   "execution_count": null,
   "id": "a9580c8b",
   "metadata": {},
   "outputs": [],
   "source": []
  },
  {
   "cell_type": "code",
   "execution_count": 40,
   "id": "7dbbe1dc",
   "metadata": {},
   "outputs": [
    {
     "name": "stdout",
     "output_type": "stream",
     "text": [
      "Write Direction Name (N / S / E / W) : e\n",
      "Manipur\n"
     ]
    }
   ],
   "source": [
    "direction = input(\"Write Direction Name (N / S / E / W) : \") # W\n",
    "direction = direction.upper()\n",
    "\n",
    "if direction == \"N\" : \n",
    "    print(\"Delhi\")\n",
    "\n",
    "elif direction == \"S\" : \n",
    "    print(\"Tamil Nadu\")\n",
    "\n",
    "elif direction == \"W\" : \n",
    "    print(\"Rajasthan\")\n",
    "\n",
    "elif direction == \"E\" : \n",
    "    print(\"Manipur\")\n",
    "\n",
    "else : # Default\n",
    "    print(\"Invalid direction\")\n",
    "    \n",
    "# As a developer, you have to make your program 'ROBUST (Error Free)'\n",
    "# Smart Login from Google, \n",
    "# Transaction : receive OTP : APP automaticcaly detects it and it ask you to say OK??"
   ]
  },
  {
   "cell_type": "code",
   "execution_count": 39,
   "id": "0af0ea77",
   "metadata": {},
   "outputs": [
    {
     "name": "stdout",
     "output_type": "stream",
     "text": [
      "Write Direction Name (N / S / E / W) : e\n",
      "Manipur\n"
     ]
    }
   ],
   "source": [
    "direction = input(\"Write Direction Name (N / S / E / W) : \") # W\n",
    "\n",
    "if direction.upper() == \"N\" : \n",
    "    print(\"Delhi\")\n",
    "\n",
    "elif direction.upper() == \"S\" : \n",
    "    print(\"Tamil Nadu\")\n",
    "\n",
    "elif direction.upper() == \"W\" : \n",
    "    print(\"Rajasthan\")\n",
    "\n",
    "elif direction.upper() == \"E\" : \n",
    "    print(\"Manipur\")\n",
    "\n",
    "else : # Default\n",
    "    print(\"Invalid direction\")\n",
    "    \n",
    "# As a developer, you have to make your program 'ROBUST (Error Free)'\n",
    "# Smart Login from Google, \n",
    "# Transaction : receive OTP : APP automaticcaly detects it and it ask you to say OK??"
   ]
  },
  {
   "cell_type": "code",
   "execution_count": 23,
   "id": "a4bd55a2",
   "metadata": {},
   "outputs": [
    {
     "data": {
      "text/plain": [
       "'  N '"
      ]
     },
     "execution_count": 23,
     "metadata": {},
     "output_type": "execute_result"
    }
   ],
   "source": [
    "direction"
   ]
  },
  {
   "cell_type": "code",
   "execution_count": 13,
   "id": "5a679881",
   "metadata": {},
   "outputs": [
    {
     "ename": "IndentationError",
     "evalue": "unexpected indent (4268385872.py, line 2)",
     "output_type": "error",
     "traceback": [
      "\u001b[1;36m  File \u001b[1;32m\"C:\\Users\\Nitish\\AppData\\Local\\Temp\\ipykernel_25396\\4268385872.py\"\u001b[1;36m, line \u001b[1;32m2\u001b[0m\n\u001b[1;33m    b = 20\u001b[0m\n\u001b[1;37m    ^\u001b[0m\n\u001b[1;31mIndentationError\u001b[0m\u001b[1;31m:\u001b[0m unexpected indent\n"
     ]
    }
   ],
   "source": [
    "a = 100\n",
    "    b = 20\n",
    "\n",
    "# synatx : ggrammer of programming language\n",
    "    \n",
    "# listen\n",
    "# sun bhai..\n",
    "a"
   ]
  },
  {
   "cell_type": "code",
   "execution_count": null,
   "id": "abcb432b",
   "metadata": {},
   "outputs": [],
   "source": []
  },
  {
   "cell_type": "code",
   "execution_count": 35,
   "id": "817fe7b3",
   "metadata": {},
   "outputs": [
    {
     "name": "stdout",
     "output_type": "stream",
     "text": [
      "Actual Word --> pythOn ProgRAMMIng 2023 4eaaa t9aaaa\n",
      "Lower Case :  python programming 2023 4eaaa t9aaaa\n",
      "Upper Case :  PYTHON PROGRAMMING 2023 4EAAA T9AAAA\n",
      "Title Case :  Python Programming 2023 4Eaaa T9Aaaa\n",
      "Capitalixe Case :  Python programming 2023 4eaaa t9aaaa\n",
      "Swap Case :  PYTHoN pROGrammiNG 2023 4EAAA T9AAAA\n"
     ]
    }
   ],
   "source": [
    "# 1. Changing the Cases\n",
    "\n",
    "word = \"pythOn ProgRAMMIng 2023 4eaaa t9aaaa\" \n",
    "print(\"Actual Word -->\", word)\n",
    "print(\"Lower Case : \", word.lower(  )) #UPPER\n",
    "print(\"Upper Case : \", word.upper())  # LOWER\n",
    "print(\"Title Case : \", word.title())  # PROPER : takes first letter of every word to UPPER and rest as LOWER\n",
    "print(\"Capitalixe Case : \", word.capitalize()) # : takes first letter of Entire String to UPPER and rest as LOWER\n",
    "print(\"Swap Case : \", word.swapcase()) # Lower will be Upper and upper will be Lower"
   ]
  },
  {
   "cell_type": "code",
   "execution_count": 37,
   "id": "6a8f876e",
   "metadata": {},
   "outputs": [
    {
     "data": {
      "text/plain": [
       "'python programming 2023 4eaaa t9aaaa'"
      ]
     },
     "execution_count": 37,
     "metadata": {},
     "output_type": "execute_result"
    }
   ],
   "source": [
    "word = word.lower(  )  # saving the new result (lower method) to same variable\n",
    "word"
   ]
  },
  {
   "cell_type": "code",
   "execution_count": null,
   "id": "9980cd11",
   "metadata": {},
   "outputs": [],
   "source": []
  },
  {
   "cell_type": "code",
   "execution_count": 33,
   "id": "1e4ec606",
   "metadata": {},
   "outputs": [
    {
     "name": "stdout",
     "output_type": "stream",
     "text": [
      "Actual Word -->    pythOn ProgRAMMIng    \n",
      "Actual Word Length --> 25\n",
      "newWord --> pythOn ProgRAMMIng\n",
      "New Word Length --> 18\n"
     ]
    }
   ],
   "source": [
    "# 2. Removing the blank spaces\n",
    "\n",
    "word = \"   pythOn ProgRAMMIng    \" \n",
    "newWord = word.strip()   # excel TRIM\n",
    "\n",
    "print(\"Actual Word -->\", word)\n",
    "print(\"Actual Word Length -->\", len( word) )\n",
    "\n",
    "\n",
    "print(\"newWord -->\", newWord)  \n",
    "print(\"New Word Length -->\", len( newWord) )\n",
    "\n",
    "\n",
    "# rstrip, lstrip ...."
   ]
  },
  {
   "cell_type": "code",
   "execution_count": null,
   "id": "24112a14",
   "metadata": {},
   "outputs": [],
   "source": []
  },
  {
   "cell_type": "code",
   "execution_count": 42,
   "id": "ffa1c66b",
   "metadata": {},
   "outputs": [
    {
     "data": {
      "text/plain": [
       "'   pythOXX ProgRAMMIXXg    '"
      ]
     },
     "execution_count": 42,
     "metadata": {},
     "output_type": "execute_result"
    }
   ],
   "source": [
    "# 3. Replace some pattern inside the ENTIRE string.\n",
    "\n",
    "word = \"   pythOn ProgRAMMIng    \" \n",
    "\n",
    "# replace n by XX\n",
    "newWord = word.replace(\"n\", \"XX\")\n",
    "newWord\n",
    "\n",
    "# Q. replace only 1st n by XX and not any n after this...\n",
    "# HINT: loops + index\n"
   ]
  },
  {
   "cell_type": "code",
   "execution_count": 43,
   "id": "a66e0a9e",
   "metadata": {},
   "outputs": [
    {
     "data": {
      "text/plain": [
       "'   pythOn ProgRAMMIng    '"
      ]
     },
     "execution_count": 43,
     "metadata": {},
     "output_type": "execute_result"
    }
   ],
   "source": [
    "word"
   ]
  },
  {
   "cell_type": "code",
   "execution_count": 44,
   "id": "7fecb6b7",
   "metadata": {},
   "outputs": [
    {
     "data": {
      "text/plain": [
       "'---pythOn-ProgRAMMIng----'"
      ]
     },
     "execution_count": 44,
     "metadata": {},
     "output_type": "execute_result"
    }
   ],
   "source": [
    "# remove blan spaces by -\n",
    "word = \"   pythOn ProgRAMMIng    \" \n",
    "\n",
    "# replace n by XX\n",
    "newWord = word.replace(\" \", \"-\")\n",
    "newWord\n",
    "\n"
   ]
  },
  {
   "cell_type": "code",
   "execution_count": null,
   "id": "64a7f2c2",
   "metadata": {},
   "outputs": [],
   "source": []
  },
  {
   "cell_type": "code",
   "execution_count": 48,
   "id": "3b3d8f00",
   "metadata": {},
   "outputs": [
    {
     "name": "stdout",
     "output_type": "stream",
     "text": [
      "5\n",
      "5\n"
     ]
    }
   ],
   "source": [
    "# 4. find or index : Extract the STARTING position of the First OCCURENCE in the String\n",
    "# It will start searching from Left to Right....\n",
    "\n",
    "# syntax : stringName.index(character)\n",
    "# syntax : stringName.find(character)\n",
    "\n",
    "stringName = 'python programming'\n",
    "\n",
    "# return the position of 'n'\n",
    "print(stringName.find('n') )\n",
    "print(stringName.index('n') )\n",
    "\n",
    "\n",
    "# Q. How to get 2nd position where character has occured????"
   ]
  },
  {
   "cell_type": "code",
   "execution_count": 52,
   "id": "ff30e7d4",
   "metadata": {},
   "outputs": [
    {
     "name": "stdout",
     "output_type": "stream",
     "text": [
      "7\n",
      "7\n"
     ]
    }
   ],
   "source": [
    "stringName = 'python programming'\n",
    "\n",
    "# return the position of 'programming'\n",
    "pattern = \"programming\"\n",
    "print(stringName.find(pattern) )\n",
    "print(stringName.index(pattern) )\n"
   ]
  },
  {
   "cell_type": "code",
   "execution_count": 50,
   "id": "710764bf",
   "metadata": {},
   "outputs": [
    {
     "name": "stdout",
     "output_type": "stream",
     "text": [
      "i\n"
     ]
    }
   ],
   "source": [
    "print( stringName[15] )\n"
   ]
  },
  {
   "cell_type": "code",
   "execution_count": 47,
   "id": "45f2e74b",
   "metadata": {},
   "outputs": [
    {
     "name": "stdout",
     "output_type": "stream",
     "text": [
      "y\n",
      "g\n"
     ]
    }
   ],
   "source": [
    "# Indexing : Getting Letter at any position\n",
    "print( stringName[1] ) # Indexing : display y\n",
    "print( stringName[-1] ) # Indexing : display g\n"
   ]
  },
  {
   "cell_type": "code",
   "execution_count": 60,
   "id": "bc402738",
   "metadata": {},
   "outputs": [
    {
     "name": "stdout",
     "output_type": "stream",
     "text": [
      "-1\n",
      "60\n",
      "KKKKKK\n"
     ]
    }
   ],
   "source": [
    "# Build a logic if pattern is present or not\n",
    "stringName = 'python programming'\n",
    "\n",
    "pattern = \"X\"\n",
    "print(stringName.find(pattern) )\n",
    "\n",
    "# Find returns -1 if pattern is not present\n",
    "\n",
    "print(10 * 6)\n",
    "print(\"KK\" * 3)"
   ]
  },
  {
   "cell_type": "code",
   "execution_count": 59,
   "id": "815a9920",
   "metadata": {},
   "outputs": [
    {
     "name": "stdout",
     "output_type": "stream",
     "text": [
      "Positon is :  5\n"
     ]
    }
   ],
   "source": [
    "res = stringName.find(\"n\")\n",
    "if res == -1 : \n",
    "    print(\"Try Again\")\n",
    "else:  \n",
    "    print(\"Positon is : \", res)"
   ]
  },
  {
   "cell_type": "code",
   "execution_count": null,
   "id": "9d39cec7",
   "metadata": {},
   "outputs": [],
   "source": []
  },
  {
   "cell_type": "code",
   "execution_count": 61,
   "id": "d06392eb",
   "metadata": {},
   "outputs": [
    {
     "ename": "ValueError",
     "evalue": "substring not found",
     "output_type": "error",
     "traceback": [
      "\u001b[1;31m---------------------------------------------------------------------------\u001b[0m",
      "\u001b[1;31mValueError\u001b[0m                                Traceback (most recent call last)",
      "\u001b[1;32m~\\AppData\\Local\\Temp\\ipykernel_25396\\1367818812.py\u001b[0m in \u001b[0;36m<module>\u001b[1;34m\u001b[0m\n\u001b[0;32m      4\u001b[0m \u001b[1;33m\u001b[0m\u001b[0m\n\u001b[0;32m      5\u001b[0m \u001b[0mpattern\u001b[0m \u001b[1;33m=\u001b[0m \u001b[1;34m\"X\"\u001b[0m\u001b[1;33m\u001b[0m\u001b[1;33m\u001b[0m\u001b[0m\n\u001b[1;32m----> 6\u001b[1;33m \u001b[0mprint\u001b[0m\u001b[1;33m(\u001b[0m\u001b[0mstringName\u001b[0m\u001b[1;33m.\u001b[0m\u001b[0mindex\u001b[0m\u001b[1;33m(\u001b[0m\u001b[0mpattern\u001b[0m\u001b[1;33m)\u001b[0m \u001b[1;33m)\u001b[0m\u001b[1;33m\u001b[0m\u001b[1;33m\u001b[0m\u001b[0m\n\u001b[0m\u001b[0;32m      7\u001b[0m \u001b[1;33m\u001b[0m\u001b[0m\n\u001b[0;32m      8\u001b[0m \u001b[1;31m# index throws ERROR if pattern is not present\u001b[0m\u001b[1;33m\u001b[0m\u001b[1;33m\u001b[0m\u001b[0m\n",
      "\u001b[1;31mValueError\u001b[0m: substring not found"
     ]
    }
   ],
   "source": [
    "# Build a logic if pattern is present or not : Catch the exception \" TRY - CATCH\"\n",
    "\n",
    "stringName = 'python programming'\n",
    "\n",
    "pattern = \"X\"\n",
    "print(stringName.index(pattern) )\n",
    "\n",
    "# index throws ERROR if pattern is not present\n",
    "\n",
    "\n",
    "print(10 * 6)\n",
    "print(\"KK\" * 3)"
   ]
  },
  {
   "cell_type": "code",
   "execution_count": 56,
   "id": "67ab897d",
   "metadata": {},
   "outputs": [
    {
     "name": "stdout",
     "output_type": "stream",
     "text": [
      "Not Found\n"
     ]
    }
   ],
   "source": [
    "try : \n",
    "    stringName.index(\"X\")\n",
    "except : \n",
    "    print(\"Not Found\")"
   ]
  },
  {
   "cell_type": "code",
   "execution_count": 62,
   "id": "b39212a9",
   "metadata": {},
   "outputs": [
    {
     "name": "stdout",
     "output_type": "stream",
     "text": [
      "5\n",
      "5\n"
     ]
    }
   ],
   "source": [
    "# 5. rfind or rindex : Extract the STARTING position of the First OCCURENCE in the String\n",
    "# It will start searching from Right to LEFT....\n",
    "\n",
    "stringName = 'python programming'\n",
    "# return the position of 'n'\n",
    "print(stringName.find('n') )\n",
    "print(stringName.index('n') )\n"
   ]
  },
  {
   "cell_type": "code",
   "execution_count": 63,
   "id": "b84b4fee",
   "metadata": {},
   "outputs": [
    {
     "name": "stdout",
     "output_type": "stream",
     "text": [
      "16\n",
      "16\n"
     ]
    }
   ],
   "source": [
    "stringName = 'python programming'\n",
    "# return the position of 'n'\n",
    "print(stringName.rfind('n') )\n",
    "print(stringName.rindex('n') )\n"
   ]
  },
  {
   "cell_type": "code",
   "execution_count": null,
   "id": "028bc162",
   "metadata": {},
   "outputs": [],
   "source": []
  },
  {
   "cell_type": "code",
   "execution_count": 64,
   "id": "6b4a403d",
   "metadata": {},
   "outputs": [
    {
     "name": "stdout",
     "output_type": "stream",
     "text": [
      "No. Of Occurences :  2\n"
     ]
    }
   ],
   "source": [
    "# 6. count : return the occurence of the pattern\n",
    "\n",
    "word = \"   pythOn ProgRAMMIng    \" \n",
    "pattern = \"n\"\n",
    "print(\"No. Of Occurences : \", word.count(pattern))"
   ]
  },
  {
   "cell_type": "code",
   "execution_count": 65,
   "id": "e5971e60",
   "metadata": {},
   "outputs": [
    {
     "name": "stdout",
     "output_type": "stream",
     "text": [
      "No. Of Occurences :  1\n"
     ]
    }
   ],
   "source": [
    "word = \"   pythOn ProgRAMMIng    \" \n",
    "pattern = \"py\"\n",
    "print(\"No. Of Occurences : \", word.count(pattern))"
   ]
  },
  {
   "cell_type": "code",
   "execution_count": 66,
   "id": "d5b00f0b",
   "metadata": {},
   "outputs": [
    {
     "name": "stdout",
     "output_type": "stream",
     "text": [
      "No. Of Occurences :  0\n"
     ]
    }
   ],
   "source": [
    "word = \"   pythOn ProgRAMMIng    \" \n",
    "pattern = \"PRO\"\n",
    "print(\"No. Of Occurences : \", word.count(pattern))"
   ]
  },
  {
   "cell_type": "code",
   "execution_count": 67,
   "id": "ebc89051",
   "metadata": {},
   "outputs": [
    {
     "name": "stdout",
     "output_type": "stream",
     "text": [
      "No. Of Occurences :  2\n"
     ]
    }
   ],
   "source": [
    "word = \"   pythOn ProgRAMMIng    \" \n",
    "pattern = \"M\"\n",
    "print(\"No. Of Occurences : \", word.count(pattern))"
   ]
  },
  {
   "cell_type": "code",
   "execution_count": 68,
   "id": "2e480999",
   "metadata": {},
   "outputs": [
    {
     "name": "stdout",
     "output_type": "stream",
     "text": [
      "No. Of Occurences :  8\n"
     ]
    }
   ],
   "source": [
    "word = \"   pythOn ProgRAMMIng    \" \n",
    "pattern = \" \"\n",
    "print(\"No. Of Occurences : \", word.count(pattern))"
   ]
  },
  {
   "cell_type": "code",
   "execution_count": null,
   "id": "c91d78cd",
   "metadata": {},
   "outputs": [],
   "source": []
  },
  {
   "cell_type": "code",
   "execution_count": 69,
   "id": "1aa4d937",
   "metadata": {},
   "outputs": [
    {
     "name": "stdout",
     "output_type": "stream",
     "text": [
      "Its a  PYTHON file\n"
     ]
    }
   ],
   "source": [
    "# 7. startwith : return True if string starts with specific pattern\n",
    "# endswith : return True if string ends with specific pattern\n",
    "\n",
    "fileName = \"code.py\"\n",
    "\n",
    "if fileName.endswith(\".py\") : \n",
    "    print(\"Its a  PYTHON file\")\n",
    "else : \n",
    "    print(\"Not found\")\n"
   ]
  },
  {
   "cell_type": "code",
   "execution_count": 89,
   "id": "5423c54c",
   "metadata": {},
   "outputs": [
    {
     "name": "stdout",
     "output_type": "stream",
     "text": [
      "Its a  IMAGE file\n"
     ]
    }
   ],
   "source": [
    "# fileName = \"image.JPEG\"\n",
    "# fileName = \"image.jpEG\"\n",
    "fileName = \"image.jpeg\"\n",
    "\n",
    "if fileName.lower().endswith(\".jpeg\") : \n",
    "    print(\"Its a  IMAGE file\")\n",
    "else : \n",
    "    print(\"Not found\")\n"
   ]
  },
  {
   "cell_type": "code",
   "execution_count": null,
   "id": "2294bcf5",
   "metadata": {},
   "outputs": [],
   "source": []
  },
  {
   "cell_type": "code",
   "execution_count": 72,
   "id": "26824c00",
   "metadata": {},
   "outputs": [
    {
     "data": {
      "text/plain": [
       "'code.py'"
      ]
     },
     "execution_count": 72,
     "metadata": {},
     "output_type": "execute_result"
    }
   ],
   "source": [
    "fileName"
   ]
  },
  {
   "cell_type": "code",
   "execution_count": 73,
   "id": "d3d57faa",
   "metadata": {},
   "outputs": [
    {
     "data": {
      "text/plain": [
       "'CODE.PY'"
      ]
     },
     "execution_count": 73,
     "metadata": {},
     "output_type": "execute_result"
    }
   ],
   "source": [
    "fileName.upper()"
   ]
  },
  {
   "cell_type": "code",
   "execution_count": 74,
   "id": "8f58a995",
   "metadata": {},
   "outputs": [
    {
     "data": {
      "text/plain": [
       "'Code.Py'"
      ]
     },
     "execution_count": 74,
     "metadata": {},
     "output_type": "execute_result"
    }
   ],
   "source": [
    "res = fileName.upper()\n",
    "res.title()"
   ]
  },
  {
   "cell_type": "code",
   "execution_count": 75,
   "id": "8d9add32",
   "metadata": {},
   "outputs": [
    {
     "data": {
      "text/plain": [
       "'Code.Py'"
      ]
     },
     "execution_count": 75,
     "metadata": {},
     "output_type": "execute_result"
    }
   ],
   "source": [
    "fileName.upper().title()"
   ]
  },
  {
   "cell_type": "code",
   "execution_count": 76,
   "id": "e86d5370",
   "metadata": {},
   "outputs": [],
   "source": [
    "## IN Python, you can keep adding METHODS if they are applicable on that datatpye...\n",
    "\n",
    "word = \"java python\"\n",
    "\n"
   ]
  },
  {
   "cell_type": "code",
   "execution_count": 77,
   "id": "15686159",
   "metadata": {},
   "outputs": [
    {
     "data": {
      "text/plain": [
       "'java python'"
      ]
     },
     "execution_count": 77,
     "metadata": {},
     "output_type": "execute_result"
    }
   ],
   "source": [
    "word.lower()"
   ]
  },
  {
   "cell_type": "code",
   "execution_count": 78,
   "id": "edd89e01",
   "metadata": {},
   "outputs": [
    {
     "data": {
      "text/plain": [
       "'JAVA PYTHON'"
      ]
     },
     "execution_count": 78,
     "metadata": {},
     "output_type": "execute_result"
    }
   ],
   "source": [
    "word.lower().upper()"
   ]
  },
  {
   "cell_type": "code",
   "execution_count": 80,
   "id": "303dedc1",
   "metadata": {},
   "outputs": [
    {
     "data": {
      "text/plain": [
       "'Java Python'"
      ]
     },
     "execution_count": 80,
     "metadata": {},
     "output_type": "execute_result"
    }
   ],
   "source": [
    "word.lower().upper().title()"
   ]
  },
  {
   "cell_type": "code",
   "execution_count": 81,
   "id": "f3c4015d",
   "metadata": {},
   "outputs": [
    {
     "data": {
      "text/plain": [
       "6"
      ]
     },
     "execution_count": 81,
     "metadata": {},
     "output_type": "execute_result"
    }
   ],
   "source": [
    "word.lower().upper().title().find('y')\n"
   ]
  },
  {
   "cell_type": "code",
   "execution_count": null,
   "id": "31e3d4af",
   "metadata": {},
   "outputs": [],
   "source": []
  },
  {
   "cell_type": "code",
   "execution_count": 83,
   "id": "cc2a22df",
   "metadata": {},
   "outputs": [
    {
     "data": {
      "text/plain": [
       "'JAVA PYTHON'"
      ]
     },
     "execution_count": 83,
     "metadata": {},
     "output_type": "execute_result"
    }
   ],
   "source": [
    "word.lower().upper()"
   ]
  },
  {
   "cell_type": "code",
   "execution_count": 82,
   "id": "5b6108c9",
   "metadata": {},
   "outputs": [
    {
     "data": {
      "text/plain": [
       "-1"
      ]
     },
     "execution_count": 82,
     "metadata": {},
     "output_type": "execute_result"
    }
   ],
   "source": [
    "word.lower().upper().find(\"y\")"
   ]
  },
  {
   "cell_type": "code",
   "execution_count": null,
   "id": "0cf57282",
   "metadata": {},
   "outputs": [],
   "source": []
  },
  {
   "cell_type": "code",
   "execution_count": 84,
   "id": "3d2fa760",
   "metadata": {},
   "outputs": [
    {
     "data": {
      "text/plain": [
       "1"
      ]
     },
     "execution_count": 84,
     "metadata": {},
     "output_type": "execute_result"
    }
   ],
   "source": [
    "word = \"java python\"\n",
    "word.lower().upper().lower().count(\"p\")"
   ]
  },
  {
   "cell_type": "code",
   "execution_count": 85,
   "id": "dd69e5cc",
   "metadata": {},
   "outputs": [
    {
     "ename": "AttributeError",
     "evalue": "'int' object has no attribute 'find'",
     "output_type": "error",
     "traceback": [
      "\u001b[1;31m---------------------------------------------------------------------------\u001b[0m",
      "\u001b[1;31mAttributeError\u001b[0m                            Traceback (most recent call last)",
      "\u001b[1;32m~\\AppData\\Local\\Temp\\ipykernel_25396\\2769227009.py\u001b[0m in \u001b[0;36m<module>\u001b[1;34m\u001b[0m\n\u001b[0;32m      1\u001b[0m \u001b[0mword\u001b[0m \u001b[1;33m=\u001b[0m \u001b[1;34m\"java python\"\u001b[0m\u001b[1;33m\u001b[0m\u001b[1;33m\u001b[0m\u001b[0m\n\u001b[1;32m----> 2\u001b[1;33m \u001b[0mword\u001b[0m\u001b[1;33m.\u001b[0m\u001b[0mcount\u001b[0m\u001b[1;33m(\u001b[0m\u001b[1;34m\"p\"\u001b[0m\u001b[1;33m)\u001b[0m\u001b[1;33m.\u001b[0m\u001b[0mfind\u001b[0m\u001b[1;33m(\u001b[0m\u001b[1;34m\"p\"\u001b[0m\u001b[1;33m)\u001b[0m\u001b[1;33m\u001b[0m\u001b[1;33m\u001b[0m\u001b[0m\n\u001b[0m",
      "\u001b[1;31mAttributeError\u001b[0m: 'int' object has no attribute 'find'"
     ]
    }
   ],
   "source": [
    "word = \"java python\"\n",
    "word.count(\"p\").find(\"p\")"
   ]
  },
  {
   "cell_type": "code",
   "execution_count": 86,
   "id": "8f4ff719",
   "metadata": {},
   "outputs": [
    {
     "data": {
      "text/plain": [
       "1"
      ]
     },
     "execution_count": 86,
     "metadata": {},
     "output_type": "execute_result"
    }
   ],
   "source": [
    "word.count(\"p\")"
   ]
  },
  {
   "cell_type": "code",
   "execution_count": null,
   "id": "671a5a61",
   "metadata": {},
   "outputs": [],
   "source": []
  },
  {
   "cell_type": "code",
   "execution_count": 92,
   "id": "38dfac18",
   "metadata": {},
   "outputs": [],
   "source": [
    "# 8. String Formatting\n",
    "# this helps to insert some information  inside the string\n",
    "# methodS  -->  %   , format  , f\n",
    "# \n",
    "\n"
   ]
  },
  {
   "cell_type": "code",
   "execution_count": 93,
   "id": "f84259ae",
   "metadata": {},
   "outputs": [
    {
     "name": "stdout",
     "output_type": "stream",
     "text": [
      "Use OTP 568726  to authorise the current trasaction\n",
      "Use OTP 568726  to authorise the current trasaction\n"
     ]
    }
   ],
   "source": [
    "# Q. There is an OTP generated and you have to send it tot the user...\n",
    "\n",
    "otp_value = 568726\n",
    "print( \"Use OTP\", otp_value, \" to authorise the current trasaction\" )\n",
    "print( \"Use OTP %d  to authorise the current trasaction\"%(otp_value) )\n"
   ]
  },
  {
   "cell_type": "code",
   "execution_count": null,
   "id": "5e5309c3",
   "metadata": {},
   "outputs": [],
   "source": []
  },
  {
   "cell_type": "code",
   "execution_count": null,
   "id": "3690566a",
   "metadata": {},
   "outputs": [],
   "source": []
  },
  {
   "cell_type": "code",
   "execution_count": 99,
   "id": "1c334c58",
   "metadata": {},
   "outputs": [
    {
     "name": "stdout",
     "output_type": "stream",
     "text": [
      "Name : Nitish\n",
      "Age : 30\n",
      "Salary : 525.36\n",
      "Dear Nitish you have new salary of 577.896 at the age of  32\n",
      "Dear Nitish, you have new salary of 577.90% at the age of 32\n",
      "Dear Nitish, you have new salary of 577.90% at the age of 32\n"
     ]
    }
   ],
   "source": [
    "name = input(\"Name : \")\n",
    "age = int( input(\"Age : \") )\n",
    "salary = float( input(\"Salary : \") )\n",
    "\n",
    "\"Dear <name>, you have new salary of <salary*10%> at the age of <age+2>\"\n",
    "\n",
    "print(\"Dear\", name, \"you have new salary of\", salary + salary * 10 / 100 , \"at the age of \", age+2 )\n",
    "print( \"Dear %s, you have new salary of %0.2f%% at the age of %d\" % (name, salary + salary * 10 / 100 , age+2 ) )\n",
    "\n",
    "saved_template = \"Dear %s, you have new salary of %0.2f%% at the age of %d\"\n",
    "print( saved_template % (name, salary + salary * 10 / 100 , age+2 ) )\n",
    "\n"
   ]
  },
  {
   "cell_type": "code",
   "execution_count": 100,
   "id": "f0d8778d",
   "metadata": {},
   "outputs": [
    {
     "ename": "TypeError",
     "evalue": "must be real number, not str",
     "output_type": "error",
     "traceback": [
      "\u001b[1;31m---------------------------------------------------------------------------\u001b[0m",
      "\u001b[1;31mTypeError\u001b[0m                                 Traceback (most recent call last)",
      "\u001b[1;32m~\\AppData\\Local\\Temp\\ipykernel_25396\\444283402.py\u001b[0m in \u001b[0;36m<module>\u001b[1;34m\u001b[0m\n\u001b[1;32m----> 1\u001b[1;33m \u001b[0mprint\u001b[0m\u001b[1;33m(\u001b[0m \u001b[0msaved_template\u001b[0m \u001b[1;33m%\u001b[0m \u001b[1;33m(\u001b[0m\u001b[0msalary\u001b[0m \u001b[1;33m+\u001b[0m \u001b[0msalary\u001b[0m \u001b[1;33m*\u001b[0m \u001b[1;36m10\u001b[0m \u001b[1;33m/\u001b[0m \u001b[1;36m100\u001b[0m \u001b[1;33m,\u001b[0m \u001b[0mname\u001b[0m\u001b[1;33m,\u001b[0m \u001b[0mage\u001b[0m\u001b[1;33m+\u001b[0m\u001b[1;36m2\u001b[0m \u001b[1;33m)\u001b[0m \u001b[1;33m)\u001b[0m\u001b[1;33m\u001b[0m\u001b[1;33m\u001b[0m\u001b[0m\n\u001b[0m",
      "\u001b[1;31mTypeError\u001b[0m: must be real number, not str"
     ]
    }
   ],
   "source": [
    "print( saved_template % (salary + salary * 10 / 100 , name, age+2 ) )\n"
   ]
  },
  {
   "cell_type": "code",
   "execution_count": 102,
   "id": "9c178063",
   "metadata": {},
   "outputs": [
    {
     "name": "stdout",
     "output_type": "stream",
     "text": [
      "Dear Nitish, you have new salary of 577.896 at the age of32\n",
      "Dear 577.896, you have new salary of 32 at the age ofNitish\n"
     ]
    }
   ],
   "source": [
    "saved_template = \"Dear {0}, you have new salary of {1} at the age of{2}\" # .format()\n",
    "print( saved_template.format(name, salary + salary * 10 / 100 , age+2 ) )\n",
    "\n",
    "print( saved_template.format(salary + salary * 10 / 100 , age+2, name ) )\n"
   ]
  },
  {
   "cell_type": "code",
   "execution_count": null,
   "id": "297caaed",
   "metadata": {},
   "outputs": [],
   "source": []
  },
  {
   "cell_type": "code",
   "execution_count": null,
   "id": "079fd2bd",
   "metadata": {},
   "outputs": [],
   "source": []
  },
  {
   "cell_type": "code",
   "execution_count": null,
   "id": "f4c5296c",
   "metadata": {},
   "outputs": [],
   "source": []
  },
  {
   "cell_type": "code",
   "execution_count": null,
   "id": "91968430",
   "metadata": {},
   "outputs": [],
   "source": []
  },
  {
   "cell_type": "code",
   "execution_count": 104,
   "id": "911ce63f",
   "metadata": {},
   "outputs": [
    {
     "name": "stdout",
     "output_type": "stream",
     "text": [
      "Name : Nitish\n",
      "Age : 30\n",
      "Salary : 1548.25\n",
      "\n",
      "Dear Nitish\n",
      "\n",
      "If you invest for next 10 years with 10% of your salary\n",
      "then you can achieve a corpus of 1672.11 at the age of 40\n",
      "\n",
      "\n"
     ]
    }
   ],
   "source": [
    "name = input(\"Name : \")\n",
    "age = int( input(\"Age : \") )\n",
    "salary = float( input(\"Salary : \") )\n",
    "\n",
    "new_temp_1 = \"\"\"\n",
    "Dear {0}\n",
    "\n",
    "If you invest for next 10 years with 10% of your salary\n",
    "then you can achieve a corpus of {1} at the age of {2}\n",
    "\n",
    "\"\"\"\n",
    "\n",
    "print( new_temp_1.format(name, salary+salary*8/100, age+10) )"
   ]
  },
  {
   "cell_type": "code",
   "execution_count": 108,
   "id": "ef005d3f",
   "metadata": {},
   "outputs": [
    {
     "name": "stdout",
     "output_type": "stream",
     "text": [
      "Name : Nitish\n",
      "Age : 30\n",
      "Salary : 3425.25\n",
      "\n",
      "Dear NITISH\n",
      "\n",
      "If you invest for next 10 years with 10% of your salary\n",
      "then you can achieve a corpus of 3699.27 at the age of 40\n",
      "\n",
      "\n"
     ]
    }
   ],
   "source": [
    "name = input(\"Name : \")\n",
    "age = int( input(\"Age : \") )\n",
    "salary = float( input(\"Salary : \") )\n",
    "\n",
    "new_temp_1 = f\"\"\"\n",
    "Dear {name.upper()}\n",
    "\n",
    "If you invest for next 10 years with 10% of your salary\n",
    "then you can achieve a corpus of {salary+salary*8/100} at the age of {age+10}\n",
    "\n",
    "\"\"\"\n",
    "\n",
    "print( new_temp_1 )"
   ]
  },
  {
   "cell_type": "code",
   "execution_count": null,
   "id": "4876c399",
   "metadata": {},
   "outputs": [],
   "source": []
  },
  {
   "cell_type": "code",
   "execution_count": 106,
   "id": "5dac160c",
   "metadata": {},
   "outputs": [
    {
     "name": "stdout",
     "output_type": "stream",
     "text": [
      "Name : nitish\n",
      "Age : 30\n",
      "Salary : 6541265.165\n",
      "\n",
      "Dear NITISH\n",
      "\n",
      "If you invest for next 10 years with 10% of your salary\n",
      "then you can achieve a corpus of 7064566.3782 at the age of 40.\n",
      "\n",
      "Also NITISH, We will make sure that at age of 35, we will notify you with your exisiting benefits\n",
      "\n",
      "ABC Company\n",
      "\n"
     ]
    }
   ],
   "source": [
    "name = input(\"Name : \")\n",
    "age = int( input(\"Age : \") )\n",
    "salary = float( input(\"Salary : \") )\n",
    "\n",
    "new_temp_2 = \"\"\"\n",
    "Dear {0}\n",
    "\n",
    "If you invest for next 10 years with 10% of your salary\n",
    "then you can achieve a corpus of {1} at the age of {2}.\n",
    "\n",
    "Also {0}, We will make sure that at age of {3}, we will notify you with your exisiting benefits\n",
    "\n",
    "ABC Company\n",
    "\"\"\"\n",
    "\n",
    "print( new_temp_2.format(name.upper(), salary+salary*8/100, age+10, age+5) ) # format methods looks at the POSITIon NUMBERS "
   ]
  },
  {
   "cell_type": "code",
   "execution_count": 109,
   "id": "713380af",
   "metadata": {},
   "outputs": [
    {
     "name": "stdout",
     "output_type": "stream",
     "text": [
      "\n",
      "Dear NITISH\n",
      "\n",
      "If you invest for next 10 years with 10% of your salary\n",
      "then you can achieve a corpus of 3699.27 at the age of 40.\n",
      "\n",
      "Also NITISH, We will make sure that at age of 35, we will notify you with your exisiting benefits\n",
      "\n",
      "ABC Company\n",
      "\n"
     ]
    }
   ],
   "source": [
    "new_temp_2 = f\"\"\"\n",
    "Dear {name.upper()}\n",
    "\n",
    "If you invest for next 10 years with 10% of your salary\n",
    "then you can achieve a corpus of {salary+salary*8/100} at the age of {age+10}.\n",
    "\n",
    "Also {name.upper()}, We will make sure that at age of {age+5}, we will notify you with your exisiting benefits\n",
    "\n",
    "ABC Company\n",
    "\"\"\"\n",
    "\n",
    "print( new_temp_2 ) # f"
   ]
  },
  {
   "cell_type": "code",
   "execution_count": null,
   "id": "712732d1",
   "metadata": {},
   "outputs": [],
   "source": [
    "# print(...)\n",
    "# %s, %d ...\n",
    "# \"\"%()\n",
    "# \"\".format()\n",
    "# f\"\""
   ]
  },
  {
   "cell_type": "code",
   "execution_count": null,
   "id": "a9c0cd02",
   "metadata": {},
   "outputs": [],
   "source": []
  },
  {
   "cell_type": "code",
   "execution_count": null,
   "id": "a43f35dc",
   "metadata": {},
   "outputs": [],
   "source": []
  },
  {
   "cell_type": "code",
   "execution_count": null,
   "id": "657bc175",
   "metadata": {},
   "outputs": [],
   "source": []
  },
  {
   "cell_type": "code",
   "execution_count": null,
   "id": "5b3a7166",
   "metadata": {},
   "outputs": [],
   "source": []
  },
  {
   "cell_type": "code",
   "execution_count": null,
   "id": "002bab50",
   "metadata": {},
   "outputs": [],
   "source": []
  },
  {
   "cell_type": "code",
   "execution_count": null,
   "id": "75a4a907",
   "metadata": {},
   "outputs": [],
   "source": []
  }
 ],
 "metadata": {
  "kernelspec": {
   "display_name": "Python 3 (ipykernel)",
   "language": "python",
   "name": "python3"
  },
  "language_info": {
   "codemirror_mode": {
    "name": "ipython",
    "version": 3
   },
   "file_extension": ".py",
   "mimetype": "text/x-python",
   "name": "python",
   "nbconvert_exporter": "python",
   "pygments_lexer": "ipython3",
   "version": "3.12.4"
  }
 },
 "nbformat": 4,
 "nbformat_minor": 5
}
