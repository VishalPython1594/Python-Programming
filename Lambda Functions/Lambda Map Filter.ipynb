{
 "cells": [
  {
   "cell_type": "code",
   "execution_count": null,
   "id": "6bbdf2b4",
   "metadata": {},
   "outputs": [],
   "source": []
  },
  {
   "cell_type": "markdown",
   "id": "422523d0",
   "metadata": {},
   "source": [
    "# Filter\n",
    "\n",
    "\n",
    "- these are single line functions \n",
    "- they are used to apply the function on each value inside the sequence\n",
    "- fetch the values from the sequence if the expression is True\n",
    "- the output sequence length is less than or equal to inout sequence\n",
    "- element values DOES NOT CHANGE\n",
    "\n",
    "**Syntax : filter(functionName, sequenceName)  **\n",
    "\n",
    "sequenceName - list, typle, set\n",
    "functionName <- def, lambda"
   ]
  },
  {
   "cell_type": "code",
   "execution_count": null,
   "id": "a3bed039",
   "metadata": {},
   "outputs": [],
   "source": []
  },
  {
   "cell_type": "code",
   "execution_count": null,
   "id": "d7d00ed3",
   "metadata": {},
   "outputs": [],
   "source": []
  },
  {
   "cell_type": "code",
   "execution_count": 1,
   "id": "fe667227",
   "metadata": {},
   "outputs": [
    {
     "name": "stdout",
     "output_type": "stream",
     "text": [
      "Even\n",
      "Odd\n",
      "<class 'function'>\n"
     ]
    }
   ],
   "source": [
    "eo_2 = lambda x : \"Even\" if x%2 == 0 else \"Odd\"\n",
    "\n",
    "print( eo_2(10) )\n",
    "print( eo_2(1) )\n",
    "\n"
   ]
  },
  {
   "cell_type": "code",
   "execution_count": null,
   "id": "4c19e41e",
   "metadata": {},
   "outputs": [],
   "source": []
  },
  {
   "cell_type": "code",
   "execution_count": 4,
   "id": "888b7b59",
   "metadata": {},
   "outputs": [
    {
     "name": "stdout",
     "output_type": "stream",
     "text": [
      "[2, 4, 6, 10]\n",
      "2\n",
      "4\n",
      "6\n",
      "10\n"
     ]
    }
   ],
   "source": [
    "# get the even values only\n",
    "\n",
    "input_list = [2 , 7 , 4 , 5 , 6 , 1 , 10 , 3]\n",
    "final_list = [ x for x in input_list if x%2 == 0 ]\n",
    "print( final_list )\n",
    "\n",
    "# for x in input_list : \n",
    "#     if x%2 == 0 : print(x)"
   ]
  },
  {
   "cell_type": "code",
   "execution_count": 6,
   "id": "91162fc8",
   "metadata": {},
   "outputs": [
    {
     "name": "stdout",
     "output_type": "stream",
     "text": [
      "[2, 4, 6, 10]\n",
      "[2, 4, 6, 10]\n"
     ]
    }
   ],
   "source": [
    "def even_odd_fun_1(num) : \n",
    "    if num%2 == 0 : return True\n",
    "    else : return False\n",
    "        \n",
    "even_odd_fun_2 = lambda num : True if num%2 == 0 else False\n",
    "#                         2  /\n",
    "#                         7 X\n",
    "#                         4 /\n",
    "#                         5 X\n",
    "\n",
    "input_list = [2 , 7 , 4 , 5 , 6 , 1 , 10 , 3]\n",
    "\n",
    "ans = list( filter( even_odd_fun_1, input_list ) )  # FOR LOOP is used at the backend\n",
    "print(ans)\n",
    "\n",
    "ans = list( filter( even_odd_fun_2, input_list ) )\n",
    "print(ans)\n"
   ]
  },
  {
   "cell_type": "code",
   "execution_count": 14,
   "id": "0bec56fb",
   "metadata": {},
   "outputs": [
    {
     "data": {
      "text/plain": [
       "<filter at 0x1bb518733d0>"
      ]
     },
     "execution_count": 14,
     "metadata": {},
     "output_type": "execute_result"
    }
   ],
   "source": [
    "filter( even_odd_fun_1, input_list ) "
   ]
  },
  {
   "cell_type": "code",
   "execution_count": 15,
   "id": "792d21c2",
   "metadata": {},
   "outputs": [
    {
     "data": {
      "text/plain": [
       "(2, 4, 6, 10)"
      ]
     },
     "execution_count": 15,
     "metadata": {},
     "output_type": "execute_result"
    }
   ],
   "source": [
    "tuple( filter( even_odd_fun_1, input_list ) )"
   ]
  },
  {
   "cell_type": "code",
   "execution_count": null,
   "id": "e3096041",
   "metadata": {},
   "outputs": [],
   "source": []
  },
  {
   "cell_type": "code",
   "execution_count": 41,
   "id": "1a1950a9",
   "metadata": {},
   "outputs": [
    {
     "name": "stdout",
     "output_type": "stream",
     "text": [
      "[2, 4, 6, 10]\n"
     ]
    }
   ],
   "source": [
    "input_list = [2 , 7 , 4 , 5 , 6 , 1 , 10 , 3]\n",
    "\n",
    "ans = list( filter( lambda num : num * 10 if num%2 == 0 else False, input_list ) )\n",
    "print(ans)\n"
   ]
  },
  {
   "cell_type": "code",
   "execution_count": null,
   "id": "e8c52691",
   "metadata": {},
   "outputs": [],
   "source": [
    "# num * 10 -- TRUE"
   ]
  },
  {
   "cell_type": "code",
   "execution_count": null,
   "id": "e47f0222",
   "metadata": {},
   "outputs": [],
   "source": []
  },
  {
   "cell_type": "code",
   "execution_count": 13,
   "id": "772d7bdd",
   "metadata": {},
   "outputs": [
    {
     "data": {
      "text/plain": [
       "[' apple   ', '  pineAPPLE ', '  custard AppLE']"
      ]
     },
     "execution_count": 13,
     "metadata": {},
     "output_type": "execute_result"
    }
   ],
   "source": [
    "# given you a list of fruits name, you have to find the fruits that contain 'apple'?\n",
    "\n",
    "fruits = [' apple   ' , 'ManGO   ',  \"  pineAPPLE \" , \"  custard AppLE\" , ' graPES ' , \"KiWi  \" , '  cherRy']\n",
    "# ans = [' apple   ' , \"  pineAPPLE \" , \"  custard AppLE\"] # # list comprehension\n",
    "\n",
    "ans = [ word for word in fruits if \"apple\" in word.strip().lower()  ]\n",
    "ans\n"
   ]
  },
  {
   "cell_type": "code",
   "execution_count": 16,
   "id": "e391ad51",
   "metadata": {},
   "outputs": [
    {
     "data": {
      "text/plain": [
       "[' apple   ', '  pineAPPLE ', '  custard AppLE']"
      ]
     },
     "execution_count": 16,
     "metadata": {},
     "output_type": "execute_result"
    }
   ],
   "source": [
    "# ' apple   '\n",
    "fruit_fun = lambda f : True if \"apple\" in f.lower().strip() else False\n",
    "fruits = [' apple   ' , 'ManGO   ',  \"  pineAPPLE \" , \"  custard AppLE\" , ' graPES ' , \"KiWi  \" , '  cherRy']\n",
    "\n",
    "ans = list( filter( fruit_fun, fruits ) )\n",
    "ans"
   ]
  },
  {
   "cell_type": "code",
   "execution_count": null,
   "id": "6d91bc84",
   "metadata": {},
   "outputs": [],
   "source": []
  },
  {
   "cell_type": "code",
   "execution_count": 38,
   "id": "5e5f1c0c",
   "metadata": {},
   "outputs": [
    {
     "data": {
      "text/plain": [
       "[40, 25, True, 5, False]"
      ]
     },
     "execution_count": 38,
     "metadata": {},
     "output_type": "execute_result"
    }
   ],
   "source": [
    "# given a list, find out the integer number from the list...\n",
    "\n",
    "#  listName = [ 40 , 25 , \"Delhi\" ,  [3.5 , True, 5, 'Pune', 10j , -7.7] , False ]   # def \n",
    "#  listName = [ 40 , 25 , \"Delhi\" ,  3.5 , True, 5, 'Pune', 10j , -7.7 , False ]  # lambda as single for loop\n",
    "\n",
    "listName = [ 40 , 25 , \"Delhi\" ,  3.5 , True, 5, 'Pune', 10j , -7.7 , False ]  # lambda as single for loop\n",
    "\n",
    "ans = list( filter(  lambda x : True if isinstance(x, int) else False  , listName) )\n",
    "ans"
   ]
  },
  {
   "cell_type": "code",
   "execution_count": 19,
   "id": "863dbd5a",
   "metadata": {},
   "outputs": [
    {
     "name": "stdout",
     "output_type": "stream",
     "text": [
      "[2, 5, -7]\n"
     ]
    }
   ],
   "source": [
    "# listName = [ 40 , 25 , \"Delhi\" ,  [3.5 , True, 5, 'Pune', 10j , -7.7] , False ]   # def \n",
    "\n",
    "ans = []\n",
    "for element in listName : \n",
    "    if isinstance( element, list ) : \n",
    "        for e in element :   #  [3.5 , True, 5, 'Pune', 10j , -7.7]\n",
    "            if isinstance( e, int ) and not( isinstance( e, bool ) ) : \n",
    "                ans.append(e)\n",
    "print( ans )\n"
   ]
  },
  {
   "cell_type": "code",
   "execution_count": 39,
   "id": "789e0878",
   "metadata": {},
   "outputs": [
    {
     "data": {
      "text/plain": [
       "[[-1.1, 2, 'Jaipur', 4j], [3.5, True, 5, 'Pune', 10j, -7]]"
      ]
     },
     "execution_count": 39,
     "metadata": {},
     "output_type": "execute_result"
    }
   ],
   "source": [
    "# ***\n",
    "#  40\n",
    "# [-1.1 , 2 , 'Jaipur' , 4j]\n",
    "listName = [ 40 , 25 , \"Delhi\" , [-1.1 , 2 , 'Jaipur' , 4j] ,   [3.5 , True, 5, 'Pune', 10j , -7] , False ]\n",
    "\n",
    "def find_int(element) : \n",
    "    if isinstance(element, list) : \n",
    "        for e in element :   \n",
    "            if isinstance( e, int ) and not( isinstance( e, bool ) ) : return \"nitish\"\n",
    "    else : return 0\n",
    "                \n",
    "ans = list( filter( find_int, listName ) )\n",
    "ans"
   ]
  },
  {
   "cell_type": "code",
   "execution_count": null,
   "id": "ec424faa",
   "metadata": {},
   "outputs": [],
   "source": []
  },
  {
   "cell_type": "code",
   "execution_count": null,
   "id": "df78f50a",
   "metadata": {},
   "outputs": [],
   "source": []
  },
  {
   "cell_type": "code",
   "execution_count": null,
   "id": "8d730c05",
   "metadata": {},
   "outputs": [],
   "source": []
  },
  {
   "cell_type": "markdown",
   "id": "62cf858b",
   "metadata": {},
   "source": [
    "# Map\n",
    "\n",
    "\n",
    "- these are single line functions \n",
    "- they are used to apply the function on each value inside the sequence\n",
    "\n",
    "- applies the function and that element can change the value\n",
    "\n",
    "- the output sequence length is equal to input sequence\n",
    "- element values MAY or MAY NOT CHANGE\n",
    "\n",
    "**Syntax : map(functionName, sequenceName)  **\n",
    "\n",
    "sequenceName - list, typle, set\n",
    "functionName <- def, lambda"
   ]
  },
  {
   "cell_type": "code",
   "execution_count": null,
   "id": "794b3037",
   "metadata": {},
   "outputs": [],
   "source": []
  },
  {
   "cell_type": "code",
   "execution_count": 42,
   "id": "9ca235d3",
   "metadata": {},
   "outputs": [
    {
     "name": "stdout",
     "output_type": "stream",
     "text": [
      "9\n",
      "25\n",
      "\n",
      "9\n",
      "25\n"
     ]
    }
   ],
   "source": [
    "# Find the square of the number ...\n",
    "\n",
    "def sq_1(x) : \n",
    "    return x ** 2\n",
    "\n",
    "print( sq_1(3) )\n",
    "print( sq_1(-5) )\n",
    "\n",
    "print()\n",
    "\n",
    "sq_2 = lambda x : x ** 2\n",
    "\n",
    "print( sq_2(3) )\n",
    "print( sq_2(-5) )\n"
   ]
  },
  {
   "cell_type": "code",
   "execution_count": 45,
   "id": "39b9e971",
   "metadata": {},
   "outputs": [
    {
     "data": {
      "text/plain": [
       "[4, 49, 16, 25, 36, 1, 100, 9]"
      ]
     },
     "execution_count": 45,
     "metadata": {},
     "output_type": "execute_result"
    }
   ],
   "source": [
    "input_list = [2 , 7 , 4 , 5 , 6 , 1 , 10 , 3]\n",
    "\n",
    "ans = list( map( lambda x : x ** 2  , input_list ) )\n",
    "ans\n"
   ]
  },
  {
   "cell_type": "code",
   "execution_count": null,
   "id": "f07f6cfc",
   "metadata": {},
   "outputs": [],
   "source": [
    "c1  c2    c3\n",
    "1   3.4  \"ngv\"\n",
    "2   5.6  \"hj\"\n"
   ]
  },
  {
   "cell_type": "code",
   "execution_count": 49,
   "id": "9a00690d",
   "metadata": {},
   "outputs": [
    {
     "data": {
      "text/plain": [
       "[2, -7, 4, 5, 6, 1, -10, 3]"
      ]
     },
     "execution_count": 49,
     "metadata": {},
     "output_type": "execute_result"
    }
   ],
   "source": [
    "input_list = [2.5 , -7.7 , 4 , 5 , 6.245 , 1 , -10.6542 , 3]\n",
    "\n",
    "ans = list( map( int  , input_list ) )\n",
    "ans\n"
   ]
  },
  {
   "cell_type": "code",
   "execution_count": null,
   "id": "6a509888",
   "metadata": {},
   "outputs": [],
   "source": []
  },
  {
   "cell_type": "code",
   "execution_count": 50,
   "id": "d6865bd3",
   "metadata": {},
   "outputs": [
    {
     "data": {
      "text/plain": [
       "['APPLE', 'mango', 'PINEAPPLE', 'CUSTARD APPLE', 'grapes', 'kiwi', 'cherry']"
      ]
     },
     "execution_count": 50,
     "metadata": {},
     "output_type": "execute_result"
    }
   ],
   "source": [
    "# given you a list of fruits name, if fruit is 'apple' then , \n",
    "# you have to convert that to UPPERCASE , else convert to LOWER format..\n",
    "\n",
    "fruits = [' apple   ' , 'ManGO   ',  \"  pineAPPLE \" , \"  custard AppLE\" , ' graPES ' , \"KiWi  \" , '  cherRy']\n",
    "ans = [ word.strip().upper() if \"apple\" in word.strip().lower() else  word.lower().strip() for word in fruits   ]\n",
    "ans"
   ]
  },
  {
   "cell_type": "code",
   "execution_count": 51,
   "id": "f2d05430",
   "metadata": {},
   "outputs": [
    {
     "data": {
      "text/plain": [
       "['APPLE', 'mango', 'PINEAPPLE', 'CUSTARD APPLE', 'grapes', 'kiwi', 'cherry']"
      ]
     },
     "execution_count": 51,
     "metadata": {},
     "output_type": "execute_result"
    }
   ],
   "source": [
    "fruit_fun_2 = lambda word : word.strip().upper() if \"apple\" in word.strip().lower() else  word.lower().strip()\n",
    "ans = list( map(  fruit_fun_2  , fruits) )\n",
    "ans"
   ]
  },
  {
   "cell_type": "code",
   "execution_count": 52,
   "id": "7204588d",
   "metadata": {},
   "outputs": [
    {
     "data": {
      "text/plain": [
       "[' apple   ',\n",
       " 'ManGO   ',\n",
       " '  pineAPPLE ',\n",
       " '  custard AppLE',\n",
       " ' graPES ',\n",
       " 'KiWi  ',\n",
       " '  cherRy']"
      ]
     },
     "execution_count": 52,
     "metadata": {},
     "output_type": "execute_result"
    }
   ],
   "source": [
    "fruit_fun_2 = lambda word : word.strip().upper() if \"apple\" in word.strip().lower() else  word.lower().strip()\n",
    "ans = list( filter(  fruit_fun_2  , fruits) )\n",
    "ans"
   ]
  },
  {
   "cell_type": "code",
   "execution_count": null,
   "id": "d142c648",
   "metadata": {},
   "outputs": [],
   "source": [
    "# word.strip().upper() - TRUE\n",
    "# word.lower().strip() - TRUE"
   ]
  },
  {
   "cell_type": "code",
   "execution_count": null,
   "id": "4209d4f8",
   "metadata": {},
   "outputs": [],
   "source": []
  },
  {
   "cell_type": "code",
   "execution_count": 4,
   "id": "a6efccbf",
   "metadata": {},
   "outputs": [
    {
     "data": {
      "text/plain": [
       "[2, 4, 6, 10]"
      ]
     },
     "execution_count": 4,
     "metadata": {},
     "output_type": "execute_result"
    }
   ],
   "source": [
    "\n",
    "input_list = [2 , 7 , 4 , 5 , 6 , 1 , 10 , 3]\n",
    "\n",
    "evod = lambda e : True if e%2 == 0 else False \n",
    "\n",
    "nl = list(filter(evod,input_list))\n",
    "\n",
    "nl"
   ]
  },
  {
   "cell_type": "code",
   "execution_count": 6,
   "id": "da3e6ae7",
   "metadata": {},
   "outputs": [
    {
     "data": {
      "text/plain": [
       "[' apple   ', '  pineAPPLE ', '  custard AppLE']"
      ]
     },
     "execution_count": 6,
     "metadata": {},
     "output_type": "execute_result"
    }
   ],
   "source": [
    "# given you a list of fruits name, you have to find the fruits that contain 'apple'?\n",
    "\n",
    "fruits = [' apple   ' , 'ManGO   ',  \"  pineAPPLE \" , \"  custard AppLE\" , ' graPES ' , \"KiWi  \" , '  cherRy']\n",
    "\n",
    "def one(f):\n",
    "    if 'apple' in f.lower().strip():\n",
    "        return f\n",
    "    \n",
    "answ = list(filter(one,fruits))\n",
    "answ\n",
    "    \n"
   ]
  },
  {
   "cell_type": "code",
   "execution_count": 9,
   "id": "46beecd4",
   "metadata": {},
   "outputs": [
    {
     "data": {
      "text/plain": [
       "[' apple   ', '  pineAPPLE ', '  custard AppLE']"
      ]
     },
     "execution_count": 9,
     "metadata": {},
     "output_type": "execute_result"
    }
   ],
   "source": [
    "fruits = [' apple   ' , 'ManGO   ',  \"  pineAPPLE \" , \"  custard AppLE\" , ' graPES ' , \"KiWi  \" , '  cherRy']\n",
    "\n",
    "two = lambda g : True if 'apple' in g.lower().strip() else False\n",
    "\n",
    "answer = list(filter(two,fruits))\n",
    "\n",
    "answer"
   ]
  },
  {
   "cell_type": "code",
   "execution_count": null,
   "id": "6e8d4203",
   "metadata": {},
   "outputs": [],
   "source": [
    "# given a list, find out the integer number from the list...\n",
    "\n",
    "#  listName = [ 40 , 25 , \"Delhi\" ,  [3.5 , True, 5, 'Pune', 10j , -7.7] , False ]   # def \n",
    "#  listName = [ 40 , 25 , \"Delhi\" ,  3.5 , True, 5, 'Pune', 10j , -7.7 , False ]  # lambda as single for loop"
   ]
  },
  {
   "cell_type": "code",
   "execution_count": 12,
   "id": "ed6699a9",
   "metadata": {},
   "outputs": [
    {
     "data": {
      "text/plain": [
       "[5]"
      ]
     },
     "execution_count": 12,
     "metadata": {},
     "output_type": "execute_result"
    }
   ],
   "source": [
    "listName = [ 40 , 25 , \"Delhi\" ,  [3.5 , True, 5, 'Pune', 10j , -7.7] , False ]\n",
    "\n",
    "res = []\n",
    "\n",
    "for i  in listName:\n",
    "    if isinstance(i,list):\n",
    "        for j in i:\n",
    "            if isinstance (j,int) == True and isinstance (j,bool) == False:\n",
    "                res.append(j)\n",
    "                \n",
    "    \n",
    "res\n",
    "    "
   ]
  },
  {
   "cell_type": "code",
   "execution_count": 14,
   "id": "74000ab1",
   "metadata": {},
   "outputs": [
    {
     "data": {
      "text/plain": [
       "[[3.5, True, 5, 'Pune', 10j, -7.7]]"
      ]
     },
     "execution_count": 14,
     "metadata": {},
     "output_type": "execute_result"
    }
   ],
   "source": [
    "def integar(x):\n",
    "    \n",
    "    if isinstance (x,list):\n",
    "        for j in x:\n",
    "            if isinstance(j,int) == True and isinstance(j,bool) == False:\n",
    "                return j\n",
    "            \n",
    "listName = [ 40 , 25 , \"Delhi\" ,  [3.5 , True, 5, 'Pune', 10j , -7.7] , False ]\n",
    "\n",
    "\n",
    "result = list(filter(integar,listName))\n",
    "result"
   ]
  },
  {
   "cell_type": "code",
   "execution_count": 18,
   "id": "899e79dc",
   "metadata": {},
   "outputs": [
    {
     "name": "stdout",
     "output_type": "stream",
     "text": [
      "[4, 49, 16, 25, 36, 1, 100, 9]\n",
      "[4, 49, 16, 25, 36, 1, 100, 9]\n"
     ]
    }
   ],
   "source": [
    "input_list = [2 , 7 , 4 , 5 , 6 , 1 , 10 , 3]\n",
    "\n",
    "def sq1(y):\n",
    "    \n",
    "    return y**2\n",
    "\n",
    "ult = list(map(sq1,input_list))\n",
    "\n",
    "print(ult)\n",
    "\n",
    "sq2 = lambda z : z**2\n",
    "\n",
    "ult_1 = list(map(sq2,input_list))\n",
    "\n",
    "print(ult_1)"
   ]
  },
  {
   "cell_type": "code",
   "execution_count": 21,
   "id": "5b3e06bf",
   "metadata": {},
   "outputs": [
    {
     "data": {
      "text/plain": [
       "[' APPLE   ',\n",
       " 'mango   ',\n",
       " '  PINEAPPLE ',\n",
       " '  CUSTARD APPLE',\n",
       " ' grapes ',\n",
       " 'kiwi  ',\n",
       " '  cherry']"
      ]
     },
     "execution_count": 21,
     "metadata": {},
     "output_type": "execute_result"
    }
   ],
   "source": [
    "# given you a list of fruits name, if fruit is 'apple' then , \n",
    "# you have to convert that to UPPERCASE , else convert to LOWER format..\n",
    "\n",
    "fruits = [' apple   ' , 'ManGO   ',  \"  pineAPPLE \" , \"  custard AppLE\" , ' graPES ' , \"KiWi  \" , '  cherRy']\n",
    "\n",
    "f_change = list(map(lambda f : f.upper() if 'apple' in f.lower().strip() else f.lower(),fruits))\n",
    "\n",
    "f_change"
   ]
  },
  {
   "cell_type": "code",
   "execution_count": null,
   "id": "78606fe5",
   "metadata": {},
   "outputs": [],
   "source": []
  },
  {
   "cell_type": "code",
   "execution_count": null,
   "id": "d9235835",
   "metadata": {},
   "outputs": [],
   "source": []
  }
 ],
 "metadata": {
  "kernelspec": {
   "display_name": "Python 3 (ipykernel)",
   "language": "python",
   "name": "python3"
  },
  "language_info": {
   "codemirror_mode": {
    "name": "ipython",
    "version": 3
   },
   "file_extension": ".py",
   "mimetype": "text/x-python",
   "name": "python",
   "nbconvert_exporter": "python",
   "pygments_lexer": "ipython3",
   "version": "3.12.4"
  }
 },
 "nbformat": 4,
 "nbformat_minor": 5
}
