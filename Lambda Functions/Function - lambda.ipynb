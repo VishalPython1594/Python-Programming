{
 "cells": [
  {
   "cell_type": "markdown",
   "id": "6019f7e9",
   "metadata": {},
   "source": [
    "# Functions\n",
    "\n",
    "- def\n",
    "- lambda\n",
    "\n",
    "\n",
    "- Save lines of code\n",
    "- prevent repetitive code\n",
    "- speeds up the process\n",
    "- memory is saved\n",
    "- modular approach\n",
    "- Updations is easier?\n",
    "- Debugging is easier\n",
    "- functions can also be called from one python file to another\n",
    "\n",
    "\n",
    "- lambda is a keyword that helps Python interpreter understand, you have started writing the function\n",
    "    these are the single line functions\n",
    "    "
   ]
  },
  {
   "cell_type": "markdown",
   "id": "cb7f7c88",
   "metadata": {},
   "source": [
    "**Syntax**\n",
    "\n",
    "#### For Def\n",
    "\n",
    "-- function creation --\n",
    "-- function declaration --\n",
    "\n",
    "def functionName(args) : # Formal Arguments\n",
    "    statement\n",
    "    statement\n",
    "    statement\n",
    "    statement\n",
    "    \n",
    "    return _______\n",
    "\n",
    "\n",
    "-- function Calling --\n",
    "functionName(args)   # Actual Arguments\n",
    "\n",
    "\n",
    "\n",
    "#### For lambda\n",
    "\n",
    "-- function creation --\n",
    "-- function declaration --\n",
    "functionName = lambda args : expression\n",
    "\n",
    "-- function Calling --\n",
    "functionName(args)   # Actual Arguments\n",
    "\n",
    "\n"
   ]
  },
  {
   "cell_type": "code",
   "execution_count": null,
   "id": "a4825ea6",
   "metadata": {},
   "outputs": [],
   "source": []
  },
  {
   "cell_type": "code",
   "execution_count": 1,
   "id": "892c7979",
   "metadata": {},
   "outputs": [],
   "source": [
    "# find if num is even or odd"
   ]
  },
  {
   "cell_type": "code",
   "execution_count": 2,
   "id": "56729f98",
   "metadata": {},
   "outputs": [
    {
     "name": "stdout",
     "output_type": "stream",
     "text": [
      "Even\n",
      "Odd\n",
      "<class 'function'>\n"
     ]
    }
   ],
   "source": [
    "def eo_1(x) : \n",
    "    if x%2 == 0 : return 'Even'\n",
    "    else : return \"Odd\"\n",
    "\n",
    "print( eo_1(10) )\n",
    "print( eo_1(1) )\n",
    "\n",
    "print( type(eo_1) )"
   ]
  },
  {
   "cell_type": "code",
   "execution_count": 4,
   "id": "d454eb82",
   "metadata": {},
   "outputs": [
    {
     "name": "stdout",
     "output_type": "stream",
     "text": [
      "Even\n",
      "Odd\n",
      "<class 'function'>\n"
     ]
    }
   ],
   "source": [
    "eo_2 = lambda x : \"Even\" if x%2 == 0 else \"Odd\"\n",
    "\n",
    "print( eo_2(10) )\n",
    "print( eo_2(1) )\n",
    "\n",
    "print( type(eo_2) )"
   ]
  },
  {
   "cell_type": "code",
   "execution_count": 3,
   "id": "fd7f8d03",
   "metadata": {},
   "outputs": [
    {
     "name": "stdout",
     "output_type": "stream",
     "text": [
      "Even\n"
     ]
    }
   ],
   "source": [
    "num = 12\n",
    "\n",
    "print( \"Even\" if num%2 == 0 else 'Odd' )\n"
   ]
  },
  {
   "cell_type": "code",
   "execution_count": null,
   "id": "0eba2508",
   "metadata": {},
   "outputs": [],
   "source": []
  },
  {
   "cell_type": "code",
   "execution_count": 6,
   "id": "d2a9653b",
   "metadata": {},
   "outputs": [
    {
     "name": "stdout",
     "output_type": "stream",
     "text": [
      "9\n",
      "25\n",
      "\n",
      "9\n",
      "25\n"
     ]
    }
   ],
   "source": [
    "# Find the square of the number ...\n",
    "\n",
    "def sq_1(x) : \n",
    "    return x ** 2\n",
    "\n",
    "print( sq_1(3) )\n",
    "print( sq_1(-5) )\n",
    "\n",
    "print()\n",
    "\n",
    "sq_2 = lambda x : x ** 2\n",
    "\n",
    "print( sq_2(3) )\n",
    "print( sq_2(-5) )\n"
   ]
  },
  {
   "cell_type": "code",
   "execution_count": 10,
   "id": "f901a9f1",
   "metadata": {},
   "outputs": [
    {
     "name": "stdout",
     "output_type": "stream",
     "text": [
      "care@company.com\n",
      "care@company.com\n"
     ]
    }
   ],
   "source": [
    "# find the email address from the message below : \n",
    "message = \"Dear User Your complaint have been registered. Kindly connect with us at below email care@company.com\"\n",
    "\n",
    "def extract_mail_1(message) : \n",
    "    return [word for word in message.split(\" \") if '@' in word][0]\n",
    "\n",
    "print( extract_mail_1(message) )\n",
    "\n",
    "extract_mail_2 = lambda message : [word for word in message.split(\" \") if '@' in word][0]\n",
    "print( extract_mail_2(message) )\n",
    "\n"
   ]
  },
  {
   "cell_type": "code",
   "execution_count": 11,
   "id": "cef0ba8b",
   "metadata": {},
   "outputs": [
    {
     "name": "stdout",
     "output_type": "stream",
     "text": [
      "['care@company.com']\n"
     ]
    }
   ],
   "source": [
    "def extract_mail_1(message) : \n",
    "    return [word for word in message.split(\" \") if '@' in word]\n",
    "\n",
    "print( extract_mail_1(message) )\n"
   ]
  },
  {
   "cell_type": "code",
   "execution_count": 4,
   "id": "e8ed42bb",
   "metadata": {},
   "outputs": [
    {
     "name": "stdout",
     "output_type": "stream",
     "text": [
      "['care@company.com']\n"
     ]
    }
   ],
   "source": [
    "message = \"Dear User Your complaint have been registered. Kindly connect with us at below email care@company.com\"\n",
    "\n",
    "email = lambda m : [m for m in message.split(' ') if '@' in m.lower().strip()]\n",
    "\n",
    "print(email(message))"
   ]
  },
  {
   "cell_type": "code",
   "execution_count": 17,
   "id": "ae33d321",
   "metadata": {},
   "outputs": [
    {
     "data": {
      "text/plain": [
       "'It is palindrome'"
      ]
     },
     "execution_count": 17,
     "metadata": {},
     "output_type": "execute_result"
    }
   ],
   "source": [
    "palin = lambda p : 'It is palindrome' if p[:] == p[::-1] else  'Not palindrome'\n",
    "                \n",
    "\n",
    "palin('madam')"
   ]
  },
  {
   "cell_type": "code",
   "execution_count": null,
   "id": "84a33b53",
   "metadata": {},
   "outputs": [],
   "source": []
  }
 ],
 "metadata": {
  "kernelspec": {
   "display_name": "Python 3 (ipykernel)",
   "language": "python",
   "name": "python3"
  },
  "language_info": {
   "codemirror_mode": {
    "name": "ipython",
    "version": 3
   },
   "file_extension": ".py",
   "mimetype": "text/x-python",
   "name": "python",
   "nbconvert_exporter": "python",
   "pygments_lexer": "ipython3",
   "version": "3.11.5"
  }
 },
 "nbformat": 4,
 "nbformat_minor": 5
}
