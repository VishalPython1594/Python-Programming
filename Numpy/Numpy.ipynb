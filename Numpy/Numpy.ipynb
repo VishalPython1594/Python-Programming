{
 "cells": [
  {
   "cell_type": "markdown",
   "id": "1b8216f1",
   "metadata": {},
   "source": [
    "## Numpy\n",
    "- Mathematics package\n",
    "- released in 1995 \n",
    "- random numbers, math package, arrays, Null values , matrix, linear algebra, datatypes check...........................\n"
   ]
  },
  {
   "cell_type": "code",
   "execution_count": 2,
   "id": "ca6ba2a4",
   "metadata": {},
   "outputs": [],
   "source": [
    "import numpy"
   ]
  },
  {
   "cell_type": "code",
   "execution_count": 74,
   "id": "90f94ee3",
   "metadata": {},
   "outputs": [],
   "source": [
    "# print( dir(numpy) )"
   ]
  },
  {
   "cell_type": "code",
   "execution_count": 11,
   "id": "df134f6a",
   "metadata": {},
   "outputs": [
    {
     "name": "stdout",
     "output_type": "stream",
     "text": [
      "Squareroot -> 7.0710678118654755\n",
      "Log -> 3.912023005428146\n",
      "Sin -> -0.26237485370392877\n",
      "****************************************\n",
      "Squareroot -> 7.0710678118654755\n",
      "Log -> 3.912023005428146\n",
      "Sin -> -0.26237485370392877\n"
     ]
    }
   ],
   "source": [
    "# basic math\n",
    "\n",
    "import math\n",
    "\n",
    "num = 50\n",
    "print( f\"Squareroot -> {math.sqrt(num)}\" )\n",
    "print( f\"Log -> {math.log(num)}\" )\n",
    "print( f\"Sin -> {math.sin(num)}\" )\n",
    "\n",
    "\n",
    "print(\"**\" * 20)\n",
    "\n",
    "import numpy\n",
    "\n",
    "num = 50\n",
    "print( f\"Squareroot -> {numpy.sqrt(num)}\" )\n",
    "print( f\"Log -> {numpy.log(num)}\" )\n",
    "print( f\"Sin -> {numpy.sin(num)}\" )\n"
   ]
  },
  {
   "cell_type": "code",
   "execution_count": 70,
   "id": "36db63a4",
   "metadata": {},
   "outputs": [
    {
     "name": "stdout",
     "output_type": "stream",
     "text": [
      "0.6504440120079112\n",
      "2\n",
      "[-5, -1, 7]\n",
      "****************************************\n",
      "0.6153913946575693\n",
      "2\n"
     ]
    }
   ],
   "source": [
    "# random \n",
    "\n",
    "import random\n",
    "\n",
    "print( random.random() )\n",
    "print( random.randint(1 , 10) )\n",
    "print( random.sample( (1 , 5 , 7 , 3 , 7 , 10 , -5 , -9 , -1) , 3 ) )\n",
    "\n",
    "print(\"**\" * 20)\n",
    "\n",
    "import numpy\n",
    "\n",
    "\n",
    "print( numpy.random.random() )\n",
    "print( numpy.random.randint(1 , 10) )\n",
    "# print( numpy.random.random_sample(  )\n",
    "\n"
   ]
  },
  {
   "cell_type": "code",
   "execution_count": 72,
   "id": "f7b125d4",
   "metadata": {},
   "outputs": [
    {
     "name": "stdout",
     "output_type": "stream",
     "text": [
      "10\n",
      "-9\n",
      "5.811865258054231\n",
      "2.0\n",
      "3.0\n",
      "18\n"
     ]
    }
   ],
   "source": [
    "# Stats\n",
    "\n",
    "import numpy \n",
    "\n",
    "listName = [1 , 5 , 7 , 3 , 7 , 10 , -5 , -9 , -1]\n",
    "\n",
    "print(  numpy.max(listName) )\n",
    "print(  numpy.min(listName) )\n",
    "print(  numpy.std(listName) )\n",
    "print(  numpy.mean(listName) )\n",
    "print(  numpy.median(listName) )\n",
    "print(  numpy.sum(listName) )\n"
   ]
  },
  {
   "cell_type": "code",
   "execution_count": 88,
   "id": "38b9c8d4",
   "metadata": {},
   "outputs": [
    {
     "name": "stdout",
     "output_type": "stream",
     "text": [
      "False\n"
     ]
    }
   ],
   "source": [
    "# Data Types\n",
    "\n",
    "import numpy\n",
    "\n",
    "print( False == numpy.bool_ ) "
   ]
  },
  {
   "cell_type": "code",
   "execution_count": 92,
   "id": "03b6e9f7",
   "metadata": {},
   "outputs": [
    {
     "data": {
      "text/plain": [
       "nan"
      ]
     },
     "execution_count": 92,
     "metadata": {},
     "output_type": "execute_result"
    }
   ],
   "source": [
    "numpy.nan "
   ]
  },
  {
   "cell_type": "code",
   "execution_count": null,
   "id": "40d85b70",
   "metadata": {},
   "outputs": [],
   "source": []
  },
  {
   "cell_type": "markdown",
   "id": "c7a226bf",
   "metadata": {},
   "source": [
    "# Numpy Arrays\n",
    "\n",
    "- collection of same datatypes\n",
    "- immutable\n",
    "- ordered\n"
   ]
  },
  {
   "cell_type": "code",
   "execution_count": 96,
   "id": "5db1addc",
   "metadata": {},
   "outputs": [
    {
     "name": "stdout",
     "output_type": "stream",
     "text": [
      "[10  6  7  6 -4]\n",
      "<class 'numpy.ndarray'>\n",
      "[10, 6, 7, 6, -4]\n",
      "<class 'list'>\n"
     ]
    }
   ],
   "source": [
    "import numpy\n",
    "\n",
    "arr = numpy.array( [10 , 6 , 7 , 6 , -4] )\n",
    "seq = [10 , 6 , 7 , 6 , -4]\n",
    "\n",
    "print( arr )\n",
    "print( type( arr ) )\n",
    "\n",
    "print( seq )\n",
    "print( type( seq ) )\n"
   ]
  },
  {
   "cell_type": "code",
   "execution_count": 101,
   "id": "eb20fef1",
   "metadata": {},
   "outputs": [
    {
     "name": "stdout",
     "output_type": "stream",
     "text": [
      "['6.44' '7j' '6' '-4' 'True' 'delhi']\n",
      "<class 'numpy.ndarray'>\n",
      "**********\n",
      "[ 6.44+0.j  0.  +7.j  6.  +0.j -4.  +0.j  1.  +0.j]\n",
      "<class 'numpy.ndarray'>\n",
      "**********\n",
      "[ 6.44  6.   -4.    1.  ]\n",
      "<class 'numpy.ndarray'>\n",
      "**********\n",
      "[ 6 -4  1]\n",
      "<class 'numpy.ndarray'>\n",
      "**********\n",
      "[ True]\n",
      "<class 'numpy.ndarray'>\n",
      "**********\n"
     ]
    }
   ],
   "source": [
    "# precedence order -> str, complex , float, inte, bool\n",
    "\n",
    "arr = numpy.array( [6.44 , 7j , 6 , -4, True, \"delhi\"] )\n",
    "\n",
    "print( arr )\n",
    "print( type( arr ) )\n",
    "\n",
    "print(\"*\" * 10)\n",
    "\n",
    "arr = numpy.array( [6.44 , 7j , 6 , -4, True] )\n",
    "print( arr )\n",
    "print( type( arr ) )\n",
    "\n",
    "print(\"*\" * 10)\n",
    "\n",
    "arr = numpy.array( [6.44 , 6 , -4, True] )\n",
    "print( arr )\n",
    "print( type( arr ) )\n",
    "\n",
    "print(\"*\" * 10)\n",
    "\n",
    "arr = numpy.array( [ 6 , -4, True] )\n",
    "print( arr )\n",
    "print( type( arr ) )\n",
    "\n",
    "print(\"*\" * 10)\n",
    "\n",
    "arr = numpy.array( [True] )\n",
    "print( arr )\n",
    "print( type( arr ) )\n",
    "\n",
    "print(\"*\" * 10)\n",
    "\n"
   ]
  },
  {
   "cell_type": "code",
   "execution_count": 11,
   "id": "fc04eb1b",
   "metadata": {},
   "outputs": [
    {
     "name": "stdout",
     "output_type": "stream",
     "text": [
      "[ True False]\n"
     ]
    }
   ],
   "source": [
    "import numpy\n",
    "\n",
    "arr = numpy.array( [True, False] )\n",
    "print(arr)\n",
    "\n"
   ]
  },
  {
   "cell_type": "code",
   "execution_count": null,
   "id": "89857e40",
   "metadata": {},
   "outputs": [],
   "source": []
  },
  {
   "cell_type": "code",
   "execution_count": null,
   "id": "72ff155e",
   "metadata": {},
   "outputs": [],
   "source": []
  },
  {
   "cell_type": "code",
   "execution_count": 102,
   "id": "afa2d106",
   "metadata": {},
   "outputs": [
    {
     "name": "stdout",
     "output_type": "stream",
     "text": [
      "[6.44, 7j, 6, -4, True, 'delhi']\n",
      "<class 'list'>\n"
     ]
    }
   ],
   "source": [
    "seq = [6.44 , 7j , 6 , -4, True, \"delhi\"] \n",
    "\n",
    "print( seq )\n",
    "print( type( seq ) )\n"
   ]
  },
  {
   "cell_type": "code",
   "execution_count": 12,
   "id": "be66f5d9",
   "metadata": {},
   "outputs": [
    {
     "name": "stdout",
     "output_type": "stream",
     "text": [
      "['7j' '-4']\n"
     ]
    }
   ],
   "source": [
    "a = numpy.array( [6.44 , 7j , 6 , -4, True, \"delhi\"] )\n",
    "\n",
    "print(a[1:5:2])"
   ]
  },
  {
   "cell_type": "code",
   "execution_count": 112,
   "id": "55e4ddea",
   "metadata": {},
   "outputs": [
    {
     "name": "stdout",
     "output_type": "stream",
     "text": [
      "['6.44' '7j' '6' '-4' 'True' 'delhi']\n",
      "<class 'numpy.ndarray'>\n",
      "6\n",
      "7j\n",
      "delhi\n",
      "['6.44' '7j' '6']\n",
      "['7j' '-4']\n",
      "False\n",
      "True\n"
     ]
    },
    {
     "name": "stderr",
     "output_type": "stream",
     "text": [
      "C:\\Users\\Nitish\\AppData\\Local\\Temp\\ipykernel_1696\\195438466.py:14: FutureWarning: elementwise comparison failed; returning scalar instead, but in the future will perform elementwise comparison\n",
      "  print( 100 in arr )\n"
     ]
    }
   ],
   "source": [
    "arr = numpy.array( [6.44 , 7j , 6 , -4, True, \"delhi\"] )\n",
    "\n",
    "print( arr )\n",
    "print( type( arr ) )\n",
    "print( len( arr ) )\n",
    "\n",
    "# Index\n",
    "print( arr[1] )\n",
    "print( arr[-1] )\n",
    "\n",
    "# Slice\n",
    "print( arr[0 : 3] )\n",
    "print( arr[1 : 5 : 2] )\n",
    "\n",
    "# membership\n",
    "print( 100 in arr )\n",
    "print( 'delhi' in arr )\n"
   ]
  },
  {
   "cell_type": "code",
   "execution_count": 109,
   "id": "1f6906dc",
   "metadata": {},
   "outputs": [
    {
     "name": "stdout",
     "output_type": "stream",
     "text": [
      "[3 9]\n"
     ]
    }
   ],
   "source": [
    "# no repeat. actual its array multuplications\n",
    "\n",
    "arr = numpy.array( [1 , 3] )\n",
    "print( arr * 3 )"
   ]
  },
  {
   "cell_type": "code",
   "execution_count": 110,
   "id": "09e37ef3",
   "metadata": {},
   "outputs": [
    {
     "name": "stdout",
     "output_type": "stream",
     "text": [
      "[ 5 15]\n"
     ]
    }
   ],
   "source": [
    "# no cocnat. actual its array sum\n",
    "\n",
    "a1 = numpy.array( [10, 20] )\n",
    "a2 = numpy.array( [-5, -5] )\n",
    "\n",
    "print( a1 + a2 )"
   ]
  },
  {
   "cell_type": "code",
   "execution_count": null,
   "id": "8e6e6b61",
   "metadata": {},
   "outputs": [],
   "source": []
  },
  {
   "cell_type": "code",
   "execution_count": 114,
   "id": "bad15be1",
   "metadata": {},
   "outputs": [
    {
     "name": "stdout",
     "output_type": "stream",
     "text": [
      "['T', '__abs__', '__add__', '__and__', '__array__', '__array_finalize__', '__array_function__', '__array_interface__', '__array_prepare__', '__array_priority__', '__array_struct__', '__array_ufunc__', '__array_wrap__', '__bool__', '__class__', '__class_getitem__', '__complex__', '__contains__', '__copy__', '__deepcopy__', '__delattr__', '__delitem__', '__dir__', '__divmod__', '__dlpack__', '__dlpack_device__', '__doc__', '__eq__', '__float__', '__floordiv__', '__format__', '__ge__', '__getattribute__', '__getitem__', '__getstate__', '__gt__', '__hash__', '__iadd__', '__iand__', '__ifloordiv__', '__ilshift__', '__imatmul__', '__imod__', '__imul__', '__index__', '__init__', '__init_subclass__', '__int__', '__invert__', '__ior__', '__ipow__', '__irshift__', '__isub__', '__iter__', '__itruediv__', '__ixor__', '__le__', '__len__', '__lshift__', '__lt__', '__matmul__', '__mod__', '__mul__', '__ne__', '__neg__', '__new__', '__or__', '__pos__', '__pow__', '__radd__', '__rand__', '__rdivmod__', '__reduce__', '__reduce_ex__', '__repr__', '__rfloordiv__', '__rlshift__', '__rmatmul__', '__rmod__', '__rmul__', '__ror__', '__rpow__', '__rrshift__', '__rshift__', '__rsub__', '__rtruediv__', '__rxor__', '__setattr__', '__setitem__', '__setstate__', '__sizeof__', '__str__', '__sub__', '__subclasshook__', '__truediv__', '__xor__', 'all', 'any', 'argmax', 'argmin', 'argpartition', 'argsort', 'astype', 'base', 'byteswap', 'choose', 'clip', 'compress', 'conj', 'conjugate', 'copy', 'ctypes', 'cumprod', 'cumsum', 'data', 'diagonal', 'dot', 'dtype', 'dump', 'dumps', 'fill', 'flags', 'flat', 'flatten', 'getfield', 'imag', 'item', 'itemset', 'itemsize', 'max', 'mean', 'min', 'nbytes', 'ndim', 'newbyteorder', 'nonzero', 'partition', 'prod', 'ptp', 'put', 'ravel', 'real', 'repeat', 'reshape', 'resize', 'round', 'searchsorted', 'setfield', 'setflags', 'shape', 'size', 'sort', 'squeeze', 'std', 'strides', 'sum', 'swapaxes', 'take', 'tobytes', 'tofile', 'tolist', 'tostring', 'trace', 'transpose', 'var', 'view']\n"
     ]
    }
   ],
   "source": [
    "print( dir(arr) )"
   ]
  },
  {
   "cell_type": "code",
   "execution_count": null,
   "id": "9d5800b4",
   "metadata": {},
   "outputs": [],
   "source": [
    "# "
   ]
  },
  {
   "cell_type": "code",
   "execution_count": null,
   "id": "e11794da",
   "metadata": {},
   "outputs": [],
   "source": [
    "# Array transpose, dot multiplications, determinant"
   ]
  },
  {
   "cell_type": "code",
   "execution_count": null,
   "id": "86275a8d",
   "metadata": {},
   "outputs": [],
   "source": []
  },
  {
   "cell_type": "code",
   "execution_count": 116,
   "id": "3d0b2e30",
   "metadata": {},
   "outputs": [
    {
     "data": {
      "text/plain": [
       "array([ 1.  ,  3.25,  5.5 ,  7.75, 10.  ])"
      ]
     },
     "execution_count": 116,
     "metadata": {},
     "output_type": "execute_result"
    }
   ],
   "source": [
    "numpy.linspace( 1 , 10, num = 5 )"
   ]
  },
  {
   "cell_type": "code",
   "execution_count": null,
   "id": "e80a576b",
   "metadata": {},
   "outputs": [],
   "source": []
  }
 ],
 "metadata": {
  "kernelspec": {
   "display_name": "Python 3 (ipykernel)",
   "language": "python",
   "name": "python3"
  },
  "language_info": {
   "codemirror_mode": {
    "name": "ipython",
    "version": 3
   },
   "file_extension": ".py",
   "mimetype": "text/x-python",
   "name": "python",
   "nbconvert_exporter": "python",
   "pygments_lexer": "ipython3",
   "version": "3.12.4"
  }
 },
 "nbformat": 4,
 "nbformat_minor": 5
}
