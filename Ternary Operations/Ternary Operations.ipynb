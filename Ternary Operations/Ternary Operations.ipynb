{
 "cells": [
  {
   "cell_type": "markdown",
   "id": "ec79e826",
   "metadata": {},
   "source": [
    "# Ternary Operations\n",
    "\n",
    "\n",
    "- Single line conditional statements\n",
    "- Dont use PRINT inside ternary operations....\n",
    "\n",
    "**syntax :  output_of_IF if EXPRESSION else output_of_ELSE**\n",
    "\n",
    "**syntax :  output_of_IF if EXPRESSION else (output_of_IF if EXPRESSION else output_of_ELSE)**\n",
    "\n",
    "**syntax :  output_of_IF if EXPRESSION else (......)**\n"
   ]
  },
  {
   "cell_type": "code",
   "execution_count": 6,
   "id": "c40f3e05",
   "metadata": {},
   "outputs": [
    {
     "name": "stdout",
     "output_type": "stream",
     "text": [
      "Odd\n",
      "Odd\n",
      "Odd\n"
     ]
    }
   ],
   "source": [
    "# weathers its even or odd...\n",
    "\n",
    "num = 1\n",
    "if num%2 == 0 : \n",
    "    print(\"Even\")\n",
    "else : \n",
    "    print(\"Odd\")\n",
    "\n",
    "\n",
    "if num%2 == 0 : print(\"Even\")\n",
    "else :     print(\"Odd\")\n",
    "\n",
    "ans =     \"Even\" if num%2 == 0 else \"Odd\"\n",
    "print(ans)"
   ]
  },
  {
   "cell_type": "code",
   "execution_count": 8,
   "id": "7fef5acf",
   "metadata": {},
   "outputs": [
    {
     "name": "stdout",
     "output_type": "stream",
     "text": [
      "Write Number --> 10\n",
      "Number -> 10 , Answer -> 100\n"
     ]
    }
   ],
   "source": [
    "# If number is negative, display its ABSOLUTE value, else show its SQUARE value\n",
    "\n",
    "# num = 5, display = 25\n",
    "# num = -5, display = 5\n",
    "\n",
    "\n",
    "num = int( input(\"Write Number --> \" ) )\n",
    "\n",
    "ans = -num if num < 0 else num ** 2\n",
    "print(f\"Number -> {num} , Answer -> {ans}\")\n",
    "\n",
    "\n",
    "# Use loop to repeat n times...."
   ]
  },
  {
   "cell_type": "code",
   "execution_count": null,
   "id": "b9fdada2",
   "metadata": {},
   "outputs": [],
   "source": []
  },
  {
   "cell_type": "code",
   "execution_count": 23,
   "id": "8ff1a72c",
   "metadata": {},
   "outputs": [
    {
     "name": "stdout",
     "output_type": "stream",
     "text": [
      "Number 2 is larger\n"
     ]
    }
   ],
   "source": [
    "# which  number is larger...\n",
    "\n",
    "num_1 = 100\n",
    "num_2 = 1000\n",
    "\n",
    "if num_1 > num_2 : \n",
    "    print(f\"Number 1 is larger\")\n",
    "elif num_2 > num_1 : \n",
    "    print(f\"Number 2 is larger\")\n",
    "else : \n",
    "    print(f\"Both are Equal\")\n"
   ]
  },
  {
   "cell_type": "code",
   "execution_count": 26,
   "id": "55a031d0",
   "metadata": {},
   "outputs": [
    {
     "name": "stdout",
     "output_type": "stream",
     "text": [
      "Both are Equal\n"
     ]
    }
   ],
   "source": [
    "num_1 = 10\n",
    "num_2 = 10\n",
    "\n",
    "ans = \"Number 1 is larger\" if num_1 > num_2 else (\"Number 2 is larger\" if num_2 > num_1 else \"Both are Equal\"   )\n",
    "print(ans)"
   ]
  },
  {
   "cell_type": "code",
   "execution_count": null,
   "id": "cd8ba8fd",
   "metadata": {},
   "outputs": [],
   "source": []
  },
  {
   "cell_type": "code",
   "execution_count": 31,
   "id": "d51a1f9e",
   "metadata": {},
   "outputs": [
    {
     "name": "stdout",
     "output_type": "stream",
     "text": [
      "Condition --> 0\n",
      "['blue', 'red'][0]\n",
      "blue\n"
     ]
    }
   ],
   "source": [
    "num_1 = 10\n",
    "num_2 = 100\n",
    "\n",
    "print(f\"Condition --> {1 if num_1 > num_2 else 0 }\")\n",
    "print(f\"['blue', 'red'][{1 if num_1 > num_2 else 0}]\")\n",
    "\n",
    "ans = ['blue', 'red'][1 if num_1 > num_2 else 0 ]  # List Index + Ternary => List Ternary\n",
    "print(ans)"
   ]
  },
  {
   "cell_type": "code",
   "execution_count": null,
   "id": "f2a213ac",
   "metadata": {},
   "outputs": [],
   "source": []
  },
  {
   "cell_type": "code",
   "execution_count": 41,
   "id": "4fcbb4a4",
   "metadata": {},
   "outputs": [
    {
     "name": "stdout",
     "output_type": "stream",
     "text": [
      "Ternary answer ->  0\n",
      "blue\n"
     ]
    }
   ],
   "source": [
    "num_1 = 100\n",
    "num_2 = 10\n",
    "\n",
    "print(\"Ternary answer -> \", 0 if num_1 > num_2 else ( 1 if num_2 > num_1 else 2))\n",
    "ans = ('blue', 'red' , 'yellow')[0 if num_1 > num_2 else ( 1 if num_2 > num_1 else 2) ] # Tuple Indexing : ()[] \n",
    "print(ans)"
   ]
  },
  {
   "cell_type": "code",
   "execution_count": null,
   "id": "c88f353d",
   "metadata": {},
   "outputs": [],
   "source": []
  },
  {
   "cell_type": "code",
   "execution_count": null,
   "id": "ed907338",
   "metadata": {},
   "outputs": [],
   "source": []
  },
  {
   "cell_type": "code",
   "execution_count": null,
   "id": "8634895b",
   "metadata": {},
   "outputs": [],
   "source": []
  },
  {
   "cell_type": "code",
   "execution_count": null,
   "id": "ae631774",
   "metadata": {},
   "outputs": [],
   "source": []
  },
  {
   "cell_type": "code",
   "execution_count": null,
   "id": "251c57b6",
   "metadata": {},
   "outputs": [],
   "source": []
  },
  {
   "cell_type": "code",
   "execution_count": null,
   "id": "9c8634e8",
   "metadata": {},
   "outputs": [],
   "source": []
  }
 ],
 "metadata": {
  "kernelspec": {
   "display_name": "Python 3 (ipykernel)",
   "language": "python",
   "name": "python3"
  },
  "language_info": {
   "codemirror_mode": {
    "name": "ipython",
    "version": 3
   },
   "file_extension": ".py",
   "mimetype": "text/x-python",
   "name": "python",
   "nbconvert_exporter": "python",
   "pygments_lexer": "ipython3",
   "version": "3.11.5"
  }
 },
 "nbformat": 4,
 "nbformat_minor": 5
}
