{
 "cells": [
  {
   "cell_type": "code",
   "execution_count": 11,
   "id": "ef175453",
   "metadata": {},
   "outputs": [
    {
     "name": "stdout",
     "output_type": "stream",
     "text": [
      "Write down the Word :    madam               \n",
      "Its a Palindrome\n"
     ]
    }
   ],
   "source": [
    "'''\n",
    "check if word is a palindrome or not\n",
    "\n",
    "left to right = right to left\n",
    "madam <==> madam : palindrome\n",
    "mAdam <==> madAm : not a palindrome\n",
    "'''\n",
    "\n",
    "word = input(\"Write down the Word :\").strip()\n",
    "\n",
    "if word[ : : 1] == word[ : : -1] : \n",
    "    print(\"Its a Palindrome\")\n",
    "else : \n",
    "    print(\"Its NOT a Palindrome\")\n"
   ]
  },
  {
   "cell_type": "code",
   "execution_count": 7,
   "id": "ff1e7e78",
   "metadata": {},
   "outputs": [
    {
     "data": {
      "text/plain": [
       "'kpPk'"
      ]
     },
     "execution_count": 7,
     "metadata": {},
     "output_type": "execute_result"
    }
   ],
   "source": [
    "w = \"kpPk\"\n",
    "w[ : : 1]"
   ]
  },
  {
   "cell_type": "code",
   "execution_count": 8,
   "id": "e6d6d75f",
   "metadata": {},
   "outputs": [
    {
     "data": {
      "text/plain": [
       "'kPpk'"
      ]
     },
     "execution_count": 8,
     "metadata": {},
     "output_type": "execute_result"
    }
   ],
   "source": [
    "w = \"kpPk\"\n",
    "w[ : : -1]"
   ]
  },
  {
   "cell_type": "code",
   "execution_count": null,
   "id": "8868fe87",
   "metadata": {},
   "outputs": [],
   "source": []
  },
  {
   "cell_type": "code",
   "execution_count": 17,
   "id": "a4e3029a",
   "metadata": {},
   "outputs": [
    {
     "name": "stdout",
     "output_type": "stream",
     "text": [
      "0  \n",
      "1  \n",
      "2 9\n",
      "3 8\n",
      "4 7\n",
      "5 m\n",
      "6 4\n",
      "7 5\n",
      "8 3\n",
      "9 2\n",
      "10 1\n",
      "11 a\n",
      "12 2\n",
      "13 3\n",
      "14 0\n",
      "15 +\n",
      "16 -\n",
      "17 *\n",
      "18 /\n",
      "19 !\n",
      "20 @\n",
      "21 d\n",
      "22 #\n",
      "23 $\n",
      "24 %\n",
      "25 a\n",
      "26 ^\n",
      "27 &\n",
      "28 *\n",
      "29 (\n",
      "30 )\n",
      "31 ]\n",
      "32 [\n",
      "33 ;\n",
      "34 '\n",
      "35 ;\n",
      "36 .\n",
      "37 m\n",
      "38 ,\n",
      "39 |\n",
      "40 '\n",
      "41 ]\n",
      "42  \n",
      "43  \n",
      "44  \n",
      "45  \n",
      "46  \n",
      "47  \n",
      "48  \n",
      "49  \n",
      "50  \n",
      "51  \n"
     ]
    }
   ],
   "source": [
    "\"\"\"\n",
    "check if word (ONLY LETTERS) is a palindrome or not\n",
    "\n",
    "left to right = right to left\n",
    "madam <==> madam : palindrome\n",
    "mAdam <==> madAm : not a palindrome\n",
    "\n",
    "word = \"  987m45321a230+-*/!@d#$%a^&*()][;';.m,|']          \"\n",
    "word = \"  987m45321A230+-*/!@d#$%a^&*()][;';.M,|']          \"\n",
    "\n",
    "\"\"\"\n",
    "\n",
    "\n",
    "\n",
    "word = \"  987m45321a230+-*/!@d#$%a^&*()][;';.m,|']          \"\n",
    "\n",
    "for pos in range( 0 , len(word) ) : \n",
    "    print(pos, word[pos])"
   ]
  },
  {
   "cell_type": "code",
   "execution_count": null,
   "id": "873f61d8",
   "metadata": {},
   "outputs": [],
   "source": []
  },
  {
   "cell_type": "code",
   "execution_count": 26,
   "id": "5b15acb2",
   "metadata": {},
   "outputs": [
    {
     "name": "stdout",
     "output_type": "stream",
     "text": [
      "new word :  mAdaM\n",
      "Its NOT a Palindrome\n"
     ]
    }
   ],
   "source": [
    "# word = \"  987m45321a230+-*/!@d#$%a^&*()][;';.m,|']          \"\n",
    "word = \"  987m45321A230+-*/!@d#$%a^&*()][;';.M,|']          \"\n",
    "\n",
    "new_word = \"\"\n",
    "for pos in range( 0 , len(word) ) : \n",
    "    if word[pos].isalpha() : \n",
    "        new_word = new_word + word[pos]\n",
    "#         print(pos, word[pos])\n",
    "#         print(new_word)\n",
    "#         print()\n",
    "print('new word : ', new_word)\n",
    "\n",
    "if new_word[ : : 1] == new_word[ : : -1] : \n",
    "    print(\"Its a Palindrome\")\n",
    "else : \n",
    "    print(\"Its NOT a Palindrome\")\n"
   ]
  },
  {
   "cell_type": "code",
   "execution_count": 9,
   "id": "ee34735c-e8df-4b2b-9939-63fb2b82de54",
   "metadata": {},
   "outputs": [
    {
     "name": "stdout",
     "output_type": "stream",
     "text": [
      "['Palindrome', 'Palindrome', 'Not Palindrome', 'Palindrome', 'Palindrome', 'Palindrome', 'Not Palindrome']\n"
     ]
    }
   ],
   "source": [
    "inputList = [\"madam\" , 15951 , False , \" 88588   \" , 'nOoN' , \"Ab11BA    \", \"zebra   \"]\n",
    "for idx, i in enumerate(inputList):\n",
    "    if str(i).lower().strip() == str(i)[::-1].lower().strip():\n",
    "        inputList[idx ]= 'Palindrome'\n",
    "    else:\n",
    "        inputList[idx] = 'Not Palindrome'\n",
    "print(inputList)\n",
    "    "
   ]
  },
  {
   "cell_type": "code",
   "execution_count": null,
   "id": "3e12d6c5",
   "metadata": {},
   "outputs": [],
   "source": [
    "# Find if words are in palindrome or not. it doesnot matter for now weather value in list is different datatype  :\n",
    "inputList = [\"madam\" , 15951 , False , \" 88588   \" , 'nOoN' , \"Ab11BA    \", \"zebra   \"]\n",
    " \n",
    "# Expected : \n",
    "\"madam\" => Palindrome\n",
    "15951  => Palindrome\n",
    "False  => Not Palindrome\n",
    "\" 88588   \"  => Palindrome\n",
    "'nOoN'  => Palindrome\n",
    "\"Ab11BA    \" => Palindrome\n",
    "\"zebra   \" => Not Palindrome"
   ]
  },
  {
   "cell_type": "code",
   "execution_count": null,
   "id": "8fdb6c2e",
   "metadata": {},
   "outputs": [],
   "source": []
  },
  {
   "cell_type": "code",
   "execution_count": null,
   "id": "fe16029a",
   "metadata": {},
   "outputs": [],
   "source": [
    "Played crosswords / Puzzles\n",
    "Given some question : HINT is Anagram\n",
    "\n",
    "Anargams\n",
    "silent and listen\n",
    "eat and ate\n",
    "pool and loop\n",
    "\n",
    "Not Anargams\n",
    "silent and listens\n",
    "eat and two\n",
    "pool and pooling\n",
    "\n",
    "\n",
    "# *****"
   ]
  },
  {
   "cell_type": "code",
   "execution_count": null,
   "id": "831d820c",
   "metadata": {},
   "outputs": [],
   "source": []
  },
  {
   "cell_type": "code",
   "execution_count": 31,
   "id": "1038df36",
   "metadata": {},
   "outputs": [
    {
     "name": "stdout",
     "output_type": "stream",
     "text": [
      "OTP :  5246\n"
     ]
    }
   ],
   "source": [
    "# find out the email from the message\n",
    "# find out the otp from the message\n",
    "\n",
    "message = \"We have shared an OTP 5246 on your mail abc@gmail.com too\"\n",
    "\n",
    "res = ''\n",
    "for char in message : \n",
    "    if char.isdigit() : \n",
    "#         print(char)\n",
    "        res = res + char\n",
    "    \n",
    "print(\"OTP : \", res)"
   ]
  },
  {
   "cell_type": "code",
   "execution_count": 36,
   "id": "2e3dfe87",
   "metadata": {},
   "outputs": [
    {
     "name": "stdout",
     "output_type": "stream",
     "text": [
      "['We', 'have', 'shared', 'an', 'OTP', '5246', 'on', 'your', 'mail', 'abc@gmail.com', 'too']\n",
      "5246\n"
     ]
    }
   ],
   "source": [
    "# find out the email from the message\n",
    "# find out the otp from the message\n",
    "\n",
    "message = \"We have shared an OTP 5246 on your mail abc@gmail.com too\"\n",
    "\n",
    "res = message.split(\" \")\n",
    "print(res)\n",
    "\n",
    "for element in res : \n",
    "    if element.isdigit() : \n",
    "        print(element)\n",
    "\n"
   ]
  },
  {
   "cell_type": "code",
   "execution_count": null,
   "id": "8199cddd",
   "metadata": {},
   "outputs": [],
   "source": []
  },
  {
   "cell_type": "code",
   "execution_count": 32,
   "id": "a6ba0e82",
   "metadata": {},
   "outputs": [
    {
     "name": "stdout",
     "output_type": "stream",
     "text": [
      "OTP :  52468547854785\n"
     ]
    }
   ],
   "source": [
    "# find out the email from the message\n",
    "# find out the otp from the message\n",
    "\n",
    "message = \"We have shared an OTP 5246 on your mail abc@gmail.com too and 8547854785\"\n",
    "\n",
    "res = ''\n",
    "for char in message : \n",
    "    if char.isdigit() : \n",
    "#         print(char)\n",
    "        res = res + char\n",
    "    \n",
    "print(\"OTP : \", res)"
   ]
  },
  {
   "cell_type": "code",
   "execution_count": 38,
   "id": "116d6830",
   "metadata": {},
   "outputs": [
    {
     "name": "stdout",
     "output_type": "stream",
     "text": [
      "['We', 'have', 'shared', 'an', 'OTP', '5246', 'on', 'your', 'mail', 'abc@gmail.com', 'too', 'and', '8547854785']\n",
      "5246\n",
      "8547854785\n",
      "Mobile Numbers :  8547854785\n"
     ]
    }
   ],
   "source": [
    "# Find the Mobile Number\n",
    "\n",
    "message = \"We have shared an OTP 5246 on your mail abc@gmail.com too and 8547854785\"\n",
    "\n",
    "res = message.split(\" \")\n",
    "print(res)\n",
    "\n",
    "for element in res : \n",
    "    if element.isdigit() : \n",
    "        print(element)\n",
    "\n",
    "        \n",
    "# Extract Mobile Number\n",
    "for element in res : \n",
    "    if element.isdigit() and ( len(element) == 10  ) : \n",
    "        print(\"Mobile Numbers : \", element)\n"
   ]
  },
  {
   "cell_type": "code",
   "execution_count": null,
   "id": "8edc7eff",
   "metadata": {},
   "outputs": [],
   "source": []
  },
  {
   "cell_type": "code",
   "execution_count": 40,
   "id": "58dcfbce",
   "metadata": {},
   "outputs": [
    {
     "name": "stdout",
     "output_type": "stream",
     "text": [
      "['We', 'have', 'shared', 'an', 'OTP', '5246', 'on', 'your', 'mail', 'abc@gmail.com', 'too', 'and', '8547854785', 'and', '9696969696', 'and', '011-26594671']\n",
      "['8547854785', '9696969696']\n"
     ]
    }
   ],
   "source": [
    "# Store all the mobile numbers\n",
    "message = \"We have shared an OTP 5246 on your mail abc@gmail.com too and 8547854785 and 9696969696 and 011-26594671\"\n",
    "\n",
    "phone_numbers = []\n",
    "res = message.split(\" \")\n",
    "print(res)\n",
    "\n",
    "# Extract Mobile Number\n",
    "for element in res : \n",
    "    if element.isdigit() and ( len(element) == 10  ) : \n",
    "#         print(\"Mobile Numbers : \", element)\n",
    "        phone_numbers.append(element)\n",
    "print(phone_numbers)"
   ]
  },
  {
   "cell_type": "code",
   "execution_count": null,
   "id": "dd3f66bd",
   "metadata": {},
   "outputs": [],
   "source": []
  },
  {
   "cell_type": "code",
   "execution_count": 44,
   "id": "5ff13d13",
   "metadata": {},
   "outputs": [
    {
     "name": "stdout",
     "output_type": "stream",
     "text": [
      "['We', 'have', 'shared', 'an', 'OTP', '5246', 'on', 'your', 'mail', 'abc@gmail.com', 'too', 'and', '8547854785', 'and', 'nitish@hotmail@com']\n",
      "Email :  abc@gmail.com\n",
      "Email :  nitish@hotmail@com\n",
      "-----------------------\n",
      "Email :  abc@gmail.com\n"
     ]
    }
   ],
   "source": [
    "# Find the Email address (step1)\n",
    "\n",
    "message = \"We have shared an OTP 5246 on your mail abc@gmail.com too and 8547854785 and nitish@hotmail@com\"\n",
    "\n",
    "res = message.split(\" \")\n",
    "print(res)\n",
    "\n",
    "for element in res : \n",
    "    if ( '@' in element )  : \n",
    "        print(\"Email : \", element)\n",
    "\n",
    "print(\"-----------------------\")\n",
    "        \n",
    "for element in res : \n",
    "    if ( '@' in element ) and ( element.count(\"@\") == 1 ) : \n",
    "        print(\"Email : \", element)\n"
   ]
  },
  {
   "cell_type": "code",
   "execution_count": 47,
   "id": "83bb1595",
   "metadata": {},
   "outputs": [
    {
     "name": "stdout",
     "output_type": "stream",
     "text": [
      "['We', 'have', 'shared', 'an', 'OTP', '5246', 'on', 'your', 'mail', 'abc@gmail.com', 'too', 'and', '8547854785', 'and', 'nitish@hotmail@com', 'and', 'ayush@yahoo.in']\n",
      "['abc@gmail.com', 'ayush@yahoo.in']\n"
     ]
    }
   ],
   "source": [
    "# Find the Email addresses (step1)\n",
    "\n",
    "message = \"We have shared an OTP 5246 on your mail abc@gmail.com too and 8547854785 and nitish@hotmail@com and ayush@yahoo.in\"\n",
    "\n",
    "res = message.split(\" \")\n",
    "print(res)\n",
    "\n",
    "emails = []\n",
    "for element in res : \n",
    "    if ( '@' in element ) and ( element.count(\"@\") == 1 ) : \n",
    "#         print(\"Email : \", element)\n",
    "        emails.append(element)\n",
    "print(emails)"
   ]
  },
  {
   "cell_type": "code",
   "execution_count": null,
   "id": "82b0316c",
   "metadata": {},
   "outputs": [],
   "source": []
  },
  {
   "cell_type": "code",
   "execution_count": null,
   "id": "f85a7777",
   "metadata": {},
   "outputs": [],
   "source": []
  },
  {
   "cell_type": "code",
   "execution_count": 16,
   "id": "9a79b231",
   "metadata": {},
   "outputs": [
    {
     "name": "stdout",
     "output_type": "stream",
     "text": [
      "totalProduct :  1 , i :  1 ... totalProduct * i -->  1\n",
      "totalProduct :  1 , i :  2 ... totalProduct * i -->  2\n",
      "totalProduct :  2 , i :  3 ... totalProduct * i -->  6\n",
      "totalProduct :  6 , i :  4 ... totalProduct * i -->  24\n",
      "totalProduct :  24 , i :  5 ... totalProduct * i -->  120\n"
     ]
    }
   ],
   "source": [
    "\"\"\"\n",
    "Q. Find the factorial of the number\n",
    "factorial of number is defined by the multiplication of numbers from 1 to number itself\n",
    "\n",
    "5! = 5 * 4 * 3 * 2 * 1\n",
    "5!  = 1 * 2 * 3 * 4 * 5\n",
    "\n",
    "0! = 1\n",
    "factorial of negative numbers does not exist\n",
    "\"\"\"\n",
    "\n",
    "number = 5\n",
    "totalProduct = 1 # fact\n",
    "for i in range(1 , number + 1) : \n",
    "     print( \"totalProduct : \" , totalProduct, \", i : \" ,  i , \"... totalProduct * i --> \", totalProduct*i)\n",
    "     totalProduct = totalProduct * i\n"
   ]
  },
  {
   "cell_type": "code",
   "execution_count": 17,
   "id": "00378e9d-5168-4854-9c60-42f94c7e7bd4",
   "metadata": {},
   "outputs": [],
   "source": [
    "def fact(n):\n",
    "\n",
    "    if n == 1:\n",
    "        return 1\n",
    "    else:\n",
    "        return n * fact(n-1)"
   ]
  },
  {
   "cell_type": "code",
   "execution_count": null,
   "id": "637ca20c-a0d5-412a-9cea-0e73795dc455",
   "metadata": {},
   "outputs": [],
   "source": []
  },
  {
   "cell_type": "code",
   "execution_count": 68,
   "id": "7058ee20",
   "metadata": {},
   "outputs": [
    {
     "name": "stdout",
     "output_type": "stream",
     "text": [
      "Factorial of 5 = 120\n"
     ]
    }
   ],
   "source": [
    "\"\"\"\n",
    "Q. Find the factorial of the number\n",
    "factorial of number is defined by the multiplication of numbers from 1 to number itself\n",
    "\n",
    "5! = 5 * 4 * 3 * 2 * 1\n",
    "5!  = 1 * 2 * 3 * 4 * 5\n",
    "\n",
    "0! = 1\n",
    "factorial of negative numbers does not exist\n",
    "\"\"\"\n",
    "\n",
    "number = 5\n",
    "totalProduct = 1\n",
    "for i in range(1 , number + 1) : \n",
    "    totalProduct = totalProduct * i #\n",
    "    \n",
    "print(f\"Factorial of {number} = {totalProduct}\")"
   ]
  },
  {
   "cell_type": "code",
   "execution_count": 71,
   "id": "ee132437",
   "metadata": {},
   "outputs": [
    {
     "name": "stdout",
     "output_type": "stream",
     "text": [
      "Write doen the number : 5\n",
      "Factorial of 5 = 120\n"
     ]
    }
   ],
   "source": [
    "\"\"\"\n",
    "Q. Find the factorial of the number\n",
    "factorial of number is defined by the multiplication of numbers from 1 to number itself\n",
    "\n",
    "5! = 5 * 4 * 3 * 2 * 1\n",
    "5!  = 1 * 2 * 3 * 4 * 5\n",
    "\n",
    "0! = 1\n",
    "factorial of negative numbers does not exist\n",
    "\"\"\"\n",
    "\n",
    "number = int( input(\"Write doen the number : \") )\n",
    "totalProduct = 1\n",
    "for i in range(1 , number + 1) : # 1 , 5 + 1 = 6\n",
    "    totalProduct = totalProduct * i \n",
    "    \n",
    "print(f\"Factorial of {number} = {totalProduct}\")"
   ]
  },
  {
   "cell_type": "code",
   "execution_count": 60,
   "id": "8ede48c1",
   "metadata": {},
   "outputs": [
    {
     "name": "stdout",
     "output_type": "stream",
     "text": [
      "1\n",
      "2\n",
      "3\n",
      "4\n",
      "5\n"
     ]
    }
   ],
   "source": [
    "for i in range(1 , number + 1 ) : \n",
    "    print(i)\n"
   ]
  },
  {
   "cell_type": "code",
   "execution_count": null,
   "id": "ad7801c4",
   "metadata": {},
   "outputs": [],
   "source": [
    "# Find factorial of all valid numbers  :\n",
    "inputList = [2 , -5 , 0 , 4 , 9 , -10 , 15, 0]\n",
    "# output = [... , \"Invalid\" , 1 , ..... , ...... , \"Invalid\" , ......, 1]\n"
   ]
  },
  {
   "cell_type": "code",
   "execution_count": null,
   "id": "3568e676",
   "metadata": {},
   "outputs": [],
   "source": []
  },
  {
   "cell_type": "code",
   "execution_count": 12,
   "id": "41f66022",
   "metadata": {},
   "outputs": [],
   "source": [
    "def fib(first, second, n):\n",
    "\n",
    "    k = 1\n",
    "    print(first, end= ' ')\n",
    "    print(second, end= ' ')\n",
    "    while True:\n",
    "        k = first + second\n",
    "\n",
    "        if k>n:\n",
    "            break\n",
    "\n",
    "        print(k, end= ' ')\n",
    "        \n",
    "        first = second\n",
    "        second = k\n",
    "        \n",
    "    \n",
    "        \n",
    "    "
   ]
  },
  {
   "cell_type": "code",
   "execution_count": 13,
   "id": "4fc44eee",
   "metadata": {},
   "outputs": [
    {
     "name": "stdout",
     "output_type": "stream",
     "text": [
      "0 1 1 2 3 5 8 13 21 34 "
     ]
    }
   ],
   "source": [
    "fib(0,1,50)"
   ]
  },
  {
   "cell_type": "code",
   "execution_count": 14,
   "id": "f1394d16-2513-4665-900f-33574beee035",
   "metadata": {},
   "outputs": [],
   "source": [
    "def fib(n):\n",
    "\n",
    "    if n == 0:\n",
    "        return 0\n",
    "\n",
    "    if n == 1:\n",
    "        return 1\n",
    "\n",
    "    else:\n",
    "        return fib(n-1) + fib(n-2)"
   ]
  },
  {
   "cell_type": "code",
   "execution_count": 19,
   "id": "00d77b7f-94a3-4511-87a1-9ccb3557a80d",
   "metadata": {},
   "outputs": [
    {
     "name": "stdin",
     "output_type": "stream",
     "text": [
      "Enter the number:  5\n"
     ]
    },
    {
     "name": "stdout",
     "output_type": "stream",
     "text": [
      "The number at 6th position is --> 5\n"
     ]
    }
   ],
   "source": [
    "if __name__ == '__main__':\n",
    "    n = int(input('Enter the number: '))\n",
    "    print(f'The number at {n+1}th position is --> {fib(n)}')"
   ]
  },
  {
   "cell_type": "code",
   "execution_count": 78,
   "id": "fd7815e1",
   "metadata": {},
   "outputs": [
    {
     "name": "stdout",
     "output_type": "stream",
     "text": [
      ".. Start\n",
      "first ->  0 second ->  1\n",
      "Next Number 1\n",
      ".. End\n",
      "\n",
      ".. Start\n",
      "first ->  1 second ->  1\n",
      "Next Number 2\n",
      ".. End\n",
      "\n",
      ".. Start\n",
      "first ->  1 second ->  2\n",
      "Next Number 3\n",
      ".. End\n",
      "\n",
      ".. Start\n",
      "first ->  2 second ->  3\n",
      "Next Number 5\n",
      ".. End\n",
      "\n",
      ".. Start\n",
      "first ->  3 second ->  5\n",
      "Next Number 8\n",
      ".. End\n",
      "\n",
      ".. Start\n",
      "first ->  5 second ->  8\n",
      "Next Number 13\n",
      ".. End\n",
      "\n",
      ".. Start\n",
      "first ->  8 second ->  13\n",
      "Next Number 21\n",
      ".. End\n",
      "\n",
      ".. Start\n",
      "first ->  13 second ->  21\n",
      "Next Number 34\n",
      ".. End\n",
      "\n",
      ".. Start\n",
      "first ->  21 second ->  34\n",
      "Next Number 55\n",
      ".. End\n",
      "\n",
      ".. Start\n",
      "first ->  34 second ->  55\n",
      "Next Number 89\n",
      ".. End\n",
      "\n"
     ]
    }
   ],
   "source": [
    "'''\n",
    "Q. Create a fibanocci series starting with first 2 values and then limit is 10\n",
    "first = 1, you will take it as 0\n",
    "second = 2, you will take it as 1\n",
    "given 2 numbers, next number will be sum of previous number\n",
    "\n",
    "first , second, third\n",
    "1    ,    2 ,     1 + 2 = 3\n",
    "2 ,      3        , 2 + 3 = 5\n",
    "3 ,      5        , 3 + 5 = 8\n",
    ".\n",
    ".\n",
    ".\n",
    ".\n",
    "'''\n",
    "\n",
    "first = 0\n",
    "second = 1\n",
    "for i in range(10) : # 0 ... 9\n",
    "    print(\".. Start\")\n",
    "    print(\"first -> \", first , \"second -> \", second)\n",
    "    third = first + second\n",
    "    print(\"Next Number\" , third)\n",
    "    first = second\n",
    "    second = third\n",
    "    print(\".. End\")\n",
    "    print()\n",
    "\n",
    "# Neext Question : Take any 2 values from the user???"
   ]
  },
  {
   "cell_type": "code",
   "execution_count": 80,
   "id": "07ddc0bb",
   "metadata": {},
   "outputs": [
    {
     "name": "stdout",
     "output_type": "stream",
     "text": [
      "13\n",
      "15\n",
      "28\n",
      "43\n",
      "71\n",
      "114\n",
      "185\n",
      "299\n",
      "484\n",
      "783\n"
     ]
    }
   ],
   "source": [
    "# Neext Question : Take any 2 values from the user???\n",
    "first = 11\n",
    "second = 2\n",
    "for i in range(10) : # 0 ... 9\n",
    "    third = first + second\n",
    "    first = second\n",
    "    second = third\n",
    "    print(third)\n",
    "\n"
   ]
  },
  {
   "cell_type": "code",
   "execution_count": 53,
   "id": "4b26fbb1",
   "metadata": {},
   "outputs": [
    {
     "name": "stdout",
     "output_type": "stream",
     "text": [
      "Even\n"
     ]
    }
   ],
   "source": [
    "# Q. Find if number is even or odd\n",
    "# 20 => even , 3 => odd\n",
    "# if remainder is 0 on dividing the number by 2\n",
    "\n",
    "num = 10\n",
    "if num % 2 == 0 : print(\"Even\")\n",
    "else : print(\"Odd\")\n"
   ]
  },
  {
   "cell_type": "code",
   "execution_count": 50,
   "id": "2937f5b2",
   "metadata": {},
   "outputs": [
    {
     "data": {
      "text/plain": [
       "1"
      ]
     },
     "execution_count": 50,
     "metadata": {},
     "output_type": "execute_result"
    }
   ],
   "source": [
    "11%2"
   ]
  },
  {
   "cell_type": "code",
   "execution_count": 102,
   "id": "ca52c3a8",
   "metadata": {},
   "outputs": [
    {
     "name": "stdout",
     "output_type": "stream",
     "text": [
      "4\n"
     ]
    }
   ],
   "source": [
    "# If number if negative then STOP the PROGRAM, else show the SQUARE OF NUMBER  :\n",
    "\n",
    "inputList = [2 , -5 , 0 , 4 , 9 , -10 , 15, 0]\n",
    "\n",
    "for element in inputList : \n",
    "    if element < 0 : \n",
    "        break\n",
    "        print(\"........................\")\n",
    "    else : \n",
    "        print(element ** 2)\n"
   ]
  },
  {
   "cell_type": "code",
   "execution_count": 103,
   "id": "0b50bce9",
   "metadata": {},
   "outputs": [
    {
     "name": "stdout",
     "output_type": "stream",
     "text": [
      "4\n",
      "0\n",
      "16\n",
      "81\n",
      "225\n",
      "0\n"
     ]
    }
   ],
   "source": [
    "# If number if negative then SKIP that NUMBER, else show the SQUARE OF NUMBER  :\n",
    "\n",
    "inputList = [2 , -5 , 0 , 4 , 9 , -10 , 15, 0]\n",
    "\n",
    "for element in inputList : \n",
    "    if element < 0 : \n",
    "        continue\n",
    "        print(\"........................\")\n",
    "    else : \n",
    "        print(element ** 2)\n"
   ]
  },
  {
   "cell_type": "code",
   "execution_count": null,
   "id": "95a1c17f",
   "metadata": {},
   "outputs": [],
   "source": []
  },
  {
   "cell_type": "code",
   "execution_count": null,
   "id": "551db233",
   "metadata": {},
   "outputs": [],
   "source": []
  },
  {
   "cell_type": "code",
   "execution_count": null,
   "id": "d301aa00",
   "metadata": {},
   "outputs": [],
   "source": [
    "'''\n",
    "Q. Find if number is prime or not\n",
    "any number that has divisiors more than 1 and number itself\n",
    " 2 3 5 7 11 13 17 19 23 .... they have divisors as 1 and number itself : PRIME Numbers\n",
    " 6, 8 , 20 , 25 , 50 , 33 , 16 .... they have divisors more than as 1 and number itself : Not PRIME Numbers\n",
    "'''\n"
   ]
  },
  {
   "cell_type": "code",
   "execution_count": 104,
   "id": "97d19b65",
   "metadata": {},
   "outputs": [
    {
     "name": "stdout",
     "output_type": "stream",
     "text": [
      "Not divisble by :  2\n",
      "Divisible by --->  3 ..................\n",
      "Not divisble by :  4\n",
      "Divisible by --->  5 ..................\n",
      "Not divisble by :  6\n",
      "Not divisble by :  7\n",
      "Not divisble by :  8\n",
      "Not divisble by :  9\n",
      "Not divisble by :  10\n",
      "Not divisble by :  11\n",
      "Not divisble by :  12\n",
      "Not divisble by :  13\n",
      "Not divisble by :  14\n"
     ]
    }
   ],
   "source": [
    "num = 15\n",
    "\n",
    "for divisor in range(2 , num ):\n",
    "    if num % divisor == 0 : # NOT PRIME\n",
    "        print(\"Divisible by ---> \", divisor, \"..................\")\n",
    "    else : # PRIME\n",
    "        print(\"Not divisble by : \", divisor)  \n",
    "\n"
   ]
  },
  {
   "cell_type": "code",
   "execution_count": 105,
   "id": "352bd444",
   "metadata": {},
   "outputs": [
    {
     "name": "stdout",
     "output_type": "stream",
     "text": [
      "Not divisble by :  2\n",
      "Divisible by --->  3 ..................\n"
     ]
    }
   ],
   "source": [
    "num = 15\n",
    "\n",
    "for divisor in range(2 , num ):\n",
    "    if num % divisor == 0 : # NOT PRIME\n",
    "        print(\"Divisible by ---> \", divisor, \"..................\")\n",
    "        break\n",
    "    else : # PRIME\n",
    "        print(\"Not divisble by : \", divisor)  \n",
    "\n"
   ]
  },
  {
   "cell_type": "code",
   "execution_count": 108,
   "id": "d9b722b1",
   "metadata": {},
   "outputs": [
    {
     "name": "stdout",
     "output_type": "stream",
     "text": [
      "Its A Prime Number\n",
      "Its A Prime Number\n",
      "Its A Prime Number\n",
      "Its A Prime Number\n",
      "Its A Prime Number\n",
      "Its A Prime Number\n",
      "Its A Prime Number\n",
      "Its A Prime Number\n",
      "Its A Prime Number\n"
     ]
    }
   ],
   "source": [
    "num = 11\n",
    "\n",
    "for divisor in range(2 , num ):\n",
    "    if num % divisor == 0 : # NOT PRIME\n",
    "        print(\"Its not a PRIME NUMBER\")\n",
    "        break\n",
    "    else : # PRIME\n",
    "        print(\"Its A Prime Number\")  \n",
    "\n"
   ]
  },
  {
   "cell_type": "code",
   "execution_count": 107,
   "id": "dac51c48",
   "metadata": {},
   "outputs": [
    {
     "name": "stdout",
     "output_type": "stream",
     "text": [
      "Its A Prime Number\n",
      "Its not a PRIME NUMBER\n"
     ]
    }
   ],
   "source": [
    "num = 15\n",
    "\n",
    "for divisor in range(2 , num ):\n",
    "    if num % divisor == 0 : # NOT PRIME\n",
    "        print(\"Its not a PRIME NUMBER\")\n",
    "        break\n",
    "    else : # PRIME\n",
    "        print(\"Its A Prime Number\")  \n",
    "\n"
   ]
  },
  {
   "cell_type": "code",
   "execution_count": null,
   "id": "e58af601",
   "metadata": {},
   "outputs": [],
   "source": []
  },
  {
   "cell_type": "code",
   "execution_count": 115,
   "id": "3622f9c8",
   "metadata": {},
   "outputs": [
    {
     "name": "stdout",
     "output_type": "stream",
     "text": [
      "15 is NOT PRIME\n"
     ]
    }
   ],
   "source": [
    "num = 15\n",
    "\n",
    "# Assign a value of BOOLEAN, depending on our logic\n",
    "f = True  # I am ASSUMINBG That number is PRIME \n",
    "\n",
    "for divisor in range(2 , int( num / 2 )  ):\n",
    "    if num % divisor == 0 : # NOT PRIME\n",
    "        f = False\n",
    "        break\n",
    "    else : # PRIME\n",
    "        f = True\n",
    "\n",
    "\n",
    "if f : print(f'{num} is PRIME')\n",
    "else : print(f'{num} is NOT PRIME')"
   ]
  },
  {
   "cell_type": "code",
   "execution_count": null,
   "id": "d4579631",
   "metadata": {},
   "outputs": [],
   "source": []
  },
  {
   "cell_type": "code",
   "execution_count": null,
   "id": "abc3b5da",
   "metadata": {},
   "outputs": [],
   "source": []
  },
  {
   "cell_type": "code",
   "execution_count": null,
   "id": "e1134452",
   "metadata": {},
   "outputs": [],
   "source": []
  },
  {
   "cell_type": "code",
   "execution_count": null,
   "id": "3f19e86e",
   "metadata": {},
   "outputs": [],
   "source": []
  }
 ],
 "metadata": {
  "kernelspec": {
   "display_name": "Python 3 (ipykernel)",
   "language": "python",
   "name": "python3"
  },
  "language_info": {
   "codemirror_mode": {
    "name": "ipython",
    "version": 3
   },
   "file_extension": ".py",
   "mimetype": "text/x-python",
   "name": "python",
   "nbconvert_exporter": "python",
   "pygments_lexer": "ipython3",
   "version": "3.12.4"
  }
 },
 "nbformat": 4,
 "nbformat_minor": 5
}
