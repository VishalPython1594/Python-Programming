{
 "cells": [
  {
   "cell_type": "code",
   "execution_count": 7,
   "id": "ca14a41f",
   "metadata": {},
   "outputs": [
    {
     "data": {
      "text/plain": [
       "[2, 11, 14, 26, 40, 46, 64]"
      ]
     },
     "execution_count": 7,
     "metadata": {},
     "output_type": "execute_result"
    }
   ],
   "source": [
    "# Find all the positions of t ???\n",
    "\n",
    "positions = []\n",
    "my_str = \"Although 8 that way may not be obvious at first unless you're Dutch\"\n",
    "\n",
    "# for char in my_str : \n",
    "#     if char == \"t\" : positions.append(char)\n",
    "\n",
    "        \n",
    "for pos in range(0, len(my_str)) : \n",
    "    if my_str[pos] == \"t\" : positions.append(pos)\n",
    "                \n",
    "\n",
    "positions"
   ]
  },
  {
   "cell_type": "code",
   "execution_count": 4,
   "id": "f2149427",
   "metadata": {},
   "outputs": [
    {
     "name": "stdout",
     "output_type": "stream",
     "text": [
      "['that']\n",
      "['though', 'that', 't', 't', 't', 'tch']\n"
     ]
    }
   ],
   "source": [
    "# Homework...\n",
    "# Q. Find all the words that start with \"t\" ? \n",
    "# output : ['that']\n",
    "\n",
    "# Q. find all the patterns that start with \"t\" and end with \" \"\n",
    "# input : Although 8 that way may not be obvious at first unless you're Dutch\n",
    "# Output: [\"though\", \"that\", \"t\", \"t\", \"t\", \"tch\"]\n",
    "\n",
    "\n",
    "my_str = \"Although 8 that way may not be obvious at first unless you're Dutch\"\n",
    "\n",
    "import regex as re\n",
    "\n",
    "print(re.findall(r'\\b[t]\\w{1,}',my_str))\n",
    "\n",
    "print(re.findall(r'[t]\\w{0,}',my_str))\n",
    "\n"
   ]
  },
  {
   "cell_type": "code",
   "execution_count": 7,
   "id": "d918f9f0",
   "metadata": {},
   "outputs": [],
   "source": [
    "# finding unique values inside the sequence Without using SETS\n",
    "\n",
    "list_1 = [72, 'python' , \"JAVA\" , False, 72 ,(8 , -9), 3.5 , 4j, 72, 'python']\n"
   ]
  },
  {
   "cell_type": "code",
   "execution_count": 8,
   "id": "38e46d09",
   "metadata": {},
   "outputs": [
    {
     "name": "stdout",
     "output_type": "stream",
     "text": [
      "[72, 'python', 'JAVA', False, (8, -9), 3.5, 4j]\n"
     ]
    }
   ],
   "source": [
    "list_2 = []\n",
    "for i in list_1:\n",
    "    if i not in list_2:\n",
    "        list_2.append(i)\n",
    "print(list_2)"
   ]
  },
  {
   "cell_type": "code",
   "execution_count": null,
   "id": "22d620f1",
   "metadata": {},
   "outputs": [],
   "source": []
  },
  {
   "cell_type": "code",
   "execution_count": null,
   "id": "39b779a5",
   "metadata": {},
   "outputs": [],
   "source": []
  },
  {
   "cell_type": "code",
   "execution_count": null,
   "id": "c9e00bcf",
   "metadata": {},
   "outputs": [],
   "source": []
  },
  {
   "cell_type": "code",
   "execution_count": null,
   "id": "3427eac1",
   "metadata": {},
   "outputs": [],
   "source": []
  }
 ],
 "metadata": {
  "kernelspec": {
   "display_name": "Python 3 (ipykernel)",
   "language": "python",
   "name": "python3"
  },
  "language_info": {
   "codemirror_mode": {
    "name": "ipython",
    "version": 3
   },
   "file_extension": ".py",
   "mimetype": "text/x-python",
   "name": "python",
   "nbconvert_exporter": "python",
   "pygments_lexer": "ipython3",
   "version": "3.12.4"
  }
 },
 "nbformat": 4,
 "nbformat_minor": 5
}
