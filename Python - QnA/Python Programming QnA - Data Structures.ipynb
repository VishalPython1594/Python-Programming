{
 "cells": [
  {
   "cell_type": "code",
   "execution_count": 7,
   "id": "89080de1",
   "metadata": {},
   "outputs": [
    {
     "data": {
      "text/plain": [
       "[2, 11, 14, 26, 40, 46, 64]"
      ]
     },
     "execution_count": 7,
     "metadata": {},
     "output_type": "execute_result"
    }
   ],
   "source": [
    "# Find all the positions of t ???\n",
    "\n",
    "positions = []\n",
    "my_str = \"Although 8 that way may not be obvious at first unless you're Dutch\"\n",
    "\n",
    "for i in range (0,len(my_str)):\n",
    "    if my_str[i]=='t':\n",
    "        positions.append(i)\n",
    "        \n",
    "positions\n",
    "    "
   ]
  },
  {
   "cell_type": "code",
   "execution_count": 8,
   "id": "d3cb9f33",
   "metadata": {},
   "outputs": [
    {
     "data": {
      "text/plain": [
       "['that']"
      ]
     },
     "execution_count": 8,
     "metadata": {},
     "output_type": "execute_result"
    }
   ],
   "source": [
    "# Q. Find all the words that start with \"t\" ? \n",
    "# output : ['that']\n",
    "\n",
    "my_str = \"Although 8 that way may not be obvious at first unless you're Dutch\"\n",
    "positions = []\n",
    "\n",
    "mod = my_str.split(' ')\n",
    "\n",
    "for i in mod:\n",
    "    if i[0]=='t':\n",
    "        positions.append(i)\n",
    "        \n",
    "positions"
   ]
  },
  {
   "cell_type": "code",
   "execution_count": 1,
   "id": "a900a6a9",
   "metadata": {},
   "outputs": [
    {
     "data": {
      "text/plain": [
       "['though', 'that', 't', 't', 't', 'tch']"
      ]
     },
     "execution_count": 1,
     "metadata": {},
     "output_type": "execute_result"
    }
   ],
   "source": [
    "# Q. find all the patterns that start with \"t\" and end with \" \"\n",
    "# input : Although 8 that way may not be obvious at first unless you're Dutch\n",
    "# Output: [\"though\", \"that\", \"t\", \"t\", \"t\", \"tch\"]\n",
    "\n",
    "my_str = \"Although 8 that way may not be obvious at first unless you're Dutch\"\n",
    "\n",
    "import regex as re\n",
    "\n",
    "re.findall(r'[t]\\w{0,}', my_str)\n",
    "    \n",
    "\n"
   ]
  },
  {
   "cell_type": "code",
   "execution_count": 20,
   "id": "668dc6e5",
   "metadata": {},
   "outputs": [
    {
     "name": "stdout",
     "output_type": "stream",
     "text": [
      "[(2, 4), (-5, 25), (0, 0), (4, 16), (9, 81), (-10, 100), (15, 225), (0, 0)]\n",
      "output is: --> ((2, 4), (-5, 25), (0, 0), (4, 16), (9, 81), (-10, 100), (15, 225), (0, 0))\n",
      "{2: 4, -5: 25, 0: 0, 4: 16, 9: 81, -10: 100, 15: 225}\n"
     ]
    }
   ],
   "source": [
    "# Given a sequence, you have to find the square of the number. \n",
    "# you have to save the number and iits square as tuple format inside the list\n",
    "inputList = [2 , -5 , 0 , 4 , 9 , -10 , 15, 0]\n",
    "\n",
    "# output -> [(2, 4) , (-5, 25) , (0 , 0 ) , (4 , 16) ....   (0 , 0)]# list comprehension\n",
    "\n",
    "op = [(i,i**2) for i in inputList]\n",
    "print(op)\n",
    "\n",
    "output = tuple(op)\n",
    "print('output is: -->',output)\n",
    "\n",
    "d = {i:i**2 for i in inputList}\n",
    "print(d)"
   ]
  },
  {
   "cell_type": "code",
   "execution_count": null,
   "id": "c7d2a833-896e-476a-a50d-23124b3c5cf6",
   "metadata": {},
   "outputs": [],
   "source": []
  },
  {
   "cell_type": "code",
   "execution_count": 8,
   "id": "6c38e0c2",
   "metadata": {},
   "outputs": [
    {
     "name": "stdout",
     "output_type": "stream",
     "text": [
      "[(2, 2), (-5, 'Not Applicable'), (0, 1), (4, 24), (9, 362880), (-10, 'Not Applicable'), (15, 1307674368000), (0, 1)]\n"
     ]
    }
   ],
   "source": [
    "# Given a sequence, you have to find the factorial of the number. \n",
    "# you have to save the number and iits Answer as tuple format inside the list\n",
    "# output : [ (2 , 2) , (-5 , 'Not applicable') , (0 , 1) , (4 , 24) , ..........(0 , 1) ] # list comprehension\n",
    "import math\n",
    "inputList = [2 , -5 , 0 , 4 , 9 , -10 , 15, 0]\n",
    "c = 1\n",
    "\n",
    "op = [(0,1) if i == 0 else (i,'Not Applicable') if i<0 else(i, math.prod(range(1,i+1))) for i in inputList  ]\n",
    "\n",
    "print(op)\n"
   ]
  },
  {
   "cell_type": "code",
   "execution_count": null,
   "id": "fb5dba94-adfe-40c6-862f-bde6e2831d80",
   "metadata": {},
   "outputs": [],
   "source": []
  },
  {
   "cell_type": "code",
   "execution_count": 50,
   "id": "67a1a759",
   "metadata": {},
   "outputs": [
    {
     "name": "stdout",
     "output_type": "stream",
     "text": [
      "[2, 'Not Applicable', 1, 24, 362880, 'Not Applicable', 1307674368000, 1]\n",
      "[2, -5, 0, 4, 9, -10, 15, 0]\n",
      "************************************************************\n",
      "[(2, 2), (-5, 'Not Applicable'), (0, 1), (4, 24), (9, 362880), (-10, 'Not Applicable'), (15, 1307674368000), (0, 1)]\n",
      "************************************************************\n"
     ]
    }
   ],
   "source": [
    "inputList = [2 , -5 , 0 , 4 , 9 , -10 , 15, 0]\n",
    "\n",
    "op = []\n",
    "ult = []\n",
    "\n",
    "\n",
    "for i in inputList:\n",
    "    if i>0:\n",
    "        \n",
    "        c = 1\n",
    "        \n",
    "        for k in range(1,i+1):\n",
    "            \n",
    "            c*=k\n",
    "        \n",
    "        op.append(c)\n",
    "        \n",
    "    elif i==0:\n",
    "        c = 1\n",
    "        op.append(c)\n",
    "        \n",
    "    else:\n",
    "        c = 'Not Applicable'\n",
    "        op.append(c)\n",
    "\n",
    "print(op)\n",
    "print(inputList)\n",
    "\n",
    "print('**'*30)\n",
    "\n",
    "for i in range(0,len(inputList)):\n",
    "    res =( inputList[i],op[i])\n",
    "    ult.append(res)\n",
    "\n",
    "print(ult)\n",
    "\n",
    "print('**'*30)\n",
    "\n",
    "\n"
   ]
  },
  {
   "cell_type": "code",
   "execution_count": 21,
   "id": "1a62176c",
   "metadata": {},
   "outputs": [
    {
     "name": "stdout",
     "output_type": "stream",
     "text": [
      "[(4, 5), (2, 7)]\n"
     ]
    }
   ],
   "source": [
    "#Given an array and a target sum, find all pairs of numbers that add up to the target. \n",
    "#this is also hard...\n",
    "\n",
    "arr = [2, 7, 4, 5, 11, 15]\n",
    "target = 9\n",
    "res = []\n",
    "\n",
    "for i in range(0, len(arr)):\n",
    "    for j in range(1, len(arr) - 1):\n",
    "        if arr[i] +arr[j] == target:\n",
    "            res.append((arr[i], arr[j]))\n",
    "            \n",
    "for idx,pair in enumerate(res):\n",
    "    if pair[0] < pair[1]:\n",
    "        res[idx] = pair\n",
    "    else:\n",
    "        res[idx] = pair[::-1]\n",
    "        \n",
    "    \n",
    "res = list(set(res))\n",
    "print(res)\n",
    "    \n",
    "        \n",
    "    "
   ]
  },
  {
   "cell_type": "code",
   "execution_count": null,
   "id": "7f2269a9-aede-47bd-add7-db92ea69bc76",
   "metadata": {},
   "outputs": [],
   "source": []
  },
  {
   "cell_type": "code",
   "execution_count": null,
   "id": "b39ca04f-cd65-4218-af4c-bce4c27832d7",
   "metadata": {},
   "outputs": [],
   "source": []
  },
  {
   "cell_type": "code",
   "execution_count": 17,
   "id": "2f6536ef",
   "metadata": {},
   "outputs": [
    {
     "name": "stdout",
     "output_type": "stream",
     "text": [
      "{(7, 2), (4, 5), (5, 4), (2, 7)}\n"
     ]
    }
   ],
   "source": [
    "arr = [2, 7, 4, 5, 11, 15]\n",
    "\n",
    "k = 0\n",
    "r = set()\n",
    "\n",
    "while k<len(arr):\n",
    "    \n",
    "    \n",
    "    for i in range(0,len(arr)):\n",
    "        \n",
    "        if arr[k]+arr[i] ==9:\n",
    "            r.add((arr[k],arr[i]))\n",
    "    k+=1\n",
    "\n",
    "\n",
    "            \n",
    "print(r)  "
   ]
  },
  {
   "cell_type": "code",
   "execution_count": null,
   "id": "cff92546-2a56-4f02-96dc-fb7ed8394e73",
   "metadata": {},
   "outputs": [],
   "source": []
  },
  {
   "cell_type": "code",
   "execution_count": 26,
   "id": "791f14e9",
   "metadata": {},
   "outputs": [
    {
     "name": "stdout",
     "output_type": "stream",
     "text": [
      "[['listen', 'silent', 'enlist'], ['hello'], ['world'], ['dog', 'god']]\n"
     ]
    }
   ],
   "source": [
    "# Input list of words: ['listen', 'silent', 'enlist', 'hello', 'world', 'dog', 'god']\n",
    "# Anagram groups: [['listen', 'silent', 'enlist'], ['hello'], ['world'], ['dog', 'god']]\n",
    "\n",
    "inlis = ['listen', 'silent', 'enlist', 'hello', 'world', 'dog', 'god']\n",
    "anag = []\n",
    "\n",
    "for i in inlis:\n",
    "    found_flag = False\n",
    "    for j in anag:\n",
    "        if sorted(i) == sorted(j[0]):\n",
    "            found_flag = True\n",
    "            j.append(i)\n",
    "            break\n",
    "    if not found_flag:\n",
    "        anag.append([i])\n",
    "print(anag)\n",
    "        "
   ]
  },
  {
   "cell_type": "code",
   "execution_count": null,
   "id": "aa240b15-5feb-4a0d-96c7-01f517f45a69",
   "metadata": {},
   "outputs": [],
   "source": []
  },
  {
   "cell_type": "code",
   "execution_count": null,
   "id": "d7455708",
   "metadata": {},
   "outputs": [],
   "source": [
    "# Shopping Cart Calculator\n",
    "# You have a dictionary representing items in a shopping cart with their prices. Calculate and display the total cost of items in the cart.\n",
    "\n",
    "# input : cart_items = {\"apple\": 2.5, \"banana\": 1.5, \"bread\": 3.0, \"milk\": 2.0}\n",
    "# output : Total Cost of Items: 9.0"
   ]
  },
  {
   "cell_type": "code",
   "execution_count": 21,
   "id": "ce095672",
   "metadata": {},
   "outputs": [
    {
     "name": "stdout",
     "output_type": "stream",
     "text": [
      "Total cost of items : 9.0\n"
     ]
    }
   ],
   "source": [
    "c_i = {\"apple\": 2.5, \"banana\": 1.5, \"bread\": 3.0, \"milk\": 2.0}\n",
    "\n",
    "d = c_i.values()\n",
    "\n",
    "count = 0\n",
    "\n",
    "for i in d:\n",
    "    count = count + i\n",
    "\n",
    "print(f'Total cost of items : {count}')\n"
   ]
  },
  {
   "cell_type": "code",
   "execution_count": null,
   "id": "1798e00c",
   "metadata": {},
   "outputs": [],
   "source": [
    "#  Grade Calculator:\n",
    "\n",
    "# Calculate the average grade of a student based on their marks in 5 subjects. Assign letter grades based on the following criteria:\n",
    "\n",
    "#     90-100: A\n",
    "#     80-89: B\n",
    "#     70-79: C\n",
    "#     60-69: D\n",
    "#     Below 60: F\n",
    "\n",
    "# input : marks = [85, 72, 91, 68, 80]\n",
    "# output : \n",
    "# Average grade: 79.2\n",
    "# Letter grade: C\n",
    "\n"
   ]
  },
  {
   "cell_type": "code",
   "execution_count": 53,
   "id": "6165ec39",
   "metadata": {},
   "outputs": [
    {
     "name": "stdout",
     "output_type": "stream",
     "text": [
      "['B', 'C', 'A', 'D', 'B', 'F']\n",
      "\n",
      "************************************************************\n",
      "Average grade is 71.83\n",
      "\n",
      "************************************************************\n",
      "\n",
      "Final grade is C\n"
     ]
    }
   ],
   "source": [
    "marks = [85, 72, 91, 68, 80, 35]\n",
    "\n",
    "g = ''\n",
    "\n",
    "grade = []\n",
    "\n",
    "c = 0\n",
    "\n",
    "av = 0\n",
    "\n",
    "final_grade = ''\n",
    "\n",
    "for m in range(0,len(marks)):\n",
    "    if marks[m] in range(90,100):\n",
    "        g = 'A'\n",
    "        grade.append(g)\n",
    "        \n",
    "    elif marks[m] in range(80,89):\n",
    "         g= 'B'\n",
    "         grade.append(g)\n",
    "    \n",
    "    elif marks[m] in range(70,79):\n",
    "         g= 'C'\n",
    "         grade.append(g)\n",
    "    \n",
    "    elif marks[m] in range(60,69):\n",
    "        g = 'D'\n",
    "        grade.append(g)\n",
    "        \n",
    "    else:\n",
    "        g = 'F'\n",
    "        grade.append(g)\n",
    "\n",
    "print(grade)\n",
    "\n",
    "print()\n",
    "\n",
    "print('**'*30)\n",
    "\n",
    "for a in marks:\n",
    "    c = c+a\n",
    "\n",
    "av = round(c/len(marks),2)\n",
    "\n",
    "print(f'Average grade is {av}')\n",
    "\n",
    "print()\n",
    "\n",
    "print('**'*30)\n",
    "\n",
    "if 90 <= av <= 100:\n",
    "    final_grade = 'A'\n",
    "elif 80 <= av <= 89:\n",
    "    final_grade = 'B'\n",
    "elif 70 <= av <= 79:\n",
    "    final_grade = 'C'\n",
    "elif 60 <= av <= 69:\n",
    "    final_grade = 'D'\n",
    "else:\n",
    "    final_grade = 'F'\n",
    "    \n",
    "    \n",
    "       \n",
    "\n",
    "print()\n",
    "\n",
    "print(f'Final grade is {final_grade}')\n",
    "    \n",
    "        "
   ]
  },
  {
   "cell_type": "code",
   "execution_count": null,
   "id": "1228abd4",
   "metadata": {},
   "outputs": [],
   "source": [
    "# Unique Characters Counter\n",
    "# Given a string, count and display the number of unique characters.\n",
    "\n",
    "# input : dummy_string = \"programming\"\n",
    "# output : Number of Unique Characters: 8"
   ]
  },
  {
   "cell_type": "code",
   "execution_count": 56,
   "id": "32ec9a66",
   "metadata": {},
   "outputs": [
    {
     "name": "stdout",
     "output_type": "stream",
     "text": [
      "progamin\n",
      "8\n"
     ]
    }
   ],
   "source": [
    "d_s = \"programming\"\n",
    "f_s = ''\n",
    "\n",
    "for i in range(0,len(d_s)):\n",
    "    if d_s[i] not in f_s:\n",
    "        f_s = f_s+d_s[i]\n",
    "        \n",
    "print(f_s)\n",
    "print(len(f_s))"
   ]
  },
  {
   "cell_type": "code",
   "execution_count": null,
   "id": "43a8c6b4",
   "metadata": {},
   "outputs": [],
   "source": [
    "#  Data Encryption\n",
    "# Write a program that encrypts a message using a simple substitution cipher.\n",
    "\n",
    "# input : message = \"hello world\"\n",
    "# input : cipher_key = {'a': 'x', 'b': 'y', 'c': 'z', 'd': 'a', 'e': 'b', 'f': 'c', 'g': 'd', 'h': 'e', 'i': 'f', 'j': 'g', 'k': 'h', 'l': 'i', 'm': 'j', 'n': 'k', 'o': 'l', 'p': 'm', 'q': 'n', 'r': 'o', 's': 'p', 't': 'q', 'u': 'r', 'v': 's', 'w': 't', 'x': 'u', 'y': 'v', 'z': 'w', ' ': ' '}\n",
    "# output : Encrypted Message: ebiil tloia"
   ]
  },
  {
   "cell_type": "code",
   "execution_count": 62,
   "id": "53462da1",
   "metadata": {},
   "outputs": [
    {
     "name": "stdout",
     "output_type": "stream",
     "text": [
      "ebiil tloia\n"
     ]
    }
   ],
   "source": [
    "message = \"hello world\"\n",
    "final = ''\n",
    "cipher_key = {'a': 'x', 'b': 'y', 'c': 'z', 'd': 'a', 'e': 'b', 'f': 'c', 'g': 'd', 'h': 'e', 'i': 'f', 'j': 'g', 'k': 'h', 'l': 'i', 'm': 'j', 'n': 'k', 'o': 'l', 'p': 'm', 'q': 'n', 'r': 'o', 's': 'p', 't': 'q', 'u': 'r', 'v': 's', 'w': 't', 'x': 'u', 'y': 'v', 'z': 'w', ' ': ' '}\n",
    "\n",
    "for i in range(0,len(message)):\n",
    "    final = final + cipher_key[message[i]]\n",
    "    \n",
    "print(final)\n"
   ]
  },
  {
   "cell_type": "code",
   "execution_count": 68,
   "id": "a93b44b0",
   "metadata": {},
   "outputs": [
    {
     "data": {
      "text/plain": [
       "[' apple   ', '  pineAPPLE ', '  custard AppLE']"
      ]
     },
     "execution_count": 68,
     "metadata": {},
     "output_type": "execute_result"
    }
   ],
   "source": [
    "# given you a list of fruits name, you have to find the fruits that contain 'apple'?\n",
    "\n",
    "fruits = [' apple   ' , 'ManGO   ',  \"  pineAPPLE \" , \"  custard AppLE\" , ' graPES ' , \"KiWi  \" , '  cherRy']\n",
    "ans = []\n",
    "# ans = [' apple   ' , \"  pineAPPLE \" , \"  custard AppLE\"] # # list comprehension\n",
    "\n",
    "for f in fruits:\n",
    "    if 'apple'in f.lower().strip():\n",
    "        ans.append(f)\n",
    "        \n",
    "print(ans)"
   ]
  },
  {
   "cell_type": "code",
   "execution_count": 76,
   "id": "757e173f",
   "metadata": {},
   "outputs": [
    {
     "data": {
      "text/plain": [
       "[' apple   ', '  pineAPPLE ', '  custard AppLE']"
      ]
     },
     "execution_count": 76,
     "metadata": {},
     "output_type": "execute_result"
    }
   ],
   "source": [
    "fruits = [' apple   ' , 'ManGO   ',  \"  pineAPPLE \" , \"  custard AppLE\" , ' graPES ' , \"KiWi  \" , '  cherRy']\n",
    "ans = [f for f in fruits if 'apple' in f.lower().strip()]\n",
    "ans\n"
   ]
  },
  {
   "cell_type": "code",
   "execution_count": null,
   "id": "ee701760",
   "metadata": {},
   "outputs": [],
   "source": [
    "# Temperature Converter\n",
    "# Given a list of temperatures in Celsius, convert each temperature to Fahrenheit using the formula F = (C * 9/5) + 32.\n",
    "\n",
    "# input : celsius_temps = [0, 20, 37, 100]\n",
    "# output : Fahrenheit Temperatures: [32.0, 68.0, 98.6, 212.0]"
   ]
  },
  {
   "cell_type": "code",
   "execution_count": 77,
   "id": "50e7941c",
   "metadata": {},
   "outputs": [
    {
     "name": "stdout",
     "output_type": "stream",
     "text": [
      "[32.0, 68.0, 98.6, 212.0]\n"
     ]
    }
   ],
   "source": [
    "celsius_temps = [0, 20, 37, 100]\n",
    "Fahrenheit_Temperatures = []\n",
    "f = 0\n",
    "\n",
    "for c in celsius_temps:\n",
    "    f = (c*9/5)+32\n",
    "    Fahrenheit_Temperatures.append(f)\n",
    "    \n",
    "print(Fahrenheit_Temperatures)\n",
    "    \n",
    "    \n",
    "    "
   ]
  },
  {
   "cell_type": "code",
   "execution_count": null,
   "id": "e5cf6dd8",
   "metadata": {},
   "outputs": [],
   "source": [
    "#  Student Grade Classification\n",
    "# You have a dictionary containing student names and their scores. Classify students into 'Pass' or 'Fail' \n",
    "# based on a passing threshold.\n",
    "\n",
    "# input : student_scores = {\"Alice\": 75, \"Bob\": 60, \"Charlie\": 90, \"David\": 40}\n",
    "# input : pass_threshold = 70\n",
    "# output : Student Classification: {'Alice': 'Pass', 'Bob': 'Fail', 'Charlie': 'Pass', 'David': 'Fail'}\n"
   ]
  },
  {
   "cell_type": "code",
   "execution_count": 81,
   "id": "eee084d2",
   "metadata": {},
   "outputs": [
    {
     "data": {
      "text/plain": [
       "{'Alice': 'Pass', 'Bob': 'Fail', 'Charlie': 'Pass', 'David': 'Fail'}"
      ]
     },
     "execution_count": 81,
     "metadata": {},
     "output_type": "execute_result"
    }
   ],
   "source": [
    "student_scores = {\"Alice\": 75, \"Bob\": 60, \"Charlie\": 90, \"David\": 40}\n",
    "\n",
    "\n",
    "for k, s in student_scores.items():\n",
    "    if s>70:\n",
    "        student_scores[k] = 'Pass'\n",
    "    \n",
    "    else:\n",
    "        student_scores[k] = 'Fail'\n",
    "        \n",
    "student_scores"
   ]
  },
  {
   "cell_type": "code",
   "execution_count": 2,
   "id": "673476b7",
   "metadata": {},
   "outputs": [
    {
     "data": {
      "text/plain": [
       "16"
      ]
     },
     "execution_count": 2,
     "metadata": {},
     "output_type": "execute_result"
    }
   ],
   "source": [
    "def sqr(s):\n",
    "    s**2\n",
    "    \n",
    "srq(4)"
   ]
  },
  {
   "cell_type": "code",
   "execution_count": 8,
   "id": "c8d995af",
   "metadata": {},
   "outputs": [
    {
     "name": "stdout",
     "output_type": "stream",
     "text": [
      "@\n"
     ]
    }
   ],
   "source": [
    "def find(p):\n",
    "    for i in range(0,len(p)):\n",
    "        if '@' in p[i]:\n",
    "            return p[i]\n",
    "        \n",
    "print(find(\"Dear USer your complaint has been registered. KIndly connect with us at below email care@company.com\"))"
   ]
  },
  {
   "cell_type": "code",
   "execution_count": null,
   "id": "26807d0d",
   "metadata": {},
   "outputs": [],
   "source": []
  },
  {
   "cell_type": "code",
   "execution_count": null,
   "id": "063f9dfc",
   "metadata": {},
   "outputs": [],
   "source": []
  },
  {
   "cell_type": "code",
   "execution_count": null,
   "id": "127c4b64",
   "metadata": {},
   "outputs": [],
   "source": []
  },
  {
   "cell_type": "code",
   "execution_count": null,
   "id": "fe3a2fa8",
   "metadata": {},
   "outputs": [],
   "source": []
  }
 ],
 "metadata": {
  "kernelspec": {
   "display_name": "Python 3 (ipykernel)",
   "language": "python",
   "name": "python3"
  },
  "language_info": {
   "codemirror_mode": {
    "name": "ipython",
    "version": 3
   },
   "file_extension": ".py",
   "mimetype": "text/x-python",
   "name": "python",
   "nbconvert_exporter": "python",
   "pygments_lexer": "ipython3",
   "version": "3.12.4"
  }
 },
 "nbformat": 4,
 "nbformat_minor": 5
}
