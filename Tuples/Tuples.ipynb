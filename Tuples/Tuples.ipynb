{
 "cells": [
  {
   "cell_type": "markdown",
   "id": "55f0800e",
   "metadata": {},
   "source": [
    "# Tuple \n",
    "\n",
    "- Store the values\n",
    "- collection of heterogeneous (different datatypes) elements\n",
    "- represented in python by ()\n",
    "- Ordered datatype : Output will be not changed wrt position\n",
    "- ImMutable Object : Any element at any position cannot be modified (inset, remove, replace)\n"
   ]
  },
  {
   "cell_type": "code",
   "execution_count": 1,
   "id": "263eee10",
   "metadata": {},
   "outputs": [
    {
     "name": "stdout",
     "output_type": "stream",
     "text": [
      "()\n",
      "<class 'tuple'>\n"
     ]
    }
   ],
   "source": [
    "tupName = ()\n",
    "\n",
    "print( tupName )\n",
    "print( type( tupName ) )\n"
   ]
  },
  {
   "cell_type": "code",
   "execution_count": 2,
   "id": "1906bbe0",
   "metadata": {},
   "outputs": [
    {
     "name": "stdout",
     "output_type": "stream",
     "text": [
      "('python', 'JAVA', False, 72, 3.5, 4j)\n",
      "<class 'tuple'>\n"
     ]
    }
   ],
   "source": [
    "tupName = ('python' , \"JAVA\" , False, 72 , 3.5 , 4j )\n",
    "\n",
    "print( tupName )\n",
    "print( type( tupName ) )\n"
   ]
  },
  {
   "cell_type": "code",
   "execution_count": null,
   "id": "d1de0b74",
   "metadata": {},
   "outputs": [],
   "source": []
  },
  {
   "cell_type": "markdown",
   "id": "dc24d87d",
   "metadata": {},
   "source": [
    "# TUPLE Basic Operations \n",
    "\n"
   ]
  },
  {
   "cell_type": "code",
   "execution_count": 1,
   "id": "1ebe2d3a",
   "metadata": {},
   "outputs": [
    {
     "name": "stdout",
     "output_type": "stream",
     "text": [
      "('python', 'JAVA', False, 72, 3.5, 4j)\n",
      "6\n"
     ]
    }
   ],
   "source": [
    "#1. len : return total elements inside the tuple\n",
    "\n",
    "tupName = ('python' , \"JAVA\" , False, 72 , 3.5 , 4j)\n",
    "\n",
    "print( tupName )\n",
    "print( len( tupName ) )\n"
   ]
  },
  {
   "cell_type": "code",
   "execution_count": null,
   "id": "f3be4135",
   "metadata": {},
   "outputs": [],
   "source": []
  },
  {
   "cell_type": "code",
   "execution_count": 10,
   "id": "11a4b512",
   "metadata": {},
   "outputs": [],
   "source": [
    "# 2. Indexing: reading the element wrt POSITION\n",
    "# listName[position]\n",
    "# From LEft to Right : Start : 0 and end is len-1\n",
    "# From Right to Left : Start : -1 and end is -len"
   ]
  },
  {
   "attachments": {
    "image.png": {
     "image/png": "[encoded data removed]"
    }
   },
   "cell_type": "markdown",
   "id": "f07c8fdc",
   "metadata": {},
   "source": [
    "![image.png](attachment:image.png)"
   ]
  },
  {
   "cell_type": "code",
   "execution_count": 2,
   "id": "7ad32f3b",
   "metadata": {},
   "outputs": [
    {
     "name": "stdout",
     "output_type": "stream",
     "text": [
      "('python', 'JAVA', False, 72, 3.5, 4j)\n",
      "JAVA\n",
      "3.5\n",
      "3.5\n"
     ]
    }
   ],
   "source": [
    "tupName = ('python' , \"JAVA\" , False, 72 , 3.5 , 4j)\n",
    "\n",
    "print( tupName )\n",
    "print( tupName[1] ) # java\n",
    "print( tupName[4] ) # 3.5\n",
    "print( tupName[-2] ) # 3.5\n"
   ]
  },
  {
   "cell_type": "code",
   "execution_count": null,
   "id": "a699ff6c",
   "metadata": {},
   "outputs": [],
   "source": [
    "# 3. Slicing : reading more than 1 ELEMENT at a time\n",
    "# syntax : tupName(start : end : step)\n",
    "# In Python, index starts from 0\n",
    "\n",
    "\n",
    "# From LEft to Right\n",
    "# start : # default : 0\n",
    "# end :  default : len(tupName) - 1\n",
    "# step : 1\n"
   ]
  },
  {
   "attachments": {
    "image.png": {
     "image/png": "[encoded data removed]"
    }
   },
   "cell_type": "markdown",
   "id": "7d926f6c",
   "metadata": {},
   "source": [
    "![image.png](attachment:image.png)"
   ]
  },
  {
   "cell_type": "code",
   "execution_count": 4,
   "id": "cf755c54",
   "metadata": {},
   "outputs": [
    {
     "name": "stdout",
     "output_type": "stream",
     "text": [
      "('JAVA', False, 72)\n",
      "('JAVA', 72)\n",
      "('python', False, 3.5)\n"
     ]
    }
   ],
   "source": [
    "tupName = ('python' , \"JAVA\" , False, 72 , 3.5 , 4j)\n",
    "\n",
    "print( tupName[1 : 4] )\n",
    "print( tupName[1 : 4 : 2] ) # 1 , 1 + 2 = 3 , XXX3 + 2 = 5 XXX\n",
    "\n",
    "print( tupName[ : : 2] ) # 0 , 0 + 2 = 2, 2 + 2 = 4 , XXXXXXX 4 + 2 = 6"
   ]
  },
  {
   "cell_type": "code",
   "execution_count": 5,
   "id": "19805167",
   "metadata": {},
   "outputs": [
    {
     "name": "stdout",
     "output_type": "stream",
     "text": [
      "('python', 'JAVA', False, 72, 3.5, 4j)\n"
     ]
    }
   ],
   "source": [
    "print( tupName[ :  : ] )"
   ]
  },
  {
   "cell_type": "code",
   "execution_count": 6,
   "id": "ad330bac",
   "metadata": {},
   "outputs": [
    {
     "name": "stdout",
     "output_type": "stream",
     "text": [
      "('python', 'JAVA', False, 72, 3.5, 4j)\n"
     ]
    }
   ],
   "source": [
    "print( tupName[0 : : ] )"
   ]
  },
  {
   "cell_type": "code",
   "execution_count": 7,
   "id": "95d78686",
   "metadata": {},
   "outputs": [
    {
     "name": "stdout",
     "output_type": "stream",
     "text": [
      "(4j, 3.5, 72, False, 'JAVA', 'python')\n"
     ]
    }
   ],
   "source": [
    "print( tupName[ : : -1] )"
   ]
  },
  {
   "cell_type": "code",
   "execution_count": null,
   "id": "2896585f",
   "metadata": {},
   "outputs": [],
   "source": []
  },
  {
   "cell_type": "code",
   "execution_count": 9,
   "id": "b57be68d-7951-404f-96fd-165f6b4a31fa",
   "metadata": {},
   "outputs": [
    {
     "name": "stdout",
     "output_type": "stream",
     "text": [
      "(10, -6, 1, 1)\n"
     ]
    }
   ],
   "source": [
    "# 4. concatenation (+)\n",
    "# merging 2 or more tuples to create a single TUPLE\n",
    "\n",
    "a = (10 , -6)\n",
    "b = (1 , 1)\n",
    "print(a + b)"
   ]
  },
  {
   "cell_type": "code",
   "execution_count": null,
   "id": "3654598c-fd11-4596-b7cf-6e78409f6d27",
   "metadata": {},
   "outputs": [],
   "source": []
  },
  {
   "cell_type": "code",
   "execution_count": 14,
   "id": "35da5ffb",
   "metadata": {},
   "outputs": [
    {
     "ename": "TypeError",
     "evalue": "can only concatenate str (not \"tuple\") to str",
     "output_type": "error",
     "traceback": [
      "\u001b[1;31m---------------------------------------------------------------------------\u001b[0m",
      "\u001b[1;31mTypeError\u001b[0m                                 Traceback (most recent call last)",
      "Cell \u001b[1;32mIn[14], line 3\u001b[0m\n\u001b[0;32m      1\u001b[0m tupName \u001b[38;5;241m=\u001b[39m (\u001b[38;5;124m'\u001b[39m\u001b[38;5;124mpython\u001b[39m\u001b[38;5;124m'\u001b[39m , \u001b[38;5;124m\"\u001b[39m\u001b[38;5;124mJAVA\u001b[39m\u001b[38;5;124m\"\u001b[39m , \u001b[38;5;28;01mFalse\u001b[39;00m, \u001b[38;5;241m72\u001b[39m , \u001b[38;5;241m3.5\u001b[39m , \u001b[38;5;241m4\u001b[39mj)\n\u001b[1;32m----> 3\u001b[0m tupName[\u001b[38;5;241m1\u001b[39m] \u001b[38;5;241m+\u001b[39m (\u001b[38;5;241m1\u001b[39m , \u001b[38;5;241m1\u001b[39m)\n",
      "\u001b[1;31mTypeError\u001b[0m: can only concatenate str (not \"tuple\") to str"
     ]
    }
   ],
   "source": [
    "tupName = ('python' , \"JAVA\" , False, 72 , 3.5 , 4j)\n",
    "\n",
    "tupName[1] + (1 , 1)\n"
   ]
  },
  {
   "cell_type": "code",
   "execution_count": 11,
   "id": "8f535447",
   "metadata": {},
   "outputs": [
    {
     "data": {
      "text/plain": [
       "'JAVA'"
      ]
     },
     "execution_count": 11,
     "metadata": {},
     "output_type": "execute_result"
    }
   ],
   "source": [
    "tupName[1] "
   ]
  },
  {
   "cell_type": "code",
   "execution_count": 13,
   "id": "8224e774",
   "metadata": {},
   "outputs": [
    {
     "data": {
      "text/plain": [
       "('JAVA', False, 72, 1, 1)"
      ]
     },
     "execution_count": 13,
     "metadata": {},
     "output_type": "execute_result"
    }
   ],
   "source": [
    "tupName = ('python' , \"JAVA\" , False, 72 , 3.5 , 4j)\n",
    "\n",
    "tupName[1 : 4] + (1 , 1)\n"
   ]
  },
  {
   "cell_type": "code",
   "execution_count": null,
   "id": "979fb1d4",
   "metadata": {},
   "outputs": [],
   "source": []
  },
  {
   "cell_type": "code",
   "execution_count": 24,
   "id": "a6db97bc",
   "metadata": {},
   "outputs": [],
   "source": [
    "# 5. repeat (*)\n",
    "# repeat the tuple n times to create a SINGLE TUPLE\n",
    "# tupName * n"
   ]
  },
  {
   "cell_type": "code",
   "execution_count": 15,
   "id": "7945ffcf",
   "metadata": {},
   "outputs": [
    {
     "data": {
      "text/plain": [
       "('python', 'JAVA', False, 72, 3.5, 4j, 'python', 'JAVA', False, 72, 3.5, 4j)"
      ]
     },
     "execution_count": 15,
     "metadata": {},
     "output_type": "execute_result"
    }
   ],
   "source": [
    "tupName = ('python' , \"JAVA\" , False, 72 , 3.5 , 4j)\n",
    "\n",
    "tupName * 2"
   ]
  },
  {
   "cell_type": "code",
   "execution_count": 16,
   "id": "5d775318",
   "metadata": {},
   "outputs": [
    {
     "data": {
      "text/plain": [
       "('python', 72, 'python', 72)"
      ]
     },
     "execution_count": 16,
     "metadata": {},
     "output_type": "execute_result"
    }
   ],
   "source": [
    "tupName[ : : 3] * 2"
   ]
  },
  {
   "cell_type": "code",
   "execution_count": 17,
   "id": "9842649d",
   "metadata": {},
   "outputs": [
    {
     "data": {
      "text/plain": [
       "('python', 72)"
      ]
     },
     "execution_count": 17,
     "metadata": {},
     "output_type": "execute_result"
    }
   ],
   "source": [
    "tupName[ : : 3]"
   ]
  },
  {
   "cell_type": "code",
   "execution_count": 18,
   "id": "5c3ce947",
   "metadata": {},
   "outputs": [
    {
     "data": {
      "text/plain": [
       "(72, 72, 72, 72, 72, 72, 72, 72, 72, 72)"
      ]
     },
     "execution_count": 18,
     "metadata": {},
     "output_type": "execute_result"
    }
   ],
   "source": [
    "tupName[ 3 : : 5] * 10"
   ]
  },
  {
   "attachments": {
    "image.png": {
     "image/png": "[encoded data removed]"
    }
   },
   "cell_type": "markdown",
   "id": "87089168",
   "metadata": {},
   "source": [
    "![image.png](attachment:image.png)"
   ]
  },
  {
   "cell_type": "code",
   "execution_count": 19,
   "id": "d95a0020",
   "metadata": {},
   "outputs": [
    {
     "data": {
      "text/plain": [
       "(72,)"
      ]
     },
     "execution_count": 19,
     "metadata": {},
     "output_type": "execute_result"
    }
   ],
   "source": [
    "tupName[ 3 : : 5]"
   ]
  },
  {
   "cell_type": "code",
   "execution_count": 20,
   "id": "109b0d1d",
   "metadata": {},
   "outputs": [
    {
     "data": {
      "text/plain": [
       "72"
      ]
     },
     "execution_count": 20,
     "metadata": {},
     "output_type": "execute_result"
    }
   ],
   "source": [
    "tupName[ 3 ]"
   ]
  },
  {
   "cell_type": "code",
   "execution_count": 21,
   "id": "a6851a7f",
   "metadata": {},
   "outputs": [
    {
     "data": {
      "text/plain": [
       "720"
      ]
     },
     "execution_count": 21,
     "metadata": {},
     "output_type": "execute_result"
    }
   ],
   "source": [
    "tupName[ 3 ] * 10"
   ]
  },
  {
   "cell_type": "code",
   "execution_count": 22,
   "id": "18e90a68",
   "metadata": {},
   "outputs": [
    {
     "data": {
      "text/plain": [
       "'pythonpythonpython'"
      ]
     },
     "execution_count": 22,
     "metadata": {},
     "output_type": "execute_result"
    }
   ],
   "source": [
    "tupName[ 0 ] * 3"
   ]
  },
  {
   "cell_type": "code",
   "execution_count": null,
   "id": "6567f2b0",
   "metadata": {},
   "outputs": [],
   "source": []
  },
  {
   "cell_type": "code",
   "execution_count": 26,
   "id": "15dc2226",
   "metadata": {},
   "outputs": [
    {
     "name": "stdout",
     "output_type": "stream",
     "text": [
      "('python', 'JAVA', False, 72, (10, 20, 30), 3.5, 4j)\n",
      "(10, 20, 30)\n",
      "(10, 20, 30)\n"
     ]
    }
   ],
   "source": [
    "tupName = ('python' , \"JAVA\" , False, 72 , (10 , 20 , 30) , 3.5 , 4j)\n",
    "\n",
    "print( tupName )\n",
    "print( tupName[4] )# (10, 20, 30)\n",
    "print( tupName[-3] )# (10, 20, 30)\n",
    "\n"
   ]
  },
  {
   "cell_type": "code",
   "execution_count": 27,
   "id": "66a0daf6",
   "metadata": {},
   "outputs": [
    {
     "name": "stdout",
     "output_type": "stream",
     "text": [
      "(10, 20, 30)\n",
      "20\n"
     ]
    }
   ],
   "source": [
    "# Extract 20 out of it ???\n",
    "print( tupName[4] )\n",
    "print( tupName[4][1] )\n"
   ]
  },
  {
   "cell_type": "code",
   "execution_count": 28,
   "id": "b5a67379",
   "metadata": {},
   "outputs": [
    {
     "name": "stdout",
     "output_type": "stream",
     "text": [
      "JAVA\n",
      "J\n"
     ]
    }
   ],
   "source": [
    "# Extract J out of it ???\n",
    "print( tupName[1] )\n",
    "print( tupName[1][0] )\n"
   ]
  },
  {
   "cell_type": "code",
   "execution_count": null,
   "id": "5f33ea68",
   "metadata": {},
   "outputs": [],
   "source": []
  },
  {
   "cell_type": "code",
   "execution_count": 29,
   "id": "ac421160",
   "metadata": {},
   "outputs": [
    {
     "name": "stdout",
     "output_type": "stream",
     "text": [
      "True\n",
      "False\n",
      "False\n",
      "True\n"
     ]
    }
   ],
   "source": [
    "# 6. Membership (in, not in)\n",
    "\n",
    "# in : return TRUE if element is present inside the LIST.\n",
    "# not in : return FALSE if element is present inside the LIST.\n",
    "\n",
    "tupName = ('python' , \"JAVA\" , False, 72 , 3.5 , 4j)\n",
    "print( \"python\" in tupName )\n",
    "print( \"java\" in tupName )\n",
    "\n",
    "print( 20 in tupName )\n",
    "print( 0 in tupName )\n",
    "\n",
    "\n"
   ]
  },
  {
   "cell_type": "code",
   "execution_count": null,
   "id": "c8145b65",
   "metadata": {},
   "outputs": [],
   "source": []
  },
  {
   "cell_type": "markdown",
   "id": "3d0580b2",
   "metadata": {},
   "source": [
    "# Tuple Methods"
   ]
  },
  {
   "cell_type": "code",
   "execution_count": 3,
   "id": "2397781c",
   "metadata": {},
   "outputs": [
    {
     "name": "stdout",
     "output_type": "stream",
     "text": [
      "['__add__', '__class__', '__class_getitem__', '__contains__', '__delattr__', '__dir__', '__doc__', '__eq__', '__format__', '__ge__', '__getattribute__', '__getitem__', '__getnewargs__', '__gt__', '__hash__', '__init__', '__init_subclass__', '__iter__', '__le__', '__len__', '__lt__', '__mul__', '__ne__', '__new__', '__reduce__', '__reduce_ex__', '__repr__', '__rmul__', '__setattr__', '__sizeof__', '__str__', '__subclasshook__', 'count', 'index']\n"
     ]
    }
   ],
   "source": [
    "print( dir( tuple ) )"
   ]
  },
  {
   "cell_type": "code",
   "execution_count": 4,
   "id": "d67eaaa5",
   "metadata": {},
   "outputs": [],
   "source": [
    "# 'count', 'index'"
   ]
  },
  {
   "cell_type": "code",
   "execution_count": 6,
   "id": "530812fd",
   "metadata": {},
   "outputs": [
    {
     "ename": "TypeError",
     "evalue": "'tuple' object does not support item assignment",
     "output_type": "error",
     "traceback": [
      "\u001b[1;31m---------------------------------------------------------------------------\u001b[0m",
      "\u001b[1;31mTypeError\u001b[0m                                 Traceback (most recent call last)",
      "\u001b[1;32m~\\AppData\\Local\\Temp\\ipykernel_11448\\2096304176.py\u001b[0m in \u001b[0;36m<module>\u001b[1;34m\u001b[0m\n\u001b[0;32m      1\u001b[0m \u001b[0mtupName\u001b[0m \u001b[1;33m=\u001b[0m \u001b[1;33m(\u001b[0m\u001b[1;34m'python'\u001b[0m \u001b[1;33m,\u001b[0m \u001b[1;34m\"JAVA\"\u001b[0m \u001b[1;33m,\u001b[0m \u001b[1;32mFalse\u001b[0m\u001b[1;33m,\u001b[0m \u001b[1;36m72\u001b[0m \u001b[1;33m,\u001b[0m \u001b[1;36m3.5\u001b[0m \u001b[1;33m,\u001b[0m \u001b[1;36m4j\u001b[0m \u001b[1;33m)\u001b[0m\u001b[1;33m\u001b[0m\u001b[1;33m\u001b[0m\u001b[0m\n\u001b[1;32m----> 2\u001b[1;33m \u001b[0mtupName\u001b[0m\u001b[1;33m[\u001b[0m\u001b[1;36m3\u001b[0m\u001b[1;33m]\u001b[0m \u001b[1;33m=\u001b[0m \u001b[1;36m999\u001b[0m\u001b[1;33m\u001b[0m\u001b[1;33m\u001b[0m\u001b[0m\n\u001b[0m",
      "\u001b[1;31mTypeError\u001b[0m: 'tuple' object does not support item assignment"
     ]
    }
   ],
   "source": [
    "tupName = ('python' , \"JAVA\" , False, 72 , 3.5 , 4j )\n",
    "tupName[3] = 999"
   ]
  },
  {
   "cell_type": "code",
   "execution_count": 7,
   "id": "7848cc03",
   "metadata": {},
   "outputs": [
    {
     "data": {
      "text/plain": [
       "3"
      ]
     },
     "execution_count": 7,
     "metadata": {},
     "output_type": "execute_result"
    }
   ],
   "source": [
    "tupName.index(72)"
   ]
  },
  {
   "cell_type": "code",
   "execution_count": 9,
   "id": "9f4a0fed",
   "metadata": {},
   "outputs": [
    {
     "name": "stdout",
     "output_type": "stream",
     "text": [
      "['python', 'JAVA', False, 72, 3.5, 4j]\n",
      "('python', 'JAVA', False, 999, 3.5, 4j)\n"
     ]
    }
   ],
   "source": [
    "tupName = ('python' , \"JAVA\" , False, 72 , 3.5 , 4j )\n",
    "\n",
    "new_seq = list(tupName)\n",
    "print( new_seq )\n",
    "\n",
    "new_seq[3] = 999\n",
    "new_seq = tuple(new_seq)\n",
    "print( new_seq )\n"
   ]
  },
  {
   "cell_type": "code",
   "execution_count": null,
   "id": "94ac7da1",
   "metadata": {},
   "outputs": [],
   "source": []
  },
  {
   "cell_type": "markdown",
   "id": "77936bb2",
   "metadata": {},
   "source": [
    "#### Whats the main difference ???\n",
    "\n",
    "\n",
    "List\n",
    "- Mutable\n",
    "- Less Secure\n",
    "- Use Case : Excel files\n",
    "\n",
    "\n",
    "Tuple\n",
    "- ImMutable\n",
    "- More Secure\n",
    "- Use Case : sql query : row --> ( )\n",
    "                wifi packets : (  )\n",
    "                speech signals\n",
    "                image processing\n",
    " \n",
    "\n"
   ]
  },
  {
   "cell_type": "code",
   "execution_count": null,
   "id": "8117adcf",
   "metadata": {},
   "outputs": [],
   "source": []
  },
  {
   "cell_type": "code",
   "execution_count": null,
   "id": "41ae30e1",
   "metadata": {},
   "outputs": [],
   "source": []
  },
  {
   "cell_type": "code",
   "execution_count": null,
   "id": "8af00039",
   "metadata": {},
   "outputs": [],
   "source": [
    "\n",
    "\n",
    "\n"
   ]
  }
 ],
 "metadata": {
  "kernelspec": {
   "display_name": "Python 3 (ipykernel)",
   "language": "python",
   "name": "python3"
  },
  "language_info": {
   "codemirror_mode": {
    "name": "ipython",
    "version": 3
   },
   "file_extension": ".py",
   "mimetype": "text/x-python",
   "name": "python",
   "nbconvert_exporter": "python",
   "pygments_lexer": "ipython3",
   "version": "3.12.4"
  }
 },
 "nbformat": 4,
 "nbformat_minor": 5
}
