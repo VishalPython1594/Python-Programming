{
 "cells": [
  {
   "cell_type": "markdown",
   "id": "314b9f8a",
   "metadata": {},
   "source": [
    "# Regex 2"
   ]
  },
  {
   "cell_type": "markdown",
   "id": "7652928e",
   "metadata": {},
   "source": [
    "**Findall**\n",
    "\n",
    "- retrieve all the patterns from the string\n",
    "- it returns in the form of list \n",
    "\n",
    "**syntax:**\n",
    "\n",
    "import re\n",
    "\n",
    "re.findall(pattern, stringName)\n"
   ]
  },
  {
   "cell_type": "markdown",
   "id": "889dcd32",
   "metadata": {},
   "source": [
    "**search**\n",
    "\n",
    "- retrieve FIRST patterns from the string\n",
    "- use .group() to display\n",
    "\n",
    "**syntax:**\n",
    "\n",
    "import re\n",
    "\n",
    "re.search(pattern, stringName)\n"
   ]
  },
  {
   "cell_type": "markdown",
   "id": "0ee48c4a",
   "metadata": {},
   "source": [
    "**match**\n",
    "\n",
    "- retrieve FIRST patterns at the BEGINNING of the string, if present, else NO Answer\n",
    "- use .group() to display\n",
    "\n",
    "**syntax:**\n",
    "\n",
    "import re\n",
    "\n",
    "re.match(pattern, stringName)\n"
   ]
  },
  {
   "cell_type": "code",
   "execution_count": null,
   "id": "7736cd60",
   "metadata": {},
   "outputs": [],
   "source": []
  },
  {
   "cell_type": "code",
   "execution_count": 1,
   "id": "8f1148cb",
   "metadata": {},
   "outputs": [
    {
     "name": "stdout",
     "output_type": "stream",
     "text": [
      "['polo', 'cope']\n",
      "polo\n",
      "polo\n"
     ]
    }
   ],
   "source": [
    "# find out the patterns that are exactly 4 length and surrounded by spaces...\n",
    "import re\n",
    "message = \"upi p polo python pizza taping cope uttar_pradesh2024\"\n",
    "res = re.findall( r\"\\b\\w{4}\\b\" , message) # - - - -\n",
    "\n",
    "if res : \n",
    "    print( res)\n",
    "else : \n",
    "    print(\"No such pattern...\")\n",
    "\n",
    "    \n",
    "if res : \n",
    "    print( res[0] )  # search\n",
    "else : \n",
    "    print(\"No such pattern...\")\n",
    "\n",
    "    \n",
    "search_res = re.search( r\"\\b\\w{4}\\b\"  , message)    \n",
    "if search_res : \n",
    "    print( search_res.group() )  # search\n",
    "else : \n",
    "    print(\"No such pattern...\")\n",
    "\n"
   ]
  },
  {
   "cell_type": "code",
   "execution_count": 3,
   "id": "101ba46f-3913-4623-88ec-9e9fe5951fa1",
   "metadata": {},
   "outputs": [
    {
     "data": {
      "text/plain": [
       "'polo'"
      ]
     },
     "execution_count": 3,
     "metadata": {},
     "output_type": "execute_result"
    }
   ],
   "source": [
    "search_res.group()"
   ]
  },
  {
   "cell_type": "code",
   "execution_count": null,
   "id": "71c618f9-9563-4a2b-805d-502aea9484b0",
   "metadata": {},
   "outputs": [],
   "source": []
  },
  {
   "cell_type": "code",
   "execution_count": 7,
   "id": "88c49c2e",
   "metadata": {},
   "outputs": [
    {
     "name": "stdout",
     "output_type": "stream",
     "text": [
      "polo\n"
     ]
    }
   ],
   "source": [
    "print( message[6  : 10 ] )\n"
   ]
  },
  {
   "cell_type": "code",
   "execution_count": null,
   "id": "3dd5621d",
   "metadata": {},
   "outputs": [],
   "source": []
  },
  {
   "cell_type": "code",
   "execution_count": 12,
   "id": "84230fd2",
   "metadata": {},
   "outputs": [
    {
     "name": "stdout",
     "output_type": "stream",
     "text": [
      "polo\n",
      "No such pattern...\n"
     ]
    }
   ],
   "source": [
    "# find out the patterns that are exactly 4 length and surrounded by spaces...\n",
    "import re\n",
    "message = \"upi p polo python pizza taping cope uttar_pradesh2024\"\n",
    "# message = \"pool upi p polo python pizza taping cope uttar_pradesh2024\"\n",
    "res = re.findall( r\"\\b\\w{4}\\b\" , message) # - - - -\n",
    "\n",
    "search_res = re.search( r\"\\b\\w{4}\\b\"  , message)    \n",
    "if search_res : \n",
    "    print( search_res.group() )  # search\n",
    "else : \n",
    "    print(\"No such pattern...\")\n",
    "\n",
    "match_res = re.match( r\"\\b\\w{4}\\b\"  , message)    \n",
    "if match_res : \n",
    "    print( match_res.group() )  # search\n",
    "else : \n",
    "    print(\"No such pattern...\")\n"
   ]
  },
  {
   "cell_type": "code",
   "execution_count": null,
   "id": "cae6906e",
   "metadata": {},
   "outputs": [],
   "source": [
    "\"upi p polo python pizza taping cope uttar_pradesh2024\"\n",
    "\"match..\"\n",
    "\" .....................search ........................\"\n",
    "upi\n"
   ]
  },
  {
   "cell_type": "code",
   "execution_count": null,
   "id": "f203cdc7",
   "metadata": {},
   "outputs": [],
   "source": []
  },
  {
   "cell_type": "markdown",
   "id": "7d9374ef",
   "metadata": {},
   "source": [
    "## sub : replace the old pattern with new pattern\n",
    "\n",
    "\n",
    "re.sub(oldPattern, newPattern, stringName)\n",
    "\n"
   ]
  },
  {
   "cell_type": "code",
   "execution_count": 18,
   "id": "19dc6906",
   "metadata": {},
   "outputs": [
    {
     "data": {
      "text/plain": [
       "'this is data science and machine learning batch and eat pizza with it'"
      ]
     },
     "execution_count": 18,
     "metadata": {},
     "output_type": "execute_result"
    }
   ],
   "source": [
    "data = \"this is data science and python batch and eat pizza with it\"\n",
    "\n",
    "# replace python with machine learning\n",
    "data = data.replace(\"python\", \"machine learning\")\n",
    "data"
   ]
  },
  {
   "cell_type": "code",
   "execution_count": 20,
   "id": "e1f58b14",
   "metadata": {},
   "outputs": [
    {
     "data": {
      "text/plain": [
       "'this is data science and machine learning batch and eat pizza with it'"
      ]
     },
     "execution_count": 20,
     "metadata": {},
     "output_type": "execute_result"
    }
   ],
   "source": [
    "data = \"this is data science and python batch and eat pizza with it\"\n",
    "\n",
    "newData = re.sub(\"python\", \"machine learning\", data)\n",
    "newData"
   ]
  },
  {
   "cell_type": "code",
   "execution_count": 21,
   "id": "fdb594d9",
   "metadata": {},
   "outputs": [
    {
     "data": {
      "text/plain": [
       "'this is data science and machine learning batch and eat machine learning with it'"
      ]
     },
     "execution_count": 21,
     "metadata": {},
     "output_type": "execute_result"
    }
   ],
   "source": [
    "# replace words starting with p and min 4 letter. then replace it with machibne learning\n",
    "\n",
    "data = \"this is data science and python batch and eat pizza with it\"\n",
    "\n",
    "newData = re.sub(r\"p\\w{3,}\", \"machine learning\", data) # p - - - \n",
    "newData"
   ]
  },
  {
   "cell_type": "code",
   "execution_count": null,
   "id": "d236aca1",
   "metadata": {},
   "outputs": [],
   "source": []
  },
  {
   "cell_type": "code",
   "execution_count": 22,
   "id": "d6801818",
   "metadata": {},
   "outputs": [
    {
     "data": {
      "text/plain": [
       "'A customer buys product from ABC company where you can reach via company@gmail.com and nitish@yahoo.in. also you can connect via **********, ********** and 011-84521476'"
      ]
     },
     "execution_count": 22,
     "metadata": {},
     "output_type": "execute_result"
    }
   ],
   "source": [
    "# replace mobile number with *\n",
    "\n",
    "msg = \"\"\"A customer buys product from ABC company where you can reach via company@gmail.com and nitish@yahoo.in. also you can connect via 9874545452, 9870000452 and 011-84521476\"\"\"\n",
    "\n",
    "re.sub( r\"\\d{10}\", \"*\"*10 , msg)"
   ]
  },
  {
   "cell_type": "code",
   "execution_count": null,
   "id": "6e60a85f",
   "metadata": {},
   "outputs": [],
   "source": [
    "# \\d{1,}-\\d{1,}"
   ]
  },
  {
   "cell_type": "code",
   "execution_count": null,
   "id": "96fa1c9f",
   "metadata": {},
   "outputs": [],
   "source": []
  },
  {
   "cell_type": "code",
   "execution_count": null,
   "id": "b1714982",
   "metadata": {},
   "outputs": [],
   "source": []
  },
  {
   "cell_type": "markdown",
   "id": "2c6cebaa",
   "metadata": {},
   "source": [
    "## split - use string way only. till what extent possible.......\n",
    "\n",
    "\n",
    "re.split(oldPattern, stringName)\n",
    "\n"
   ]
  },
  {
   "cell_type": "code",
   "execution_count": 23,
   "id": "7c579fd1",
   "metadata": {},
   "outputs": [
    {
     "data": {
      "text/plain": [
       "['peter', 'giper', 'picked', 'a', 'peck', 'of', 'pickled', 'peppers']"
      ]
     },
     "execution_count": 23,
     "metadata": {},
     "output_type": "execute_result"
    }
   ],
   "source": [
    "stringName = \"peter giper picked a peck of pickled peppers\"\n",
    "\n",
    "re.split(\" \", stringName)\n"
   ]
  },
  {
   "cell_type": "code",
   "execution_count": 24,
   "id": "87a7b14f",
   "metadata": {},
   "outputs": [
    {
     "data": {
      "text/plain": [
       "['peter', 'giper', 'picked', 'a', 'peck', 'of', 'pickled', 'peppers']"
      ]
     },
     "execution_count": 24,
     "metadata": {},
     "output_type": "execute_result"
    }
   ],
   "source": [
    "stringName.split(' ')"
   ]
  },
  {
   "cell_type": "code",
   "execution_count": null,
   "id": "05a7ddc2",
   "metadata": {},
   "outputs": [],
   "source": []
  },
  {
   "cell_type": "code",
   "execution_count": null,
   "id": "5e9e124e",
   "metadata": {},
   "outputs": [],
   "source": []
  },
  {
   "cell_type": "code",
   "execution_count": null,
   "id": "45135071",
   "metadata": {},
   "outputs": [],
   "source": []
  }
 ],
 "metadata": {
  "kernelspec": {
   "display_name": "Python 3 (ipykernel)",
   "language": "python",
   "name": "python3"
  },
  "language_info": {
   "codemirror_mode": {
    "name": "ipython",
    "version": 3
   },
   "file_extension": ".py",
   "mimetype": "text/x-python",
   "name": "python",
   "nbconvert_exporter": "python",
   "pygments_lexer": "ipython3",
   "version": "3.12.4"
  }
 },
 "nbformat": 4,
 "nbformat_minor": 5
}
