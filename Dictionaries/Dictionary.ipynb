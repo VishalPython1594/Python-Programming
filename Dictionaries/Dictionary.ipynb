{
 "cells": [
  {
   "cell_type": "markdown",
   "id": "2e3620a3",
   "metadata": {},
   "source": [
    "# Dictionary \n",
    "\n",
    "- Store the values\n",
    "- collection of heterogeneous (different datatypes) elements\n",
    "- represented in python by {}, with key - value pairs\n",
    "- Ordered datatype : Output will be not changed wrt KEYS\n",
    "- Mutable Object : Any element can be modified (inset, remove, replace)\n",
    "- KEYS are used to map with VALUES\n",
    "- KEys are IMMUTABLE but values are MUTABLE (they are LIST definition)\n",
    "\n",
    "**STYNTAX : dt = {k : v, k2 : v2 .....}  **\n"
   ]
  },
  {
   "cell_type": "code",
   "execution_count": 2,
   "id": "c4374d51",
   "metadata": {},
   "outputs": [
    {
     "data": {
      "text/html": [
       "<div>\n",
       "<style scoped>\n",
       "    .dataframe tbody tr th:only-of-type {\n",
       "        vertical-align: middle;\n",
       "    }\n",
       "\n",
       "    .dataframe tbody tr th {\n",
       "        vertical-align: top;\n",
       "    }\n",
       "\n",
       "    .dataframe thead th {\n",
       "        text-align: right;\n",
       "    }\n",
       "</style>\n",
       "<table border=\"1\" class=\"dataframe\">\n",
       "  <thead>\n",
       "    <tr style=\"text-align: right;\">\n",
       "      <th></th>\n",
       "      <th>C1</th>\n",
       "      <th>C2</th>\n",
       "    </tr>\n",
       "  </thead>\n",
       "  <tbody>\n",
       "    <tr>\n",
       "      <th>0</th>\n",
       "      <td>10</td>\n",
       "      <td>-8</td>\n",
       "    </tr>\n",
       "    <tr>\n",
       "      <th>1</th>\n",
       "      <td>False</td>\n",
       "      <td>Nitish</td>\n",
       "    </tr>\n",
       "    <tr>\n",
       "      <th>2</th>\n",
       "      <td>6.5</td>\n",
       "      <td>43j</td>\n",
       "    </tr>\n",
       "  </tbody>\n",
       "</table>\n",
       "</div>"
      ],
      "text/plain": [
       "      C1      C2\n",
       "0     10      -8\n",
       "1  False  Nitish\n",
       "2    6.5     43j"
      ]
     },
     "execution_count": 2,
     "metadata": {},
     "output_type": "execute_result"
    }
   ],
   "source": [
    "import pandas\n",
    "\n",
    "dt = {\"C1\" : [10 , False, 6.5] , \n",
    "      \"C2\" : [-8 , \"Nitish\" , 43j] }\n",
    "\n",
    "df = pandas.DataFrame(dt)\n",
    "df\n"
   ]
  },
  {
   "cell_type": "code",
   "execution_count": 5,
   "id": "05555a60",
   "metadata": {},
   "outputs": [
    {
     "name": "stdout",
     "output_type": "stream",
     "text": [
      "{}\n",
      "<class 'dict'>\n"
     ]
    }
   ],
   "source": [
    "dt = {}\n",
    "\n",
    "print( dt )\n",
    "print( type( dt ) )\n"
   ]
  },
  {
   "cell_type": "code",
   "execution_count": 21,
   "id": "4c1c3978",
   "metadata": {},
   "outputs": [
    {
     "name": "stdout",
     "output_type": "stream",
     "text": [
      "['python', 'JAVA', False, 72, 3.5, 4j, False]\n"
     ]
    }
   ],
   "source": [
    "listName = ['python' , \n",
    "            \"JAVA\" , \n",
    "            False, \n",
    "            72 , \n",
    "            3.5 , \n",
    "            4j, \n",
    "            False]\n",
    "\n",
    "print( listName )"
   ]
  },
  {
   "cell_type": "code",
   "execution_count": 22,
   "id": "7aeaa407",
   "metadata": {},
   "outputs": [
    {
     "name": "stdout",
     "output_type": "stream",
     "text": [
      "False\n",
      "False\n",
      "['python', 'JAVA', True, 72, 3.5, 4j, False]\n",
      "True\n"
     ]
    }
   ],
   "source": [
    "# ?False\n",
    "print( listName[2] )\n",
    "print( listName[6] )\n",
    "\n",
    "\n",
    "listName[2] = True\n",
    "print(listName)\n",
    "print( listName[2] )\n",
    "\n"
   ]
  },
  {
   "cell_type": "code",
   "execution_count": 8,
   "id": "26f99fea",
   "metadata": {},
   "outputs": [],
   "source": [
    "# ['python' , \"JAVA\" , False, 72 , 3.5 , 4j, False]\n",
    "#  0              1    2       3    4    5, 6  - KEYS in LIST"
   ]
  },
  {
   "cell_type": "code",
   "execution_count": 12,
   "id": "53f662d6",
   "metadata": {},
   "outputs": [
    {
     "name": "stdout",
     "output_type": "stream",
     "text": [
      "{0: 'python', 1: 'JAVA', 2: False, 3: 72, 4: 3.5, 5: 4j}\n",
      "False\n"
     ]
    }
   ],
   "source": [
    "dt = {0 : 'python' , \n",
    "      1 : \"JAVA\" , \n",
    "      2 : False, \n",
    "      3 : 72 , \n",
    "      4 : 3.5 , \n",
    "      5 : 4j}\n",
    "\n",
    "print( dt )\n",
    "print( dt[2] )\n",
    "\n"
   ]
  },
  {
   "cell_type": "code",
   "execution_count": 19,
   "id": "dbf9448f",
   "metadata": {},
   "outputs": [
    {
     "name": "stdout",
     "output_type": "stream",
     "text": [
      "{0: 'python', 'a': 'JAVA', 'tt': False, 3.7: 72, 4000: 3.5, '@#$': 4j, 10: False}\n",
      "False\n",
      "False\n"
     ]
    }
   ],
   "source": [
    "dt = {0 : 'python' , \n",
    "      'a' : \"JAVA\" , \n",
    "      \"tt\" : False, \n",
    "      3.7 : 72 , \n",
    "      4000 : 3.5 , \n",
    "      \"@#$\" : 4j, \n",
    "     10 : False}\n",
    "\n",
    "print( dt )\n",
    "print( dt['tt'] )\n",
    "print( dt[10] )\n",
    "\n",
    "# Values can be repeated multiple times and to represent same values, you have to use their keys"
   ]
  },
  {
   "cell_type": "code",
   "execution_count": 23,
   "id": "05fd43b8",
   "metadata": {},
   "outputs": [
    {
     "name": "stdout",
     "output_type": "stream",
     "text": [
      "{0: 'python', 'a': 'JAVA', 'tt': False, 3.7: 72, 4000: 3.5, '@#$': 4j, 10: 888}\n",
      "False\n",
      "888\n"
     ]
    }
   ],
   "source": [
    "dt = {0 : 'python' , \n",
    "      'a' : \"JAVA\" , \n",
    "      \"tt\" : False, \n",
    "      3.7 : 72 , \n",
    "      4000 : 3.5 , \n",
    "      \"@#$\" : 4j, \n",
    "     10 : False, \n",
    "     10 : 888}\n",
    "\n",
    "print( dt )\n",
    "print( dt['tt'] )\n",
    "print( dt[10] )\n",
    "\n",
    "# If keys are repeated multiple times, then only the LAST value it is used with will be the FINAL value"
   ]
  },
  {
   "cell_type": "code",
   "execution_count": 26,
   "id": "c4d7962e",
   "metadata": {},
   "outputs": [
    {
     "name": "stdout",
     "output_type": "stream",
     "text": [
      "1111111111111111\n"
     ]
    }
   ],
   "source": [
    "dt = {0 : 'python' , \n",
    "      'a' : \"JAVA\" , \n",
    "      \"tt\" : False, \n",
    "      3.7 : 72 , \n",
    "      4000 : 3.5 , \n",
    "      \"@#$\" : 4j, \n",
    "     10 : False, \n",
    "     10 : 888, \n",
    "     False : 999 , \n",
    "     0 : 1111111111111111}\n",
    "\n",
    "print(dt[False])"
   ]
  },
  {
   "cell_type": "code",
   "execution_count": null,
   "id": "cff35a8a",
   "metadata": {},
   "outputs": [],
   "source": []
  },
  {
   "cell_type": "code",
   "execution_count": 30,
   "id": "9fd3a13a",
   "metadata": {},
   "outputs": [
    {
     "name": "stdout",
     "output_type": "stream",
     "text": [
      "{0: 'python', 1.2: ['JAVA', 2, 4, -3], 2j: False, 'ss': 72, 'my place': 3.5, True: 4j, 66: ('JAVA', 2, 4, -3), 99: {-3, 2, 4, 'JAVA'}, 33: {1: 10, 2: 20}}\n"
     ]
    }
   ],
   "source": [
    "# - KEys are IMMUTABLE but values are MUTABLE (they are LIST definition)\n",
    "\n",
    "\n",
    "dt = {0 : 'python' , \n",
    "      1.2 : [\"JAVA\", 2 , 4 , -3] , \n",
    "      2j : False, \n",
    "      'ss' : 72 , \n",
    "      \"my place\" : 3.5 , \n",
    "      True : 4j, \n",
    "     66 : (\"JAVA\", 2 , 4 , -3) , \n",
    "     99 : {\"JAVA\", 2 , 4 , -3}, \n",
    "     33 : {1 : 10 , 2 : 20}}\n",
    "\n",
    "print( dt )\n",
    "\n",
    "\n"
   ]
  },
  {
   "cell_type": "code",
   "execution_count": 32,
   "id": "a7389e93",
   "metadata": {},
   "outputs": [
    {
     "name": "stdout",
     "output_type": "stream",
     "text": [
      "{0: 'python', 1.2: ['JAVA', 2, 4, -3], 2j: False, 'ss': 72, 'my place': 3.5, True: 4j, ('JAVA', 2, 4, -3): 66, 99: {-3, 2, 4, 'JAVA'}, 33: {1: 10, 2: 20}}\n"
     ]
    }
   ],
   "source": [
    "# - KEys are IMMUTABLE but values are MUTABLE (they are LIST definition)\n",
    "\n",
    "\n",
    "dt = {0 : 'python' , \n",
    "      1.2 : [\"JAVA\", 2 , 4 , -3] , \n",
    "      2j : False, \n",
    "      'ss' : 72 , \n",
    "      \"my place\" : 3.5 , \n",
    "      True : 4j, \n",
    "     (\"JAVA\", 2 , 4 , -3) : 66  , \n",
    "     99 : {\"JAVA\", 2 , 4 , -3}, \n",
    "     33 : {1 : 10 , 2 : 20}}\n",
    "\n",
    "print( dt )\n",
    "\n",
    "\n"
   ]
  },
  {
   "cell_type": "code",
   "execution_count": 33,
   "id": "e037c047",
   "metadata": {},
   "outputs": [
    {
     "ename": "TypeError",
     "evalue": "unhashable type: 'list'",
     "output_type": "error",
     "traceback": [
      "\u001b[1;31m---------------------------------------------------------------------------\u001b[0m",
      "\u001b[1;31mTypeError\u001b[0m                                 Traceback (most recent call last)",
      "Cell \u001b[1;32mIn[33], line 4\u001b[0m\n\u001b[0;32m      1\u001b[0m \u001b[38;5;66;03m# - KEys are IMMUTABLE but values are MUTABLE (they are LIST definition)\u001b[39;00m\n\u001b[1;32m----> 4\u001b[0m dt \u001b[38;5;241m=\u001b[39m {\u001b[38;5;241m0\u001b[39m : \u001b[38;5;124m'\u001b[39m\u001b[38;5;124mpython\u001b[39m\u001b[38;5;124m'\u001b[39m , \n\u001b[0;32m      5\u001b[0m       [\u001b[38;5;124m\"\u001b[39m\u001b[38;5;124mJAVA\u001b[39m\u001b[38;5;124m\"\u001b[39m, \u001b[38;5;241m2\u001b[39m , \u001b[38;5;241m4\u001b[39m , \u001b[38;5;241m-\u001b[39m\u001b[38;5;241m3\u001b[39m]  : \u001b[38;5;241m1.2\u001b[39m, \n\u001b[0;32m      6\u001b[0m       \u001b[38;5;241m2\u001b[39mj : \u001b[38;5;28;01mFalse\u001b[39;00m, \n\u001b[0;32m      7\u001b[0m       \u001b[38;5;124m'\u001b[39m\u001b[38;5;124mss\u001b[39m\u001b[38;5;124m'\u001b[39m : \u001b[38;5;241m72\u001b[39m , \n\u001b[0;32m      8\u001b[0m       \u001b[38;5;124m\"\u001b[39m\u001b[38;5;124mmy place\u001b[39m\u001b[38;5;124m\"\u001b[39m : \u001b[38;5;241m3.5\u001b[39m , \n\u001b[0;32m      9\u001b[0m       \u001b[38;5;28;01mTrue\u001b[39;00m : \u001b[38;5;241m4\u001b[39mj, \n\u001b[0;32m     10\u001b[0m      (\u001b[38;5;124m\"\u001b[39m\u001b[38;5;124mJAVA\u001b[39m\u001b[38;5;124m\"\u001b[39m, \u001b[38;5;241m2\u001b[39m , \u001b[38;5;241m4\u001b[39m , \u001b[38;5;241m-\u001b[39m\u001b[38;5;241m3\u001b[39m) : \u001b[38;5;241m66\u001b[39m  , \n\u001b[0;32m     11\u001b[0m      \u001b[38;5;241m99\u001b[39m : {\u001b[38;5;124m\"\u001b[39m\u001b[38;5;124mJAVA\u001b[39m\u001b[38;5;124m\"\u001b[39m, \u001b[38;5;241m2\u001b[39m , \u001b[38;5;241m4\u001b[39m , \u001b[38;5;241m-\u001b[39m\u001b[38;5;241m3\u001b[39m}, \n\u001b[0;32m     12\u001b[0m      \u001b[38;5;241m33\u001b[39m : {\u001b[38;5;241m1\u001b[39m : \u001b[38;5;241m10\u001b[39m , \u001b[38;5;241m2\u001b[39m : \u001b[38;5;241m20\u001b[39m}}\n\u001b[0;32m     14\u001b[0m \u001b[38;5;28mprint\u001b[39m( dt )\n",
      "\u001b[1;31mTypeError\u001b[0m: unhashable type: 'list'"
     ]
    }
   ],
   "source": [
    "# - KEys are IMMUTABLE but values are MUTABLE (they are LIST definition)\n",
    "\n",
    "\n",
    "dt = {0 : 'python' , \n",
    "      [\"JAVA\", 2 , 4 , -3]  : 1.2, \n",
    "      2j : False, \n",
    "      'ss' : 72 , \n",
    "      \"my place\" : 3.5 , \n",
    "      True : 4j, \n",
    "     (\"JAVA\", 2 , 4 , -3) : 66  , \n",
    "     99 : {\"JAVA\", 2 , 4 , -3}, \n",
    "     33 : {1 : 10 , 2 : 20}}\n",
    "\n",
    "print( dt )\n",
    "\n",
    "\n"
   ]
  },
  {
   "cell_type": "code",
   "execution_count": 34,
   "id": "f00cd54f",
   "metadata": {},
   "outputs": [
    {
     "ename": "TypeError",
     "evalue": "unhashable type: 'set'",
     "output_type": "error",
     "traceback": [
      "\u001b[1;31m---------------------------------------------------------------------------\u001b[0m",
      "\u001b[1;31mTypeError\u001b[0m                                 Traceback (most recent call last)",
      "Cell \u001b[1;32mIn[34], line 4\u001b[0m\n\u001b[0;32m      1\u001b[0m \u001b[38;5;66;03m# - KEys are IMMUTABLE but values are MUTABLE (they are LIST definition)\u001b[39;00m\n\u001b[1;32m----> 4\u001b[0m dt \u001b[38;5;241m=\u001b[39m {\u001b[38;5;241m0\u001b[39m : \u001b[38;5;124m'\u001b[39m\u001b[38;5;124mpython\u001b[39m\u001b[38;5;124m'\u001b[39m , \n\u001b[0;32m      5\u001b[0m       \u001b[38;5;241m1.2\u001b[39m : [\u001b[38;5;124m\"\u001b[39m\u001b[38;5;124mJAVA\u001b[39m\u001b[38;5;124m\"\u001b[39m, \u001b[38;5;241m2\u001b[39m , \u001b[38;5;241m4\u001b[39m , \u001b[38;5;241m-\u001b[39m\u001b[38;5;241m3\u001b[39m] , \n\u001b[0;32m      6\u001b[0m       \u001b[38;5;241m2\u001b[39mj : \u001b[38;5;28;01mFalse\u001b[39;00m, \n\u001b[0;32m      7\u001b[0m       \u001b[38;5;124m'\u001b[39m\u001b[38;5;124mss\u001b[39m\u001b[38;5;124m'\u001b[39m : \u001b[38;5;241m72\u001b[39m , \n\u001b[0;32m      8\u001b[0m       \u001b[38;5;124m\"\u001b[39m\u001b[38;5;124mmy place\u001b[39m\u001b[38;5;124m\"\u001b[39m : \u001b[38;5;241m3.5\u001b[39m , \n\u001b[0;32m      9\u001b[0m       \u001b[38;5;28;01mTrue\u001b[39;00m : \u001b[38;5;241m4\u001b[39mj, \n\u001b[0;32m     10\u001b[0m      (\u001b[38;5;124m\"\u001b[39m\u001b[38;5;124mJAVA\u001b[39m\u001b[38;5;124m\"\u001b[39m, \u001b[38;5;241m2\u001b[39m , \u001b[38;5;241m4\u001b[39m , \u001b[38;5;241m-\u001b[39m\u001b[38;5;241m3\u001b[39m) : \u001b[38;5;241m66\u001b[39m  , \n\u001b[0;32m     11\u001b[0m      {\u001b[38;5;124m\"\u001b[39m\u001b[38;5;124mJAVA\u001b[39m\u001b[38;5;124m\"\u001b[39m, \u001b[38;5;241m2\u001b[39m , \u001b[38;5;241m4\u001b[39m , \u001b[38;5;241m-\u001b[39m\u001b[38;5;241m3\u001b[39m} : \u001b[38;5;241m99\u001b[39m , \n\u001b[0;32m     12\u001b[0m      \u001b[38;5;241m33\u001b[39m : {\u001b[38;5;241m1\u001b[39m : \u001b[38;5;241m10\u001b[39m , \u001b[38;5;241m2\u001b[39m : \u001b[38;5;241m20\u001b[39m}}\n\u001b[0;32m     14\u001b[0m \u001b[38;5;28mprint\u001b[39m( dt )\n",
      "\u001b[1;31mTypeError\u001b[0m: unhashable type: 'set'"
     ]
    }
   ],
   "source": [
    "# - KEys are IMMUTABLE but values are MUTABLE (they are LIST definition)\n",
    "\n",
    "\n",
    "dt = {0 : 'python' , \n",
    "      1.2 : [\"JAVA\", 2 , 4 , -3] , \n",
    "      2j : False, \n",
    "      'ss' : 72 , \n",
    "      \"my place\" : 3.5 , \n",
    "      True : 4j, \n",
    "     (\"JAVA\", 2 , 4 , -3) : 66  , \n",
    "     {\"JAVA\", 2 , 4 , -3} : 99 , \n",
    "     33 : {1 : 10 , 2 : 20}}\n",
    "\n",
    "print( dt )\n",
    "\n",
    "\n"
   ]
  },
  {
   "cell_type": "code",
   "execution_count": null,
   "id": "ee1f32f0",
   "metadata": {},
   "outputs": [],
   "source": []
  },
  {
   "cell_type": "code",
   "execution_count": 35,
   "id": "85a050d1",
   "metadata": {},
   "outputs": [
    {
     "ename": "TypeError",
     "evalue": "unhashable type: 'dict'",
     "output_type": "error",
     "traceback": [
      "\u001b[1;31m---------------------------------------------------------------------------\u001b[0m",
      "\u001b[1;31mTypeError\u001b[0m                                 Traceback (most recent call last)",
      "Cell \u001b[1;32mIn[35], line 4\u001b[0m\n\u001b[0;32m      1\u001b[0m \u001b[38;5;66;03m# - KEys are IMMUTABLE but values are MUTABLE (they are LIST definition)\u001b[39;00m\n\u001b[1;32m----> 4\u001b[0m dt \u001b[38;5;241m=\u001b[39m {\u001b[38;5;241m0\u001b[39m : \u001b[38;5;124m'\u001b[39m\u001b[38;5;124mpython\u001b[39m\u001b[38;5;124m'\u001b[39m , \n\u001b[0;32m      5\u001b[0m       \u001b[38;5;241m1.2\u001b[39m : [\u001b[38;5;124m\"\u001b[39m\u001b[38;5;124mJAVA\u001b[39m\u001b[38;5;124m\"\u001b[39m, \u001b[38;5;241m2\u001b[39m , \u001b[38;5;241m4\u001b[39m , \u001b[38;5;241m-\u001b[39m\u001b[38;5;241m3\u001b[39m] , \n\u001b[0;32m      6\u001b[0m       \u001b[38;5;241m2\u001b[39mj : \u001b[38;5;28;01mFalse\u001b[39;00m, \n\u001b[0;32m      7\u001b[0m       \u001b[38;5;124m'\u001b[39m\u001b[38;5;124mss\u001b[39m\u001b[38;5;124m'\u001b[39m : \u001b[38;5;241m72\u001b[39m , \n\u001b[0;32m      8\u001b[0m       \u001b[38;5;124m\"\u001b[39m\u001b[38;5;124mmy place\u001b[39m\u001b[38;5;124m\"\u001b[39m : \u001b[38;5;241m3.5\u001b[39m , \n\u001b[0;32m      9\u001b[0m       \u001b[38;5;28;01mTrue\u001b[39;00m : \u001b[38;5;241m4\u001b[39mj, \n\u001b[0;32m     10\u001b[0m      (\u001b[38;5;124m\"\u001b[39m\u001b[38;5;124mJAVA\u001b[39m\u001b[38;5;124m\"\u001b[39m, \u001b[38;5;241m2\u001b[39m , \u001b[38;5;241m4\u001b[39m , \u001b[38;5;241m-\u001b[39m\u001b[38;5;241m3\u001b[39m) : \u001b[38;5;241m66\u001b[39m  , \n\u001b[0;32m     11\u001b[0m      \u001b[38;5;241m99\u001b[39m : {\u001b[38;5;124m\"\u001b[39m\u001b[38;5;124mJAVA\u001b[39m\u001b[38;5;124m\"\u001b[39m, \u001b[38;5;241m2\u001b[39m , \u001b[38;5;241m4\u001b[39m , \u001b[38;5;241m-\u001b[39m\u001b[38;5;241m3\u001b[39m}, \n\u001b[0;32m     12\u001b[0m      {\u001b[38;5;241m1\u001b[39m : \u001b[38;5;241m10\u001b[39m , \u001b[38;5;241m2\u001b[39m : \u001b[38;5;241m20\u001b[39m} : \u001b[38;5;241m33\u001b[39m }\n\u001b[0;32m     14\u001b[0m \u001b[38;5;28mprint\u001b[39m( dt )\n",
      "\u001b[1;31mTypeError\u001b[0m: unhashable type: 'dict'"
     ]
    }
   ],
   "source": [
    "# - KEys are IMMUTABLE but values are MUTABLE (they are LIST definition)\n",
    "\n",
    "\n",
    "dt = {0 : 'python' , \n",
    "      1.2 : [\"JAVA\", 2 , 4 , -3] , \n",
    "      2j : False, \n",
    "      'ss' : 72 , \n",
    "      \"my place\" : 3.5 , \n",
    "      True : 4j, \n",
    "     (\"JAVA\", 2 , 4 , -3) : 66  , \n",
    "     99 : {\"JAVA\", 2 , 4 , -3}, \n",
    "     {1 : 10 , 2 : 20} : 33 }\n",
    "\n",
    "print( dt )\n",
    "\n",
    "\n"
   ]
  },
  {
   "cell_type": "code",
   "execution_count": null,
   "id": "5542caaf",
   "metadata": {},
   "outputs": [],
   "source": []
  },
  {
   "cell_type": "markdown",
   "id": "6ca88921",
   "metadata": {},
   "source": [
    "## Basic Operations"
   ]
  },
  {
   "cell_type": "code",
   "execution_count": 37,
   "id": "a81b6a1d",
   "metadata": {},
   "outputs": [
    {
     "name": "stdout",
     "output_type": "stream",
     "text": [
      "{0: 'python', 1.2: ['JAVA', 2, 4, -3], 2j: False, 'ss': 72, 'my place': 3.5, True: 4j, 66: ('JAVA', 2, 4, -3), 99: {-3, 2, 4, 'JAVA'}, 33: {1: 10, 2: 20}}\n",
      "9\n"
     ]
    }
   ],
   "source": [
    "# 1. Len : it will return total key value pairs\n",
    "\n",
    "dt = {0 : 'python' , \n",
    "      1.2 : [\"JAVA\", 2 , 4 , -3] , \n",
    "      2j : False, \n",
    "      'ss' : 72 , \n",
    "      \"my place\" : 3.5 , \n",
    "      True : 4j, \n",
    "     66 : (\"JAVA\", 2 , 4 , -3) , \n",
    "     99 : {\"JAVA\", 2 , 4 , -3}, \n",
    "     33 : {1 : 10 , 2 : 20}}\n",
    "\n",
    "print( dt )\n",
    "print( len(dt) )"
   ]
  },
  {
   "cell_type": "code",
   "execution_count": 40,
   "id": "1cc8fe48",
   "metadata": {},
   "outputs": [
    {
     "name": "stdout",
     "output_type": "stream",
     "text": [
      "{0: 'python', 1.2: ['JAVA', 2, 4, -3], 2j: False, 'ss': 72, 'my place': 3.5, True: 4j, 66: ('JAVA', 2, 4, -3), 99: {-3, 2, 4, 'JAVA'}, 33: {1: 10, 2: 20}}\n"
     ]
    },
    {
     "ename": "TypeError",
     "evalue": "unhashable type: 'slice'",
     "output_type": "error",
     "traceback": [
      "\u001b[1;31m---------------------------------------------------------------------------\u001b[0m",
      "\u001b[1;31mTypeError\u001b[0m                                 Traceback (most recent call last)",
      "Cell \u001b[1;32mIn[40], line 15\u001b[0m\n\u001b[0;32m     13\u001b[0m \u001b[38;5;28mprint\u001b[39m( dt )\n\u001b[0;32m     14\u001b[0m \u001b[38;5;66;03m# print( dt[100] )\u001b[39;00m\n\u001b[1;32m---> 15\u001b[0m \u001b[38;5;28mprint\u001b[39m( dt[\u001b[38;5;241m1\u001b[39m : \u001b[38;5;241m3\u001b[39m] )\n",
      "\u001b[1;31mTypeError\u001b[0m: unhashable type: 'slice'"
     ]
    }
   ],
   "source": [
    "# 2 No Index (wrt POSITIONS) and Slice\n",
    "\n",
    "dt = {0 : 'python' , \n",
    "      1.2 : [\"JAVA\", 2 , 4 , -3] , \n",
    "      2j : False, \n",
    "      'ss' : 72 , \n",
    "      \"my place\" : 3.5 , \n",
    "      True : 4j, \n",
    "     66 : (\"JAVA\", 2 , 4 , -3) , \n",
    "     99 : {\"JAVA\", 2 , 4 , -3}, \n",
    "     33 : {1 : 10 , 2 : 20}}\n",
    "\n",
    "print( dt )\n",
    "# print( dt[100] )\n",
    "# print( dt[1 : 3] )\n"
   ]
  },
  {
   "cell_type": "code",
   "execution_count": 42,
   "id": "cc890a7b",
   "metadata": {},
   "outputs": [
    {
     "ename": "TypeError",
     "evalue": "unsupported operand type(s) for *: 'dict' and 'int'",
     "output_type": "error",
     "traceback": [
      "\u001b[1;31m---------------------------------------------------------------------------\u001b[0m",
      "\u001b[1;31mTypeError\u001b[0m                                 Traceback (most recent call last)",
      "Cell \u001b[1;32mIn[42], line 4\u001b[0m\n\u001b[0;32m      1\u001b[0m \u001b[38;5;66;03m# 3. No concat and No repeat\u001b[39;00m\n\u001b[0;32m      2\u001b[0m \n\u001b[0;32m      3\u001b[0m \u001b[38;5;66;03m# print( {1 : 10 , 2 : 20} + {3 : 30 , 4 : 40} )\u001b[39;00m\n\u001b[1;32m----> 4\u001b[0m \u001b[38;5;28mprint\u001b[39m( {\u001b[38;5;241m1\u001b[39m : \u001b[38;5;241m10\u001b[39m , \u001b[38;5;241m2\u001b[39m : \u001b[38;5;241m20\u001b[39m} \u001b[38;5;241m*\u001b[39m \u001b[38;5;241m3\u001b[39m )\n",
      "\u001b[1;31mTypeError\u001b[0m: unsupported operand type(s) for *: 'dict' and 'int'"
     ]
    }
   ],
   "source": [
    "# 3. No concat and No repeat\n",
    "\n",
    "# print( {1 : 10 , 2 : 20} + {3 : 30 , 4 : 40} )\n",
    "# print( {1 : 10 , 2 : 20} * 3 )\n"
   ]
  },
  {
   "cell_type": "code",
   "execution_count": 44,
   "id": "e2ea1d24",
   "metadata": {},
   "outputs": [
    {
     "name": "stdout",
     "output_type": "stream",
     "text": [
      "{0: 'python', 1.2: ['JAVA', 2, 4, -3], 2j: False, 'ss': 72, 'my place': 3.5, True: 4j, 66: ('JAVA', 2, 4, -3), 99: {-3, 2, 4, 'JAVA'}, 33: {1: 10, 2: 20}}\n",
      "True\n",
      "False\n"
     ]
    }
   ],
   "source": [
    "# 4. mEMBERSHIP : \n",
    "# return TRUE if KEY is present or not ??\n",
    "\n",
    "\n",
    "dt = {0 : 'python' , \n",
    "      1.2 : [\"JAVA\", 2 , 4 , -3] , \n",
    "      2j : False, \n",
    "      'ss' : 72 , \n",
    "      \"my place\" : 3.5 , \n",
    "      True : 4j, \n",
    "     66 : (\"JAVA\", 2 , 4 , -3) , \n",
    "     99 : {\"JAVA\", 2 , 4 , -3}, \n",
    "     33 : {1 : 10 , 2 : 20}}\n",
    "\n",
    "print( dt )\n",
    "print( 99 in dt )\n",
    "print( 4j in dt )\n"
   ]
  },
  {
   "cell_type": "code",
   "execution_count": null,
   "id": "4849ec77",
   "metadata": {},
   "outputs": [],
   "source": []
  },
  {
   "cell_type": "markdown",
   "id": "90bd12d3",
   "metadata": {},
   "source": [
    "# Dictionary Methods"
   ]
  },
  {
   "cell_type": "code",
   "execution_count": 46,
   "id": "929bf5a0",
   "metadata": {},
   "outputs": [
    {
     "name": "stdout",
     "output_type": "stream",
     "text": [
      "['__class__', '__class_getitem__', '__contains__', '__delattr__', '__delitem__', '__dir__', '__doc__', '__eq__', '__format__', '__ge__', '__getattribute__', '__getitem__', '__getstate__', '__gt__', '__hash__', '__init__', '__init_subclass__', '__ior__', '__iter__', '__le__', '__len__', '__lt__', '__ne__', '__new__', '__or__', '__reduce__', '__reduce_ex__', '__repr__', '__reversed__', '__ror__', '__setattr__', '__setitem__', '__sizeof__', '__str__', '__subclasshook__', 'clear', 'copy', 'fromkeys', 'get', 'items', 'keys', 'pop', 'popitem', 'setdefault', 'update', 'values']\n"
     ]
    }
   ],
   "source": [
    "print( dir(dict) )"
   ]
  },
  {
   "cell_type": "markdown",
   "id": "3b3f6152",
   "metadata": {},
   "source": [
    "'clear', 'copy', 'fromkeys', 'get', 'items', 'keys', 'pop', 'popitem', 'setdefault', 'update', 'values'\n"
   ]
  },
  {
   "cell_type": "markdown",
   "id": "234d5a1b",
   "metadata": {},
   "source": [
    "-- delete from here ---\n",
    "\n",
    "'', '', 'fromkeys', '', '', '', , 'setdefault', '', ''\n"
   ]
  },
  {
   "cell_type": "code",
   "execution_count": 47,
   "id": "71f07b07",
   "metadata": {},
   "outputs": [],
   "source": [
    "# 1. clear - delete all key value pairs\n"
   ]
  },
  {
   "cell_type": "code",
   "execution_count": 48,
   "id": "fcbe671d",
   "metadata": {},
   "outputs": [],
   "source": [
    "# 2. copy - it will ccreate a copy of dict"
   ]
  },
  {
   "cell_type": "code",
   "execution_count": 112,
   "id": "941dc9ec",
   "metadata": {},
   "outputs": [
    {
     "name": "stdout",
     "output_type": "stream",
     "text": [
      "dict_values(['python', 'JAVA', False, 72, 3.5, 4j, False])\n",
      "python\n",
      "JAVA\n",
      "False\n",
      "72\n",
      "3.5\n",
      "4j\n",
      "False\n"
     ]
    }
   ],
   "source": [
    "# 3. values\n",
    "\n",
    "dt = {0 : 'python' , \n",
    "      'a' : \"JAVA\" , \n",
    "      \"tt\" : False, \n",
    "      3.7 : 72 , \n",
    "      4000 : 3.5 , \n",
    "      \"@#$\" : 4j, \n",
    "     10 : False}\n",
    "\n",
    "print( dt.values() )\n",
    "\n",
    "for v in dt.values() : \n",
    "    print(v)\n"
   ]
  },
  {
   "cell_type": "code",
   "execution_count": 111,
   "id": "555404b4",
   "metadata": {},
   "outputs": [
    {
     "name": "stdout",
     "output_type": "stream",
     "text": [
      "dict_keys([0, 'a', 'tt', 3.7, 4000, '@#$', 10])\n",
      "0  ---  python\n",
      "a  ---  JAVA\n",
      "tt  ---  False\n",
      "3.7  ---  72\n",
      "4000  ---  3.5\n",
      "@#$  ---  4j\n",
      "10  ---  False\n"
     ]
    }
   ],
   "source": [
    "# 4. keys\n",
    "\n",
    "dt = {0 : 'python' , \n",
    "      'a' : \"JAVA\" , \n",
    "      \"tt\" : False, \n",
    "      3.7 : 72 , \n",
    "      4000 : 3.5 , \n",
    "      \"@#$\" : 4j, \n",
    "     10 : False}\n",
    "\n",
    "print( dt.keys() )\n",
    "\n",
    "for k in dt.keys() : \n",
    "    print(k , \" --- \", dt[k])\n",
    "\n",
    "    "
   ]
  },
  {
   "cell_type": "code",
   "execution_count": null,
   "id": "91416329",
   "metadata": {},
   "outputs": [],
   "source": []
  },
  {
   "cell_type": "code",
   "execution_count": null,
   "id": "e6239849",
   "metadata": {},
   "outputs": [],
   "source": []
  },
  {
   "cell_type": "code",
   "execution_count": 57,
   "id": "5559249f",
   "metadata": {},
   "outputs": [],
   "source": [
    "# \"a\" in dt.keys()"
   ]
  },
  {
   "cell_type": "code",
   "execution_count": 115,
   "id": "2bec40af",
   "metadata": {},
   "outputs": [
    {
     "name": "stdout",
     "output_type": "stream",
     "text": [
      "dict_items([(0, 'python'), ('a', 'JAVA'), ('tt', False), (3.7, 72), (4000, 3.5), ('@#$', 4j), (10, False)])\n",
      "(0, 'python')\n",
      "('a', 'JAVA')\n",
      "('tt', False)\n",
      "(3.7, 72)\n",
      "(4000, 3.5)\n",
      "('@#$', 4j)\n",
      "(10, False)\n",
      "\n",
      "0  --  python\n",
      "a  --  JAVA\n",
      "tt  --  False\n",
      "3.7  --  72\n",
      "4000  --  3.5\n",
      "@#$  --  4j\n",
      "10  --  False\n"
     ]
    }
   ],
   "source": [
    "# 5. Pairs\n",
    "\n",
    "dt = {0 : 'python' , \n",
    "      'a' : \"JAVA\" , \n",
    "      \"tt\" : False, \n",
    "      3.7 : 72 , \n",
    "      4000 : 3.5 , \n",
    "      \"@#$\" : 4j, \n",
    "     10 : False}\n",
    "\n",
    "print( dt.items() )\n",
    "\n",
    "for pair in dt.items() : \n",
    "    print(pair)\n",
    "\n",
    "print()\n",
    "\n",
    "for pair in dt.items() : \n",
    "    print(pair[0] , \" -- \", pair[1])\n"
   ]
  },
  {
   "cell_type": "code",
   "execution_count": 65,
   "id": "f5fba8ec",
   "metadata": {},
   "outputs": [
    {
     "name": "stdout",
     "output_type": "stream",
     "text": [
      "72\n",
      "72\n",
      "No such key\n",
      "This is END\n"
     ]
    }
   ],
   "source": [
    "# 6. Read the value against the Keys\n",
    "# syntax : dtName[keyName]  --> return the value if present, else error\n",
    "# syntax : dtName.get(keyName, \"...\")  --> return the value if present, else it will give CUSTOM answer\n",
    "\n",
    "\n",
    "dt = {0 : 'python' , \n",
    "      'a' : \"JAVA\" , \n",
    "      \"tt\" : False, \n",
    "      3.7 : 72 , \n",
    "      4000 : 3.5 , \n",
    "      \"@#$\" : 4j, \n",
    "     10 : False}\n",
    "\n",
    "# 72 ???\n",
    "print( dt[3.7] )   \n",
    "print( dt.get(3.7) )\n",
    "\n",
    "# print( dt['delhi'] ) # using conditoinal statement\n",
    "# if 'delhi' in dt.keys() : print( dt['delhi'] )\n",
    "# else : print(\"No such key\")\n",
    "\n",
    "print( dt.get('delhi', \"No such key\") )\n",
    "\n",
    "\n",
    "print('This is END')"
   ]
  },
  {
   "cell_type": "code",
   "execution_count": null,
   "id": "0be8a97f",
   "metadata": {},
   "outputs": [],
   "source": [
    "\n"
   ]
  },
  {
   "cell_type": "code",
   "execution_count": 68,
   "id": "ec129df9",
   "metadata": {},
   "outputs": [
    {
     "name": "stdout",
     "output_type": "stream",
     "text": [
      "['python', 'JAVA', False, 72, 3.5, 4j, False]\n",
      "['python', 'JAVA', False, 72, 3.5, 'nitish', False]\n"
     ]
    }
   ],
   "source": [
    "# 7. Update any value in LIST???\n",
    "\n",
    "listName = ['python' , \n",
    "            \"JAVA\" , \n",
    "            False, \n",
    "            72 , \n",
    "            3.5 , \n",
    "            4j, \n",
    "            False]\n",
    "\n",
    "print( listName )\n",
    "# replace 4j by 'Nitish' ???\n",
    "listName[5] = \"nitish\"\n",
    "print( listName )\n"
   ]
  },
  {
   "cell_type": "code",
   "execution_count": 70,
   "id": "22220904",
   "metadata": {},
   "outputs": [
    {
     "name": "stdout",
     "output_type": "stream",
     "text": [
      "{0: 'python', 'a': 'JAVA', 'tt': False, 3.7: 72, 4000: 3.5, '@#$': 4j, 10: False}\n",
      "{0: 'python', 'a': 'JAVA', 'tt': False, 3.7: 72, 4000: 3.5, '@#$': 'nitish', 10: False}\n"
     ]
    }
   ],
   "source": [
    "# 7. Update any value in DICTIOANRY???\n",
    "# dtName[keyName] = value\n",
    "# If key is present\n",
    "\n",
    "dt = {0 : 'python' , \n",
    "      'a' : \"JAVA\" , \n",
    "      \"tt\" : False, \n",
    "      3.7 : 72 , \n",
    "      4000 : 3.5 , \n",
    "      \"@#$\" : 4j, \n",
    "     10 : False}\n",
    "\n",
    "print( dt )\n",
    "dt['@#$'] = 'nitish'\n",
    "\n",
    "print( dt )\n"
   ]
  },
  {
   "cell_type": "code",
   "execution_count": null,
   "id": "42089d21",
   "metadata": {},
   "outputs": [],
   "source": []
  },
  {
   "cell_type": "code",
   "execution_count": 71,
   "id": "93c14bff",
   "metadata": {},
   "outputs": [
    {
     "name": "stdout",
     "output_type": "stream",
     "text": [
      "['python', 'JAVA', False, 72, 3.5, 4j, False]\n",
      "['python', 'JAVA', False, 72, 3.5, 4j, False, 'delhi']\n"
     ]
    }
   ],
   "source": [
    "# 8. Insert any value in LIST???\n",
    "\n",
    "listName = ['python' , \n",
    "            \"JAVA\" , \n",
    "            False, \n",
    "            72 , \n",
    "            3.5 , \n",
    "            4j, \n",
    "            False]\n",
    "\n",
    "print( listName )\n",
    "# Insert 'delhi' ???\n",
    "\n",
    "listName.append('delhi')  # append --> end of the list ; insert --> at any position\n",
    "print( listName )\n"
   ]
  },
  {
   "cell_type": "code",
   "execution_count": 77,
   "id": "446f7a6f",
   "metadata": {},
   "outputs": [
    {
     "name": "stdout",
     "output_type": "stream",
     "text": [
      "{0: 'python', 'a': 'JAVA', 'tt': False, 3.7: 72, 4000: 3.5, '@#$': 4j, 10: False}\n",
      "{0: 'python', 'a': 'cSharp', 'tt': False, 3.7: 72, 4000: 3.5, '@#$': 'nitish', 10: False}\n",
      "\n",
      "{0: 'chandigarh', 'a': 'cSharp', 'tt': False, 3.7: 72, 4000: 3.5, '@#$': 'nitish', 10: False, 'place': 'delhi', 'new place': 'chandigarh'}\n"
     ]
    }
   ],
   "source": [
    "# 8. Insert any value in DICTIONARY???\n",
    "# dtName[keyName] = value\n",
    "# If key is not present\n",
    "\n",
    "\n",
    "dt = {0 : 'python' , \n",
    "      'a' : \"JAVA\" , \n",
    "      \"tt\" : False, \n",
    "      3.7 : 72 , \n",
    "      4000 : 3.5 , \n",
    "      \"@#$\" : 4j, \n",
    "     10 : False}\n",
    "\n",
    "print( dt )\n",
    "dt['@#$'] = 'nitish'  # Key is PRESENT       --------> UPDATE\n",
    "dt.update({'a' : 'cSharp'}) # Key is PRESENT       --------> UPDATE\n",
    "print(dt)\n",
    "\n",
    "print()\n",
    "dt['place'] = 'delhi' # Key is NOT PRESENT       --------> INSERT\n",
    "dt.update({'new place' : 'chandigarh'}) # Key is NOT PRESENT       --------> INSERT\n",
    "dt.update({0 : 'chandigarh'})  # Key is PRESENT       --------> UPDATE\n",
    "\n",
    "print( dt )\n"
   ]
  },
  {
   "cell_type": "code",
   "execution_count": null,
   "id": "2df93734",
   "metadata": {},
   "outputs": [],
   "source": []
  },
  {
   "cell_type": "code",
   "execution_count": 80,
   "id": "c4b62326",
   "metadata": {},
   "outputs": [
    {
     "name": "stdout",
     "output_type": "stream",
     "text": [
      "3.5\n",
      "{0: 'python', 'a': 'JAVA', 'tt': False, 3.7: 72, '@#$': 4j, 10: False}\n"
     ]
    }
   ],
   "source": [
    "# 9. pop >> remove the value against the key and also return that value\n",
    "# LIST --> listName.pop(position)\n",
    "\n",
    "dt = {0 : 'python' , \n",
    "      'a' : \"JAVA\" , \n",
    "      \"tt\" : False, \n",
    "      3.7 : 72 , \n",
    "      4000 : 3.5 , \n",
    "      \"@#$\" : 4j, \n",
    "     10 : False}\n",
    "\n",
    "k = 4000\n",
    "v = dt.pop(k) \n",
    "print( v )\n",
    "print(dt)\n"
   ]
  },
  {
   "cell_type": "code",
   "execution_count": 81,
   "id": "2f6e7424",
   "metadata": {},
   "outputs": [
    {
     "name": "stdout",
     "output_type": "stream",
     "text": [
      "(10, False)\n",
      "{0: 'python', 'a': 'JAVA', 'tt': False, 3.7: 72, 4000: 3.5, '@#$': 4j}\n"
     ]
    }
   ],
   "source": [
    "# 9. popitem >> remove the last key-value pair \n",
    "# LIST --> listName.pop()\n",
    "\n",
    "dt = {0 : 'python' , \n",
    "      'a' : \"JAVA\" , \n",
    "      \"tt\" : False, \n",
    "      3.7 : 72 , \n",
    "      4000 : 3.5 , \n",
    "      \"@#$\" : 4j, \n",
    "     10 : False}\n",
    "\n",
    "ans = dt.popitem() \n",
    "print( ans )\n",
    "print(dt)\n"
   ]
  },
  {
   "cell_type": "code",
   "execution_count": null,
   "id": "5c7d8113",
   "metadata": {},
   "outputs": [],
   "source": []
  },
  {
   "cell_type": "code",
   "execution_count": 88,
   "id": "2db891a1",
   "metadata": {},
   "outputs": [
    {
     "name": "stdout",
     "output_type": "stream",
     "text": [
      "{0: 'python', 'a': 'JAVA', 'tt': False, 3.7: 72, 4000: 3.5, '@#$': 4j, 10: False}\n",
      "{10: None, 4000: None, 'a': None}\n"
     ]
    }
   ],
   "source": [
    "# 10. fromkeys \n",
    "\n",
    "dt = {0 : 'python' , \n",
    "      'a' : \"JAVA\" , \n",
    "      \"tt\" : False, \n",
    "      3.7 : 72 , \n",
    "      4000 : 3.5 , \n",
    "      \"@#$\" : 4j, \n",
    "     10 : False}\n",
    "\n",
    "print(dt)\n",
    "print( dt.fromkeys([10 , 4000 , \"a\"]) )  # Use the Parent dicionary key for different purpose\n"
   ]
  },
  {
   "cell_type": "code",
   "execution_count": 92,
   "id": "4c6972ee",
   "metadata": {},
   "outputs": [
    {
     "name": "stdout",
     "output_type": "stream",
     "text": [
      "{0: 'python', 'a': 'JAVA', 'tt': False, 3.7: 72, 4000: 3.5, '@#$': 4j, 10: False}\n",
      "{0: 'python', 'a': 'JAVA', 'tt': False, 3.7: 72, 4000: 3.5, '@#$': 4j, 10: False}\n",
      "{0: 'python', 'a': 'JAVA', 'tt': False, 3.7: 72, 4000: 3.5, '@#$': 4j, 10: False, 'x': 9999}\n",
      "JAVA\n",
      "There is no such key\n"
     ]
    }
   ],
   "source": [
    "# 11. setdefault \n",
    "# Insert a key value pair, if key is not there else it will return the value\n",
    "\n",
    "dt = {0 : 'python' , \n",
    "      'a' : \"JAVA\" , \n",
    "      \"tt\" : False, \n",
    "      3.7 : 72 , \n",
    "      4000 : 3.5 , \n",
    "      \"@#$\" : 4j, \n",
    "     10 : False}\n",
    "\n",
    "print(dt)\n",
    "dt.setdefault( \"a\" , 9999 )   \n",
    "print(dt)\n",
    "\n",
    "dt.setdefault( \"x\" , 9999 )   \n",
    "print(dt)\n",
    "\n",
    "\n",
    "ans = dt.get( \"a\" , 'There is no such key' )   \n",
    "print(ans)\n",
    "\n",
    "ans = dt.get( 'z' , 'There is no such key' )   \n",
    "print(ans)\n"
   ]
  },
  {
   "cell_type": "code",
   "execution_count": null,
   "id": "81b28a8d",
   "metadata": {},
   "outputs": [],
   "source": []
  },
  {
   "cell_type": "code",
   "execution_count": 96,
   "id": "6e98723b",
   "metadata": {},
   "outputs": [
    {
     "name": "stdout",
     "output_type": "stream",
     "text": [
      "g  --->  1\n",
      "o  --->  1\n",
      "a  --->  2\n",
      "   --->  4\n",
      "d  --->  2\n",
      "e  --->  5\n",
      "l  --->  1\n",
      "h  --->  1\n",
      "i  --->  2\n",
      "   --->  4\n",
      "d  --->  2\n",
      "e  --->  5\n",
      "c  --->  1\n",
      "e  --->  5\n",
      "m  --->  1\n",
      "b  --->  1\n",
      "e  --->  5\n",
      "r  --->  3\n",
      "   --->  4\n",
      "p  --->  2\n",
      "u  --->  2\n",
      "n  --->  1\n",
      "e  --->  5\n",
      "   --->  4\n",
      "r  --->  3\n",
      "a  --->  2\n",
      "i  --->  2\n",
      "p  --->  2\n",
      "u  --->  2\n",
      "r  --->  3\n"
     ]
    }
   ],
   "source": [
    "# Q. return the occurence of aplhabets\n",
    "stringName = \"goa delhi december pune raipur\"\n",
    "\n",
    "for char in stringName : \n",
    "    print( char , \" ---> \", stringName.count(char) )"
   ]
  },
  {
   "cell_type": "code",
   "execution_count": 104,
   "id": "aff39289",
   "metadata": {},
   "outputs": [
    {
     "name": "stdout",
     "output_type": "stream",
     "text": [
      "['g', 'o', 'a', ' ', 'd', 'e', 'l', 'h', 'i', 'c', 'm', 'b', 'r', 'p', 'u', 'n']\n",
      "[1, 1, 2, 4, 2, 5, 1, 1, 2, 1, 1, 1, 3, 2, 2, 1]\n",
      "Character --> g , Occurence --> 1\n",
      "Character --> o , Occurence --> 1\n",
      "Character --> a , Occurence --> 2\n",
      "Character -->   , Occurence --> 4\n",
      "Character --> d , Occurence --> 2\n",
      "Character --> e , Occurence --> 5\n",
      "Character --> l , Occurence --> 1\n",
      "Character --> h , Occurence --> 1\n",
      "Character --> i , Occurence --> 2\n",
      "Character --> c , Occurence --> 1\n",
      "Character --> m , Occurence --> 1\n",
      "Character --> b , Occurence --> 1\n",
      "Character --> r , Occurence --> 3\n",
      "Character --> p , Occurence --> 2\n",
      "Character --> u , Occurence --> 2\n",
      "Character --> n , Occurence --> 1\n"
     ]
    }
   ],
   "source": [
    "# Q. return the occurence of aplhabets\n",
    "stringName = \"goa delhi december pune raipur\"\n",
    "\n",
    "char_list = []\n",
    "count_list = []\n",
    "for char in stringName : \n",
    "    if char not in char_list : \n",
    "        char_list.append( char  )\n",
    "        count_list.append(stringName.count(char))\n",
    "\n",
    "print(char_list)\n",
    "print(count_list)\n",
    "\n",
    "# len(char_list) == len(count_list)\n",
    "for i in range( 0, len(char_list) ) : \n",
    "    print(f\"Character --> {char_list[i]} , Occurence --> {count_list[i]}\")"
   ]
  },
  {
   "cell_type": "code",
   "execution_count": null,
   "id": "12ec1130",
   "metadata": {},
   "outputs": [],
   "source": []
  },
  {
   "cell_type": "code",
   "execution_count": 105,
   "id": "d2c6878d",
   "metadata": {},
   "outputs": [
    {
     "data": {
      "text/plain": [
       "True"
      ]
     },
     "execution_count": 105,
     "metadata": {},
     "output_type": "execute_result"
    }
   ],
   "source": [
    "stringName = \"goa delhi december pune raipur\"\n",
    "dt = {}\n",
    "\n",
    "\"a\" not in dt"
   ]
  },
  {
   "cell_type": "code",
   "execution_count": 128,
   "id": "c9ea334b",
   "metadata": {},
   "outputs": [
    {
     "name": "stdout",
     "output_type": "stream",
     "text": [
      "{'g': 1, 'o': 1, 'a': 2, ' ': 4, 'd': 2, 'e': 5, 'l': 1, 'h': 1, 'i': 2, 'c': 1, 'm': 1, 'b': 1, 'r': 3, 'p': 2, 'u': 2, 'n': 1}\n",
      "Character --> g , Occurence --> 1\n",
      "Character --> o , Occurence --> 1\n",
      "Character --> a , Occurence --> 2\n",
      "Character -->   , Occurence --> 4\n",
      "Character --> d , Occurence --> 2\n",
      "Character --> e , Occurence --> 5\n",
      "Character --> l , Occurence --> 1\n",
      "Character --> h , Occurence --> 1\n",
      "Character --> i , Occurence --> 2\n",
      "Character --> c , Occurence --> 1\n",
      "Character --> m , Occurence --> 1\n",
      "Character --> b , Occurence --> 1\n",
      "Character --> r , Occurence --> 3\n",
      "Character --> p , Occurence --> 2\n",
      "Character --> u , Occurence --> 2\n",
      "Character --> n , Occurence --> 1\n"
     ]
    }
   ],
   "source": [
    "# Q. return the occurence of aplhabets\n",
    "stringName = \"goa delhi december pune raipur\"\n",
    "\n",
    "dt = {}\n",
    "for char in stringName : \n",
    "    if char not in dt : \n",
    "        dt[char] = stringName.count(char)\n",
    "    else :\n",
    "#         myPlace = 10  # Its NO LOGIC linked....\n",
    "        pass\n",
    "print(dt)\n",
    "        \n",
    "for pair in dt.items() : \n",
    "#     print(pair)\n",
    "    print(f\"Character --> {pair[0]} , Occurence --> {pair[1]}\")\n"
   ]
  },
  {
   "cell_type": "code",
   "execution_count": 122,
   "id": "1cd797a9",
   "metadata": {},
   "outputs": [
    {
     "name": "stdout",
     "output_type": "stream",
     "text": [
      "{'g': 1, 'o': 1, 'a': 2, ' ': 4, 'd': 2, 'e': 5, 'l': 1, 'h': 1, 'i': 2, 'c': 1, 'm': 1, 'b': 1, 'r': 3, 'p': 2, 'u': 2, 'n': 1}\n",
      "Character --> g , Occurence --> 1\n",
      "Character --> o , Occurence --> 1\n",
      "Character --> a , Occurence --> 2\n",
      "Character -->   , Occurence --> 4\n",
      "Character --> d , Occurence --> 2\n",
      "Character --> e , Occurence --> 5\n",
      "Character --> l , Occurence --> 1\n",
      "Character --> h , Occurence --> 1\n",
      "Character --> i , Occurence --> 2\n",
      "Character --> c , Occurence --> 1\n",
      "Character --> m , Occurence --> 1\n",
      "Character --> b , Occurence --> 1\n",
      "Character --> r , Occurence --> 3\n",
      "Character --> p , Occurence --> 2\n",
      "Character --> u , Occurence --> 2\n",
      "Character --> n , Occurence --> 1\n"
     ]
    }
   ],
   "source": [
    "# Q. return the occurence of aplhabets\n",
    "stringName = \"goa delhi december pune raipur\"\n",
    "\n",
    "dt = {}\n",
    "for char in stringName : \n",
    "    if char in dt :\n",
    "        pass  # Its just like a MESSAGE on which no task is executed\n",
    "#         print(\"---\")\n",
    "    else :\n",
    "        dt[char] = stringName.count(char)\n",
    "print(dt)\n",
    "        \n",
    "for pair in dt.items() : \n",
    "#     print(pair)\n",
    "    print(f\"Character --> {pair[0]} , Occurence --> {pair[1]}\")\n"
   ]
  },
  {
   "cell_type": "code",
   "execution_count": null,
   "id": "953de8cc",
   "metadata": {},
   "outputs": [],
   "source": []
  },
  {
   "cell_type": "code",
   "execution_count": null,
   "id": "daf313ca",
   "metadata": {},
   "outputs": [],
   "source": []
  },
  {
   "cell_type": "code",
   "execution_count": null,
   "id": "c9aa28d0",
   "metadata": {},
   "outputs": [],
   "source": [
    "# Q. how many alphabets, digits and spaces are there in the string\n",
    "stringName = \"goa delhi 2023 @@@@@@@@@ december @pune RAIPUR @TIG999 \"\n"
   ]
  },
  {
   "cell_type": "code",
   "execution_count": 5,
   "id": "dfe38698",
   "metadata": {},
   "outputs": [
    {
     "name": "stdout",
     "output_type": "stream",
     "text": [
      "{'g': 1, 'o': 1, 'a': 1, 'd': 2, 'e': 5, 'l': 1, 'h': 1, 'i': 1, 'c': 1, 'm': 1, 'b': 1, 'r': 1, 'p': 1, 'u': 1, 'n': 1, 'R': 2, 'A': 1, 'I': 2, 'P': 1, 'U': 1, 'T': 1, 'G': 1}\n",
      "{'2': 2, '0': 1, '3': 1, '9': 3}\n",
      "{' ': 8}\n",
      "{'@': 11, 'd': 2, 'e': 5, 'R': 2, 'I': 2}\n"
     ]
    }
   ],
   "source": [
    "Sname = \"goa delhi 2023 @@@@@@@@@ december @pune RAIPUR @TIG999 \"\n",
    "\n",
    "a_d = {}\n",
    "d_d = {}\n",
    "s_d = {}\n",
    "o_d = {}\n",
    "\n",
    "for i in Sname:\n",
    "    if i not in a_d and i.isalpha():\n",
    "        a_d[i] = Sname.count(i)\n",
    "    \n",
    "    \n",
    "    elif i.isdigit():\n",
    "        d_d[i] = Sname.count(i)\n",
    "        \n",
    "    elif i == ' ':\n",
    "        s_d[i] = Sname.count(i)\n",
    "        \n",
    "    else:\n",
    "        i.isalnum == False:\n",
    "        o_d[i] = Sname.count(i)\n",
    "        \n",
    "print(a_d)\n",
    "print(d_d)\n",
    "print(s_d)\n",
    "print(o_d)"
   ]
  },
  {
   "cell_type": "code",
   "execution_count": null,
   "id": "a775c9b8",
   "metadata": {},
   "outputs": [],
   "source": []
  },
  {
   "cell_type": "code",
   "execution_count": null,
   "id": "e8df41b4",
   "metadata": {},
   "outputs": [],
   "source": []
  },
  {
   "cell_type": "code",
   "execution_count": null,
   "id": "cfa09da4",
   "metadata": {},
   "outputs": [],
   "source": []
  },
  {
   "cell_type": "code",
   "execution_count": null,
   "id": "087ae79e",
   "metadata": {},
   "outputs": [],
   "source": []
  },
  {
   "cell_type": "code",
   "execution_count": null,
   "id": "d4102e3a",
   "metadata": {},
   "outputs": [],
   "source": []
  },
  {
   "cell_type": "code",
   "execution_count": null,
   "id": "71d28f99",
   "metadata": {},
   "outputs": [],
   "source": []
  }
 ],
 "metadata": {
  "kernelspec": {
   "display_name": "Python 3 (ipykernel)",
   "language": "python",
   "name": "python3"
  },
  "language_info": {
   "codemirror_mode": {
    "name": "ipython",
    "version": 3
   },
   "file_extension": ".py",
   "mimetype": "text/x-python",
   "name": "python",
   "nbconvert_exporter": "python",
   "pygments_lexer": "ipython3",
   "version": "3.11.5"
  }
 },
 "nbformat": 4,
 "nbformat_minor": 5
}
