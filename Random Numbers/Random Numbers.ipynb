{
 "cells": [
  {
   "cell_type": "markdown",
   "id": "ee930275",
   "metadata": {},
   "source": [
    "# Random Numbers\n",
    "\n",
    "- using the random package\n",
    "\n",
    "- select a random number between some range, select random values withing some sequences....\n"
   ]
  },
  {
   "cell_type": "code",
   "execution_count": null,
   "id": "96015ea6",
   "metadata": {},
   "outputs": [],
   "source": [
    "# 2 days of python \n",
    "# 1 github\n",
    "# 6 days for data science (numpy, pandas, matplotlib)  -->> AI and ML"
   ]
  },
  {
   "cell_type": "code",
   "execution_count": null,
   "id": "e5a38f2c",
   "metadata": {},
   "outputs": [],
   "source": []
  },
  {
   "attachments": {
    "Untitled.png": {
     "image/png": "[encoded data removed]"
    }
   },
   "cell_type": "markdown",
   "id": "1a15b40f",
   "metadata": {},
   "source": [
    "![Untitled.png](attachment:Untitled.png)\n",
    "\n",
    "\n",
    "() this means open\n",
    "[] this means closed"
   ]
  },
  {
   "cell_type": "code",
   "execution_count": 12,
   "id": "b49cef96",
   "metadata": {},
   "outputs": [
    {
     "name": "stdout",
     "output_type": "stream",
     "text": [
      "0.9563883569998475\n",
      "0.2648266227377686\n",
      "0.23267078688911402\n",
      "0.4324381017190735\n"
     ]
    }
   ],
   "source": [
    "# 1. random.random()  **\n",
    "# select a random floating number between range 0 to 1. (0 , 1)\n",
    "\n",
    "import random\n",
    "\n",
    "print( random.random() )\n",
    "print( random.random() )\n",
    "print( random.random() )\n",
    "print( random.random() )\n"
   ]
  },
  {
   "cell_type": "code",
   "execution_count": 45,
   "id": "799d99a1",
   "metadata": {},
   "outputs": [
    {
     "name": "stdout",
     "output_type": "stream",
     "text": [
      "7.943077601648962\n",
      "6.9574530503252365\n",
      "3.020386062260507\n",
      "7.588689105143888\n",
      "7\n"
     ]
    }
   ],
   "source": [
    "# 2. random.uniform(start, end)  \n",
    "# select a random floating number between range start to end. (start , end)\n",
    "\n",
    "import random\n",
    "\n",
    "print( random.uniform(1 , 10) )\n",
    "print( random.uniform(1 , 10) )\n",
    "print( random.uniform(1 , 10) )\n",
    "print( random.uniform(1 , 10) )\n",
    "\n",
    "\n",
    "print( int( random.uniform(1 , 10) ) )\n"
   ]
  },
  {
   "cell_type": "code",
   "execution_count": 65,
   "id": "560d11fa",
   "metadata": {},
   "outputs": [
    {
     "name": "stdout",
     "output_type": "stream",
     "text": [
      "10\n",
      "1\n",
      "8\n",
      "10\n"
     ]
    }
   ],
   "source": [
    "# 3. random.randint(start, end)  **\n",
    "# select a random Integer number between range start to end. [start , end]\n",
    "\n",
    "import random\n",
    "\n",
    "print( random.randint(1 , 10) )\n",
    "print( random.randint(1 , 10) )\n",
    "print( random.randint(1 , 10) )\n",
    "print( random.randint(1 , 10) )\n"
   ]
  },
  {
   "cell_type": "code",
   "execution_count": 67,
   "id": "94782a19",
   "metadata": {},
   "outputs": [
    {
     "data": {
      "text/plain": [
       "[1, 2, 3, 4, 5, 6, 7, 8, 9]"
      ]
     },
     "execution_count": 67,
     "metadata": {},
     "output_type": "execute_result"
    }
   ],
   "source": [
    "list(range(1 , 10)) "
   ]
  },
  {
   "cell_type": "code",
   "execution_count": 68,
   "id": "7f859533",
   "metadata": {},
   "outputs": [
    {
     "data": {
      "text/plain": [
       "[1, 3, 5, 7, 9]"
      ]
     },
     "execution_count": 68,
     "metadata": {},
     "output_type": "execute_result"
    }
   ],
   "source": [
    "list(range(1 , 10, 2))"
   ]
  },
  {
   "cell_type": "code",
   "execution_count": 69,
   "id": "53ff2549",
   "metadata": {},
   "outputs": [
    {
     "data": {
      "text/plain": [
       "[1, 4, 7]"
      ]
     },
     "execution_count": 69,
     "metadata": {},
     "output_type": "execute_result"
    }
   ],
   "source": [
    "list(range(1 , 10, 3))"
   ]
  },
  {
   "cell_type": "code",
   "execution_count": null,
   "id": "cfc960ba",
   "metadata": {},
   "outputs": [],
   "source": []
  },
  {
   "cell_type": "code",
   "execution_count": 88,
   "id": "caa00fae",
   "metadata": {},
   "outputs": [
    {
     "name": "stdout",
     "output_type": "stream",
     "text": [
      "7\n",
      "1\n",
      "9\n"
     ]
    }
   ],
   "source": [
    "# 4. random.randrange(start, end, step)  \n",
    "# select a random Integer number with STEP SIZE between range start to end. [start , end)\n",
    "\n",
    "import random\n",
    "\n",
    "print( random.randrange(1 , 10, 3) )\n",
    "print( random.randrange(1 , 10, 3) )\n",
    "\n",
    "print( random.randrange(1 , 10, 2) )\n"
   ]
  },
  {
   "cell_type": "code",
   "execution_count": 100,
   "id": "ba6dac90",
   "metadata": {},
   "outputs": [
    {
     "name": "stdout",
     "output_type": "stream",
     "text": [
      "p\n",
      "h\n"
     ]
    }
   ],
   "source": [
    "# 5. random.choice() \n",
    "# helps to select a single value from the sequnece\n",
    "\n",
    "stringName = 'python'\n",
    "print( random.choice(stringName) )\n",
    "print( random.choice(stringName) )"
   ]
  },
  {
   "cell_type": "code",
   "execution_count": 108,
   "id": "04bd5c29",
   "metadata": {},
   "outputs": [
    {
     "name": "stdout",
     "output_type": "stream",
     "text": [
      "java\n",
      "False\n"
     ]
    }
   ],
   "source": [
    "# 5. random.choice() \n",
    "# helps to select a single value from the sequnece\n",
    "\n",
    "listName = [\"python\" , \"java\" , 'ruby' , 'php' , 3 , 4 , 10.3 , False]\n",
    "\n",
    "print( random.choice(listName) )\n",
    "print( random.choice(listName) )"
   ]
  },
  {
   "attachments": {
    "0%20feOVW0hdBFFy9MBs.png": {
     "image/png": "[encoded data removed]"
    }
   },
   "cell_type": "markdown",
   "id": "38e20316",
   "metadata": {},
   "source": [
    "![0%20feOVW0hdBFFy9MBs.png](attachment:0%20feOVW0hdBFFy9MBs.png)"
   ]
  },
  {
   "cell_type": "code",
   "execution_count": 152,
   "id": "b1a231c2",
   "metadata": {},
   "outputs": [
    {
     "name": "stdout",
     "output_type": "stream",
     "text": [
      "[10.3, 4, 'python']\n",
      "[4, False, 'ruby']\n",
      "[False, 'java', 'python', 'php', 10.3, 4, 3]\n"
     ]
    }
   ],
   "source": [
    "# 6. random.sample(population, k) \n",
    "# helps to select a 'k' UNIQUE values from the population\n",
    "\n",
    "listName = [\"python\" , \"java\" , 'ruby' , 'php' , 3 , 4 , 10.3 , False] # 8 elements -> population size\n",
    "\n",
    "print( random.sample(listName, 3) )\n",
    "print( random.sample(listName, 3) )\n",
    "\n",
    "# print( random.sample(listName, 30) )\n",
    "print( random.sample(listName, 7) )\n"
   ]
  },
  {
   "cell_type": "code",
   "execution_count": 3,
   "id": "16d77639",
   "metadata": {},
   "outputs": [
    {
     "name": "stdout",
     "output_type": "stream",
     "text": [
      "['python', 'java', 'ruby', 'php', 3, 4, 10.3, False]\n",
      "[4, 'ruby', 'python', 10.3, 'php', 'java', False, 3]\n"
     ]
    }
   ],
   "source": [
    "# 7. shuffle\n",
    "# juggling up the elements inside the sequence\n",
    "\n",
    "import random\n",
    "\n",
    "listName = [\"python\" , \"java\" , 'ruby' , 'php' , 3 , 4 , 10.3 , False] # 8 elements -> population size\n",
    "\n",
    "print(listName)\n",
    "random.shuffle(listName)\n",
    "print(listName)\n",
    "\n"
   ]
  },
  {
   "cell_type": "code",
   "execution_count": null,
   "id": "e9f95de3",
   "metadata": {},
   "outputs": [],
   "source": []
  },
  {
   "cell_type": "code",
   "execution_count": null,
   "id": "49987e9a",
   "metadata": {},
   "outputs": [],
   "source": [
    "questions = [\n",
    "    \"What is the result of 5 + 3?\",\n",
    "    \"How do you concatenate two strings in Python?\",\n",
    "    \"What is the syntax for declaring a variable in Python?\",\n",
    "    \"Explain the difference between '==' and 'is' in Python.\",\n",
    "    \"How do you comment multiple lines in Python?\",\n",
    "    \"What is the purpose of the 'elif' keyword in Python?\",\n",
    "    \"Explain the concept of list comprehension.\",\n",
    "    \"How do you open a file in Python for reading?\",\n",
    "    \"What is the difference between 'append()' and 'extend()' methods in Python lists?\",\n",
    "    \"How do you use a for loop to iterate over a dictionary in Python?\"\n",
    "]\n",
    "\n",
    "# share 3 sets of it such that each set has different position for questions\n",
    "# shuffle logic **\n",
    "\n"
   ]
  },
  {
   "cell_type": "code",
   "execution_count": null,
   "id": "a9d4d3a4",
   "metadata": {},
   "outputs": [],
   "source": [
    "# Later activity --- after learning pandas...\n",
    "\n",
    "# Quizes... (20 questions)\n",
    "# shuffle logic **\n",
    "\n",
    "# From the 'python_questions_2.csv' file, extract 3 questions randomly from the 20 questions....\n",
    "# take 4 copies of it...\n"
   ]
  },
  {
   "cell_type": "code",
   "execution_count": null,
   "id": "444291b5",
   "metadata": {},
   "outputs": [],
   "source": []
  },
  {
   "cell_type": "code",
   "execution_count": null,
   "id": "444482b0",
   "metadata": {},
   "outputs": [],
   "source": [
    "## Divide the football_players into 2 sequences such that name of player in one sequence is not refelcted into another...\n",
    "\n",
    "# 10 names\n",
    "football_players = [\n",
    "    \"Lionel Messi\",\n",
    "    \"Cristiano Ronaldo\",\n",
    "    \"Neymar Jr.\",\n",
    "    \"Kylian Mbappé\",\n",
    "    \"Robert Lewandowski\",\n",
    "    \"Mohamed Salah\",\n",
    "    \"Kevin De Bruyne\",\n",
    "    \"Harry Kane\",\n",
    "    \"Virgil van Dijk\",\n",
    "    \"Sadio Mané\",\n",
    "]\n",
    "\n",
    "# expected output\n",
    "# team 1 -> \"Lionel Messi\",  \"Cristiano Ronaldo\", \"Neymar Jr.\", \"Kylian Mbappé\", \"Robert Lewandowski\",\n",
    "# team2  -> \"Mohamed Salah\", \"Kevin De Bruyne\",    \"Harry Kane\",    \"Virgil van Dijk\",\"Sadio Mané\","
   ]
  },
  {
   "cell_type": "code",
   "execution_count": null,
   "id": "d204a520",
   "metadata": {},
   "outputs": [],
   "source": [
    "# 11 names\n",
    "football_players = [\n",
    "    \"Lionel Messi\",\n",
    "    \"Cristiano Ronaldo\",\n",
    "    \"Neymar Jr.\",\n",
    "    \"Kylian Mbappé\",\n",
    "    \"Mohamed Salah\",\n",
    "    \"Robert Lewandowski\",\n",
    "    \"Kevin De Bruyne\",\n",
    "    \"Virgil van Dijk\",\n",
    "    \"Sergio Ramos\",\n",
    "    \"Erling Haaland\",\n",
    "    \"Bruno Fernandes\"\n",
    "]\n",
    "\n",
    "# expected output\n",
    "# team 1 -> \"Lionel Messi\",  \"Cristiano Ronaldo\", \"Neymar Jr.\", \"Kylian Mbappé\", \"Robert Lewandowski\",\"Bruno Fernandes\"\n",
    "# team2  -> \"Mohamed Salah\", \"Kevin De Bruyne\",    \"Harry Kane\",    \"Virgil van Dijk\",\"Sadio Mané\","
   ]
  },
  {
   "cell_type": "code",
   "execution_count": null,
   "id": "c624efe8",
   "metadata": {},
   "outputs": [],
   "source": [
    "# Do the same task as above. but this time think of doing it with FOR LOOP. \n",
    "# here you will ask user NUMBER of players and thake thier names from the user.\n",
    "# later divide the names into 2 teams\n",
    "\n",
    "# Do the same task as above. but this time think of doing it with WHILE TRUE LOOP. \n",
    "# here you will take player names from the user and stop if user says 'qq'.\n",
    "# later divide the names into 2 teams\n"
   ]
  },
  {
   "cell_type": "code",
   "execution_count": null,
   "id": "a327ccc9",
   "metadata": {},
   "outputs": [],
   "source": []
  },
  {
   "cell_type": "code",
   "execution_count": null,
   "id": "8225e17e",
   "metadata": {},
   "outputs": [],
   "source": []
  },
  {
   "cell_type": "code",
   "execution_count": 206,
   "id": "a4533e26",
   "metadata": {},
   "outputs": [
    {
     "name": "stdout",
     "output_type": "stream",
     "text": [
      "Coin Answer ->  tail\n"
     ]
    }
   ],
   "source": [
    "# Make a coin flip (head tail) app..\n",
    "\n",
    "import random\n",
    "coin_list = ['head', 'tail']\n",
    "print( \"Coin Answer -> \" , random.choice(coin_list) )\n",
    "\n"
   ]
  },
  {
   "cell_type": "code",
   "execution_count": 217,
   "id": "83c594cd",
   "metadata": {},
   "outputs": [
    {
     "name": "stdout",
     "output_type": "stream",
     "text": [
      "Dice Roll Answer ->  4\n",
      "Dice Roll Answer ->  1\n"
     ]
    }
   ],
   "source": [
    "# Make a dice number (1 2 3 4 5 6) app..\n",
    "\n",
    "import random\n",
    "print( \"Dice Roll Answer -> \" , random.choice( range(1 , 7) ) )\n",
    "print( \"Dice Roll Answer -> \" , random.randint( 1 , 6 ) )\n"
   ]
  },
  {
   "cell_type": "code",
   "execution_count": 219,
   "id": "7814132f",
   "metadata": {},
   "outputs": [
    {
     "name": "stdout",
     "output_type": "stream",
     "text": [
      "Guess a number between 1 and 20: 10\n",
      "COME DOWN...\n",
      "Guess a number between 1 and 20: 5\n",
      "GO UP...\n",
      "Guess a number between 1 and 20: 8\n",
      "COME DOWN...\n",
      "Guess a number between 1 and 20: 6\n",
      "GO UP...\n",
      "Guess a number between 1 and 20: 7\n",
      "Congratulations, you guessed it right!\n"
     ]
    }
   ],
   "source": [
    "# Guess the number app\n",
    "# take a random from the computer between range 1 - 20 and let user guess it\n",
    "# if user number is more than computer number then display COME DOWN\n",
    "# if user number is less than computer number then display GO UP\n",
    "# if user number is matches computer number then display WIN\n",
    "\n",
    "# comp_num = 13  # computer will randomly pick up one time within that range....\n",
    "# display range to the user ::: range 1 - 20\n",
    "# user = 10 , GO UP...\n",
    "# user = 11 , GO UP...\n",
    "# user = 15 , COME DOWN...\n",
    "# user = 13 , WIN...\n",
    "\n",
    "# hint : randint, loops..\n",
    "\n",
    "\n",
    "# step 2 : \n",
    "# total chances is 5 .... WHILE TRUE, FOR LOOP..\n",
    "\n",
    "\n",
    "import random\n",
    "\n",
    "comp_num = random.randint(1, 20)  # Computer picks a random number\n",
    "\n",
    "while True:\n",
    "    user_guess = int(input(\"Guess a number between 1 and 20: \"))\n",
    "    if user_guess == comp_num:\n",
    "        print(\"Congratulations, you guessed it right!\")\n",
    "        break\n",
    "    elif user_guess < comp_num:\n",
    "        print(\"GO UP...\")\n",
    "    else:\n",
    "        print(\"COME DOWN...\")\n"
   ]
  },
  {
   "cell_type": "code",
   "execution_count": null,
   "id": "2734535f",
   "metadata": {},
   "outputs": [],
   "source": []
  },
  {
   "cell_type": "code",
   "execution_count": null,
   "id": "84c41eb6",
   "metadata": {},
   "outputs": [],
   "source": []
  },
  {
   "cell_type": "code",
   "execution_count": null,
   "id": "76548586",
   "metadata": {},
   "outputs": [],
   "source": []
  },
  {
   "cell_type": "code",
   "execution_count": null,
   "id": "ea3c81df",
   "metadata": {},
   "outputs": [],
   "source": []
  },
  {
   "cell_type": "code",
   "execution_count": null,
   "id": "18cc0ea2",
   "metadata": {},
   "outputs": [],
   "source": []
  }
 ],
 "metadata": {
  "kernelspec": {
   "display_name": "Python 3 (ipykernel)",
   "language": "python",
   "name": "python3"
  },
  "language_info": {
   "codemirror_mode": {
    "name": "ipython",
    "version": 3
   },
   "file_extension": ".py",
   "mimetype": "text/x-python",
   "name": "python",
   "nbconvert_exporter": "python",
   "pygments_lexer": "ipython3",
   "version": "3.12.4"
  }
 },
 "nbformat": 4,
 "nbformat_minor": 5
}
