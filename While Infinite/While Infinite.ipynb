{
 "cells": [
  {
   "cell_type": "markdown",
   "id": "01313b28",
   "metadata": {},
   "source": [
    "# While Infinite\n",
    "\n",
    "- this is a special condition that allows to work indefinitely until and unless its BREAK by the user or with soime conditoion.\n",
    "\n",
    "\n",
    "while True : \n",
    "\n",
    "    stattemets\n",
    "    \n",
    "    stattemets\n",
    "    \n",
    "    if expression : \n",
    "        break\n",
    "    \n",
    "    stattemets\n",
    "    stattemets\n",
    "    stattemets\n",
    "    \n"
   ]
  },
  {
   "cell_type": "code",
   "execution_count": null,
   "id": "4034034d",
   "metadata": {},
   "outputs": [],
   "source": []
  },
  {
   "cell_type": "code",
   "execution_count": 2,
   "id": "00ee3105",
   "metadata": {},
   "outputs": [
    {
     "name": "stdout",
     "output_type": "stream",
     "text": [
      "Write Place Name :   delhi  \n",
      "Place Name given --> Delhi\n",
      "--------------------\n",
      "\n",
      "Write Place Name :  andhra pradeSH    \n",
      "Place Name given --> Andhra Pradesh\n",
      "--------------------\n",
      "\n",
      "Write Place Name :                     puNE\n",
      "Place Name given --> Pune\n",
      "--------------------\n",
      "\n",
      "Write Place Name :    qQ                               \n",
      "Place Name given --> Qq\n",
      "--------------------\n",
      "\n"
     ]
    }
   ],
   "source": [
    "# take place name from the user and break if user writes 'qq'..\n",
    "\n",
    "while True : \n",
    "    \n",
    "    placeName = input(\"Write Place Name : \")\n",
    "    \n",
    "    print(f'Place Name given --> {placeName.title().strip()}')\n",
    "    print(\"--\" * 10)\n",
    "    print()\n",
    "    \n",
    "    if placeName.strip().lower() == 'qq' : \n",
    "        break\n"
   ]
  },
  {
   "cell_type": "code",
   "execution_count": 3,
   "id": "1a4d0191",
   "metadata": {},
   "outputs": [
    {
     "name": "stdout",
     "output_type": "stream",
     "text": [
      "Write Place Name :    delhi   \n",
      "Place Name given --> Delhi\n",
      "--------------------\n",
      "\n",
      "Write Place Name :   qq            \n"
     ]
    }
   ],
   "source": [
    "# take place name from the user and break if user writes 'qq'..\n",
    "\n",
    "while True : \n",
    "    \n",
    "    placeName = input(\"Write Place Name : \")\n",
    "    \n",
    "    if placeName.strip().lower() == 'qq' : break\n",
    "\n",
    "    print(f'Place Name given --> {placeName.title().strip()}')\n",
    "    print(\"--\" * 10)\n",
    "    print()\n",
    "    \n"
   ]
  },
  {
   "cell_type": "code",
   "execution_count": 4,
   "id": "f1ae2b39",
   "metadata": {},
   "outputs": [
    {
     "name": "stdout",
     "output_type": "stream",
     "text": [
      "Write Place Name : delhi  \n",
      "Write Place Name : pune \n",
      "Write Place Name : raipur\n",
      "Write Place Name :      sikkim   \n",
      "['Delhi', 'Pune', 'Raipur', 'Sikkim']\n"
     ]
    }
   ],
   "source": [
    "# take place name from the user and save to the list. if list size increases 4, then STOP\n",
    "\n",
    "listName = []\n",
    "for i in range(0 , 4) : # 0 1 2 3\n",
    "    \n",
    "    placeName = input(\"Write Place Name : \")\n",
    "    \n",
    "    listName.append(placeName.title().strip())\n",
    "    \n",
    "print(listName)"
   ]
  },
  {
   "cell_type": "code",
   "execution_count": 5,
   "id": "67b0f001",
   "metadata": {},
   "outputs": [
    {
     "name": "stdout",
     "output_type": "stream",
     "text": [
      "Write Place Name :   delhi   \n",
      "Write Place Name :   punE  \n",
      "Write Place Name :   sikkIM\n",
      "Write Place Name :    raiPUR   \n",
      "Write Place Name : chandigarh  \n",
      "['Delhi', 'Pune', 'Sikkim', 'Raipur']\n"
     ]
    }
   ],
   "source": [
    "# take place name from the user and save to the list. if list size increases 4, then STOP\n",
    "\n",
    "listName = []\n",
    "while True : \n",
    "    placeName = input(\"Write Place Name : \")\n",
    "    \n",
    "    if len(listName) == 4 : \n",
    "        break\n",
    "    else : \n",
    "        listName.append(placeName.title().strip())\n",
    "    \n",
    "print(listName)"
   ]
  },
  {
   "cell_type": "code",
   "execution_count": null,
   "id": "ba39ed31",
   "metadata": {},
   "outputs": [],
   "source": []
  },
  {
   "cell_type": "code",
   "execution_count": null,
   "id": "4ed8fed0",
   "metadata": {},
   "outputs": [],
   "source": [
    "## Find the factorial of numbers and if any negative number is given by the user then STOP\n",
    "\n",
    "# user = 1 , fact = 1\n",
    "# user = 0 , fact = 1\n",
    "# user = 4 , fact = 24\n",
    "# user = 10 , fact = ....\n",
    "# user = -1 , .... BREAK....\n",
    "\n"
   ]
  },
  {
   "cell_type": "code",
   "execution_count": null,
   "id": "3043cccb",
   "metadata": {},
   "outputs": [],
   "source": [
    "# take values from the user and save it in list. if the value if True or False, then stop...\n",
    "\n",
    "# user = 10 , save to the list\n",
    "# user = 'hello' , save to the list\n",
    "# user = 10.333 , save to the list\n",
    "# user = 5j , save to the list\n",
    "# user = True , STOP and finally display  the list\n"
   ]
  },
  {
   "cell_type": "code",
   "execution_count": null,
   "id": "982e3592",
   "metadata": {},
   "outputs": [],
   "source": []
  },
  {
   "cell_type": "code",
   "execution_count": null,
   "id": "c1b080dc",
   "metadata": {},
   "outputs": [],
   "source": []
  },
  {
   "cell_type": "code",
   "execution_count": null,
   "id": "6cedbc74",
   "metadata": {},
   "outputs": [],
   "source": []
  },
  {
   "cell_type": "code",
   "execution_count": null,
   "id": "8b8902ee",
   "metadata": {},
   "outputs": [],
   "source": []
  },
  {
   "cell_type": "code",
   "execution_count": null,
   "id": "a5ea2989",
   "metadata": {},
   "outputs": [],
   "source": []
  },
  {
   "cell_type": "code",
   "execution_count": null,
   "id": "1fd0322c",
   "metadata": {},
   "outputs": [],
   "source": []
  }
 ],
 "metadata": {
  "kernelspec": {
   "display_name": "Python 3 (ipykernel)",
   "language": "python",
   "name": "python3"
  },
  "language_info": {
   "codemirror_mode": {
    "name": "ipython",
    "version": 3
   },
   "file_extension": ".py",
   "mimetype": "text/x-python",
   "name": "python",
   "nbconvert_exporter": "python",
   "pygments_lexer": "ipython3",
   "version": "3.11.5"
  }
 },
 "nbformat": 4,
 "nbformat_minor": 5
}
