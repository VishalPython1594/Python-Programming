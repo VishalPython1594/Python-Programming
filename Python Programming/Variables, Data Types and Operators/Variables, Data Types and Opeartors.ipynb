{
 "cells": [
  {
   "cell_type": "markdown",
   "id": "65c135d5",
   "metadata": {},
   "source": [
    "# Agenda\n",
    "\n",
    "How to write?\n",
    "\n",
    "variables , comments, literals\n",
    "\n",
    "data types\n",
    "\n",
    "operators  \n"
   ]
  },
  {
   "cell_type": "code",
   "execution_count": null,
   "id": "e8b7e620",
   "metadata": {},
   "outputs": [],
   "source": [
    "# PVM is smart enough to understand the values and relate to its data type....\n",
    "# Hence Python is Dynamically Typed language\n",
    "\n",
    "# Python is an Object Oriented Language\n",
    "# Everythong that you write in Python is an object ( variables + literals )\n"
   ]
  },
  {
   "cell_type": "code",
   "execution_count": null,
   "id": "9d325dc6",
   "metadata": {},
   "outputs": [],
   "source": [
    "var = 103\n",
    "print(\"Value of variable : \", var)\n",
    "print(\"Data type of variable : \", type ( var ) )  \n"
   ]
  },
  {
   "cell_type": "code",
   "execution_count": null,
   "id": "b8255c03",
   "metadata": {},
   "outputs": [],
   "source": [
    "var = 103.25\n",
    "print(\"Value of variable : \", var)\n",
    "print(\"Data type of variable : \", type ( var ) )\n"
   ]
  },
  {
   "cell_type": "code",
   "execution_count": null,
   "id": "d5134c68",
   "metadata": {},
   "outputs": [],
   "source": [
    "var = \"hello\"\n",
    "print(\"Value of variable : \", var)\n",
    "print(\"Data type of variable : \", type ( var ) )\n"
   ]
  },
  {
   "cell_type": "code",
   "execution_count": null,
   "id": "e0c0a144",
   "metadata": {},
   "outputs": [],
   "source": [
    "var = False\n",
    "print(\"Value of variable : \", var)\n",
    "print(\"Data type of variable : \", type ( var ) )\n"
   ]
  },
  {
   "cell_type": "code",
   "execution_count": null,
   "id": "5934413f",
   "metadata": {},
   "outputs": [],
   "source": [
    "var = 25j\n",
    "print(\"Value of variable : \", var)\n",
    "print(\"Data type of variable : \", type ( var ) )\n"
   ]
  },
  {
   "cell_type": "code",
   "execution_count": null,
   "id": "65f60910",
   "metadata": {},
   "outputs": [],
   "source": [
    "var = []\n",
    "print(\"Value of variable : \", var)\n",
    "print(\"Data type of variable : \", type ( var ) )\n"
   ]
  },
  {
   "cell_type": "code",
   "execution_count": null,
   "id": "0b267c00",
   "metadata": {},
   "outputs": [],
   "source": [
    "var = ()\n",
    "print(\"Value of variable : \", var)\n",
    "print(\"Data type of variable : \", type ( var ) )\n"
   ]
  },
  {
   "cell_type": "code",
   "execution_count": null,
   "id": "1615d593",
   "metadata": {},
   "outputs": [],
   "source": []
  },
  {
   "cell_type": "markdown",
   "id": "a9da285d",
   "metadata": {},
   "source": [
    "## Comment \n",
    "\n",
    "- they are just information that you write for the code\n",
    "- they are not executed\n",
    "- represented by pound (#)  --> SIngle line comment"
   ]
  },
  {
   "cell_type": "code",
   "execution_count": null,
   "id": "3e435a37",
   "metadata": {},
   "outputs": [],
   "source": [
    "var = ()  # this is Tuple\n",
    "print(\"Value of variable : \", var)\n",
    "print(\"Data type of variable : \", type ( var ) )\n",
    "\n",
    "\n",
    "# this is comment\n",
    "print(\"10 - 6 --> \", 10 - 6)\n",
    "\n"
   ]
  },
  {
   "cell_type": "code",
   "execution_count": null,
   "id": "df2cba70",
   "metadata": {},
   "outputs": [],
   "source": []
  },
  {
   "cell_type": "code",
   "execution_count": null,
   "id": "e90dc6a8",
   "metadata": {},
   "outputs": [],
   "source": []
  },
  {
   "cell_type": "markdown",
   "id": "42d71165",
   "metadata": {},
   "source": [
    "## Literals\n",
    "\n",
    "- they are the values themselves\n",
    "- they are present on right side of =\n"
   ]
  },
  {
   "cell_type": "code",
   "execution_count": null,
   "id": "02db48d6",
   "metadata": {},
   "outputs": [],
   "source": [
    "103\n",
    "\n",
    "21.58\n",
    "\n",
    "\"Hello\"\n",
    "\n",
    "10 - 10j\n",
    "\n",
    "True\n",
    "\n",
    "[1 , 2]\n",
    "\n",
    "\n",
    "\"\"\"\n",
    "Python is a high-level, general-purpose programming language. \n",
    "Its design philosophy emphasizes code readability with the use of significant indentation.\n",
    "\n",
    "Python is dynamically typed and garbage-collected. \n",
    "It supports multiple programming paradigms, including structured (particularly procedural), \n",
    "object-oriented and functional programming. \n",
    "\n",
    "\"\"\"\n",
    "\n",
    "print()"
   ]
  },
  {
   "cell_type": "markdown",
   "id": "d540c66c",
   "metadata": {},
   "source": [
    "## Variables\n",
    "\n",
    "- they are used to save the values\n",
    "- they are present on left side of =\n"
   ]
  },
  {
   "cell_type": "code",
   "execution_count": null,
   "id": "bb440179",
   "metadata": {},
   "outputs": [],
   "source": [
    "x = 103\n",
    "\n",
    "y = 21.58\n",
    "\n",
    "z = \"Hello\"\n",
    "\n",
    "w = 10 - 10j\n",
    "\n",
    "t = True\n",
    "\n",
    "lt = [1 , 2]\n",
    "\n",
    "\n",
    "print()"
   ]
  },
  {
   "cell_type": "code",
   "execution_count": null,
   "id": "e58726c7",
   "metadata": {},
   "outputs": [],
   "source": [
    "res = 103 + 21.58\n",
    "res = x + y\n"
   ]
  },
  {
   "cell_type": "code",
   "execution_count": null,
   "id": "5b87ce9c",
   "metadata": {},
   "outputs": [],
   "source": []
  },
  {
   "cell_type": "code",
   "execution_count": null,
   "id": "028bd459",
   "metadata": {},
   "outputs": [],
   "source": []
  },
  {
   "cell_type": "markdown",
   "id": "03db59a9",
   "metadata": {},
   "source": [
    "# Data Types\n",
    "\n",
    "### Fundamental Data types\n",
    "\n",
    "- string, integer , float, boolean , complex\n",
    "\n",
    "\n",
    "### derived Data types\n",
    "\n",
    "- list [] , tuple  ()  , dictionary {}  , sets { '' }\n"
   ]
  },
  {
   "cell_type": "code",
   "execution_count": null,
   "id": "ede43504",
   "metadata": {},
   "outputs": [],
   "source": []
  },
  {
   "cell_type": "markdown",
   "id": "7b2b0e6b",
   "metadata": {},
   "source": [
    "### type ( var ) \n",
    "\n",
    "- its a inbuilt funtion that tells about the data type of the variable or literals"
   ]
  },
  {
   "cell_type": "code",
   "execution_count": null,
   "id": "b3d7d1d5",
   "metadata": {},
   "outputs": [],
   "source": [
    "\n",
    "\"\"\"\n",
    "\n",
    "### type ( var ) \n",
    "\n",
    "- its a inbuilt funtion that tells about the data type of the variable or literals\n",
    "\n",
    "\"\"\"\n",
    "\n",
    "print( type( 100 ) )"
   ]
  },
  {
   "cell_type": "code",
   "execution_count": null,
   "id": "6c13a065",
   "metadata": {},
   "outputs": [],
   "source": [
    "number = 100\n",
    "\n",
    "print( type( number ) )"
   ]
  },
  {
   "cell_type": "code",
   "execution_count": null,
   "id": "fd184dbc",
   "metadata": {},
   "outputs": [],
   "source": []
  },
  {
   "cell_type": "markdown",
   "id": "a22099d8",
   "metadata": {},
   "source": [
    "## 1. strings : \n",
    "\n",
    "- collection of characters (letters + number + spl symbols)\n",
    "- SINGLE LINE STRINGS :: write them in the pair of single '' or double \"\"\n",
    "- Multiple LINE STRINGS :: write them in the pair of TRIPLE single ''' ''' or double \"\"\" \"\"\"\n",
    "\n",
    "- data type for them is 'str'"
   ]
  },
  {
   "cell_type": "code",
   "execution_count": null,
   "id": "867524ed",
   "metadata": {},
   "outputs": [],
   "source": [
    "m1 = 'python'\n",
    "m2 = \"$\"\n",
    "m3 = \"python batch 2023\""
   ]
  },
  {
   "cell_type": "code",
   "execution_count": null,
   "id": "a76b60a1",
   "metadata": {},
   "outputs": [],
   "source": [
    "print( m1, type(m1) )"
   ]
  },
  {
   "cell_type": "code",
   "execution_count": null,
   "id": "c3d5ece4",
   "metadata": {},
   "outputs": [],
   "source": [
    "print( m2, type(m2) )"
   ]
  },
  {
   "cell_type": "code",
   "execution_count": null,
   "id": "ecaf5e69",
   "metadata": {},
   "outputs": [],
   "source": [
    "print( m3, type(m3) )"
   ]
  },
  {
   "cell_type": "code",
   "execution_count": null,
   "id": "922ccbb0",
   "metadata": {},
   "outputs": [],
   "source": [
    "m4 = \"this is 'GOLD' car\"\n",
    "\n",
    "print( m4, type(m4) )"
   ]
  },
  {
   "cell_type": "code",
   "execution_count": 1,
   "id": "d60a2966",
   "metadata": {},
   "outputs": [
    {
     "name": "stdout",
     "output_type": "stream",
     "text": [
      "this is \"SILVER\" \"\" \"\" \"\"\" \"\"\"\"\"\"\"\"\"\"\"\"\"\"\"\" car <class 'str'>\n"
     ]
    }
   ],
   "source": [
    "m5 = 'this is \"SILVER\" \"\" \"\" \"\"\" \"\"\"\"\"\"\"\"\"\"\"\"\"\"\"\" car'\n",
    "\n",
    "print( m5, type(m5) )"
   ]
  },
  {
   "cell_type": "code",
   "execution_count": 2,
   "id": "dff7545f",
   "metadata": {},
   "outputs": [
    {
     "ename": "SyntaxError",
     "evalue": "incomplete input (3553876888.py, line 1)",
     "output_type": "error",
     "traceback": [
      "\u001b[1;36m  Cell \u001b[1;32mIn[2], line 1\u001b[1;36m\u001b[0m\n\u001b[1;33m    m4 = \"this is nitish\"\"\"\"s car\"\u001b[0m\n\u001b[1;37m                         ^\u001b[0m\n\u001b[1;31mSyntaxError\u001b[0m\u001b[1;31m:\u001b[0m incomplete input\n"
     ]
    }
   ],
   "source": [
    "m4 = \"this is nitish\"\"\"\"s car\"\n",
    "\n",
    "print( m4, type(m4) )"
   ]
  },
  {
   "cell_type": "code",
   "execution_count": 3,
   "id": "322867f2",
   "metadata": {},
   "outputs": [
    {
     "name": "stdout",
     "output_type": "stream",
     "text": [
      "<class 'str'>\n",
      "\n",
      "Python is a high-level, general-purpose programming language. \n",
      "Its design philosophy emphasizes code readability with the use of significant indentation.\n",
      "\n",
      "Python is dynamically typed and garbage-collected. \n",
      "It supports multiple programming paradigms, including structured (particularly procedural), \n",
      "object-oriented and functional programming. \n",
      "\n",
      "\n"
     ]
    }
   ],
   "source": [
    "data = '''\n",
    "Python is a high-level, general-purpose programming language. \n",
    "Its design philosophy emphasizes code readability with the use of significant indentation.\n",
    "\n",
    "Python is dynamically typed and garbage-collected. \n",
    "It supports multiple programming paradigms, including structured (particularly procedural), \n",
    "object-oriented and functional programming. \n",
    "\n",
    "'''\n",
    "\n",
    "\n",
    "print(type( data) )\n",
    "print(data)\n"
   ]
  },
  {
   "cell_type": "code",
   "execution_count": 4,
   "id": "9fc7f212",
   "metadata": {},
   "outputs": [
    {
     "name": "stdout",
     "output_type": "stream",
     "text": [
      "<class 'str'>\n",
      "\n",
      "Python is a high-level, general-purpose programming language. \n",
      "Its design philosophy emphasizes code readability with the use of significant indentation.\n",
      "\n",
      "Python is dynamically typed and garbage-collected. \n",
      "It supports multiple programming paradigms, including structured (particularly procedural), \n",
      "object-oriented and functional programming. \n",
      "\n",
      "\n"
     ]
    }
   ],
   "source": [
    "data = \"\"\"\n",
    "Python is a high-level, general-purpose programming language. \n",
    "Its design philosophy emphasizes code readability with the use of significant indentation.\n",
    "\n",
    "Python is dynamically typed and garbage-collected. \n",
    "It supports multiple programming paradigms, including structured (particularly procedural), \n",
    "object-oriented and functional programming. \n",
    "\n",
    "\"\"\"\n",
    "\n",
    "\n",
    "print(type( data) )\n",
    "print(data)\n"
   ]
  },
  {
   "cell_type": "code",
   "execution_count": null,
   "id": "fcddcf23",
   "metadata": {},
   "outputs": [],
   "source": []
  },
  {
   "cell_type": "markdown",
   "id": "93f088dd",
   "metadata": {},
   "source": [
    "## 2. Integer : \n",
    "\n",
    "- Any DISCRETE number\n",
    "- data type for them is 'int'"
   ]
  },
  {
   "cell_type": "code",
   "execution_count": null,
   "id": "dfda51ce",
   "metadata": {},
   "outputs": [],
   "source": [
    "num_1 = 104\n",
    "\n",
    "print( num_1, type(num_1) )"
   ]
  },
  {
   "cell_type": "code",
   "execution_count": null,
   "id": "71b396ba",
   "metadata": {},
   "outputs": [],
   "source": [
    "num_1 = -30\n",
    "\n",
    "print( num_1, type(num_1) )"
   ]
  },
  {
   "cell_type": "code",
   "execution_count": null,
   "id": "cd7b5840",
   "metadata": {},
   "outputs": [],
   "source": []
  },
  {
   "cell_type": "markdown",
   "id": "a42c7bed",
   "metadata": {},
   "source": [
    "## 3. Float : \n",
    "\n",
    "- Any CONTINUOS number\n",
    "- data type for them is 'float'"
   ]
  },
  {
   "cell_type": "code",
   "execution_count": null,
   "id": "fe640f90",
   "metadata": {},
   "outputs": [],
   "source": [
    "num_1 = 104.25\n",
    "\n",
    "print( num_1, type(num_1) )"
   ]
  },
  {
   "cell_type": "code",
   "execution_count": null,
   "id": "cd753db5",
   "metadata": {},
   "outputs": [],
   "source": [
    "num_1 = -30.11\n",
    "\n",
    "print( num_1, type(num_1) )"
   ]
  },
  {
   "cell_type": "code",
   "execution_count": null,
   "id": "d49e9d2d",
   "metadata": {},
   "outputs": [],
   "source": []
  },
  {
   "cell_type": "code",
   "execution_count": null,
   "id": "162a3331",
   "metadata": {},
   "outputs": [],
   "source": []
  },
  {
   "cell_type": "markdown",
   "id": "8d0cca9e",
   "metadata": {},
   "source": [
    "## 4. Complex : \n",
    "\n",
    "- Any number in format real + imaginary(j)\n",
    "- data type for them is 'complex'\n",
    "- iota is squareroot of -1\n"
   ]
  },
  {
   "cell_type": "code",
   "execution_count": null,
   "id": "58efb071",
   "metadata": {},
   "outputs": [],
   "source": [
    "num_1 = 10-20j\n",
    "\n",
    "print( num_1, type(num_1) )"
   ]
  },
  {
   "cell_type": "code",
   "execution_count": null,
   "id": "bb9cadce",
   "metadata": {},
   "outputs": [],
   "source": [
    "num_1 = -5j\n",
    "\n",
    "print( num_1, type(num_1) )"
   ]
  },
  {
   "cell_type": "code",
   "execution_count": null,
   "id": "5fa77850",
   "metadata": {},
   "outputs": [],
   "source": []
  },
  {
   "cell_type": "markdown",
   "id": "46fe9a6b",
   "metadata": {},
   "source": [
    "## 5. Booleans : \n",
    "\n",
    "- True (1) and False (0 )\n",
    "- True is anything that is logically correct\n",
    "- Any value is TRUE\n",
    "\n",
    "- False is anything that is logically INcorrect\n",
    "- Any non-value is FALSE\n",
    "\n",
    "- data type for them is 'bool'\n",
    "\n",
    "\n"
   ]
  },
  {
   "cell_type": "code",
   "execution_count": null,
   "id": "2d1d948b",
   "metadata": {},
   "outputs": [],
   "source": [
    "print( 10 > 20 )  # comparison operator"
   ]
  },
  {
   "cell_type": "code",
   "execution_count": null,
   "id": "8a9e3f7a",
   "metadata": {},
   "outputs": [],
   "source": [
    "print( (10 > 20) or (25 < 20) )  # logical operator"
   ]
  },
  {
   "cell_type": "code",
   "execution_count": null,
   "id": "a95c41a7",
   "metadata": {},
   "outputs": [],
   "source": []
  },
  {
   "cell_type": "markdown",
   "id": "84098e83",
   "metadata": {},
   "source": [
    "## 6. Type casting : \n",
    "\n",
    "- Changing one datatype to another\n",
    "- we use built in functions to convert them\n",
    "\n",
    "- SYNTAX : How to Write\n",
    " \n",
    " : functionName( variable / value )\n"
   ]
  },
  {
   "cell_type": "code",
   "execution_count": null,
   "id": "2812a685",
   "metadata": {},
   "outputs": [],
   "source": []
  },
  {
   "cell_type": "code",
   "execution_count": null,
   "id": "83fd3c14",
   "metadata": {},
   "outputs": [],
   "source": [
    "old_variable = 258\n",
    "print(\"Old Value : \", old_variable)\n",
    "print(\"Data Type of Old Value : \", type( old_variable )  )\n",
    "\n",
    "\n",
    "new_variable = str( old_variable )\n",
    "print(\"New Value : \", new_variable)\n",
    "print(\"Data Type of New Value : \", type( new_variable )  )\n"
   ]
  },
  {
   "cell_type": "code",
   "execution_count": 5,
   "id": "f78b90a8",
   "metadata": {},
   "outputs": [
    {
     "name": "stdout",
     "output_type": "stream",
     "text": [
      "Old Value :  63.458458\n",
      "Data Type of Old Value :  <class 'float'>\n",
      "New Value :  63\n",
      "Data Type of New Value :  <class 'int'>\n"
     ]
    }
   ],
   "source": [
    "old_variable = 63.458458\n",
    "print(\"Old Value : \", old_variable)\n",
    "print(\"Data Type of Old Value : \", type( old_variable )  )\n",
    "\n",
    "\n",
    "new_variable = int( old_variable )\n",
    "print(\"New Value : \", new_variable)\n",
    "print(\"Data Type of New Value : \", type( new_variable )  )\n"
   ]
  },
  {
   "cell_type": "code",
   "execution_count": null,
   "id": "e94360b1",
   "metadata": {},
   "outputs": [],
   "source": []
  },
  {
   "cell_type": "code",
   "execution_count": null,
   "id": "bf11a397",
   "metadata": {},
   "outputs": [],
   "source": [
    "old_variable = \"100\"\n",
    "print(\"Old Value : \", old_variable)\n",
    "print(\"Data Type of Old Value : \", type( old_variable )  )\n",
    "\n",
    "\n",
    "new_variable = int( old_variable )\n",
    "print(\"New Value : \", new_variable)\n",
    "print(\"Data Type of New Value : \", type( new_variable )  )\n"
   ]
  },
  {
   "cell_type": "code",
   "execution_count": 6,
   "id": "70ba0e25",
   "metadata": {},
   "outputs": [
    {
     "name": "stdout",
     "output_type": "stream",
     "text": [
      "Old Value :  python\n",
      "Data Type of Old Value :  <class 'str'>\n"
     ]
    },
    {
     "ename": "ValueError",
     "evalue": "invalid literal for int() with base 10: 'python'",
     "output_type": "error",
     "traceback": [
      "\u001b[1;31m---------------------------------------------------------------------------\u001b[0m",
      "\u001b[1;31mValueError\u001b[0m                                Traceback (most recent call last)",
      "Cell \u001b[1;32mIn[6], line 6\u001b[0m\n\u001b[0;32m      2\u001b[0m \u001b[38;5;28mprint\u001b[39m(\u001b[38;5;124m\"\u001b[39m\u001b[38;5;124mOld Value : \u001b[39m\u001b[38;5;124m\"\u001b[39m, old_variable)\n\u001b[0;32m      3\u001b[0m \u001b[38;5;28mprint\u001b[39m(\u001b[38;5;124m\"\u001b[39m\u001b[38;5;124mData Type of Old Value : \u001b[39m\u001b[38;5;124m\"\u001b[39m, \u001b[38;5;28mtype\u001b[39m( old_variable )  )\n\u001b[1;32m----> 6\u001b[0m new_variable \u001b[38;5;241m=\u001b[39m \u001b[38;5;28mint\u001b[39m( old_variable )\n\u001b[0;32m      7\u001b[0m \u001b[38;5;28mprint\u001b[39m(\u001b[38;5;124m\"\u001b[39m\u001b[38;5;124mNew Value : \u001b[39m\u001b[38;5;124m\"\u001b[39m, new_variable)\n\u001b[0;32m      8\u001b[0m \u001b[38;5;28mprint\u001b[39m(\u001b[38;5;124m\"\u001b[39m\u001b[38;5;124mData Type of New Value : \u001b[39m\u001b[38;5;124m\"\u001b[39m, \u001b[38;5;28mtype\u001b[39m( new_variable )  )\n",
      "\u001b[1;31mValueError\u001b[0m: invalid literal for int() with base 10: 'python'"
     ]
    }
   ],
   "source": [
    "old_variable = \"python\"\n",
    "print(\"Old Value : \", old_variable)\n",
    "print(\"Data Type of Old Value : \", type( old_variable )  )\n",
    "\n",
    "\n",
    "new_variable = int( old_variable )\n",
    "print(\"New Value : \", new_variable)\n",
    "print(\"Data Type of New Value : \", type( new_variable )  )\n"
   ]
  },
  {
   "cell_type": "code",
   "execution_count": null,
   "id": "4773e40e",
   "metadata": {},
   "outputs": [],
   "source": [
    "\n",
    "new_variable = int( 50.246 )\n",
    "print(\"New Value : \", new_variable)\n",
    "print(\"Data Type of New Value : \", type( new_variable )  )\n"
   ]
  },
  {
   "cell_type": "code",
   "execution_count": null,
   "id": "60ee7654",
   "metadata": {},
   "outputs": [],
   "source": []
  },
  {
   "cell_type": "code",
   "execution_count": null,
   "id": "a6991cd7",
   "metadata": {},
   "outputs": [],
   "source": [
    "old_variable = 1\n",
    "print(\"Old Value : \", old_variable)\n",
    "print(\"Data Type of Old Value : \", type( old_variable )  )\n",
    "\n",
    "\n",
    "new_variable = bool( old_variable )\n",
    "print(\"New Value : \", new_variable)\n",
    "print(\"Data Type of New Value : \", type( new_variable )  )\n"
   ]
  },
  {
   "cell_type": "code",
   "execution_count": null,
   "id": "f47b29be",
   "metadata": {},
   "outputs": [],
   "source": [
    "old_variable = 0\n",
    "print(\"Old Value : \", old_variable)\n",
    "print(\"Data Type of Old Value : \", type( old_variable )  )\n",
    "\n",
    "\n",
    "new_variable = bool( old_variable )\n",
    "print(\"New Value : \", new_variable)\n",
    "print(\"Data Type of New Value : \", type( new_variable )  )\n"
   ]
  },
  {
   "cell_type": "code",
   "execution_count": null,
   "id": "7905debe",
   "metadata": {},
   "outputs": [],
   "source": [
    "old_variable = True\n",
    "print(\"Old Value : \", old_variable)\n",
    "print(\"Data Type of Old Value : \", type( old_variable )  )\n",
    "\n",
    "\n",
    "new_variable = int( old_variable )\n",
    "print(\"New Value : \", new_variable)\n",
    "print(\"Data Type of New Value : \", type( new_variable )  )\n"
   ]
  },
  {
   "cell_type": "code",
   "execution_count": null,
   "id": "b4394a37",
   "metadata": {},
   "outputs": [],
   "source": [
    "old_variable = False\n",
    "print(\"Old Value : \", old_variable)\n",
    "print(\"Data Type of Old Value : \", type( old_variable )  )\n",
    "\n",
    "\n",
    "new_variable = int( old_variable )\n",
    "print(\"New Value : \", new_variable)\n",
    "print(\"Data Type of New Value : \", type( new_variable )  )\n"
   ]
  },
  {
   "cell_type": "code",
   "execution_count": null,
   "id": "92e915d0",
   "metadata": {},
   "outputs": [],
   "source": []
  },
  {
   "cell_type": "markdown",
   "id": "d35a0fc6",
   "metadata": {},
   "source": [
    "# Operators"
   ]
  },
  {
   "cell_type": "markdown",
   "id": "e6e9f2e8",
   "metadata": {},
   "source": [
    "## 1. Airthmetic Operators\n",
    "\n",
    "######   + - * / % ** //"
   ]
  },
  {
   "cell_type": "code",
   "execution_count": null,
   "id": "5b6618c4",
   "metadata": {},
   "outputs": [],
   "source": [
    "print( 10 - 3 )\n",
    "print( 10 + 3 )\n",
    "print( 10 * 3 )\n",
    "print( 10 / 3 )"
   ]
  },
  {
   "cell_type": "code",
   "execution_count": null,
   "id": "b4370c56",
   "metadata": {},
   "outputs": [],
   "source": [
    "print( 10 ** 3 ) #power\n",
    "print( 64 ** 0.5 ) #power"
   ]
  },
  {
   "cell_type": "code",
   "execution_count": null,
   "id": "a3884c12",
   "metadata": {},
   "outputs": [],
   "source": [
    "print( 10 % 3 )  # Remainder"
   ]
  },
  {
   "cell_type": "markdown",
   "id": "0d756c3f",
   "metadata": {},
   "source": [
    "20 (dividend) = 3(divisor) * 6 (quotient) + 2 (remainder)\n"
   ]
  },
  {
   "cell_type": "code",
   "execution_count": 7,
   "id": "5578157e",
   "metadata": {},
   "outputs": [
    {
     "name": "stdout",
     "output_type": "stream",
     "text": [
      "6.666666666666667\n",
      "2\n",
      "6\n"
     ]
    }
   ],
   "source": [
    "print( 20 / 3 )  # division\n",
    "print( 20 % 3 )  # Remainder\n",
    "\n",
    "print( 20 // 3 )  # quotient or Integer Division\n"
   ]
  },
  {
   "cell_type": "code",
   "execution_count": null,
   "id": "054a3214",
   "metadata": {},
   "outputs": [],
   "source": [
    "int(6.666666666666667)"
   ]
  },
  {
   "cell_type": "code",
   "execution_count": null,
   "id": "c67887db",
   "metadata": {},
   "outputs": [],
   "source": [
    "print( 90 / 8 )  # division\n",
    "print( 90 // 8 )  # quotient or Integer Division\n"
   ]
  },
  {
   "cell_type": "code",
   "execution_count": null,
   "id": "f1c8a6d6",
   "metadata": {},
   "outputs": [],
   "source": [
    "int(11.25)"
   ]
  },
  {
   "cell_type": "code",
   "execution_count": null,
   "id": "4ec1abfb",
   "metadata": {},
   "outputs": [],
   "source": [
    "print( 100 / 7 )  # division\n",
    "print( 100 // 7 )  # quotient or Integer Division\n"
   ]
  },
  {
   "cell_type": "code",
   "execution_count": null,
   "id": "5e939b63",
   "metadata": {},
   "outputs": [],
   "source": [
    "int(14.285714285714286)"
   ]
  },
  {
   "cell_type": "code",
   "execution_count": null,
   "id": "2f03241e",
   "metadata": {},
   "outputs": [],
   "source": []
  },
  {
   "cell_type": "markdown",
   "id": "4fe53930",
   "metadata": {},
   "source": [
    "## 2. Comparison or Relational Operators\n",
    "\n",
    "######   < > >= <= == != \n",
    "\n",
    "- return True if logic os Correct else False"
   ]
  },
  {
   "cell_type": "code",
   "execution_count": null,
   "id": "32e1da90",
   "metadata": {},
   "outputs": [],
   "source": [
    "print( 10 > 5 )"
   ]
  },
  {
   "cell_type": "code",
   "execution_count": null,
   "id": "9d500788",
   "metadata": {},
   "outputs": [],
   "source": [
    "print( 3 > 5 )"
   ]
  },
  {
   "cell_type": "code",
   "execution_count": null,
   "id": "4c9fd957",
   "metadata": {},
   "outputs": [],
   "source": [
    "print( 10 == 10 )  # Is both  Equal"
   ]
  },
  {
   "cell_type": "code",
   "execution_count": null,
   "id": "cea0d576",
   "metadata": {},
   "outputs": [],
   "source": [
    "print( 10 != 10 )  # Is both  UnEqual"
   ]
  },
  {
   "cell_type": "code",
   "execution_count": null,
   "id": "25a1791d",
   "metadata": {},
   "outputs": [],
   "source": [
    "print( 10 != 3 )  # Is both  UnEqual"
   ]
  },
  {
   "cell_type": "code",
   "execution_count": null,
   "id": "0316712a",
   "metadata": {},
   "outputs": [],
   "source": []
  },
  {
   "cell_type": "code",
   "execution_count": null,
   "id": "9b03f4b2",
   "metadata": {},
   "outputs": [],
   "source": []
  },
  {
   "cell_type": "markdown",
   "id": "79f31232",
   "metadata": {},
   "source": [
    "## 3. Assignment Operators\n",
    "\n",
    "######   =\n",
    "\n",
    "- it helps to assign a value to the variable\n",
    "- assumption, values are on RHS of = and variables are LHS of ="
   ]
  },
  {
   "cell_type": "code",
   "execution_count": null,
   "id": "9f6ac852",
   "metadata": {},
   "outputs": [],
   "source": [
    "x = 10\n",
    "y = 20 \n",
    "# 30 = z"
   ]
  },
  {
   "cell_type": "code",
   "execution_count": null,
   "id": "8db770f8",
   "metadata": {},
   "outputs": [],
   "source": []
  },
  {
   "cell_type": "markdown",
   "id": "b84bd461",
   "metadata": {},
   "source": [
    "## 4. Membership\n",
    "\n",
    "######   in\n",
    "\n",
    "- SYNTAX : element in sequence\n",
    "\n",
    "- return True if element is present inside the sequence (string, list, tuple, sets, dictionary), else False"
   ]
  },
  {
   "cell_type": "code",
   "execution_count": null,
   "id": "b9fe665b",
   "metadata": {},
   "outputs": [],
   "source": [
    "print( \"t\" in \"python\" )"
   ]
  },
  {
   "cell_type": "code",
   "execution_count": null,
   "id": "ed4f1105",
   "metadata": {},
   "outputs": [],
   "source": [
    "print( \"P\" in \"python\" )"
   ]
  },
  {
   "cell_type": "code",
   "execution_count": null,
   "id": "59c7460b",
   "metadata": {},
   "outputs": [],
   "source": [
    "print( \"N\" in \"python\" )"
   ]
  },
  {
   "cell_type": "code",
   "execution_count": null,
   "id": "efe3de0c",
   "metadata": {},
   "outputs": [],
   "source": [
    "x = 10\n",
    "X = 20"
   ]
  },
  {
   "cell_type": "code",
   "execution_count": null,
   "id": "c9d64eb8",
   "metadata": {},
   "outputs": [],
   "source": [
    "print(x)\n",
    "print(X)"
   ]
  },
  {
   "cell_type": "code",
   "execution_count": null,
   "id": "783508bb",
   "metadata": {},
   "outputs": [],
   "source": [
    "print(x == X)"
   ]
  },
  {
   "cell_type": "code",
   "execution_count": null,
   "id": "e1cf38b1",
   "metadata": {},
   "outputs": [],
   "source": []
  },
  {
   "cell_type": "markdown",
   "id": "ed034f2e",
   "metadata": {},
   "source": [
    "## 5. Logical\n",
    "\n",
    "######   and or not"
   ]
  },
  {
   "cell_type": "markdown",
   "id": "d0818c62",
   "metadata": {},
   "source": [
    "### And\n",
    "\n",
    "- return TRUE if ALL the expressions are TRUE\n",
    "\n",
    "\n",
    "Operation_1 Operation_2  OUTPUT\n",
    "True        True         True\n",
    "False        True         False\n",
    "True        False         False\n",
    "False        False         False\n",
    "\n"
   ]
  },
  {
   "cell_type": "code",
   "execution_count": null,
   "id": "3ef08f62",
   "metadata": {},
   "outputs": [],
   "source": [
    "print( 25 > 15 )\n",
    "print( 10 < 1 )"
   ]
  },
  {
   "cell_type": "code",
   "execution_count": null,
   "id": "afcfa99f",
   "metadata": {},
   "outputs": [],
   "source": [
    "output = (25 > 15) and (10 < 1)   # T and F\n",
    "print('Output' , output)"
   ]
  },
  {
   "cell_type": "code",
   "execution_count": null,
   "id": "7742ae3a",
   "metadata": {},
   "outputs": [],
   "source": [
    "output = (25 < 15) and (10 < 1)  # F and F\n",
    "print('Output' , output)"
   ]
  },
  {
   "cell_type": "code",
   "execution_count": null,
   "id": "f84327fb",
   "metadata": {},
   "outputs": [],
   "source": [
    "output = (25 > 15) and (10 > 1)  # T and T\n",
    "print('Output' , output)"
   ]
  },
  {
   "cell_type": "code",
   "execution_count": null,
   "id": "b5c0fb1a",
   "metadata": {},
   "outputs": [],
   "source": [
    "output = (25 < 15) and (10 > 1)  # F and T\n",
    "print('Output' , output)"
   ]
  },
  {
   "cell_type": "code",
   "execution_count": null,
   "id": "f0eb86ef",
   "metadata": {},
   "outputs": [],
   "source": []
  },
  {
   "cell_type": "code",
   "execution_count": null,
   "id": "230684f5",
   "metadata": {},
   "outputs": [],
   "source": []
  },
  {
   "cell_type": "code",
   "execution_count": null,
   "id": "52cad157",
   "metadata": {},
   "outputs": [],
   "source": [
    "### precedence Order....\n",
    "\n",
    "# BODMAS rule ???\n",
    "# (25 > 15) and (10 < 1)\n",
    "# solve     and  solve\n",
    "\n",
    "\n",
    "# 25 > 15 and 10 < 1\n"
   ]
  },
  {
   "cell_type": "code",
   "execution_count": null,
   "id": "e404a7d3",
   "metadata": {},
   "outputs": [],
   "source": []
  },
  {
   "cell_type": "code",
   "execution_count": null,
   "id": "51beb302",
   "metadata": {},
   "outputs": [],
   "source": []
  },
  {
   "cell_type": "markdown",
   "id": "ee558f0f",
   "metadata": {},
   "source": [
    "### OR\n",
    "\n",
    "- return FALSE if ALL the expressions are FALSE\n",
    "\n",
    "\n",
    "Operation_1 Operation_2  OUTPUT\n",
    "True        True         True\n",
    "False        True         True\n",
    "True        False         True\n",
    "False        False         False\n",
    "\n"
   ]
  },
  {
   "cell_type": "code",
   "execution_count": 5,
   "id": "eb00f372",
   "metadata": {},
   "outputs": [
    {
     "name": "stdout",
     "output_type": "stream",
     "text": [
      "Output True\n"
     ]
    }
   ],
   "source": [
    "output = (25 > 15) or (10 < 1)   # T and F\n",
    "print('Output' , output)"
   ]
  },
  {
   "cell_type": "code",
   "execution_count": 6,
   "id": "6a2193b0",
   "metadata": {},
   "outputs": [
    {
     "name": "stdout",
     "output_type": "stream",
     "text": [
      "Output False\n"
     ]
    }
   ],
   "source": [
    "output = (25 < 15) or (10 < 1)  # F and F\n",
    "print('Output' , output)"
   ]
  },
  {
   "cell_type": "code",
   "execution_count": 7,
   "id": "e0c75e91",
   "metadata": {},
   "outputs": [
    {
     "name": "stdout",
     "output_type": "stream",
     "text": [
      "Output True\n"
     ]
    }
   ],
   "source": [
    "output = (25 > 15) or (10 > 1)  # T and T\n",
    "print('Output' , output)"
   ]
  },
  {
   "cell_type": "code",
   "execution_count": 8,
   "id": "7b58a688",
   "metadata": {},
   "outputs": [
    {
     "name": "stdout",
     "output_type": "stream",
     "text": [
      "Output True\n"
     ]
    }
   ],
   "source": [
    "output = (25 < 15) or (10 > 1)  # F and T\n",
    "print('Output' , output)"
   ]
  },
  {
   "cell_type": "code",
   "execution_count": null,
   "id": "7dda3199",
   "metadata": {},
   "outputs": [],
   "source": []
  },
  {
   "cell_type": "markdown",
   "id": "a55b056e",
   "metadata": {},
   "source": [
    "### NOT\n",
    "\n",
    "- return FALSE if the expression is TRUE or vice-versa\n"
   ]
  },
  {
   "cell_type": "code",
   "execution_count": 9,
   "id": "36f5f5e6",
   "metadata": {},
   "outputs": [
    {
     "name": "stdout",
     "output_type": "stream",
     "text": [
      "True\n",
      "False\n"
     ]
    }
   ],
   "source": [
    "print( 25 > 15 )\n",
    "print( 10 < 1 )"
   ]
  },
  {
   "cell_type": "code",
   "execution_count": 10,
   "id": "dc29fcb4",
   "metadata": {},
   "outputs": [
    {
     "name": "stdout",
     "output_type": "stream",
     "text": [
      "False\n",
      "True\n"
     ]
    }
   ],
   "source": [
    "print( not(25 > 15) )\n",
    "print( not(10 < 1) )"
   ]
  },
  {
   "cell_type": "code",
   "execution_count": null,
   "id": "c8067cb6",
   "metadata": {},
   "outputs": [],
   "source": []
  },
  {
   "cell_type": "code",
   "execution_count": 11,
   "id": "0b59ec56",
   "metadata": {},
   "outputs": [
    {
     "name": "stdout",
     "output_type": "stream",
     "text": [
      "False\n",
      "False\n",
      "False\n",
      "True\n"
     ]
    }
   ],
   "source": [
    "print( True and False )\n",
    "print( False and False )\n",
    "print( False and True )\n",
    "print( True and True )"
   ]
  },
  {
   "cell_type": "code",
   "execution_count": 12,
   "id": "6aeb56c5",
   "metadata": {},
   "outputs": [
    {
     "name": "stdout",
     "output_type": "stream",
     "text": [
      "0\n",
      "0\n",
      "0\n",
      "1\n"
     ]
    }
   ],
   "source": [
    "print( 1 and 0 )\n",
    "print( 1 and 0 )\n",
    "print( 0 and 1 )\n",
    "print( 1 and 1 )"
   ]
  },
  {
   "cell_type": "code",
   "execution_count": null,
   "id": "f4027d14",
   "metadata": {},
   "outputs": [],
   "source": []
  },
  {
   "cell_type": "code",
   "execution_count": null,
   "id": "6614e61f",
   "metadata": {},
   "outputs": [],
   "source": [
    "# MB file ???\n",
    "# 1 mb = 1024 bytes\n",
    "# 1 byte = 8 bits??\n",
    "\n",
    "# 1 's and 0 's"
   ]
  },
  {
   "cell_type": "code",
   "execution_count": null,
   "id": "14448c9b",
   "metadata": {},
   "outputs": [],
   "source": []
  },
  {
   "cell_type": "markdown",
   "id": "2d2e37e3",
   "metadata": {},
   "source": [
    "## 6. Bitwise Operators\n",
    "\n",
    "###### bitwise and , or,  xor , nor, left shift, right shift\n",
    "\n",
    "######   talking about bits here"
   ]
  },
  {
   "cell_type": "code",
   "execution_count": 8,
   "id": "3931f550",
   "metadata": {},
   "outputs": [
    {
     "name": "stdout",
     "output_type": "stream",
     "text": [
      "0\n"
     ]
    }
   ],
   "source": [
    "print( 10 & 5 )  # bitwise and"
   ]
  },
  {
   "cell_type": "code",
   "execution_count": null,
   "id": "9d31b8a2",
   "metadata": {},
   "outputs": [],
   "source": [
    "binary of 10 is 1010\n",
    "binary of 5 is 0101\n",
    "binary of 6 is 0110"
   ]
  },
  {
   "cell_type": "code",
   "execution_count": null,
   "id": "33cc19f5",
   "metadata": {},
   "outputs": [],
   "source": [
    "1 0 1 0\n",
    "0 1 0 1\n",
    "\n",
    "0 0 0 0"
   ]
  },
  {
   "cell_type": "code",
   "execution_count": 15,
   "id": "d5cab892",
   "metadata": {},
   "outputs": [
    {
     "name": "stdout",
     "output_type": "stream",
     "text": [
      "0b1010\n",
      "0b101\n",
      "0\n"
     ]
    }
   ],
   "source": [
    "print( bin(10) )\n",
    "print( bin(5) )\n",
    "print( int(0b0000) )"
   ]
  },
  {
   "cell_type": "code",
   "execution_count": 18,
   "id": "4cfd0e0e",
   "metadata": {},
   "outputs": [
    {
     "name": "stdout",
     "output_type": "stream",
     "text": [
      "2\n"
     ]
    }
   ],
   "source": [
    "\n",
    "print( 10 & 6 )  # bitwise and"
   ]
  },
  {
   "cell_type": "code",
   "execution_count": 17,
   "id": "609dd990",
   "metadata": {},
   "outputs": [
    {
     "name": "stdout",
     "output_type": "stream",
     "text": [
      "0b1010\n",
      "0b110\n",
      "2\n"
     ]
    }
   ],
   "source": [
    "print( bin(10) )  # convert integer to binary\n",
    "print( bin(6) )\n",
    "print( int(0b0010) ) # convert binary to integer"
   ]
  },
  {
   "cell_type": "code",
   "execution_count": null,
   "id": "c89af6bf",
   "metadata": {},
   "outputs": [],
   "source": [
    "1 0 1 0\n",
    "0 1 1 0\n",
    "\n",
    "0 0 1 0"
   ]
  },
  {
   "cell_type": "code",
   "execution_count": null,
   "id": "785a06c9",
   "metadata": {},
   "outputs": [],
   "source": []
  },
  {
   "cell_type": "code",
   "execution_count": 20,
   "id": "858e76ac",
   "metadata": {},
   "outputs": [
    {
     "name": "stdout",
     "output_type": "stream",
     "text": [
      "15\n"
     ]
    }
   ],
   "source": [
    "print( 10 | 5 )  # bitwise or"
   ]
  },
  {
   "cell_type": "code",
   "execution_count": null,
   "id": "bd22dc35",
   "metadata": {},
   "outputs": [],
   "source": [
    "1 0 1 0\n",
    "0 1 0 1\n",
    "\n",
    "1 1 1 1"
   ]
  },
  {
   "cell_type": "code",
   "execution_count": 19,
   "id": "38eabda6",
   "metadata": {},
   "outputs": [
    {
     "name": "stdout",
     "output_type": "stream",
     "text": [
      "15\n"
     ]
    }
   ],
   "source": [
    "print( int(0b1111) ) # convert binary to integer"
   ]
  },
  {
   "cell_type": "code",
   "execution_count": null,
   "id": "911ba8a3",
   "metadata": {},
   "outputs": [],
   "source": []
  },
  {
   "cell_type": "code",
   "execution_count": null,
   "id": "6f6ad1b8",
   "metadata": {},
   "outputs": [],
   "source": []
  },
  {
   "cell_type": "code",
   "execution_count": null,
   "id": "9ea84c4d",
   "metadata": {},
   "outputs": [],
   "source": []
  }
 ],
 "metadata": {
  "kernelspec": {
   "display_name": "Python 3 (ipykernel)",
   "language": "python",
   "name": "python3"
  },
  "language_info": {
   "codemirror_mode": {
    "name": "ipython",
    "version": 3
   },
   "file_extension": ".py",
   "mimetype": "text/x-python",
   "name": "python",
   "nbconvert_exporter": "python",
   "pygments_lexer": "ipython3",
   "version": "3.12.4"
  }
 },
 "nbformat": 4,
 "nbformat_minor": 5
}
