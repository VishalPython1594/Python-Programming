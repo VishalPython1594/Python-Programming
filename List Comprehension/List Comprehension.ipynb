{
 "cells": [
  {
   "cell_type": "markdown",
   "id": "f45b1ca7",
   "metadata": {},
   "source": [
    "# List Comprehension\n",
    "\n",
    "- these are also single line OPERATIONS\n",
    "- it can save lines of codes\n",
    "- used to complete the creation of list in a single line\n",
    "- write down if - else and for loop directly inside the list to create a list\n",
    "\n",
    "-- NOT MANDATORY\n",
    "\n",
    "\n",
    "**Store the values inside the list**\n",
    "\n",
    "[ output_of_FOR for i in range() ]\n",
    "\n",
    "\n",
    "\n",
    "**Store the values inside the list based on single IF Condition. Hint : Only SINGLE if is used**\n",
    "\n",
    "[ output_of_IF for i in range() if EXPRESSION]\n",
    "\n",
    "\n",
    "**Store the values inside the list based on single IF-ELse Condition. Hint : if-else is used**\n",
    "\n",
    "[ output_of_IF if EXPRESSION else output_of_Else for i in range() ]\n"
   ]
  },
  {
   "cell_type": "code",
   "execution_count": 2,
   "id": "51327957",
   "metadata": {},
   "outputs": [
    {
     "name": "stdout",
     "output_type": "stream",
     "text": [
      "Write Place Name : delhi\n",
      "Write Place Name : mumbai\n",
      "Write Place Name : chenna\n"
     ]
    }
   ],
   "source": [
    "# **Store the values inside the list**\n",
    "# [ output_of_FOR for i in range() ]\n",
    "\n",
    "\n",
    "# take 3 place name from the user and storre inside the LIST...\n",
    "\n",
    "places = []\n",
    "for i in range(0 , 3) : \n",
    "    \n",
    "    placeName = input(\"Write Place Name : \")\n",
    "    places.append(placeName) \n"
   ]
  },
  {
   "cell_type": "code",
   "execution_count": 3,
   "id": "4396c6e7",
   "metadata": {},
   "outputs": [
    {
     "data": {
      "text/plain": [
       "['delhi', 'mumbai', 'chenna']"
      ]
     },
     "execution_count": 3,
     "metadata": {},
     "output_type": "execute_result"
    }
   ],
   "source": [
    "places"
   ]
  },
  {
   "cell_type": "code",
   "execution_count": 4,
   "id": "ed4d530c",
   "metadata": {},
   "outputs": [
    {
     "name": "stdout",
     "output_type": "stream",
     "text": [
      "Write Place Name : delhi\n",
      "Write Place Name : mumbai\n",
      "Write Place Name : chennai\n"
     ]
    },
    {
     "data": {
      "text/plain": [
       "['delhi', 'mumbai', 'chennai']"
      ]
     },
     "execution_count": 4,
     "metadata": {},
     "output_type": "execute_result"
    }
   ],
   "source": [
    "# take 3 place name from the user and storre inside the LIST...\n",
    "\n",
    "places = [input(\"Write Place Name : \") for i in range(3)]\n",
    "places"
   ]
  },
  {
   "cell_type": "code",
   "execution_count": null,
   "id": "3fa7ed32",
   "metadata": {},
   "outputs": [],
   "source": []
  },
  {
   "cell_type": "code",
   "execution_count": 7,
   "id": "2e800a75",
   "metadata": {},
   "outputs": [
    {
     "name": "stdout",
     "output_type": "stream",
     "text": [
      "New List ->  ['python', 'java', 'ruby', 'php', '3', '4', '10.3', 'False']\n",
      "python java ruby php 3 4 10.3 False\n"
     ]
    }
   ],
   "source": [
    "# merge all the values and create a string with seperation as \" \"\n",
    "# \"python java ruby php 3 4 10.3 False\"\n",
    "\n",
    "myList = [\"python\" , \"java\" , 'ruby' , 'php' , 3 , 4 , 10.3 , False]\n",
    "\n",
    "# \" \".join(myList)\n",
    "newList = []\n",
    "for element in myList : \n",
    "    newList.append( str(element) )\n",
    "\n",
    "print(\"New List -> \", newList)\n",
    "res = \" \".join(newList)\n",
    "print( res )"
   ]
  },
  {
   "cell_type": "code",
   "execution_count": 9,
   "id": "9a2d3afe",
   "metadata": {},
   "outputs": [
    {
     "name": "stdout",
     "output_type": "stream",
     "text": [
      "New List ->  ['python', 'java', 'ruby', 'php', '3', '4', '10.3', 'False']\n",
      "python java ruby php 3 4 10.3 False\n"
     ]
    }
   ],
   "source": [
    "# merge all the values and create a string with seperation as \" \"\n",
    "# \"python java ruby php 3 4 10.3 False\"\n",
    "\n",
    "myList = [\"python\" , \"java\" , 'ruby' , 'php' , 3 , 4 , 10.3 , False]\n",
    "\n",
    "newList = [str(element) for element in myList]\n",
    "print(\"New List -> \", newList)\n",
    "res = \" \".join(newList)\n",
    "print( res )"
   ]
  },
  {
   "cell_type": "code",
   "execution_count": 10,
   "id": "7c36e1fa",
   "metadata": {},
   "outputs": [
    {
     "name": "stdout",
     "output_type": "stream",
     "text": [
      "python java ruby php 3 4 10.3 False\n"
     ]
    }
   ],
   "source": [
    "# merge all the values and create a string with seperation as \" \"\n",
    "# \"python java ruby php 3 4 10.3 False\"\n",
    "\n",
    "myList = [\"python\" , \"java\" , 'ruby' , 'php' , 3 , 4 , 10.3 , False]\n",
    "\n",
    "res = \" \".join([str(element) for element in myList])\n",
    "print( res )"
   ]
  },
  {
   "cell_type": "code",
   "execution_count": null,
   "id": "e0c67d0a",
   "metadata": {},
   "outputs": [],
   "source": []
  },
  {
   "cell_type": "code",
   "execution_count": 15,
   "id": "328686c5",
   "metadata": {},
   "outputs": [
    {
     "name": "stdout",
     "output_type": "stream",
     "text": [
      "[25, 4, 64, 36, 16, 121, 100]\n",
      "[25, 4, 64, 36, 16, 121, 100]\n",
      "[25, 4, 64, 36, 16, 121, 100]\n"
     ]
    }
   ],
   "source": [
    "# create a new list with square of numbers...\n",
    "inputList =  [5 , -2 , -8 , 6 , 4 , 11 , -10]\n",
    "\n",
    "finalList = []\n",
    "for num in inputList : \n",
    "#     print(num, num ** 2)\n",
    "    finalList.append(num ** 2)\n",
    "\n",
    "print(finalList)\n",
    "\n",
    "\n",
    "finalList = [ num ** 2 for num in inputList ]\n",
    "print(finalList)\n",
    "\n",
    "finalList = [ inputList[i] ** 2 for i in range(0 , len(inputList) ) ]\n",
    "print(finalList)\n",
    "\n"
   ]
  },
  {
   "cell_type": "code",
   "execution_count": null,
   "id": "60622cf0",
   "metadata": {},
   "outputs": [],
   "source": []
  },
  {
   "cell_type": "code",
   "execution_count": 17,
   "id": "5e9f2fd1",
   "metadata": {},
   "outputs": [
    {
     "name": "stdout",
     "output_type": "stream",
     "text": [
      "25\n",
      "36\n",
      "16\n",
      "121\n",
      "[25, 36, 16, 121]\n"
     ]
    }
   ],
   "source": [
    "# **Store the values inside the list based on single IF Condition**\n",
    "# [ output_of_IF for i in range() if EXPRESSION]\n",
    "\n",
    "# take 5 numbers from the user and if they are positive, then i will save thier squares\n",
    "\n",
    "\n",
    "inputList =  [5 , -2 , -8 , 6 , 4 , 11 , -10]\n",
    "ans = []\n",
    "\n",
    "for num in inputList : \n",
    "    if num > 0 : \n",
    "        print(num ** 2)\n",
    "        ans.append(num ** 2)\n",
    "\n",
    "\n",
    "print(ans)\n"
   ]
  },
  {
   "cell_type": "code",
   "execution_count": 18,
   "id": "71e5fe75",
   "metadata": {},
   "outputs": [
    {
     "data": {
      "text/plain": [
       "[25, 36, 16, 121]"
      ]
     },
     "execution_count": 18,
     "metadata": {},
     "output_type": "execute_result"
    }
   ],
   "source": [
    "ans = [   num ** 2 for num in inputList if num > 0                      ]\n",
    "ans"
   ]
  },
  {
   "cell_type": "code",
   "execution_count": null,
   "id": "5b6443e4",
   "metadata": {},
   "outputs": [],
   "source": []
  },
  {
   "cell_type": "code",
   "execution_count": null,
   "id": "72529567",
   "metadata": {},
   "outputs": [],
   "source": []
  },
  {
   "cell_type": "code",
   "execution_count": null,
   "id": "f7d5d870",
   "metadata": {},
   "outputs": [],
   "source": []
  },
  {
   "cell_type": "code",
   "execution_count": 20,
   "id": "6b1ff496",
   "metadata": {},
   "outputs": [
    {
     "data": {
      "text/plain": [
       "[2.24, 4, 64, 2.45, 2.0, 3.32, 100]"
      ]
     },
     "execution_count": 20,
     "metadata": {},
     "output_type": "execute_result"
    }
   ],
   "source": [
    "# take 5 numbers from the user and if they are negative, then it will save thier squares, else save their sqiuareroots.\n",
    "# inputList = [5 , -2 , -8 , 6 , 4 , 11 , -10]\n",
    "\n",
    "ans = []\n",
    "for num in inputList : \n",
    "    if num > 0 : ans.append( round( num ** 0.5, 2 )   )\n",
    "    else : ans.append(num ** 2)\n",
    "\n",
    "ans"
   ]
  },
  {
   "cell_type": "code",
   "execution_count": 21,
   "id": "ae24d1cf",
   "metadata": {},
   "outputs": [
    {
     "data": {
      "text/plain": [
       "[2.24, 4, 64, 2.45, 2.0, 3.32, 100]"
      ]
     },
     "execution_count": 21,
     "metadata": {},
     "output_type": "execute_result"
    }
   ],
   "source": [
    "ans = [ round(num**0.5, 2) if num > 0 else num **2     for num in inputList ]\n",
    "ans"
   ]
  },
  {
   "cell_type": "code",
   "execution_count": null,
   "id": "ad6a5b99",
   "metadata": {},
   "outputs": [],
   "source": []
  },
  {
   "cell_type": "code",
   "execution_count": null,
   "id": "adb54f63",
   "metadata": {},
   "outputs": [],
   "source": []
  },
  {
   "cell_type": "code",
   "execution_count": null,
   "id": "e5d4bcac",
   "metadata": {},
   "outputs": [],
   "source": []
  }
 ],
 "metadata": {
  "kernelspec": {
   "display_name": "Python 3 (ipykernel)",
   "language": "python",
   "name": "python3"
  },
  "language_info": {
   "codemirror_mode": {
    "name": "ipython",
    "version": 3
   },
   "file_extension": ".py",
   "mimetype": "text/x-python",
   "name": "python",
   "nbconvert_exporter": "python",
   "pygments_lexer": "ipython3",
   "version": "3.11.5"
  }
 },
 "nbformat": 4,
 "nbformat_minor": 5
}
