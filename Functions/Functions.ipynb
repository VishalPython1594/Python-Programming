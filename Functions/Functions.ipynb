{
 "cells": [
  {
   "cell_type": "markdown",
   "id": "8a18aac6",
   "metadata": {},
   "source": [
    "# Functions\n",
    "\n",
    "- def\n",
    "- lambda\n",
    "\n",
    "\n",
    "- Save lines of code\n",
    "- prevent repetitive code\n",
    "- speeds up the process\n",
    "- memory is saved\n",
    "- modular approach\n",
    "- Updations is easier?\n",
    "- Debugging is easier\n",
    "- functions can also be called from one python file to another\n",
    "\n",
    "\n",
    "- def is a keyword that helps Python interpreter understand, you have started writing the function\n",
    "    - it can be a single or multiple lines\n",
    "\n",
    "**Return**\n",
    "- there can be multiple returns inside the function\n",
    "- whereever first return has come up, it will come out of the function\n"
   ]
  },
  {
   "cell_type": "markdown",
   "id": "25140ab8",
   "metadata": {},
   "source": [
    "**Syntax**\n",
    "\n",
    "-- function creation --\n",
    "-- function declaration --\n",
    "\n",
    "def functionName(args) : # Formal Arguments\n",
    "    statement\n",
    "    statement\n",
    "    statement\n",
    "    statement\n",
    "    \n",
    "    return _______\n",
    "\n",
    "\n",
    "-- function Calling --\n",
    "functionName(args)   # Actual Arguments"
   ]
  },
  {
   "cell_type": "markdown",
   "id": "caa8c841",
   "metadata": {},
   "source": [
    "There are **inbuilt** funtions that are defined at the backend\n",
    "\n",
    "\n",
    "There are **User-Defined** funtions that are defined by the User to perform some code\n"
   ]
  },
  {
   "cell_type": "code",
   "execution_count": null,
   "id": "9f63d281",
   "metadata": {},
   "outputs": [],
   "source": []
  },
  {
   "cell_type": "code",
   "execution_count": null,
   "id": "6f58a139",
   "metadata": {},
   "outputs": [],
   "source": []
  },
  {
   "cell_type": "code",
   "execution_count": null,
   "id": "308fdd89",
   "metadata": {},
   "outputs": [],
   "source": []
  },
  {
   "cell_type": "code",
   "execution_count": null,
   "id": "604c985d",
   "metadata": {},
   "outputs": [],
   "source": []
  },
  {
   "cell_type": "markdown",
   "id": "98c7af99",
   "metadata": {},
   "source": [
    "# First Draft"
   ]
  },
  {
   "cell_type": "code",
   "execution_count": 26,
   "id": "866b92eb",
   "metadata": {},
   "outputs": [
    {
     "name": "stdout",
     "output_type": "stream",
     "text": [
      "2024-01-06 10:48:55.925490\n",
      "06-01-2024   10 : 48\n"
     ]
    }
   ],
   "source": [
    "# Current time ??\n",
    "# https://www.geeksforgeeks.org/python-strftime-function/\n",
    "\n",
    "import datetime\n",
    "\n",
    "currentTimeStamp = datetime.datetime.now()\n",
    "print(currentTimeStamp)\n",
    "currenTime = currentTimeStamp.strftime(\"%d-%m-%Y   %H : %M\")\n",
    "print(currenTime)\n"
   ]
  },
  {
   "cell_type": "code",
   "execution_count": null,
   "id": "766db9d9",
   "metadata": {},
   "outputs": [],
   "source": []
  },
  {
   "cell_type": "code",
   "execution_count": 13,
   "id": "b6fc5a11",
   "metadata": {},
   "outputs": [
    {
     "name": "stdout",
     "output_type": "stream",
     "text": [
      " Code to fuind out factorial of the number... \n",
      "Number : 8\n",
      "Factorial of 8 = 40320\n",
      "10 : 35\n"
     ]
    }
   ],
   "source": [
    "## Factorial Of a Number \n",
    "\n",
    "print(\" Code to fuind out factorial of the number... \")\n",
    "number = int(input(\"Number : \"))\n",
    "\n",
    "finalAnswer = 1\n",
    "\n",
    "for i in range(1, number+1) : \n",
    "    finalAnswer = finalAnswer * i # 1 * 1 = 1, 1 * 2 = 2, 2 * 3 = 6, 6 * 4 = 24, 24 * 5 = 120\n",
    "print( f\"Factorial of {number} = {finalAnswer}\" )\n",
    "\n",
    "\n",
    "import datetime\n",
    "currentTimeStamp = datetime.datetime.now()\n",
    "currenTime = currentTimeStamp.strftime(\"%H : %M\")\n",
    "print(currenTime)\n"
   ]
  },
  {
   "cell_type": "code",
   "execution_count": null,
   "id": "f51fea1d",
   "metadata": {},
   "outputs": [],
   "source": []
  },
  {
   "cell_type": "code",
   "execution_count": 15,
   "id": "99ff47a8",
   "metadata": {},
   "outputs": [
    {
     "name": "stdout",
     "output_type": "stream",
     "text": [
      " Code to Find out Fibanocci... \n",
      "First Number : 1\n",
      "Second Number : 1\n",
      "How Many : 10\n",
      "Series --> \n",
      "2\n",
      "3\n",
      "5\n",
      "8\n",
      "13\n",
      "21\n",
      "34\n",
      "55\n",
      "89\n",
      "144\n",
      "10 : 37\n"
     ]
    }
   ],
   "source": [
    "# Fibanocci\n",
    "print(\" Code to Find out Fibanocci... \")\n",
    "\n",
    "num1 = int(input(\"First Number : \"))\n",
    "num2 = int(input(\"Second Number : \"))\n",
    "upperRange = int(input(\"How Many : \"))\n",
    "\n",
    "# third num = firstNum + secondNUM\n",
    "\n",
    "print(\"Series --> \")\n",
    "for i in range( upperRange ) : \n",
    "    nextNumber = num1+num2  # 0 + 1 = 1\n",
    "    print(nextNumber)\n",
    "    num1 = num2\n",
    "    num2 = nextNumber\n",
    "    \n",
    "    \n",
    "\n",
    "import datetime\n",
    "currentTimeStamp = datetime.datetime.now()\n",
    "currenTime = currentTimeStamp.strftime(\"%H : %M\")\n",
    "print(currenTime)\n"
   ]
  },
  {
   "cell_type": "code",
   "execution_count": null,
   "id": "221a1dd7",
   "metadata": {},
   "outputs": [],
   "source": []
  },
  {
   "cell_type": "code",
   "execution_count": 16,
   "id": "e02d12a1",
   "metadata": {},
   "outputs": [
    {
     "name": "stdout",
     "output_type": "stream",
     "text": [
      " Code to Find out Prime number... \n",
      "Number : 5\n",
      "Number is a Prime Number\n",
      "10 : 37\n"
     ]
    }
   ],
   "source": [
    "# Prime \n",
    "print(\" Code to Find out Prime number... \")\n",
    "number = int(input(\"Number : \"))\n",
    "\n",
    "dummyVariable = True \n",
    "\n",
    "for divisor in range(2, number - 1) : \n",
    "    if number % divisor == 0 : \n",
    "        dummyVariable = False  # Ultimate solution before BREAKING out\n",
    "        break\n",
    "    else : \n",
    "        dummyVariable = True # 3 times\n",
    "\n",
    "if dummyVariable : # True\n",
    "    print(\"Number is a Prime Number\")\n",
    "else :  # False\n",
    "    print(\"NOT PRIME\")\n",
    "    \n",
    "    \n",
    "\n",
    "import datetime\n",
    "currentTimeStamp = datetime.datetime.now()\n",
    "currenTime = currentTimeStamp.strftime(\"%H : %M\")\n",
    "print(currenTime)\n"
   ]
  },
  {
   "cell_type": "code",
   "execution_count": null,
   "id": "cdce5277",
   "metadata": {},
   "outputs": [],
   "source": []
  },
  {
   "cell_type": "markdown",
   "id": "a2cb5bba",
   "metadata": {},
   "source": [
    "# Second Draft"
   ]
  },
  {
   "cell_type": "code",
   "execution_count": 27,
   "id": "a903bdda",
   "metadata": {},
   "outputs": [],
   "source": [
    "# Current time ??\n",
    "# https://www.geeksforgeeks.org/python-strftime-function/\n",
    "\n",
    "import datetime\n",
    "\n",
    "def get_date_time() : \n",
    "    currentTimeStamp = datetime.datetime.now()\n",
    "#     print(currentTimeStamp)\n",
    "    currenTime = currentTimeStamp.strftime(\"%d-%m-%Y %H : %M\")\n",
    "    print(currenTime)\n"
   ]
  },
  {
   "cell_type": "code",
   "execution_count": null,
   "id": "5061baba",
   "metadata": {},
   "outputs": [],
   "source": []
  },
  {
   "cell_type": "code",
   "execution_count": 28,
   "id": "d0cfbade",
   "metadata": {},
   "outputs": [
    {
     "name": "stdout",
     "output_type": "stream",
     "text": [
      " Code to fuind out factorial of the number... \n",
      "Number : 15\n",
      "Factorial of 15 = 1307674368000\n",
      "06-01-2024 10 : 49\n"
     ]
    }
   ],
   "source": [
    "## Factorial Of a Number \n",
    "\n",
    "print(\" Code to fuind out factorial of the number... \")\n",
    "number = int(input(\"Number : \"))\n",
    "\n",
    "finalAnswer = 1\n",
    "\n",
    "for i in range(1, number+1) : \n",
    "    finalAnswer = finalAnswer * i # 1 * 1 = 1, 1 * 2 = 2, 2 * 3 = 6, 6 * 4 = 24, 24 * 5 = 120\n",
    "print( f\"Factorial of {number} = {finalAnswer}\" )\n",
    "\n",
    "\n",
    "get_date_time()"
   ]
  },
  {
   "cell_type": "code",
   "execution_count": 32,
   "id": "b4dd02f6",
   "metadata": {},
   "outputs": [
    {
     "data": {
      "text/plain": [
       "120"
      ]
     },
     "execution_count": 32,
     "metadata": {},
     "output_type": "execute_result"
    }
   ],
   "source": [
    "import myFun # myFun.py\n",
    "\n",
    "myFun.get_fact(5)  # calling the function \"get_fact\""
   ]
  },
  {
   "cell_type": "code",
   "execution_count": 31,
   "id": "c4572d01",
   "metadata": {},
   "outputs": [
    {
     "data": {
      "text/plain": [
       "3.1622776601683795"
      ]
     },
     "execution_count": 31,
     "metadata": {},
     "output_type": "execute_result"
    }
   ],
   "source": [
    "import math # math.py\n",
    "math.sqrt(10) # calling the function"
   ]
  },
  {
   "cell_type": "code",
   "execution_count": null,
   "id": "8d65dac6",
   "metadata": {},
   "outputs": [],
   "source": []
  },
  {
   "cell_type": "code",
   "execution_count": null,
   "id": "83642397",
   "metadata": {},
   "outputs": [],
   "source": []
  },
  {
   "cell_type": "code",
   "execution_count": 29,
   "id": "9d036abf",
   "metadata": {},
   "outputs": [
    {
     "name": "stdout",
     "output_type": "stream",
     "text": [
      " Code to Find out Fibanocci... \n",
      "First Number : 1\n",
      "Second Number : 2\n",
      "How Many : 10\n",
      "Series --> \n",
      "3\n",
      "5\n",
      "8\n",
      "13\n",
      "21\n",
      "34\n",
      "55\n",
      "89\n",
      "144\n",
      "233\n",
      "06-01-2024 10 : 49\n"
     ]
    }
   ],
   "source": [
    "# Fibanocci\n",
    "print(\" Code to Find out Fibanocci... \")\n",
    "\n",
    "num1 = int(input(\"First Number : \"))\n",
    "num2 = int(input(\"Second Number : \"))\n",
    "upperRange = int(input(\"How Many : \"))\n",
    "\n",
    "# third num = firstNum + secondNUM\n",
    "\n",
    "print(\"Series --> \")\n",
    "for i in range( upperRange ) : \n",
    "    nextNumber = num1+num2  # 0 + 1 = 1\n",
    "    print(nextNumber)\n",
    "    num1 = num2\n",
    "    num2 = nextNumber\n",
    "    \n",
    "    \n",
    "\n",
    "get_date_time()"
   ]
  },
  {
   "cell_type": "code",
   "execution_count": null,
   "id": "74ca8d33",
   "metadata": {},
   "outputs": [],
   "source": []
  },
  {
   "cell_type": "code",
   "execution_count": 30,
   "id": "d4caa51e",
   "metadata": {},
   "outputs": [
    {
     "name": "stdout",
     "output_type": "stream",
     "text": [
      " Code to Find out Prime number... \n",
      "Number : 167\n",
      "Number is a Prime Number\n",
      "06-01-2024 10 : 49\n"
     ]
    }
   ],
   "source": [
    "# Prime \n",
    "print(\" Code to Find out Prime number... \")\n",
    "number = int(input(\"Number : \"))\n",
    "\n",
    "dummyVariable = True \n",
    "\n",
    "for divisor in range(2, number - 1) : \n",
    "    if number % divisor == 0 : \n",
    "        dummyVariable = False  # Ultimate solution before BREAKING out\n",
    "        break\n",
    "    else : \n",
    "        dummyVariable = True # 3 times\n",
    "\n",
    "if dummyVariable : # True\n",
    "    print(\"Number is a Prime Number\")\n",
    "else :  # False\n",
    "    print(\"NOT PRIME\")\n",
    "    \n",
    "    \n",
    "\n",
    "get_date_time()"
   ]
  },
  {
   "cell_type": "code",
   "execution_count": null,
   "id": "8debdf2e",
   "metadata": {},
   "outputs": [],
   "source": []
  },
  {
   "cell_type": "code",
   "execution_count": null,
   "id": "3d1e8d8b",
   "metadata": {},
   "outputs": [],
   "source": []
  },
  {
   "cell_type": "code",
   "execution_count": null,
   "id": "805bf552",
   "metadata": {},
   "outputs": [],
   "source": []
  },
  {
   "cell_type": "markdown",
   "id": "14f341fa",
   "metadata": {},
   "source": [
    "### How to create and call a function ??"
   ]
  },
  {
   "cell_type": "code",
   "execution_count": null,
   "id": "bd7dbd47",
   "metadata": {},
   "outputs": [],
   "source": []
  },
  {
   "cell_type": "markdown",
   "id": "af4d9647",
   "metadata": {},
   "source": [
    "**Syntax**\n",
    "\n",
    "-- function creation --\n",
    "-- function declaration --\n",
    "\n",
    "def functionName(args) : \n",
    "    statement\n",
    "    statement\n",
    "    statement\n",
    "    statement\n",
    "    \n",
    "    return _______\n",
    "\n",
    "\n",
    "-- function Calling --\n",
    "functionName(args)"
   ]
  },
  {
   "cell_type": "code",
   "execution_count": 34,
   "id": "83bf3302",
   "metadata": {},
   "outputs": [
    {
     "name": "stdout",
     "output_type": "stream",
     "text": [
      "None\n",
      "[10, 30, 30]\n"
     ]
    }
   ],
   "source": [
    "a = [10 , 30]\n",
    "print(a.append( 30))\n",
    "print(a)"
   ]
  },
  {
   "cell_type": "code",
   "execution_count": 35,
   "id": "2b868233",
   "metadata": {},
   "outputs": [
    {
     "name": "stdout",
     "output_type": "stream",
     "text": [
      "30\n",
      "[10]\n"
     ]
    }
   ],
   "source": [
    "a = [10 , 30]\n",
    "print(a.pop(  ))\n",
    "print(a)"
   ]
  },
  {
   "cell_type": "code",
   "execution_count": 37,
   "id": "99ff1f02",
   "metadata": {},
   "outputs": [
    {
     "name": "stdout",
     "output_type": "stream",
     "text": [
      "-40\n",
      "True\n"
     ]
    }
   ],
   "source": [
    "print(10 -50)\n",
    "print( 20 > 10 )"
   ]
  },
  {
   "cell_type": "code",
   "execution_count": 38,
   "id": "fa027c6b",
   "metadata": {},
   "outputs": [
    {
     "name": "stdout",
     "output_type": "stream",
     "text": [
      "Number : 5\n",
      "Factorial of 5 = 120\n"
     ]
    }
   ],
   "source": [
    "## Factorial Of a Number \n",
    "\n",
    "number = int(input(\"Number : \"))\n",
    "finalAnswer = 1\n",
    "\n",
    "for i in range(1, number+1) : \n",
    "    finalAnswer = finalAnswer * i \n",
    "print( f\"Factorial of {number} = {finalAnswer}\" )\n"
   ]
  },
  {
   "cell_type": "code",
   "execution_count": 40,
   "id": "64b96a67",
   "metadata": {},
   "outputs": [
    {
     "name": "stdout",
     "output_type": "stream",
     "text": [
      "Number : 5\n",
      "Factorial of 5 = 120\n",
      "None\n"
     ]
    }
   ],
   "source": [
    "# Calling the function without RETURN and without arguments\n",
    "\n",
    "def fact() : \n",
    "    number = int(input(\"Number : \"))\n",
    "    finalAnswer = 1\n",
    "\n",
    "    for i in range(1, number+1) : \n",
    "        finalAnswer = finalAnswer * i \n",
    "    print( f\"Factorial of {number} = {finalAnswer}\" )\n",
    "\n",
    "print( fact()     )\n"
   ]
  },
  {
   "cell_type": "code",
   "execution_count": 41,
   "id": "ab71c7ed",
   "metadata": {},
   "outputs": [
    {
     "name": "stdout",
     "output_type": "stream",
     "text": [
      "Number : 5\n",
      "Factorial of 5 = 120\n",
      "None\n"
     ]
    }
   ],
   "source": [
    "# Calling the function without RETURN and with arguments\n",
    "\n",
    "def fact(n) : # n represent the number for which factorial needs to be found\n",
    "    \n",
    "    finalAnswer = 1\n",
    "\n",
    "    for i in range(1, n+1) : \n",
    "        finalAnswer = finalAnswer * i \n",
    "    print( f\"Factorial of {n} = {finalAnswer}\" )\n",
    "\n",
    "number = int(input(\"Number : \"))\n",
    "print( fact(number)     )\n"
   ]
  },
  {
   "cell_type": "code",
   "execution_count": 43,
   "id": "1ce44179",
   "metadata": {},
   "outputs": [
    {
     "name": "stdout",
     "output_type": "stream",
     "text": [
      "Number : 5\n",
      "120\n"
     ]
    }
   ],
   "source": [
    "# Calling the function with RETURN and with arguments\n",
    "# ** desired output ....\n",
    "\n",
    "def fact(n) : # n represent the number for which factorial needs to be found\n",
    "    \n",
    "    finalAnswer = 1\n",
    "\n",
    "    for i in range(1, n+1) : \n",
    "        finalAnswer = finalAnswer * i \n",
    "    \n",
    "    return finalAnswer\n",
    "\n",
    "number = int(input(\"Number : \"))\n",
    "print( fact(number)     )\n"
   ]
  },
  {
   "cell_type": "code",
   "execution_count": 44,
   "id": "d3be9a6a",
   "metadata": {},
   "outputs": [
    {
     "name": "stdout",
     "output_type": "stream",
     "text": [
      "Number : 5\n",
      "(120, 5, 5)\n"
     ]
    }
   ],
   "source": [
    "# Calling the function with RETURN and with arguments\n",
    "\n",
    "def fact(n) : # n represent the number for which factorial needs to be found\n",
    "    \n",
    "    finalAnswer = 1\n",
    "\n",
    "    for i in range(1, n+1) : \n",
    "        finalAnswer = finalAnswer * i \n",
    "    \n",
    "    return finalAnswer, i, n\n",
    "\n",
    "number = int(input(\"Number : \"))\n",
    "print( fact(number)     )\n"
   ]
  },
  {
   "cell_type": "code",
   "execution_count": null,
   "id": "1d24b69a",
   "metadata": {},
   "outputs": [],
   "source": []
  },
  {
   "attachments": {
    "image.png": {
     "image/png": "[encoded data removed]"
    }
   },
   "cell_type": "markdown",
   "id": "8a730e33",
   "metadata": {},
   "source": [
    "![image.png](attachment:image.png)"
   ]
  },
  {
   "cell_type": "code",
   "execution_count": null,
   "id": "2586c480",
   "metadata": {},
   "outputs": [],
   "source": []
  },
  {
   "cell_type": "markdown",
   "id": "92e59256",
   "metadata": {},
   "source": [
    "### Return : "
   ]
  },
  {
   "cell_type": "code",
   "execution_count": 55,
   "id": "37d7d53d",
   "metadata": {},
   "outputs": [
    {
     "data": {
      "text/plain": [
       "'Even'"
      ]
     },
     "execution_count": 55,
     "metadata": {},
     "output_type": "execute_result"
    }
   ],
   "source": [
    "def find_even_odd(num) : \n",
    "    \n",
    "#     return \"NO\"\n",
    "    if num%2 == 0 : \n",
    "        return 'Even'\n",
    "    else : \n",
    "        return \"odd\"\n",
    "\n",
    "    \n",
    "find_even_odd(6) "
   ]
  },
  {
   "cell_type": "code",
   "execution_count": null,
   "id": "bb7ac8d0",
   "metadata": {},
   "outputs": [],
   "source": []
  },
  {
   "cell_type": "markdown",
   "id": "e9f602c8",
   "metadata": {},
   "source": [
    "### Arguments : \n",
    "\n",
    "- function is created successfully if there is no SYNTAX error\n",
    "- Function is just LINES OF CODES that are saved at some memory location. They will come into ACTION, once called\n",
    "- all the varibles that you are using inside the function, they may or may not exist.\n",
    "\n",
    "\n",
    "- 2 types of Arguments\n",
    "\n",
    "- Reference / Formal Arguments -> They are defined at the time of function creation that are used for reference\n",
    "- Actual Arguments -> They are the actual values on which the function executes the code.\n",
    "\n",
    "\n",
    "\n",
    "- 2 types of Variables / scope\n",
    "\n",
    "- local Variables/scope \n",
    "    - these are the variables that are defined inside the functions\n",
    "    - These values does not exist outside the function\n",
    "\n",
    "- global Variables/scope\n",
    "    - these are the variables that are defined Outside the functions\n",
    "    - These values can exist outside and inside the function\n"
   ]
  },
  {
   "cell_type": "code",
   "execution_count": 3,
   "id": "11034eeb",
   "metadata": {},
   "outputs": [],
   "source": [
    "def find_even_odd_2(num) :\n",
    "    print(num / 2)\n",
    "    if num%2 == 0 : \n",
    "        return 'Even'\n",
    "    else: \n",
    "        return \"odd\""
   ]
  },
  {
   "cell_type": "code",
   "execution_count": 4,
   "id": "51cf5022",
   "metadata": {},
   "outputs": [
    {
     "name": "stdout",
     "output_type": "stream",
     "text": [
      "5.0\n"
     ]
    },
    {
     "data": {
      "text/plain": [
       "'Even'"
      ]
     },
     "execution_count": 4,
     "metadata": {},
     "output_type": "execute_result"
    }
   ],
   "source": [
    "find_even_odd_2(10)"
   ]
  },
  {
   "cell_type": "code",
   "execution_count": null,
   "id": "cade75d2",
   "metadata": {},
   "outputs": [],
   "source": []
  },
  {
   "cell_type": "code",
   "execution_count": 3,
   "id": "4b6e9c31",
   "metadata": {},
   "outputs": [],
   "source": [
    "def find_even_odd(num) :\n",
    "    print(num / z)\n",
    "    if num%2 == 0 : return 'Even'\n",
    "    else : return \"odd\""
   ]
  },
  {
   "cell_type": "code",
   "execution_count": 4,
   "id": "f60d9ed1",
   "metadata": {},
   "outputs": [
    {
     "name": "stdout",
     "output_type": "stream",
     "text": [
      "<class 'function'>\n",
      "2224012871936\n"
     ]
    }
   ],
   "source": [
    "print( type(find_even_odd) ) \n",
    "print( id(find_even_odd) )  # return the location where object is stored inside the memory\n"
   ]
  },
  {
   "cell_type": "code",
   "execution_count": null,
   "id": "9a33c0e8",
   "metadata": {},
   "outputs": [],
   "source": []
  },
  {
   "cell_type": "code",
   "execution_count": 5,
   "id": "4ed0c8a6",
   "metadata": {},
   "outputs": [
    {
     "ename": "NameError",
     "evalue": "name 'z' is not defined",
     "output_type": "error",
     "traceback": [
      "\u001b[1;31m---------------------------------------------------------------------------\u001b[0m",
      "\u001b[1;31mNameError\u001b[0m                                 Traceback (most recent call last)",
      "Cell \u001b[1;32mIn[5], line 1\u001b[0m\n\u001b[1;32m----> 1\u001b[0m find_even_odd(\u001b[38;5;241m10\u001b[39m)\n",
      "Cell \u001b[1;32mIn[3], line 2\u001b[0m, in \u001b[0;36mfind_even_odd\u001b[1;34m(num)\u001b[0m\n\u001b[0;32m      1\u001b[0m \u001b[38;5;28;01mdef\u001b[39;00m \u001b[38;5;21mfind_even_odd\u001b[39m(num) :\n\u001b[1;32m----> 2\u001b[0m     \u001b[38;5;28mprint\u001b[39m(num \u001b[38;5;241m/\u001b[39m z)\n\u001b[0;32m      3\u001b[0m     \u001b[38;5;28;01mif\u001b[39;00m num\u001b[38;5;241m%\u001b[39m\u001b[38;5;241m2\u001b[39m \u001b[38;5;241m==\u001b[39m \u001b[38;5;241m0\u001b[39m : \u001b[38;5;28;01mreturn\u001b[39;00m \u001b[38;5;124m'\u001b[39m\u001b[38;5;124mEven\u001b[39m\u001b[38;5;124m'\u001b[39m\n\u001b[0;32m      4\u001b[0m     \u001b[38;5;28;01melse\u001b[39;00m : \u001b[38;5;28;01mreturn\u001b[39;00m \u001b[38;5;124m\"\u001b[39m\u001b[38;5;124modd\u001b[39m\u001b[38;5;124m\"\u001b[39m\n",
      "\u001b[1;31mNameError\u001b[0m: name 'z' is not defined"
     ]
    }
   ],
   "source": [
    "find_even_odd(10)"
   ]
  },
  {
   "cell_type": "code",
   "execution_count": null,
   "id": "c78abf26",
   "metadata": {},
   "outputs": [],
   "source": []
  },
  {
   "cell_type": "code",
   "execution_count": 11,
   "id": "fc097468",
   "metadata": {},
   "outputs": [
    {
     "name": "stdout",
     "output_type": "stream",
     "text": [
      "\n"
     ]
    },
    {
     "data": {
      "text/plain": [
       "5.18"
      ]
     },
     "execution_count": 11,
     "metadata": {},
     "output_type": "execute_result"
    }
   ],
   "source": [
    "# argument is anything that is used inside the functions\n",
    "\n",
    "int(10) # 10 is argument\n",
    "print() #sep, end are the args\n",
    "round(5.18462, 2)  # number, ndigits are args"
   ]
  },
  {
   "cell_type": "code",
   "execution_count": null,
   "id": "dad20a44",
   "metadata": {},
   "outputs": [],
   "source": []
  },
  {
   "cell_type": "code",
   "execution_count": 24,
   "id": "6ba00908",
   "metadata": {},
   "outputs": [],
   "source": [
    "def fun2(p) : # p is formal argument\n",
    "    print(p)\n",
    "    "
   ]
  },
  {
   "cell_type": "code",
   "execution_count": 25,
   "id": "0dbc9527",
   "metadata": {},
   "outputs": [
    {
     "name": "stdout",
     "output_type": "stream",
     "text": [
      "100\n"
     ]
    }
   ],
   "source": [
    "p = 100\n",
    "fun2(p) # p is actual argument"
   ]
  },
  {
   "cell_type": "code",
   "execution_count": 26,
   "id": "3fa4ad73",
   "metadata": {},
   "outputs": [],
   "source": [
    "def fun() : \n",
    "    print(p)\n",
    "    "
   ]
  },
  {
   "cell_type": "code",
   "execution_count": 27,
   "id": "0b3a149f",
   "metadata": {},
   "outputs": [
    {
     "name": "stdout",
     "output_type": "stream",
     "text": [
      "100\n"
     ]
    }
   ],
   "source": [
    "p = 100\n",
    "fun() "
   ]
  },
  {
   "cell_type": "code",
   "execution_count": null,
   "id": "d020c7d2",
   "metadata": {},
   "outputs": [],
   "source": []
  },
  {
   "cell_type": "code",
   "execution_count": 28,
   "id": "7405e83c",
   "metadata": {},
   "outputs": [
    {
     "name": "stdout",
     "output_type": "stream",
     "text": [
      "100\n"
     ]
    }
   ],
   "source": [
    "p_1 = 100\n",
    "fun2(p_1) # p_1 is actual argument"
   ]
  },
  {
   "cell_type": "code",
   "execution_count": null,
   "id": "5b00bd06",
   "metadata": {},
   "outputs": [],
   "source": []
  },
  {
   "cell_type": "code",
   "execution_count": null,
   "id": "ea72cead",
   "metadata": {},
   "outputs": [],
   "source": []
  },
  {
   "cell_type": "code",
   "execution_count": 15,
   "id": "1a7aec49",
   "metadata": {},
   "outputs": [
    {
     "name": "stdout",
     "output_type": "stream",
     "text": [
      "Orange\n",
      "Red\n"
     ]
    }
   ],
   "source": [
    "def display(color) :  # local, formal\n",
    "    \n",
    "    color = \"Orange\"  # local # this is updated to orange\n",
    "    return color\n",
    "\n",
    "color= \"Red\"   # global \n",
    "\n",
    "print( display(color) ) # global, actual\n",
    "print( color ) # global\n"
   ]
  },
  {
   "cell_type": "code",
   "execution_count": 17,
   "id": "b6a58757",
   "metadata": {},
   "outputs": [
    {
     "name": "stdout",
     "output_type": "stream",
     "text": [
      "Red\n",
      "Red\n"
     ]
    }
   ],
   "source": [
    "def display2(color) :  # formal\n",
    "    return color\n",
    "\n",
    "color1 = \"Red\"   # global \n",
    "\n",
    "print( display2(color1) ) # global, actual\n",
    "print( color1 ) # global\n"
   ]
  },
  {
   "cell_type": "code",
   "execution_count": 19,
   "id": "d025978c",
   "metadata": {},
   "outputs": [
    {
     "name": "stdout",
     "output_type": "stream",
     "text": [
      "Orange\n"
     ]
    },
    {
     "ename": "NameError",
     "evalue": "name 'color2' is not defined",
     "output_type": "error",
     "traceback": [
      "\u001b[1;31m---------------------------------------------------------------------------\u001b[0m",
      "\u001b[1;31mNameError\u001b[0m                                 Traceback (most recent call last)",
      "Cell \u001b[1;32mIn[19], line 6\u001b[0m\n\u001b[0;32m      3\u001b[0m     \u001b[38;5;28;01mreturn\u001b[39;00m color2\n\u001b[0;32m      5\u001b[0m \u001b[38;5;28mprint\u001b[39m( display3() )\n\u001b[1;32m----> 6\u001b[0m \u001b[38;5;28mprint\u001b[39m( color2 )\n",
      "\u001b[1;31mNameError\u001b[0m: name 'color2' is not defined"
     ]
    }
   ],
   "source": [
    "def display3() : # no formals\n",
    "    color2 = \"Orange\" # local\n",
    "    return color2\n",
    "\n",
    "print( display3() ) # no actuals\n",
    "print( color2 ) # no such global\n"
   ]
  },
  {
   "cell_type": "code",
   "execution_count": 20,
   "id": "77416e11",
   "metadata": {},
   "outputs": [
    {
     "name": "stdout",
     "output_type": "stream",
     "text": [
      "Red\n",
      "Red\n"
     ]
    }
   ],
   "source": [
    "def display4() : # no formals\n",
    "    return color4 # local - taking reference freom global value\n",
    "\n",
    "color4 = \"Red\" # global\n",
    "print( display4() ) # no actuals\n",
    "print( color4 ) # global\n"
   ]
  },
  {
   "cell_type": "code",
   "execution_count": null,
   "id": "bb542fc9",
   "metadata": {},
   "outputs": [],
   "source": []
  },
  {
   "cell_type": "code",
   "execution_count": 29,
   "id": "e2d68696",
   "metadata": {},
   "outputs": [],
   "source": [
    "def solve_op() :  # no formals\n",
    "    print(a + b - c) # local variables.... here 'a' and 'b' will take value from global. but no value for c"
   ]
  },
  {
   "cell_type": "code",
   "execution_count": 30,
   "id": "8d0aee49",
   "metadata": {},
   "outputs": [
    {
     "ename": "NameError",
     "evalue": "name 'c' is not defined",
     "output_type": "error",
     "traceback": [
      "\u001b[1;31m---------------------------------------------------------------------------\u001b[0m",
      "\u001b[1;31mNameError\u001b[0m                                 Traceback (most recent call last)",
      "Cell \u001b[1;32mIn[30], line 4\u001b[0m\n\u001b[0;32m      2\u001b[0m b \u001b[38;5;241m=\u001b[39m \u001b[38;5;241m3\u001b[39m\n\u001b[0;32m      3\u001b[0m \u001b[38;5;66;03m# c = 1\u001b[39;00m\n\u001b[1;32m----> 4\u001b[0m solve_op()\n",
      "Cell \u001b[1;32mIn[29], line 2\u001b[0m, in \u001b[0;36msolve_op\u001b[1;34m()\u001b[0m\n\u001b[0;32m      1\u001b[0m \u001b[38;5;28;01mdef\u001b[39;00m \u001b[38;5;21msolve_op\u001b[39m() : \n\u001b[1;32m----> 2\u001b[0m     \u001b[38;5;28mprint\u001b[39m(a \u001b[38;5;241m+\u001b[39m b \u001b[38;5;241m-\u001b[39m c)\n",
      "\u001b[1;31mNameError\u001b[0m: name 'c' is not defined"
     ]
    }
   ],
   "source": [
    "a = 10 # global \n",
    "b = 3#  global\n",
    "# c = 1\n",
    "solve_op() # no actuals"
   ]
  },
  {
   "cell_type": "code",
   "execution_count": null,
   "id": "d058b262",
   "metadata": {},
   "outputs": [],
   "source": []
  },
  {
   "cell_type": "code",
   "execution_count": null,
   "id": "4cd0c98c",
   "metadata": {},
   "outputs": [],
   "source": [
    "# HomeWork : DONT RUN....\n",
    "\n",
    "# But tell about which is local and global\n",
    "# But tell about which is formal and actual\n"
   ]
  },
  {
   "cell_type": "code",
   "execution_count": null,
   "id": "248ce8e3",
   "metadata": {},
   "outputs": [],
   "source": [
    "def bharath(x , y) : # x and y are formal arguments\n",
    "    \n",
    "    z = x ** 2     # z is local variable\n",
    "    w = y + 10 \n",
    "    \n",
    "    return z, w\n",
    "\n",
    "w = 18            # w is global varible\n",
    "print( bharath (20 , 25) )"
   ]
  },
  {
   "cell_type": "code",
   "execution_count": null,
   "id": "3ea876d7",
   "metadata": {},
   "outputs": [],
   "source": [
    "def bavithra(limit) :   #limit is formal argument\n",
    "    \n",
    "    for i in range(limit) : \n",
    "        print(\"*\" * limit)\n",
    "\n",
    "upper_range = 5\n",
    "bavithra(upper_range)   #upper range is actual argument"
   ]
  },
  {
   "cell_type": "code",
   "execution_count": null,
   "id": "90057d56",
   "metadata": {},
   "outputs": [],
   "source": [
    "def pawanaman() : \n",
    "    \n",
    "    if p > q : return t1    # p q t1 and t2 are local variables\n",
    "    else : return t2\n",
    "    \n",
    "    \n",
    "p1 = -1                   # p1 and q1 are global variables\n",
    "q1 = -2\n",
    "pawanaman()"
   ]
  },
  {
   "cell_type": "code",
   "execution_count": null,
   "id": "929ee9bf",
   "metadata": {},
   "outputs": [],
   "source": []
  },
  {
   "cell_type": "code",
   "execution_count": null,
   "id": "09bb1867",
   "metadata": {},
   "outputs": [],
   "source": []
  },
  {
   "cell_type": "code",
   "execution_count": null,
   "id": "bb801c6a",
   "metadata": {},
   "outputs": [],
   "source": []
  },
  {
   "cell_type": "code",
   "execution_count": null,
   "id": "f426422a",
   "metadata": {},
   "outputs": [],
   "source": []
  },
  {
   "cell_type": "code",
   "execution_count": null,
   "id": "c9aed09f",
   "metadata": {},
   "outputs": [],
   "source": []
  }
 ],
 "metadata": {
  "kernelspec": {
   "display_name": "Python 3 (ipykernel)",
   "language": "python",
   "name": "python3"
  },
  "language_info": {
   "codemirror_mode": {
    "name": "ipython",
    "version": 3
   },
   "file_extension": ".py",
   "mimetype": "text/x-python",
   "name": "python",
   "nbconvert_exporter": "python",
   "pygments_lexer": "ipython3",
   "version": "3.12.4"
  }
 },
 "nbformat": 4,
 "nbformat_minor": 5
}
