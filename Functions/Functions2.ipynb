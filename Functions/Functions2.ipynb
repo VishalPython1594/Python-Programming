{
 "cells": [
  {
   "cell_type": "markdown",
   "id": "086f5b41",
   "metadata": {},
   "source": [
    "## Types of Arguments"
   ]
  },
  {
   "cell_type": "markdown",
   "id": "981148bc",
   "metadata": {},
   "source": [
    "### 1. Positional Arguments\n",
    "\n",
    "- Here formal args will refer to actual values based on POSITIONS\n",
    "- Exactly same number of formal and actual args shall be there for references"
   ]
  },
  {
   "cell_type": "code",
   "execution_count": 4,
   "id": "fdfef7d1",
   "metadata": {},
   "outputs": [
    {
     "name": "stdout",
     "output_type": "stream",
     "text": [
      "314.0\n",
      "98.596\n"
     ]
    }
   ],
   "source": [
    "# Area of Circle\n",
    "\n",
    "def area_circle(r, p) : \n",
    "    return p * r * r\n",
    "\n",
    "print( area_circle( 10 , 3.14 ) )\n",
    "print( area_circle( 3.14 , 10 ) )\n",
    "\n",
    "# print( area_circle( 10 ) )  #p not defined\n",
    "# print( area_circle( 10 , 3.14 , 1000) ) #exceeded the limit"
   ]
  },
  {
   "cell_type": "code",
   "execution_count": null,
   "id": "9f8ad4d2",
   "metadata": {},
   "outputs": [],
   "source": []
  },
  {
   "cell_type": "markdown",
   "id": "f7ab1543",
   "metadata": {},
   "source": [
    "### 2. Keyword Arguments\n",
    "\n",
    "- Here formal args will refer to actual values based on KEYWORDS\n",
    "- Exactly same number of formal and actual args shall be there for references"
   ]
  },
  {
   "cell_type": "code",
   "execution_count": 12,
   "id": "5a591bb5",
   "metadata": {},
   "outputs": [
    {
     "name": "stdout",
     "output_type": "stream",
     "text": [
      "314.0\n",
      "314.0\n"
     ]
    }
   ],
   "source": [
    "# Area of Circle\n",
    "\n",
    "def area_circle(r, p) : \n",
    "    return p * r * r\n",
    "\n",
    "print( area_circle( r = 10 ,  p = 3.14 ) )\n",
    "print( area_circle( p = 3.14 ,  r = 10 ) )\n",
    "\n",
    "# print( area_circle( p = 3.14 ) )\n",
    "# print( area_circle( p = 3.14 ,  r = 10 , 1000) )\n"
   ]
  },
  {
   "cell_type": "code",
   "execution_count": 17,
   "id": "fd47ebfb",
   "metadata": {},
   "outputs": [
    {
     "data": {
      "text/plain": [
       "46"
      ]
     },
     "execution_count": 17,
     "metadata": {},
     "output_type": "execute_result"
    }
   ],
   "source": [
    "def peri_rec(l,b = 15):\n",
    "    \n",
    "    return 2*(l  + b )\n",
    "\n",
    "peri_rec(l = 8)\n",
    "\n",
    "\n"
   ]
  },
  {
   "cell_type": "markdown",
   "id": "c67f78d7",
   "metadata": {},
   "source": [
    "### 3. Default Arguments\n",
    "\n",
    "- Here formal args will refer to actual values based on KEYWORDS\n",
    "- if default args are provided acctual value, then that value will be used, else default value will be used\n",
    "- We can have total args decreased by total defaults"
   ]
  },
  {
   "cell_type": "code",
   "execution_count": 15,
   "id": "21ab0b95",
   "metadata": {},
   "outputs": [
    {
     "ename": "SyntaxError",
     "evalue": "positional argument follows keyword argument (398051690.py, line 11)",
     "output_type": "error",
     "traceback": [
      "\u001b[1;36m  Cell \u001b[1;32mIn[15], line 11\u001b[1;36m\u001b[0m\n\u001b[1;33m    print( area_circle( p = 3.14 ,  r = 10 , 1000) )\u001b[0m\n\u001b[1;37m                                                 ^\u001b[0m\n\u001b[1;31mSyntaxError\u001b[0m\u001b[1;31m:\u001b[0m positional argument follows keyword argument\n"
     ]
    }
   ],
   "source": [
    "# Area of Circle\n",
    "\n",
    "def area_circle(r, p = 3.14) : # local value is defined\n",
    "    return p * r * r\n",
    "\n",
    "print( area_circle( r = 10 ,  p = 3.14 ) )  # Here actual values are passed\n",
    "print( area_circle( p = 3 ,  r = 10 ) )     # Here actual values are passed\n",
    "print( area_circle( r = 10 ) )     # Here actual values are passed and default is used\n",
    "# how many args can we have : 2 (total formal args) - 1 (default args)\n",
    "\n",
    "# print( area_circle( p = 3.14 ,  r = 10 , 1000) )\n"
   ]
  },
  {
   "cell_type": "code",
   "execution_count": null,
   "id": "1a6dca2f",
   "metadata": {},
   "outputs": [],
   "source": []
  },
  {
   "cell_type": "markdown",
   "id": "1cb642c4",
   "metadata": {},
   "source": [
    "### 4. Variable length Arguments\n",
    "\n",
    "- refernece of single * : take all the ACTUAL values and save it as tuple\n",
    "\n",
    "**syntax : **\n",
    "\n",
    "def fun(*args) : \n",
    "    statement\n",
    "    statement\n",
    "    statement\n",
    "    "
   ]
  },
  {
   "cell_type": "code",
   "execution_count": 17,
   "id": "e624a845",
   "metadata": {},
   "outputs": [
    {
     "name": "stdout",
     "output_type": "stream",
     "text": [
      "1\n",
      "(2,)\n",
      "\n",
      "1\n",
      "(2, 3)\n",
      "\n",
      "\n",
      "1\n",
      "(2, 3, 4, 5)\n",
      "\n"
     ]
    }
   ],
   "source": [
    "\n",
    "def fun(x, *y) : \n",
    "    print(x)\n",
    "    print(y)\n",
    "    \n",
    "    \n",
    "fun(1 , 2)\n",
    "\n",
    "print()\n",
    "fun(1 , 2 , 3)\n",
    "print()\n",
    "\n",
    "print()\n",
    "fun(1 , 2 , 3 , 4 , 5)\n",
    "print()\n"
   ]
  },
  {
   "cell_type": "code",
   "execution_count": 18,
   "id": "389e7f27",
   "metadata": {},
   "outputs": [
    {
     "name": "stdout",
     "output_type": "stream",
     "text": [
      "(1, 2)\n",
      "\n",
      "(1, 2, 3)\n",
      "\n",
      "\n",
      "(1, 2, 3, 4, 5)\n",
      "\n"
     ]
    }
   ],
   "source": [
    "\n",
    "def fun(*y) : \n",
    "    print(y)\n",
    "    \n",
    "    \n",
    "fun(1 , 2)\n",
    "\n",
    "print()\n",
    "fun(1 , 2 , 3)\n",
    "print()\n",
    "\n",
    "print()\n",
    "fun(1 , 2 , 3 , 4 , 5)\n",
    "print()\n"
   ]
  },
  {
   "cell_type": "code",
   "execution_count": null,
   "id": "addb4122",
   "metadata": {},
   "outputs": [],
   "source": []
  },
  {
   "cell_type": "code",
   "execution_count": 19,
   "id": "31a5d828",
   "metadata": {},
   "outputs": [
    {
     "name": "stdout",
     "output_type": "stream",
     "text": [
      "1\n",
      "2\n",
      "(9, -1, 5, 10, 5)\n",
      "\n",
      "1\n",
      "2\n",
      "(3,)\n",
      "\n",
      "\n",
      "1\n",
      "2\n",
      "(3, 4, 5)\n",
      "\n"
     ]
    }
   ],
   "source": [
    "\n",
    "def fun(x, p,  *y) : \n",
    "    print(x)\n",
    "    print(p)\n",
    "    print(y)\n",
    "    \n",
    "    \n",
    "fun(1 , 2, 9 , -1 , 5 , 10 , 5)\n",
    "\n",
    "print()\n",
    "fun(1 , 2 , 3)\n",
    "print()\n",
    "\n",
    "print()\n",
    "fun(1 , 2 , 3 , 4 , 5)\n",
    "print()\n"
   ]
  },
  {
   "cell_type": "code",
   "execution_count": null,
   "id": "25914853",
   "metadata": {},
   "outputs": [],
   "source": []
  }
 ],
 "metadata": {
  "kernelspec": {
   "display_name": "Python 3 (ipykernel)",
   "language": "python",
   "name": "python3"
  },
  "language_info": {
   "codemirror_mode": {
    "name": "ipython",
    "version": 3
   },
   "file_extension": ".py",
   "mimetype": "text/x-python",
   "name": "python",
   "nbconvert_exporter": "python",
   "pygments_lexer": "ipython3",
   "version": "3.11.5"
  }
 },
 "nbformat": 4,
 "nbformat_minor": 5
}
